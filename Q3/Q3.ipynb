{
  "cells": [
    {
      "cell_type": "markdown",
      "metadata": {
        "id": "pkXBI-jiOBhT"
      },
      "source": [
        "<h1 style=\"text-align: center\">\n",
        "Deep Learning HW4 </br>\n",
        "Question 3\n",
        "</h1>\n"
      ]
    },
    {
      "cell_type": "markdown",
      "metadata": {
        "id": "z0Wve7MhOIRD"
      },
      "source": [
        "### Full Name: Amirabbas Afzali\n",
        "\n",
        "### Student ID: 400100662"
      ]
    },
    {
      "cell_type": "code",
      "execution_count": null,
      "metadata": {
        "id": "7io3_fGwOHpN"
      },
      "outputs": [],
      "source": [
        "import torch\n",
        "import torch.nn as nn\n",
        "import torch.optim as optim\n",
        "import torch.nn.functional as F\n",
        "import matplotlib.pyplot as plt\n",
        "import numpy as np\n",
        "import random\n",
        "import seaborn as sns\n",
        "from tqdm import tqdm\n",
        "from torch.utils.data import DataLoader,Dataset\n",
        "from transformers import get_linear_schedule_with_warmup\n",
        "from transformers import AdamW\n",
        "import os\n",
        "import pickle\n",
        "from transformers import AutoTokenizer, AutoConfig, AutoModelWithLMHead, GPT2LMHeadModel, GPT2Config"
      ]
    },
    {
      "cell_type": "code",
      "execution_count": null,
      "metadata": {
        "colab": {
          "base_uri": "https://localhost:8080/"
        },
        "id": "kuZ5mLW0QA0I",
        "outputId": "8b7752f9-5c36-44e3-c284-d475aea963b9"
      },
      "outputs": [
        {
          "name": "stdout",
          "output_type": "stream",
          "text": [
            "Mounted at /content/drive\n"
          ]
        }
      ],
      "source": [
        "from google.colab import drive\n",
        "drive.mount('/content/drive')"
      ]
    },
    {
      "cell_type": "code",
      "execution_count": null,
      "metadata": {
        "colab": {
          "base_uri": "https://localhost:8080/"
        },
        "id": "sFLfu5eaTRQr",
        "outputId": "21a8c0e7-5e6b-4b17-cd0b-7d03de45f675"
      },
      "outputs": [
        {
          "data": {
            "text/plain": [
              "device(type='cuda')"
            ]
          },
          "execution_count": 3,
          "metadata": {},
          "output_type": "execute_result"
        }
      ],
      "source": [
        "device = torch.device(\"cuda\" if torch.cuda.is_available() else \"cpu\")\n",
        "device"
      ]
    },
    {
      "cell_type": "markdown",
      "metadata": {
        "id": "j1zl5B8_mCDy"
      },
      "source": [
        "## Dataset preparation"
      ]
    },
    {
      "cell_type": "code",
      "execution_count": null,
      "metadata": {
        "id": "wsT_d7SNSCI9"
      },
      "outputs": [],
      "source": [
        "poems = []\n",
        "file = open(\"/content/drive/My Drive/DEEP/HW4/Q3/ferdousi.txt\", \"r\")\n",
        "\n",
        "while True:\n",
        "\n",
        "  line = file.readline()\n",
        "  if not line:\n",
        "    break\n",
        "  poems.append(line[:-1])\n",
        "\n",
        "file.close()\n",
        "\n",
        "poems = np.array(poems[2:])"
      ]
    },
    {
      "cell_type": "code",
      "execution_count": null,
      "metadata": {
        "colab": {
          "base_uri": "https://localhost:8080/"
        },
        "id": "0CQs07ufSXWc",
        "outputId": "4b6fd36f-8f22-4e3d-c66b-6f2df2817cda"
      },
      "outputs": [
        {
          "data": {
            "text/plain": [
              "array(['به نام خداوند جان و خرد', 'کزین برتر اندیشه برنگذرد',\n",
              "       'خداوند نام و خداوند جای', 'خداوند روزی ده رهنمای',\n",
              "       'خداوند کیوان و گردان سپهر'], dtype='<U34')"
            ]
          },
          "execution_count": 5,
          "metadata": {},
          "output_type": "execute_result"
        }
      ],
      "source": [
        "poems[:5]"
      ]
    },
    {
      "cell_type": "code",
      "execution_count": null,
      "metadata": {
        "id": "faicc3uTk_GP"
      },
      "outputs": [],
      "source": [
        "inputs = poems[np.arange(0,len(poems),2)]\n",
        "targets = poems[np.arange(1,len(poems),2)]"
      ]
    },
    {
      "cell_type": "code",
      "execution_count": null,
      "metadata": {
        "colab": {
          "base_uri": "https://localhost:8080/"
        },
        "id": "IzFL24Qtk4Q7",
        "outputId": "666516ea-cea0-4117-886d-c92ee5e2ab37"
      },
      "outputs": [
        {
          "data": {
            "text/plain": [
              "array(['به نام خداوند جان و خرد', 'خداوند نام و خداوند جای',\n",
              "       'خداوند کیوان و گردان سپهر'], dtype='<U34')"
            ]
          },
          "execution_count": 7,
          "metadata": {},
          "output_type": "execute_result"
        }
      ],
      "source": [
        "inputs[:3]"
      ]
    },
    {
      "cell_type": "code",
      "execution_count": null,
      "metadata": {
        "colab": {
          "base_uri": "https://localhost:8080/"
        },
        "id": "2-Wj7kapl5jo",
        "outputId": "99e3d6e3-8d9e-499f-9061-0cfc272b58b3"
      },
      "outputs": [
        {
          "data": {
            "text/plain": [
              "array(['کزین برتر اندیشه برنگذرد', 'خداوند روزی ده رهنمای',\n",
              "       'فروزنده ماه و ناهید و مهر'], dtype='<U34')"
            ]
          },
          "execution_count": 8,
          "metadata": {},
          "output_type": "execute_result"
        }
      ],
      "source": [
        "targets[:3]"
      ]
    },
    {
      "cell_type": "markdown",
      "metadata": {
        "id": "aF8o8GkeUdFA"
      },
      "source": [
        "## Load the pre-trained GPT-2 model"
      ]
    },
    {
      "cell_type": "code",
      "execution_count": null,
      "metadata": {
        "colab": {
          "base_uri": "https://localhost:8080/",
          "height": 205,
          "referenced_widgets": [
            "0a5a47bbde1b4d8abcce98723329ff4a",
            "1b690d58cef94ab5ab2de4acaafbee19",
            "fa5d7236457a459a9c0d984ffd27fa39",
            "3385181d1b474ce8bd1cd03c41eb78a6",
            "0b0a0e2978de4401a5299c8aa64e53ac",
            "101b71fa3f0e4f44b7f24102fab8afa4",
            "d9884b197f1d4789b0efaa09b7c4844b",
            "4f865403696749068a9f1d2e5d59447c",
            "919a948ede9a4c71a7fc61a2f82ab11b",
            "c9f826f4362b432f89cb2a54d967f22d",
            "31712659cb56424ba525c774bbe86576",
            "b096a0ca29504313a10fe346b6b613c1",
            "c35961dea1a8405fa7c32598de220d84",
            "862cefc91dba4b09a92975a4828324f4",
            "37af0f9b8f7645868fb19c6d90e1745b",
            "d7de2b54628c473dbc1aa46925bf0ebe",
            "3aa48d57cf684d0abc7023eb7474d0af",
            "9c5f06f0b7174d70a76a3b42191d30e2",
            "a0fe13dcab724474950482232c807e2d",
            "683c46a126d74985a0e81dc321e0496a",
            "5ac4efc07acf4a4dbf8b3ba967a20db8",
            "683091fb005b4596bb78475f6f75128e"
          ]
        },
        "id": "A7vboRyzUeJ7",
        "outputId": "2b30b3ad-094c-4c67-c5db-bb3748d421d3"
      },
      "outputs": [
        {
          "name": "stderr",
          "output_type": "stream",
          "text": [
            "/usr/local/lib/python3.10/dist-packages/huggingface_hub/utils/_token.py:72: UserWarning: \n",
            "The secret `HF_TOKEN` does not exist in your Colab secrets.\n",
            "To authenticate with the Hugging Face Hub, create a token in your settings tab (https://huggingface.co/settings/tokens), set it as secret in your Google Colab and restart your session.\n",
            "You will be able to reuse this secret in all of your notebooks.\n",
            "Please note that authentication is recommended but still optional to access public models or datasets.\n",
            "  warnings.warn(\n"
          ]
        },
        {
          "data": {
            "application/vnd.jupyter.widget-view+json": {
              "model_id": "0a5a47bbde1b4d8abcce98723329ff4a",
              "version_major": 2,
              "version_minor": 0
            },
            "text/plain": [
              "config.json:   0%|          | 0.00/808 [00:00<?, ?B/s]"
            ]
          },
          "metadata": {},
          "output_type": "display_data"
        },
        {
          "data": {
            "application/vnd.jupyter.widget-view+json": {
              "model_id": "b096a0ca29504313a10fe346b6b613c1",
              "version_major": 2,
              "version_minor": 0
            },
            "text/plain": [
              "pytorch_model.bin:   0%|          | 0.00/485M [00:00<?, ?B/s]"
            ]
          },
          "metadata": {},
          "output_type": "display_data"
        }
      ],
      "source": [
        "from transformers import AutoModelForCausalLM, AutoTokenizer\n",
        "\n",
        "model_name = \"HooshvareLab/gpt2-fa\"\n",
        "ferdosi = AutoModelForCausalLM.from_pretrained(model_name).to(device)"
      ]
    },
    {
      "cell_type": "markdown",
      "metadata": {
        "id": "ttDa0CAmt93z"
      },
      "source": [
        "----"
      ]
    },
    {
      "cell_type": "markdown",
      "metadata": {
        "id": "TCQANVFrB2wJ"
      },
      "source": [
        "add special tokens to tokenaizer :"
      ]
    },
    {
      "cell_type": "code",
      "execution_count": null,
      "metadata": {
        "colab": {
          "base_uri": "https://localhost:8080/",
          "height": 209,
          "referenced_widgets": [
            "b2f991fe7fbb497bb215e3e0bdd5a538",
            "f881fbae36444d53a7c4c90df040f946",
            "fd290329d4234455961afe652bc6c495",
            "a1f9c69077934d6b80b8526f5d237c0b",
            "d82be6aa26014fd79f235cac29b07cbe",
            "8b1bc39823324991876521e7b2b94cd2",
            "6b5c5e24ef2642bdac69df8de054f1c8",
            "23a9c5cd0bee46b1810ffba15708877d",
            "328b72914f58469aab2444e5e40306ca",
            "627ea590eda94b40a2a44f028c68ffa5",
            "5747b293320a4a0bb70eea8e65fcc815",
            "8cdbb1913e014a56ba45b6251b62af95",
            "bd4ca303bb7d423a9b2efc6943e9cf43",
            "1b4b5304ab1b4257bf87a006fa51429c",
            "4f2f22f42da24de692a3fc07ad9a113c",
            "70e102a9c9f6432ba9860efd4841b25b",
            "0d2008f446754de1980eac824428cabb",
            "9535f7993b304f56bb6db2bb9da5bbe8",
            "5f9cd8caaf2745c7a61ae1eb46400dc3",
            "6ec55ca345c94fefadde7c6fdcc47436",
            "2e9a9ec383604b18a918b4d8ba687c8b",
            "254297c22b784b77962e4acb186c1248",
            "899aa3185cb74542b527314bab910480",
            "af6b09acab884d2396a93cd50b2a36db",
            "b8439440d165431eb67573f18d795bd3",
            "ebd1f7a67b02447abd030e9721ffbbfd",
            "71349cd23e6849f3b7ec439e1459af13",
            "766f9a0383d74ab6b7c3490abb93ff5b",
            "19cdf927fabb4013a8910b40fb4e18de",
            "c8bc65b944c64ee4ad7824e3a74de0f0",
            "2944210f55e8456e9fd9f4fad406c79e",
            "1917bc2760644fe88197ee4010a80eda",
            "7ccdb323cc754a9bb78b17628a1139ca",
            "103252bf126747b9bc13b679d1befe95",
            "1fc60715e98046b88bf770cf0c559484",
            "ccc5c4081ec74b809c317e2a0ababbf7",
            "6eb375a1bfed48bfbe07267c511f2f55",
            "be4f77d6bddf41e59240a0aac88bc437",
            "e9c1586ef8fc4eccb961d8fb22974f99",
            "61f2c0dcb50744d99b0d0ae17be7f47d",
            "cbda4ca763c1403198603fb2e7dcd689",
            "bcdd336a484e44bd833fa1949b7912fe",
            "94b4a64a63ee4d5d9916ec388706cc32",
            "a7aa5d68a76247898fd570803637dc7b",
            "27c5aef77dec41958f56bab202fa0b79",
            "7f46a09dc99046b2bfc54f2be6773328",
            "b64ffe1d79ca46ab9c6b0dcd550069e0",
            "e1023cc805f64fabbcc2d10607463854",
            "9c350b9ecd834cf7af592f9c8072f262",
            "b639db20b8c14f4ea3a1b578c32496d1",
            "618214d572174a70ae8e07bb92e14880",
            "f10a05c4653e41358ed65d18748e910f",
            "64b9ccc2e6db4538901984df3679db32",
            "5a4871a224824cdc82334817db5a91bd",
            "e2e4be2ede8842d787d9ea92fc67b261",
            "c932e44bd36a4fbb9129cd20e85e0e26",
            "7c1f0a3ede3c4159bbada2a0ab374da3",
            "6a86cb778e2d4e8faf09455aa8733ee4",
            "c2b715bcee564734b0de5e6471dc15ae",
            "047e0e0a286c4c4f8d822e75d7514af3",
            "33261b3b6de348fcbf98f3cf3dab487f",
            "30a9216f647243b3953560af1ca86dd1",
            "9f0d9fbdafbc42c2a78639071a182204",
            "7c4f8f3891be432b904e9dedac495b80",
            "11a20e3e0f12476dba1f6a1a01b2bf1a",
            "dd278ea130b64284877c5fc1e52840eb"
          ]
        },
        "id": "lahwRdavuIeJ",
        "outputId": "577a2880-6112-4414-cb17-808a689cb4ab"
      },
      "outputs": [
        {
          "data": {
            "application/vnd.jupyter.widget-view+json": {
              "model_id": "b2f991fe7fbb497bb215e3e0bdd5a538",
              "version_major": 2,
              "version_minor": 0
            },
            "text/plain": [
              "tokenizer_config.json:   0%|          | 0.00/728 [00:00<?, ?B/s]"
            ]
          },
          "metadata": {},
          "output_type": "display_data"
        },
        {
          "data": {
            "application/vnd.jupyter.widget-view+json": {
              "model_id": "8cdbb1913e014a56ba45b6251b62af95",
              "version_major": 2,
              "version_minor": 0
            },
            "text/plain": [
              "vocab.json:   0%|          | 0.00/1.16M [00:00<?, ?B/s]"
            ]
          },
          "metadata": {},
          "output_type": "display_data"
        },
        {
          "data": {
            "application/vnd.jupyter.widget-view+json": {
              "model_id": "899aa3185cb74542b527314bab910480",
              "version_major": 2,
              "version_minor": 0
            },
            "text/plain": [
              "merges.txt:   0%|          | 0.00/875k [00:00<?, ?B/s]"
            ]
          },
          "metadata": {},
          "output_type": "display_data"
        },
        {
          "data": {
            "application/vnd.jupyter.widget-view+json": {
              "model_id": "103252bf126747b9bc13b679d1befe95",
              "version_major": 2,
              "version_minor": 0
            },
            "text/plain": [
              "tokenizer.json:   0%|          | 0.00/2.75M [00:00<?, ?B/s]"
            ]
          },
          "metadata": {},
          "output_type": "display_data"
        },
        {
          "data": {
            "application/vnd.jupyter.widget-view+json": {
              "model_id": "27c5aef77dec41958f56bab202fa0b79",
              "version_major": 2,
              "version_minor": 0
            },
            "text/plain": [
              "added_tokens.json:   0%|          | 0.00/14.0 [00:00<?, ?B/s]"
            ]
          },
          "metadata": {},
          "output_type": "display_data"
        },
        {
          "data": {
            "application/vnd.jupyter.widget-view+json": {
              "model_id": "c932e44bd36a4fbb9129cd20e85e0e26",
              "version_major": 2,
              "version_minor": 0
            },
            "text/plain": [
              "special_tokens_map.json:   0%|          | 0.00/104 [00:00<?, ?B/s]"
            ]
          },
          "metadata": {},
          "output_type": "display_data"
        }
      ],
      "source": [
        "model_name_or_path = \"HooshvareLab/gpt2-fa\"\n",
        "\n",
        "tokenizer = AutoTokenizer.from_pretrained(\n",
        "    model_name_or_path,\n",
        "    bos_token='<s>',\n",
        "    eos_token='</s>',\n",
        "    pad_token='<pad>',\n",
        "    unk_token='<unk>',\n",
        "    # padding_size=\"left\"\n",
        ")\n",
        "\n",
        "tokenizer.add_special_tokens({\n",
        "    \"bos_token\": '<s>',\n",
        "    \"eos_token\": '</s>',\n",
        "    \"pad_token\": '<pad>',\n",
        "    \"unk_token\": '<unk>'\n",
        "})\n",
        "\n",
        "config = AutoConfig.from_pretrained(\n",
        "    model_name_or_path,\n",
        "    bos_token_id=tokenizer(\"<s>\")[\"input_ids\"][0],\n",
        "    eos_token_id=tokenizer(\"</s>\")[\"input_ids\"][0],\n",
        "    pad_token_id=tokenizer(\"<pad>\")[\"input_ids\"][0],\n",
        "    unk_token_id=tokenizer(\"<unk>\")[\"input_ids\"][0],\n",
        ")\n"
      ]
    },
    {
      "cell_type": "code",
      "execution_count": null,
      "metadata": {
        "id": "VQTbdWwXt9Ji"
      },
      "outputs": [],
      "source": [
        "class Shahnameh_Dataset(Dataset):\n",
        "    def __init__(self, inputs, targets, tokenizer, max_length=128):\n",
        "\n",
        "        self.tokenizer = tokenizer\n",
        "        self.input_ids = []\n",
        "        self.target_ids = []\n",
        "        self.attn_masks = []\n",
        "        for index in range(len(inputs)-1):\n",
        "\n",
        "            encoded_input = tokenizer('<s>' + inputs[index] + '</s>',truncation=True, max_length=max_length,padding=\"max_length\")\n",
        "            encoded_target = tokenizer('<s>' + targets[index] + '</s>',truncation=True,max_length=max_length,padding=\"max_length\")\n",
        "\n",
        "            self.input_ids.append(torch.tensor(encoded_input['input_ids']))\n",
        "            self.target_ids.append(torch.tensor(encoded_target['input_ids']))\n",
        "            mask = torch.tensor(encoded_input['attention_mask'])\n",
        "\n",
        "            self.attn_masks.append(mask)\n",
        "\n",
        "    def __getitem__(self, idx):\n",
        "        return self.input_ids[idx],self.target_ids[idx], self.attn_masks[idx]\n",
        "\n",
        "    def __len__(self):\n",
        "        return len(self.input_ids)\n"
      ]
    },
    {
      "cell_type": "markdown",
      "metadata": {
        "id": "7keatsTwCcWG"
      },
      "source": [
        "Split data to train and validation:"
      ]
    },
    {
      "cell_type": "code",
      "execution_count": null,
      "metadata": {
        "colab": {
          "base_uri": "https://localhost:8080/"
        },
        "id": "9L2K-rQmt9Lc",
        "outputId": "4396b5b3-d019-47ca-8dc9-9fc129ecfd92"
      },
      "outputs": [
        {
          "name": "stdout",
          "output_type": "stream",
          "text": [
            "Length of train dataset : 44647\n",
            "Length of validation dataset : 4961\n"
          ]
        }
      ],
      "source": [
        "from torch.utils.data import random_split\n",
        "\n",
        "dataset = Shahnameh_Dataset(inputs, targets, tokenizer, max_length=20)\n",
        "\n",
        "# Split into training and validation sets\n",
        "train_size = int(0.9 * len(dataset))\n",
        "val_size = len(dataset) - train_size\n",
        "train_dataset, val_dataset = random_split(dataset, [train_size, val_size])\n",
        "\n",
        "print(f'Length of train dataset : {len(train_dataset)}')\n",
        "print(f'Length of validation dataset : {len(val_dataset)}')"
      ]
    },
    {
      "cell_type": "code",
      "execution_count": null,
      "metadata": {
        "id": "VUM6_zTS0-n2"
      },
      "outputs": [],
      "source": [
        "def print_poems(poem):\n",
        "  print(poem.split('</s>')[0][3:])"
      ]
    },
    {
      "cell_type": "code",
      "execution_count": null,
      "metadata": {
        "colab": {
          "base_uri": "https://localhost:8080/"
        },
        "id": "ngZ8co8w0HJ3",
        "outputId": "aca89837-5cee-4ace-dcb6-4fc96a3b13db"
      },
      "outputs": [
        {
          "name": "stdout",
          "output_type": "stream",
          "text": [
            "torch.Size([20]) \n",
            "\n",
            "\n",
            "فزونی مجوی ار شدی بی نیاز\n",
            "که درد آردت پیش رنج دراز\n"
          ]
        }
      ],
      "source": [
        "print(train_dataset[0][0].shape,'\\n\\n')\n",
        "print_poems(tokenizer.decode(train_dataset[0][0]))\n",
        "print_poems(tokenizer.decode(train_dataset[0][1]))"
      ]
    },
    {
      "cell_type": "code",
      "execution_count": null,
      "metadata": {
        "id": "5WW56lySD9sU"
      },
      "outputs": [],
      "source": [
        "def print_poems(inpt,outpt):\n",
        "  length = len(inpt)\n",
        "  print('Example input:')\n",
        "  print(outpt[:length])\n",
        "  print('Example output:')\n",
        "  print(outpt[:length],'  ,  ',outpt[length:])"
      ]
    },
    {
      "cell_type": "code",
      "execution_count": null,
      "metadata": {
        "colab": {
          "base_uri": "https://localhost:8080/"
        },
        "id": "IzpteUptEZO0",
        "outputId": "ab8c5ca1-a07a-45f4-c051-e39476a11d81"
      },
      "outputs": [
        {
          "name": "stdout",
          "output_type": "stream",
          "text": [
            "Example input:\n",
            "تو آن خواسته گرد کن هرچ هست\n",
            "Example output:\n",
            "تو آن خواسته گرد کن هرچ هست   ,   بست خاقوریتی دست دست\n"
          ]
        }
      ],
      "source": [
        "print_poems('تو آن خواسته گرد کن هرچ هست','تو آن خواسته گرد کن هرچ هستبست خاقوریتی دست دست')"
      ]
    },
    {
      "cell_type": "markdown",
      "metadata": {
        "id": "S1ebEBFD0Og5"
      },
      "source": [
        "# define Dataloader"
      ]
    },
    {
      "cell_type": "code",
      "execution_count": null,
      "metadata": {
        "id": "3tKHLFuvDNBp"
      },
      "outputs": [],
      "source": [
        "train_dataloader = DataLoader(\n",
        "    train_dataset,\n",
        "    batch_size=8,\n",
        "    shuffle=True\n",
        ")\n",
        "\n",
        "validation_dataloader = DataLoader(\n",
        "    val_dataset,\n",
        "    batch_size=8,\n",
        "    shuffle=True\n",
        ")\n"
      ]
    },
    {
      "cell_type": "markdown",
      "metadata": {
        "id": "HgZkSF78DSkc"
      },
      "source": [
        "Our model architecture :"
      ]
    },
    {
      "cell_type": "code",
      "execution_count": null,
      "metadata": {
        "colab": {
          "base_uri": "https://localhost:8080/"
        },
        "id": "VSd5WZ2l0Lvs",
        "outputId": "409fc3bf-4e43-4780-f51f-16c367368921"
      },
      "outputs": [
        {
          "data": {
            "text/plain": [
              "GPT2LMHeadModel(\n",
              "  (transformer): GPT2Model(\n",
              "    (wte): Embedding(42001, 768)\n",
              "    (wpe): Embedding(1024, 768)\n",
              "    (drop): Dropout(p=0.1, inplace=False)\n",
              "    (h): ModuleList(\n",
              "      (0-11): 12 x GPT2Block(\n",
              "        (ln_1): LayerNorm((768,), eps=1e-05, elementwise_affine=True)\n",
              "        (attn): GPT2Attention(\n",
              "          (c_attn): Conv1D()\n",
              "          (c_proj): Conv1D()\n",
              "          (attn_dropout): Dropout(p=0.1, inplace=False)\n",
              "          (resid_dropout): Dropout(p=0.1, inplace=False)\n",
              "        )\n",
              "        (ln_2): LayerNorm((768,), eps=1e-05, elementwise_affine=True)\n",
              "        (mlp): GPT2MLP(\n",
              "          (c_fc): Conv1D()\n",
              "          (c_proj): Conv1D()\n",
              "          (act): NewGELUActivation()\n",
              "          (dropout): Dropout(p=0.1, inplace=False)\n",
              "        )\n",
              "      )\n",
              "    )\n",
              "    (ln_f): LayerNorm((768,), eps=1e-05, elementwise_affine=True)\n",
              "  )\n",
              "  (lm_head): Linear(in_features=768, out_features=42001, bias=False)\n",
              ")"
            ]
          },
          "execution_count": 18,
          "metadata": {},
          "output_type": "execute_result"
        }
      ],
      "source": [
        "ferdosi"
      ]
    },
    {
      "cell_type": "code",
      "execution_count": null,
      "metadata": {
        "id": "4NXhlODBz1kB"
      },
      "outputs": [],
      "source": [
        "epochs = 15\n",
        "warmup_steps = 1e2\n",
        "sample_every = 1000"
      ]
    },
    {
      "cell_type": "code",
      "execution_count": null,
      "metadata": {
        "colab": {
          "base_uri": "https://localhost:8080/"
        },
        "id": "CkH__nEL22YB",
        "outputId": "cf2f37e4-7502-493c-9c0c-37853bb70be0"
      },
      "outputs": [
        {
          "name": "stderr",
          "output_type": "stream",
          "text": [
            "/usr/local/lib/python3.10/dist-packages/transformers/optimization.py:411: FutureWarning: This implementation of AdamW is deprecated and will be removed in a future version. Use the PyTorch implementation torch.optim.AdamW instead, or set `no_deprecation_warning=True` to disable this warning\n",
            "  warnings.warn(\n"
          ]
        }
      ],
      "source": [
        "optimizer = AdamW(\n",
        "    ferdosi.parameters(),\n",
        "    lr=5e-4,\n",
        "    eps=1e-8\n",
        ")\n",
        "\n",
        "scheduler = get_linear_schedule_with_warmup(\n",
        "    optimizer,\n",
        "    num_warmup_steps=warmup_steps,\n",
        "    num_training_steps=len(train_dataloader) * epochs)"
      ]
    },
    {
      "cell_type": "markdown",
      "metadata": {
        "id": "MCpXYQRgDgY_"
      },
      "source": [
        "Training and Validation loop :"
      ]
    },
    {
      "cell_type": "code",
      "execution_count": null,
      "metadata": {
        "colab": {
          "base_uri": "https://localhost:8080/"
        },
        "id": "Q-Jxh4OX28Dk",
        "outputId": "e76a62a2-c523-455f-f86d-6faf634a48b5"
      },
      "outputs": [
        {
          "name": "stdout",
          "output_type": "stream",
          "text": [
            "Beginning epoch 1 of 15\n"
          ]
        },
        {
          "name": "stderr",
          "output_type": "stream",
          "text": [
            " 18%|█▊        | 999/5581 [01:24<06:17, 12.14it/s]Setting `pad_token_id` to `eos_token_id`:5 for open-end generation.\n"
          ]
        },
        {
          "name": "stdout",
          "output_type": "stream",
          "text": [
            "\n",
            "Batch 1000 of 5581. Loss:2.322178602218628.\n"
          ]
        },
        {
          "name": "stderr",
          "output_type": "stream",
          "text": [
            " 18%|█▊        | 1003/5581 [01:24<08:17,  9.20it/s]"
          ]
        },
        {
          "name": "stdout",
          "output_type": "stream",
          "text": [
            "\n",
            "\n",
            "Example input:\n",
            "نویسنده را پیش بنشاندند\n",
            "Example output:\n",
            "نویسنده را پیش بنشاندند   ,   اندنداندندند روم آمدنداندند خواندنداندند زمین\n",
            "\n",
            "\n"
          ]
        },
        {
          "name": "stderr",
          "output_type": "stream",
          "text": [
            " 36%|███▌      | 1999/5581 [02:48<04:54, 12.14it/s]Setting `pad_token_id` to `eos_token_id`:5 for open-end generation.\n"
          ]
        },
        {
          "name": "stdout",
          "output_type": "stream",
          "text": [
            "\n",
            "Batch 2000 of 5581. Loss:2.406198024749756.\n"
          ]
        },
        {
          "name": "stderr",
          "output_type": "stream",
          "text": [
            "\r 36%|███▌      | 2001/5581 [02:48<06:57,  8.58it/s]"
          ]
        },
        {
          "name": "stdout",
          "output_type": "stream",
          "text": [
            "\n",
            "\n",
            "Example input:\n",
            "بدو گفت موبد که فرمان شاه\n",
            "Example output:\n",
            "بدو گفت موبد که فرمان شاه   ,    راهورد و طوس ماه ماه کلاه ماه\n",
            "\n",
            "\n"
          ]
        },
        {
          "name": "stderr",
          "output_type": "stream",
          "text": [
            " 54%|█████▎    | 2999/5581 [04:11<03:33, 12.12it/s]Setting `pad_token_id` to `eos_token_id`:5 for open-end generation.\n"
          ]
        },
        {
          "name": "stdout",
          "output_type": "stream",
          "text": [
            "\n",
            "Batch 3000 of 5581. Loss:2.5173702239990234.\n"
          ]
        },
        {
          "name": "stderr",
          "output_type": "stream",
          "text": [
            " 54%|█████▍    | 3003/5581 [04:12<04:46,  9.00it/s]"
          ]
        },
        {
          "name": "stdout",
          "output_type": "stream",
          "text": [
            "\n",
            "\n",
            "Example input:\n",
            "به گشتاسپ گفتند کای نامدار\n",
            "Example output:\n",
            "به گشتاسپ گفتند کای نامدار   ,    مدارزار چند سوار سوار روزگار\n",
            "\n",
            "\n"
          ]
        },
        {
          "name": "stderr",
          "output_type": "stream",
          "text": [
            " 72%|███████▏  | 3999/5581 [05:35<02:15, 11.66it/s]Setting `pad_token_id` to `eos_token_id`:5 for open-end generation.\n"
          ]
        },
        {
          "name": "stdout",
          "output_type": "stream",
          "text": [
            "\n",
            "Batch 4000 of 5581. Loss:2.2371790409088135.\n"
          ]
        },
        {
          "name": "stderr",
          "output_type": "stream",
          "text": [
            "\r 72%|███████▏  | 4001/5581 [05:35<03:29,  7.53it/s]"
          ]
        },
        {
          "name": "stdout",
          "output_type": "stream",
          "text": [
            "\n",
            "\n",
            "Example input:\n",
            "گمانی برم گفت کان گرد ماه\n",
            "Example output:\n",
            "گمانی برم گفت کان گرد ماه   ,    ماه گاه گاه کلاه کلاه گاه کلاه گاه راه\n",
            "\n",
            "\n"
          ]
        },
        {
          "name": "stderr",
          "output_type": "stream",
          "text": [
            " 90%|████████▉ | 4999/5581 [06:58<00:49, 11.78it/s]Setting `pad_token_id` to `eos_token_id`:5 for open-end generation.\n"
          ]
        },
        {
          "name": "stdout",
          "output_type": "stream",
          "text": [
            "\n",
            "Batch 5000 of 5581. Loss:2.419513463973999.\n"
          ]
        },
        {
          "name": "stderr",
          "output_type": "stream",
          "text": [
            "\r 90%|████████▉ | 5001/5581 [06:58<01:13,  7.92it/s]"
          ]
        },
        {
          "name": "stdout",
          "output_type": "stream",
          "text": [
            "\n",
            "\n",
            "Example input:\n",
            "چنان دان که یزدان گوای منست\n",
            "Example output:\n",
            "چنان دان که یزدان گوای منست   ,   ستست مراستردست و است\n",
            "\n",
            "\n"
          ]
        },
        {
          "name": "stderr",
          "output_type": "stream",
          "text": [
            "100%|██████████| 5581/5581 [07:47<00:00, 11.94it/s]\n"
          ]
        },
        {
          "name": "stdout",
          "output_type": "stream",
          "text": [
            "\n",
            "Epoch: 1, Training Loss: 2.444160343305844.\n",
            "\n"
          ]
        },
        {
          "name": "stderr",
          "output_type": "stream",
          "text": [
            "100%|██████████| 621/621 [00:22<00:00, 28.07it/s]\n"
          ]
        },
        {
          "name": "stdout",
          "output_type": "stream",
          "text": [
            "\n",
            "Epoch: 1, Validation Loss: 2.444389506046707.\n",
            "\n",
            "Beginning epoch 2 of 15\n"
          ]
        },
        {
          "name": "stderr",
          "output_type": "stream",
          "text": [
            " 18%|█▊        | 1000/5581 [01:23<06:18, 12.11it/s]Setting `pad_token_id` to `eos_token_id`:5 for open-end generation.\n"
          ]
        },
        {
          "name": "stdout",
          "output_type": "stream",
          "text": [
            "\n",
            "Batch 1000 of 5581. Loss:2.2170262336730957.\n"
          ]
        },
        {
          "name": "stderr",
          "output_type": "stream",
          "text": [
            "\r 18%|█▊        | 1002/5581 [01:23<08:49,  8.65it/s]"
          ]
        },
        {
          "name": "stdout",
          "output_type": "stream",
          "text": [
            "\n",
            "\n",
            "Example input:\n",
            "همی تاخت تا پیش دریا رسید\n",
            "Example output:\n",
            "همی تاخت تا پیش دریا رسید   ,    کشیدیدزستان دیدید دید\n",
            "\n",
            "\n"
          ]
        },
        {
          "name": "stderr",
          "output_type": "stream",
          "text": [
            " 36%|███▌      | 2000/5581 [02:46<04:51, 12.28it/s]Setting `pad_token_id` to `eos_token_id`:5 for open-end generation.\n"
          ]
        },
        {
          "name": "stdout",
          "output_type": "stream",
          "text": [
            "\n",
            "Batch 2000 of 5581. Loss:2.318509340286255.\n"
          ]
        },
        {
          "name": "stderr",
          "output_type": "stream",
          "text": [
            "\r 36%|███▌      | 2002/5581 [02:46<06:42,  8.90it/s]"
          ]
        },
        {
          "name": "stdout",
          "output_type": "stream",
          "text": [
            "\n",
            "\n",
            "Example input:\n",
            "همی برشکافید پرشان به تیر\n",
            "Example output:\n",
            "همی برشکافید پرشان به تیر   ,   گار وبه لاورد زرد\n",
            "\n",
            "\n"
          ]
        },
        {
          "name": "stderr",
          "output_type": "stream",
          "text": [
            " 54%|█████▍    | 3000/5581 [04:10<03:33, 12.08it/s]Setting `pad_token_id` to `eos_token_id`:5 for open-end generation.\n"
          ]
        },
        {
          "name": "stdout",
          "output_type": "stream",
          "text": [
            "\n",
            "Batch 3000 of 5581. Loss:2.404287338256836.\n"
          ]
        },
        {
          "name": "stderr",
          "output_type": "stream",
          "text": [
            "\r 54%|█████▍    | 3002/5581 [04:10<05:17,  8.12it/s]"
          ]
        },
        {
          "name": "stdout",
          "output_type": "stream",
          "text": [
            "\n",
            "\n",
            "Example input:\n",
            "به دانش جهان را بلند افسری\n",
            "Example output:\n",
            "به دانش جهان را بلند افسری   ,   ند چند چندندند چندند وند چون و\n",
            "\n",
            "\n"
          ]
        },
        {
          "name": "stderr",
          "output_type": "stream",
          "text": [
            " 72%|███████▏  | 4000/5581 [05:33<02:14, 11.73it/s]Setting `pad_token_id` to `eos_token_id`:5 for open-end generation.\n"
          ]
        },
        {
          "name": "stdout",
          "output_type": "stream",
          "text": [
            "\n",
            "Batch 4000 of 5581. Loss:2.1831531524658203.\n"
          ]
        },
        {
          "name": "stderr",
          "output_type": "stream",
          "text": [
            "\r 72%|███████▏  | 4002/5581 [05:33<03:35,  7.34it/s]"
          ]
        },
        {
          "name": "stdout",
          "output_type": "stream",
          "text": [
            "\n",
            "\n",
            "Example input:\n",
            "بد و نیک بیند ز یزدان پاک\n",
            "Example output:\n",
            "بد و نیک بیند ز یزدان پاک   ,    خاک لا لا گاه مشک لاژ لاورد\n",
            "\n",
            "\n"
          ]
        },
        {
          "name": "stderr",
          "output_type": "stream",
          "text": [
            " 90%|████████▉ | 5000/5581 [06:56<00:49, 11.69it/s]Setting `pad_token_id` to `eos_token_id`:5 for open-end generation.\n"
          ]
        },
        {
          "name": "stdout",
          "output_type": "stream",
          "text": [
            "\n",
            "Batch 5000 of 5581. Loss:2.6507725715637207.\n"
          ]
        },
        {
          "name": "stderr",
          "output_type": "stream",
          "text": [
            "\r 90%|████████▉ | 5002/5581 [06:57<01:18,  7.36it/s]"
          ]
        },
        {
          "name": "stdout",
          "output_type": "stream",
          "text": [
            "\n",
            "\n",
            "Example input:\n",
            "بران بی بها چرم آهنگران\n",
            "Example output:\n",
            "بران بی بها چرم آهنگران   ,    مهوارمهارگرانگرانرانگران\n",
            "\n",
            "\n"
          ]
        },
        {
          "name": "stderr",
          "output_type": "stream",
          "text": [
            "100%|██████████| 5581/5581 [07:45<00:00, 11.99it/s]\n"
          ]
        },
        {
          "name": "stdout",
          "output_type": "stream",
          "text": [
            "\n",
            "Epoch: 2, Training Loss: 2.3743371289597897.\n",
            "\n"
          ]
        },
        {
          "name": "stderr",
          "output_type": "stream",
          "text": [
            "100%|██████████| 621/621 [00:22<00:00, 27.89it/s]\n"
          ]
        },
        {
          "name": "stdout",
          "output_type": "stream",
          "text": [
            "\n",
            "Epoch: 2, Validation Loss: 2.451205432894917.\n",
            "\n",
            "Beginning epoch 3 of 15\n"
          ]
        },
        {
          "name": "stderr",
          "output_type": "stream",
          "text": [
            " 18%|█▊        | 1000/5581 [01:23<06:14, 12.23it/s]Setting `pad_token_id` to `eos_token_id`:5 for open-end generation.\n"
          ]
        },
        {
          "name": "stdout",
          "output_type": "stream",
          "text": [
            "\n",
            "Batch 1000 of 5581. Loss:2.2733094692230225.\n"
          ]
        },
        {
          "name": "stderr",
          "output_type": "stream",
          "text": [
            "\r 18%|█▊        | 1002/5581 [01:23<08:50,  8.63it/s]"
          ]
        },
        {
          "name": "stdout",
          "output_type": "stream",
          "text": [
            "\n",
            "\n",
            "Example input:\n",
            "بران بام برشد نه بر آرزوی\n",
            "Example output:\n",
            "بران بام برشد نه بر آرزوی   ,   وییاریم برگشتسویسوی روی\n",
            "\n",
            "\n"
          ]
        },
        {
          "name": "stderr",
          "output_type": "stream",
          "text": [
            " 36%|███▌      | 2000/5581 [02:46<04:54, 12.18it/s]Setting `pad_token_id` to `eos_token_id`:5 for open-end generation.\n"
          ]
        },
        {
          "name": "stdout",
          "output_type": "stream",
          "text": [
            "\n",
            "Batch 2000 of 5581. Loss:2.301098346710205.\n"
          ]
        },
        {
          "name": "stderr",
          "output_type": "stream",
          "text": [
            "\r 36%|███▌      | 2002/5581 [02:46<07:04,  8.43it/s]"
          ]
        },
        {
          "name": "stdout",
          "output_type": "stream",
          "text": [
            "\n",
            "\n",
            "Example input:\n",
            "ببینی کنون تیر گشتاسپی\n",
            "Example output:\n",
            "ببینی کنون تیر گشتاسپی   ,   ستستندهست شد چندپیپی شدستست\n",
            "\n",
            "\n"
          ]
        },
        {
          "name": "stderr",
          "output_type": "stream",
          "text": [
            " 54%|█████▍    | 3000/5581 [04:09<03:30, 12.26it/s]Setting `pad_token_id` to `eos_token_id`:5 for open-end generation.\n"
          ]
        },
        {
          "name": "stdout",
          "output_type": "stream",
          "text": [
            "\n",
            "Batch 3000 of 5581. Loss:2.3344602584838867.\n"
          ]
        },
        {
          "name": "stderr",
          "output_type": "stream",
          "text": [
            "\r 54%|█████▍    | 3002/5581 [04:10<05:17,  8.13it/s]"
          ]
        },
        {
          "name": "stdout",
          "output_type": "stream",
          "text": [
            "\n",
            "\n",
            "Example input:\n",
            "زمین هفت کشور مرا گشت راست\n",
            "Example output:\n",
            "زمین هفت کشور مرا گشت راست   ,    راستاستارستورد راستراستاستاست\n",
            "\n",
            "\n"
          ]
        },
        {
          "name": "stderr",
          "output_type": "stream",
          "text": [
            " 72%|███████▏  | 4000/5581 [05:33<02:10, 12.15it/s]Setting `pad_token_id` to `eos_token_id`:5 for open-end generation.\n"
          ]
        },
        {
          "name": "stdout",
          "output_type": "stream",
          "text": [
            "\n",
            "Batch 4000 of 5581. Loss:2.1996612548828125.\n"
          ]
        },
        {
          "name": "stderr",
          "output_type": "stream",
          "text": [
            "\r 72%|███████▏  | 4002/5581 [05:33<03:05,  8.51it/s]"
          ]
        },
        {
          "name": "stdout",
          "output_type": "stream",
          "text": [
            "\n",
            "\n",
            "Example input:\n",
            "تو گفتی ز مستی کنون خاستست\n",
            "Example output:\n",
            "تو گفتی ز مستی کنون خاستست   ,   استست چند خدای راست برداشتاستاست\n",
            "\n",
            "\n"
          ]
        },
        {
          "name": "stderr",
          "output_type": "stream",
          "text": [
            " 90%|████████▉ | 5000/5581 [06:56<00:50, 11.54it/s]Setting `pad_token_id` to `eos_token_id`:5 for open-end generation.\n"
          ]
        },
        {
          "name": "stdout",
          "output_type": "stream",
          "text": [
            "\n",
            "Batch 5000 of 5581. Loss:2.4116013050079346.\n"
          ]
        },
        {
          "name": "stderr",
          "output_type": "stream",
          "text": [
            "\r 90%|████████▉ | 5002/5581 [06:57<01:14,  7.76it/s]"
          ]
        },
        {
          "name": "stdout",
          "output_type": "stream",
          "text": [
            "\n",
            "\n",
            "Example input:\n",
            "به هر جایگه بر یکی توده کرد\n",
            "Example output:\n",
            "به هر جایگه بر یکی توده کرد   ,    چند بودود گشتزسار بود\n",
            "\n",
            "\n"
          ]
        },
        {
          "name": "stderr",
          "output_type": "stream",
          "text": [
            "100%|██████████| 5581/5581 [07:45<00:00, 12.00it/s]\n"
          ]
        },
        {
          "name": "stdout",
          "output_type": "stream",
          "text": [
            "\n",
            "Epoch: 3, Training Loss: 2.3036526718184076.\n",
            "\n"
          ]
        },
        {
          "name": "stderr",
          "output_type": "stream",
          "text": [
            "100%|██████████| 621/621 [00:22<00:00, 27.82it/s]\n"
          ]
        },
        {
          "name": "stdout",
          "output_type": "stream",
          "text": [
            "\n",
            "Epoch: 3, Validation Loss: 2.4780309914390823.\n",
            "\n",
            "Beginning epoch 4 of 15\n"
          ]
        },
        {
          "name": "stderr",
          "output_type": "stream",
          "text": [
            " 18%|█▊        | 1000/5581 [01:22<06:11, 12.32it/s]Setting `pad_token_id` to `eos_token_id`:5 for open-end generation.\n"
          ]
        },
        {
          "name": "stdout",
          "output_type": "stream",
          "text": [
            "\n",
            "Batch 1000 of 5581. Loss:2.3314390182495117.\n",
            "\n",
            "\n",
            "Example input:\n",
            "به بزم و برزم و به پرهیز وداد\n",
            "Example output:\n",
            "به بزم و برزم و به پرهیز وداد   ,   اروسر کلن بپرسند کلن\n",
            "\n",
            "\n"
          ]
        },
        {
          "name": "stderr",
          "output_type": "stream",
          "text": [
            " 36%|███▌      | 2000/5581 [02:46<04:53, 12.20it/s]Setting `pad_token_id` to `eos_token_id`:5 for open-end generation.\n"
          ]
        },
        {
          "name": "stdout",
          "output_type": "stream",
          "text": [
            "\n",
            "Batch 2000 of 5581. Loss:2.172701358795166.\n"
          ]
        },
        {
          "name": "stderr",
          "output_type": "stream",
          "text": [
            "\r 36%|███▌      | 2002/5581 [02:46<06:54,  8.63it/s]"
          ]
        },
        {
          "name": "stdout",
          "output_type": "stream",
          "text": [
            "\n",
            "\n",
            "Example input:\n",
            "ز درد پسر ویسهٔ جنگجوی\n",
            "Example output:\n",
            "ز درد پسر ویسهٔ جنگجوی   ,    روی مشک بروی روی بوی بوی اوی اوی جوی اوی\n",
            "\n",
            "\n"
          ]
        },
        {
          "name": "stderr",
          "output_type": "stream",
          "text": [
            " 54%|█████▍    | 3000/5581 [04:09<03:29, 12.30it/s]Setting `pad_token_id` to `eos_token_id`:5 for open-end generation.\n"
          ]
        },
        {
          "name": "stdout",
          "output_type": "stream",
          "text": [
            "\n",
            "Batch 3000 of 5581. Loss:2.192206859588623.\n"
          ]
        },
        {
          "name": "stderr",
          "output_type": "stream",
          "text": [
            "\r 54%|█████▍    | 3002/5581 [04:09<05:02,  8.52it/s]"
          ]
        },
        {
          "name": "stdout",
          "output_type": "stream",
          "text": [
            "\n",
            "\n",
            "Example input:\n",
            "در ایوان شاهی شبی دیر یاز\n",
            "Example output:\n",
            "در ایوان شاهی شبی دیر یاز   ,   زازب به بهزازنواز اند اند\n",
            "\n",
            "\n"
          ]
        },
        {
          "name": "stderr",
          "output_type": "stream",
          "text": [
            " 72%|███████▏  | 4000/5581 [05:32<02:09, 12.23it/s]Setting `pad_token_id` to `eos_token_id`:5 for open-end generation.\n"
          ]
        },
        {
          "name": "stdout",
          "output_type": "stream",
          "text": [
            "\n",
            "Batch 4000 of 5581. Loss:2.174811601638794.\n"
          ]
        },
        {
          "name": "stderr",
          "output_type": "stream",
          "text": [
            "\r 72%|███████▏  | 4002/5581 [05:33<03:03,  8.63it/s]"
          ]
        },
        {
          "name": "stdout",
          "output_type": "stream",
          "text": [
            "\n",
            "\n",
            "Example input:\n",
            "به پیروزگر بر تو ای پهلوان\n",
            "Example output:\n",
            "به پیروزگر بر تو ای پهلوان   ,    روان زمان بردی روان زمان روان روان\n",
            "\n",
            "\n"
          ]
        },
        {
          "name": "stderr",
          "output_type": "stream",
          "text": [
            " 90%|████████▉ | 5000/5581 [06:56<00:51, 11.23it/s]Setting `pad_token_id` to `eos_token_id`:5 for open-end generation.\n"
          ]
        },
        {
          "name": "stdout",
          "output_type": "stream",
          "text": [
            "\n",
            "Batch 5000 of 5581. Loss:2.5971508026123047.\n"
          ]
        },
        {
          "name": "stderr",
          "output_type": "stream",
          "text": [
            "\r 90%|████████▉ | 5002/5581 [06:56<01:18,  7.41it/s]"
          ]
        },
        {
          "name": "stdout",
          "output_type": "stream",
          "text": [
            "\n",
            "\n",
            "Example input:\n",
            "گراین نغز بازی به جای آورند\n",
            "Example output:\n",
            "گراین نغز بازی به جای آورند   ,    چند چندند چندب آید پای آورند\n",
            "\n",
            "\n"
          ]
        },
        {
          "name": "stderr",
          "output_type": "stream",
          "text": [
            "100%|██████████| 5581/5581 [07:44<00:00, 12.01it/s]\n"
          ]
        },
        {
          "name": "stdout",
          "output_type": "stream",
          "text": [
            "\n",
            "Epoch: 4, Training Loss: 2.222453246982139.\n",
            "\n"
          ]
        },
        {
          "name": "stderr",
          "output_type": "stream",
          "text": [
            "100%|██████████| 621/621 [00:22<00:00, 27.67it/s]\n"
          ]
        },
        {
          "name": "stdout",
          "output_type": "stream",
          "text": [
            "\n",
            "Epoch: 4, Validation Loss: 2.508021659321255.\n",
            "\n",
            "Beginning epoch 5 of 15\n"
          ]
        },
        {
          "name": "stderr",
          "output_type": "stream",
          "text": [
            " 18%|█▊        | 1000/5581 [01:22<06:30, 11.74it/s]Setting `pad_token_id` to `eos_token_id`:5 for open-end generation.\n"
          ]
        },
        {
          "name": "stdout",
          "output_type": "stream",
          "text": [
            "\n",
            "Batch 1000 of 5581. Loss:2.0290887355804443.\n"
          ]
        },
        {
          "name": "stderr",
          "output_type": "stream",
          "text": [
            "\r 18%|█▊        | 1002/5581 [01:23<10:01,  7.61it/s]"
          ]
        },
        {
          "name": "stdout",
          "output_type": "stream",
          "text": [
            "\n",
            "\n",
            "Example input:\n",
            "یکی دختری داشت دهقان چو ماه\n",
            "Example output:\n",
            "یکی دختری داشت دهقان چو ماه   ,    بوی بوی که چندز بخورد بوی جوی جوی\n",
            "\n",
            "\n"
          ]
        },
        {
          "name": "stderr",
          "output_type": "stream",
          "text": [
            " 36%|███▌      | 2000/5581 [02:46<04:52, 12.22it/s]Setting `pad_token_id` to `eos_token_id`:5 for open-end generation.\n"
          ]
        },
        {
          "name": "stdout",
          "output_type": "stream",
          "text": [
            "\n",
            "Batch 2000 of 5581. Loss:2.0255303382873535.\n"
          ]
        },
        {
          "name": "stderr",
          "output_type": "stream",
          "text": [
            "\r 36%|███▌      | 2002/5581 [02:46<07:01,  8.50it/s]"
          ]
        },
        {
          "name": "stdout",
          "output_type": "stream",
          "text": [
            "\n",
            "\n",
            "Example input:\n",
            "بسوده اسب اندر آورد پای\n",
            "Example output:\n",
            "بسوده اسب اندر آورد پای   ,    جای خوان برار چند هایمای\n",
            "\n",
            "\n"
          ]
        },
        {
          "name": "stderr",
          "output_type": "stream",
          "text": [
            " 54%|█████▍    | 3000/5581 [04:09<03:33, 12.12it/s]Setting `pad_token_id` to `eos_token_id`:5 for open-end generation.\n"
          ]
        },
        {
          "name": "stdout",
          "output_type": "stream",
          "text": [
            "\n",
            "Batch 3000 of 5581. Loss:2.1192870140075684.\n"
          ]
        },
        {
          "name": "stderr",
          "output_type": "stream",
          "text": [
            "\r 54%|█████▍    | 3002/5581 [04:09<05:04,  8.46it/s]"
          ]
        },
        {
          "name": "stdout",
          "output_type": "stream",
          "text": [
            "\n",
            "\n",
            "Example input:\n",
            "ترا دادم و خاک پای تواند\n",
            "Example output:\n",
            "ترا دادم و خاک پای تواند   ,    تواند طوسست به چند جای تست\n",
            "\n",
            "\n"
          ]
        },
        {
          "name": "stderr",
          "output_type": "stream",
          "text": [
            " 72%|███████▏  | 4000/5581 [05:32<02:09, 12.24it/s]Setting `pad_token_id` to `eos_token_id`:5 for open-end generation.\n"
          ]
        },
        {
          "name": "stdout",
          "output_type": "stream",
          "text": [
            "\n",
            "Batch 4000 of 5581. Loss:2.194420576095581.\n"
          ]
        },
        {
          "name": "stderr",
          "output_type": "stream",
          "text": [
            "\r 72%|███████▏  | 4002/5581 [05:33<03:00,  8.76it/s]"
          ]
        },
        {
          "name": "stdout",
          "output_type": "stream",
          "text": [
            "\n",
            "\n",
            "Example input:\n",
            "همی گفت هرکس که پر مایه شاه\n",
            "Example output:\n",
            "همی گفت هرکس که پر مایه شاه   ,    کلاهار طوس کلاه راه راه سپاه راه\n",
            "\n",
            "\n"
          ]
        },
        {
          "name": "stderr",
          "output_type": "stream",
          "text": [
            " 90%|████████▉ | 5000/5581 [06:56<00:48, 11.87it/s]Setting `pad_token_id` to `eos_token_id`:5 for open-end generation.\n"
          ]
        },
        {
          "name": "stdout",
          "output_type": "stream",
          "text": [
            "\n",
            "Batch 5000 of 5581. Loss:2.3985252380371094.\n"
          ]
        },
        {
          "name": "stderr",
          "output_type": "stream",
          "text": [
            "\r 90%|████████▉ | 5002/5581 [06:56<01:07,  8.52it/s]"
          ]
        },
        {
          "name": "stdout",
          "output_type": "stream",
          "text": [
            "\n",
            "\n",
            "Example input:\n",
            "یکی تاج دادش زبر جد نگار\n",
            "Example output:\n",
            "یکی تاج دادش زبر جد نگار   ,   وارار بهنده سر گوشوار\n",
            "\n",
            "\n"
          ]
        },
        {
          "name": "stderr",
          "output_type": "stream",
          "text": [
            "100%|██████████| 5581/5581 [07:44<00:00, 12.01it/s]\n"
          ]
        },
        {
          "name": "stdout",
          "output_type": "stream",
          "text": [
            "\n",
            "Epoch: 5, Training Loss: 2.131745845095442.\n",
            "\n"
          ]
        },
        {
          "name": "stderr",
          "output_type": "stream",
          "text": [
            "100%|██████████| 621/621 [00:22<00:00, 27.62it/s]\n"
          ]
        },
        {
          "name": "stdout",
          "output_type": "stream",
          "text": [
            "\n",
            "Epoch: 5, Validation Loss: 2.5762207865139137.\n",
            "\n",
            "Beginning epoch 6 of 15\n"
          ]
        },
        {
          "name": "stderr",
          "output_type": "stream",
          "text": [
            " 18%|█▊        | 1000/5581 [01:22<06:28, 11.80it/s]Setting `pad_token_id` to `eos_token_id`:5 for open-end generation.\n"
          ]
        },
        {
          "name": "stdout",
          "output_type": "stream",
          "text": [
            "\n",
            "Batch 1000 of 5581. Loss:1.7869995832443237.\n"
          ]
        },
        {
          "name": "stderr",
          "output_type": "stream",
          "text": [
            "\r 18%|█▊        | 1002/5581 [01:23<09:53,  7.71it/s]"
          ]
        },
        {
          "name": "stdout",
          "output_type": "stream",
          "text": [
            "\n",
            "\n",
            "Example input:\n",
            "بدو گفت شاه این سخنها بگوی\n",
            "Example output:\n",
            "بدو گفت شاه این سخنها بگوی   ,    رویستب بن بنوی بن\n",
            "\n",
            "\n"
          ]
        },
        {
          "name": "stderr",
          "output_type": "stream",
          "text": [
            " 36%|███▌      | 2000/5581 [02:46<04:52, 12.24it/s]Setting `pad_token_id` to `eos_token_id`:5 for open-end generation.\n"
          ]
        },
        {
          "name": "stdout",
          "output_type": "stream",
          "text": [
            "\n",
            "Batch 2000 of 5581. Loss:2.160893201828003.\n"
          ]
        },
        {
          "name": "stderr",
          "output_type": "stream",
          "text": [
            "\r 36%|███▌      | 2002/5581 [02:46<06:50,  8.73it/s]"
          ]
        },
        {
          "name": "stdout",
          "output_type": "stream",
          "text": [
            "\n",
            "\n",
            "Example input:\n",
            "نه خرگاه بودش نه پرده سرای\n",
            "Example output:\n",
            "نه خرگاه بودش نه پرده سرای   ,   پای بود توینهاد داشتیک رای\n",
            "\n",
            "\n"
          ]
        },
        {
          "name": "stderr",
          "output_type": "stream",
          "text": [
            " 54%|█████▍    | 3000/5581 [04:09<03:30, 12.24it/s]Setting `pad_token_id` to `eos_token_id`:5 for open-end generation.\n"
          ]
        },
        {
          "name": "stdout",
          "output_type": "stream",
          "text": [
            "\n",
            "Batch 3000 of 5581. Loss:1.9230655431747437.\n"
          ]
        },
        {
          "name": "stderr",
          "output_type": "stream",
          "text": [
            "\r 54%|█████▍    | 3002/5581 [04:09<05:00,  8.57it/s]"
          ]
        },
        {
          "name": "stdout",
          "output_type": "stream",
          "text": [
            "\n",
            "\n",
            "Example input:\n",
            "که تا من کمر بر میان بسته ام\n",
            "Example output:\n",
            "که تا من کمر بر میان بسته ام   ,   ستیمارنشستست زال\n",
            "\n",
            "\n"
          ]
        },
        {
          "name": "stderr",
          "output_type": "stream",
          "text": [
            " 72%|███████▏  | 4000/5581 [05:32<02:09, 12.25it/s]Setting `pad_token_id` to `eos_token_id`:5 for open-end generation.\n"
          ]
        },
        {
          "name": "stdout",
          "output_type": "stream",
          "text": [
            "\n",
            "Batch 4000 of 5581. Loss:2.0859994888305664.\n"
          ]
        },
        {
          "name": "stderr",
          "output_type": "stream",
          "text": [
            "\r 72%|███████▏  | 4002/5581 [05:33<03:07,  8.44it/s]"
          ]
        },
        {
          "name": "stdout",
          "output_type": "stream",
          "text": [
            "\n",
            "\n",
            "Example input:\n",
            "همه رودها همچو دریا شده\n",
            "Example output:\n",
            "همه رودها همچو دریا شده   ,    یک توست هستوسرست گری بست\n",
            "\n",
            "\n"
          ]
        },
        {
          "name": "stderr",
          "output_type": "stream",
          "text": [
            " 90%|████████▉ | 5000/5581 [06:56<00:48, 12.03it/s]Setting `pad_token_id` to `eos_token_id`:5 for open-end generation.\n"
          ]
        },
        {
          "name": "stdout",
          "output_type": "stream",
          "text": [
            "\n",
            "Batch 5000 of 5581. Loss:1.8844645023345947.\n"
          ]
        },
        {
          "name": "stderr",
          "output_type": "stream",
          "text": [
            "\r 90%|████████▉ | 5002/5581 [06:56<01:06,  8.65it/s]"
          ]
        },
        {
          "name": "stdout",
          "output_type": "stream",
          "text": [
            "\n",
            "\n",
            "Example input:\n",
            "سپهدار چون قارن کاوگان\n",
            "Example output:\n",
            "سپهدار چون قارن کاوگان   ,    طوس راه کمین طوسبادباد براند آو\n",
            "\n",
            "\n"
          ]
        },
        {
          "name": "stderr",
          "output_type": "stream",
          "text": [
            "100%|██████████| 5581/5581 [07:44<00:00, 12.01it/s]\n"
          ]
        },
        {
          "name": "stdout",
          "output_type": "stream",
          "text": [
            "\n",
            "Epoch: 6, Training Loss: 2.0332477751694107.\n",
            "\n"
          ]
        },
        {
          "name": "stderr",
          "output_type": "stream",
          "text": [
            "100%|██████████| 621/621 [00:22<00:00, 27.59it/s]\n"
          ]
        },
        {
          "name": "stdout",
          "output_type": "stream",
          "text": [
            "\n",
            "Epoch: 6, Validation Loss: 2.6489849021469336.\n",
            "\n",
            "Beginning epoch 7 of 15\n"
          ]
        },
        {
          "name": "stderr",
          "output_type": "stream",
          "text": [
            " 18%|█▊        | 1000/5581 [01:22<06:37, 11.53it/s]Setting `pad_token_id` to `eos_token_id`:5 for open-end generation.\n"
          ]
        },
        {
          "name": "stdout",
          "output_type": "stream",
          "text": [
            "\n",
            "Batch 1000 of 5581. Loss:2.004991292953491.\n"
          ]
        },
        {
          "name": "stderr",
          "output_type": "stream",
          "text": [
            "\r 18%|█▊        | 1002/5581 [01:23<09:57,  7.66it/s]"
          ]
        },
        {
          "name": "stdout",
          "output_type": "stream",
          "text": [
            "\n",
            "\n",
            "Example input:\n",
            "تو شاهی و ما بندگان توایم\n",
            "Example output:\n",
            "تو شاهی و ما بندگان توایم   ,    طوس طوسید چند طوس تو طوسست دام تو\n",
            "\n",
            "\n"
          ]
        },
        {
          "name": "stderr",
          "output_type": "stream",
          "text": [
            " 36%|███▌      | 2000/5581 [02:45<04:51, 12.27it/s]Setting `pad_token_id` to `eos_token_id`:5 for open-end generation.\n"
          ]
        },
        {
          "name": "stdout",
          "output_type": "stream",
          "text": [
            "\n",
            "Batch 2000 of 5581. Loss:1.9244730472564697.\n"
          ]
        },
        {
          "name": "stderr",
          "output_type": "stream",
          "text": [
            "\r 36%|███▌      | 2002/5581 [02:46<06:56,  8.59it/s]"
          ]
        },
        {
          "name": "stdout",
          "output_type": "stream",
          "text": [
            "\n",
            "\n",
            "Example input:\n",
            "فرود آمد و اسپ را با لگام\n",
            "Example output:\n",
            "فرود آمد و اسپ را با لگام   ,    طوس داد طوستور داد سان پور نام سان\n",
            "\n",
            "\n"
          ]
        },
        {
          "name": "stderr",
          "output_type": "stream",
          "text": [
            " 54%|█████▍    | 3000/5581 [04:09<03:30, 12.25it/s]Setting `pad_token_id` to `eos_token_id`:5 for open-end generation.\n"
          ]
        },
        {
          "name": "stdout",
          "output_type": "stream",
          "text": [
            "\n",
            "Batch 3000 of 5581. Loss:2.009582281112671.\n"
          ]
        },
        {
          "name": "stderr",
          "output_type": "stream",
          "text": [
            "\r 54%|█████▍    | 3002/5581 [04:09<05:03,  8.48it/s]"
          ]
        },
        {
          "name": "stdout",
          "output_type": "stream",
          "text": [
            "\n",
            "\n",
            "Example input:\n",
            "همه راز من آشکارا به تست\n",
            "Example output:\n",
            "همه راز من آشکارا به تست   ,    تستز توازستست بش تست\n",
            "\n",
            "\n"
          ]
        },
        {
          "name": "stderr",
          "output_type": "stream",
          "text": [
            " 72%|███████▏  | 4000/5581 [05:32<02:08, 12.27it/s]Setting `pad_token_id` to `eos_token_id`:5 for open-end generation.\n"
          ]
        },
        {
          "name": "stdout",
          "output_type": "stream",
          "text": [
            "\n",
            "Batch 4000 of 5581. Loss:1.9701484441757202.\n"
          ]
        },
        {
          "name": "stderr",
          "output_type": "stream",
          "text": [
            "\r 72%|███████▏  | 4002/5581 [05:32<03:05,  8.51it/s]"
          ]
        },
        {
          "name": "stdout",
          "output_type": "stream",
          "text": [
            "\n",
            "\n",
            "Example input:\n",
            "غمی شد دل مرد پرخاشجوی\n",
            "Example output:\n",
            "غمی شد دل مرد پرخاشجوی   ,    روی طوس زاری غار ز بدر اوی\n",
            "\n",
            "\n"
          ]
        },
        {
          "name": "stderr",
          "output_type": "stream",
          "text": [
            " 90%|████████▉ | 5000/5581 [06:55<00:47, 12.22it/s]Setting `pad_token_id` to `eos_token_id`:5 for open-end generation.\n"
          ]
        },
        {
          "name": "stdout",
          "output_type": "stream",
          "text": [
            "\n",
            "Batch 5000 of 5581. Loss:1.9824190139770508.\n"
          ]
        },
        {
          "name": "stderr",
          "output_type": "stream",
          "text": [
            "\r 90%|████████▉ | 5002/5581 [06:56<01:08,  8.47it/s]"
          ]
        },
        {
          "name": "stdout",
          "output_type": "stream",
          "text": [
            "\n",
            "\n",
            "Example input:\n",
            "چنین گفت کز خواب شاه جهان\n",
            "Example output:\n",
            "چنین گفت کز خواب شاه جهان   ,    مه بود کهستگهانجهانگهانگهان نهان\n",
            "\n",
            "\n"
          ]
        },
        {
          "name": "stderr",
          "output_type": "stream",
          "text": [
            "100%|██████████| 5581/5581 [07:44<00:00, 12.03it/s]\n"
          ]
        },
        {
          "name": "stdout",
          "output_type": "stream",
          "text": [
            "\n",
            "Epoch: 7, Training Loss: 1.9277548579797161.\n",
            "\n"
          ]
        },
        {
          "name": "stderr",
          "output_type": "stream",
          "text": [
            "100%|██████████| 621/621 [00:22<00:00, 27.52it/s]\n"
          ]
        },
        {
          "name": "stdout",
          "output_type": "stream",
          "text": [
            "\n",
            "Epoch: 7, Validation Loss: 2.746739973384593.\n",
            "\n",
            "Beginning epoch 8 of 15\n"
          ]
        },
        {
          "name": "stderr",
          "output_type": "stream",
          "text": [
            " 18%|█▊        | 1000/5581 [01:22<06:30, 11.73it/s]Setting `pad_token_id` to `eos_token_id`:5 for open-end generation.\n"
          ]
        },
        {
          "name": "stdout",
          "output_type": "stream",
          "text": [
            "\n",
            "Batch 1000 of 5581. Loss:1.6930168867111206.\n"
          ]
        },
        {
          "name": "stderr",
          "output_type": "stream",
          "text": [
            "\r 18%|█▊        | 1002/5581 [01:23<10:04,  7.57it/s]"
          ]
        },
        {
          "name": "stdout",
          "output_type": "stream",
          "text": [
            "\n",
            "\n",
            "Example input:\n",
            "ز بالا پیاده به پیمان برفت\n",
            "Example output:\n",
            "ز بالا پیاده به پیمان برفت   ,    جفت بود راستست تفت تفت خواست\n",
            "\n",
            "\n"
          ]
        },
        {
          "name": "stderr",
          "output_type": "stream",
          "text": [
            " 36%|███▌      | 2000/5581 [02:46<04:52, 12.26it/s]Setting `pad_token_id` to `eos_token_id`:5 for open-end generation.\n"
          ]
        },
        {
          "name": "stdout",
          "output_type": "stream",
          "text": [
            "\n",
            "Batch 2000 of 5581. Loss:1.8304414749145508.\n"
          ]
        },
        {
          "name": "stderr",
          "output_type": "stream",
          "text": [
            "\r 36%|███▌      | 2002/5581 [02:46<06:52,  8.68it/s]"
          ]
        },
        {
          "name": "stdout",
          "output_type": "stream",
          "text": [
            "\n",
            "\n",
            "Example input:\n",
            "سخن پرسمت گر تو پاسخ دهی\n",
            "Example output:\n",
            "سخن پرسمت گر تو پاسخ دهی   ,   ی تو که سانی سان مهی\n",
            "\n",
            "\n"
          ]
        },
        {
          "name": "stderr",
          "output_type": "stream",
          "text": [
            " 54%|█████▍    | 3000/5581 [04:09<03:31, 12.23it/s]Setting `pad_token_id` to `eos_token_id`:5 for open-end generation.\n"
          ]
        },
        {
          "name": "stdout",
          "output_type": "stream",
          "text": [
            "\n",
            "Batch 3000 of 5581. Loss:1.7754343748092651.\n"
          ]
        },
        {
          "name": "stderr",
          "output_type": "stream",
          "text": [
            "\r 54%|█████▍    | 3002/5581 [04:09<04:51,  8.86it/s]"
          ]
        },
        {
          "name": "stdout",
          "output_type": "stream",
          "text": [
            "\n",
            "\n",
            "Example input:\n",
            "نهانی به گفتی بگوش اندرون\n",
            "Example output:\n",
            "نهانی به گفتی بگوش اندرون   ,    خون تواززنیده ز سگ\n",
            "\n",
            "\n"
          ]
        },
        {
          "name": "stderr",
          "output_type": "stream",
          "text": [
            " 72%|███████▏  | 4000/5581 [05:32<02:08, 12.26it/s]Setting `pad_token_id` to `eos_token_id`:5 for open-end generation.\n"
          ]
        },
        {
          "name": "stdout",
          "output_type": "stream",
          "text": [
            "\n",
            "Batch 4000 of 5581. Loss:1.9417372941970825.\n"
          ]
        },
        {
          "name": "stderr",
          "output_type": "stream",
          "text": [
            "\r 72%|███████▏  | 4002/5581 [05:33<03:03,  8.58it/s]"
          ]
        },
        {
          "name": "stdout",
          "output_type": "stream",
          "text": [
            "\n",
            "\n",
            "Example input:\n",
            "عنان هیون تگاور بتافت\n",
            "Example output:\n",
            "عنان هیون تگاور بتافت   ,   ی را بودیافتیشتییی\n",
            "\n",
            "\n"
          ]
        },
        {
          "name": "stderr",
          "output_type": "stream",
          "text": [
            " 90%|████████▉ | 5000/5581 [06:55<00:48, 12.07it/s]Setting `pad_token_id` to `eos_token_id`:5 for open-end generation.\n"
          ]
        },
        {
          "name": "stdout",
          "output_type": "stream",
          "text": [
            "\n",
            "Batch 5000 of 5581. Loss:1.6266121864318848.\n"
          ]
        },
        {
          "name": "stderr",
          "output_type": "stream",
          "text": [
            "\r 90%|████████▉ | 5002/5581 [06:56<01:08,  8.45it/s]"
          ]
        },
        {
          "name": "stdout",
          "output_type": "stream",
          "text": [
            "\n",
            "\n",
            "Example input:\n",
            "چو زان کارها شد به شاه آگهی\n",
            "Example output:\n",
            "چو زان کارها شد به شاه آگهی   ,   یز بوداز داشتییییده\n",
            "\n",
            "\n"
          ]
        },
        {
          "name": "stderr",
          "output_type": "stream",
          "text": [
            "100%|██████████| 5581/5581 [07:44<00:00, 12.02it/s]\n"
          ]
        },
        {
          "name": "stdout",
          "output_type": "stream",
          "text": [
            "\n",
            "Epoch: 8, Training Loss: 1.820871638025654.\n",
            "\n"
          ]
        },
        {
          "name": "stderr",
          "output_type": "stream",
          "text": [
            "100%|██████████| 621/621 [00:22<00:00, 27.71it/s]\n"
          ]
        },
        {
          "name": "stdout",
          "output_type": "stream",
          "text": [
            "\n",
            "Epoch: 8, Validation Loss: 2.829063265028015.\n",
            "\n",
            "Beginning epoch 9 of 15\n"
          ]
        },
        {
          "name": "stderr",
          "output_type": "stream",
          "text": [
            " 18%|█▊        | 1000/5581 [01:22<06:34, 11.62it/s]Setting `pad_token_id` to `eos_token_id`:5 for open-end generation.\n"
          ]
        },
        {
          "name": "stdout",
          "output_type": "stream",
          "text": [
            "\n",
            "Batch 1000 of 5581. Loss:1.5718860626220703.\n"
          ]
        },
        {
          "name": "stderr",
          "output_type": "stream",
          "text": [
            "\r 18%|█▊        | 1002/5581 [01:23<09:57,  7.67it/s]"
          ]
        },
        {
          "name": "stdout",
          "output_type": "stream",
          "text": [
            "\n",
            "\n",
            "Example input:\n",
            "برانگیخت شبدیز بهرام را\n",
            "Example output:\n",
            "برانگیخت شبدیز بهرام را   ,    را بودز را براندنه بن\n",
            "\n",
            "\n"
          ]
        },
        {
          "name": "stderr",
          "output_type": "stream",
          "text": [
            " 36%|███▌      | 2000/5581 [02:45<04:50, 12.32it/s]Setting `pad_token_id` to `eos_token_id`:5 for open-end generation.\n"
          ]
        },
        {
          "name": "stdout",
          "output_type": "stream",
          "text": [
            "\n",
            "Batch 2000 of 5581. Loss:1.7080148458480835.\n"
          ]
        },
        {
          "name": "stderr",
          "output_type": "stream",
          "text": [
            "\r 36%|███▌      | 2002/5581 [02:45<06:57,  8.57it/s]"
          ]
        },
        {
          "name": "stdout",
          "output_type": "stream",
          "text": [
            "\n",
            "\n",
            "Example input:\n",
            "فرو ماند گردون گردان بجای\n",
            "Example output:\n",
            "فرو ماند گردون گردان بجای   ,   ب تو هستوسر ب بستستست\n",
            "\n",
            "\n"
          ]
        },
        {
          "name": "stderr",
          "output_type": "stream",
          "text": [
            " 54%|█████▍    | 3000/5581 [04:08<03:32, 12.15it/s]Setting `pad_token_id` to `eos_token_id`:5 for open-end generation.\n"
          ]
        },
        {
          "name": "stdout",
          "output_type": "stream",
          "text": [
            "\n",
            "Batch 3000 of 5581. Loss:1.382104754447937.\n"
          ]
        },
        {
          "name": "stderr",
          "output_type": "stream",
          "text": [
            "\r 54%|█████▍    | 3002/5581 [04:08<05:07,  8.40it/s]"
          ]
        },
        {
          "name": "stdout",
          "output_type": "stream",
          "text": [
            "\n",
            "\n",
            "Example input:\n",
            "سیم هفته بر جایگاه مهی\n",
            "Example output:\n",
            "سیم هفته بر جایگاه مهی   ,    بساز هست هست توبست هست نو بنواخت\n",
            "\n",
            "\n"
          ]
        },
        {
          "name": "stderr",
          "output_type": "stream",
          "text": [
            " 72%|███████▏  | 4000/5581 [05:31<02:07, 12.36it/s]Setting `pad_token_id` to `eos_token_id`:5 for open-end generation.\n"
          ]
        },
        {
          "name": "stdout",
          "output_type": "stream",
          "text": [
            "\n",
            "Batch 4000 of 5581. Loss:1.8456188440322876.\n"
          ]
        },
        {
          "name": "stderr",
          "output_type": "stream",
          "text": [
            "\r 72%|███████▏  | 4002/5581 [05:31<03:05,  8.49it/s]"
          ]
        },
        {
          "name": "stdout",
          "output_type": "stream",
          "text": [
            "\n",
            "\n",
            "Example input:\n",
            "ز بهمن شنیدم که از گلستان\n",
            "Example output:\n",
            "ز بهمن شنیدم که از گلستان   ,   ستانز بود گیر بردیستانرد\n",
            "\n",
            "\n"
          ]
        },
        {
          "name": "stderr",
          "output_type": "stream",
          "text": [
            " 90%|████████▉ | 5000/5581 [06:54<00:49, 11.72it/s]Setting `pad_token_id` to `eos_token_id`:5 for open-end generation.\n"
          ]
        },
        {
          "name": "stdout",
          "output_type": "stream",
          "text": [
            "\n",
            "Batch 5000 of 5581. Loss:1.6602040529251099.\n"
          ]
        },
        {
          "name": "stderr",
          "output_type": "stream",
          "text": [
            "\r 90%|████████▉ | 5002/5581 [06:54<01:15,  7.69it/s]"
          ]
        },
        {
          "name": "stdout",
          "output_type": "stream",
          "text": [
            "\n",
            "\n",
            "Example input:\n",
            "بزرگان ایران که هستند اسیر\n",
            "Example output:\n",
            "بزرگان ایران که هستند اسیر   ,    گیر طوس بود خوان گیر دستگیر تیر گیر شیر\n",
            "\n",
            "\n"
          ]
        },
        {
          "name": "stderr",
          "output_type": "stream",
          "text": [
            "100%|██████████| 5581/5581 [07:42<00:00, 12.07it/s]\n"
          ]
        },
        {
          "name": "stdout",
          "output_type": "stream",
          "text": [
            "\n",
            "Epoch: 9, Training Loss: 1.7123677963169004.\n",
            "\n"
          ]
        },
        {
          "name": "stderr",
          "output_type": "stream",
          "text": [
            "100%|██████████| 621/621 [00:22<00:00, 27.90it/s]\n"
          ]
        },
        {
          "name": "stdout",
          "output_type": "stream",
          "text": [
            "\n",
            "Epoch: 9, Validation Loss: 2.96797434527325.\n",
            "\n",
            "Beginning epoch 10 of 15\n"
          ]
        },
        {
          "name": "stderr",
          "output_type": "stream",
          "text": [
            " 18%|█▊        | 1000/5581 [01:22<06:13, 12.27it/s]Setting `pad_token_id` to `eos_token_id`:5 for open-end generation.\n"
          ]
        },
        {
          "name": "stdout",
          "output_type": "stream",
          "text": [
            "\n",
            "Batch 1000 of 5581. Loss:1.543631911277771.\n"
          ]
        },
        {
          "name": "stderr",
          "output_type": "stream",
          "text": [
            "\r 18%|█▊        | 1002/5581 [01:23<09:18,  8.20it/s]"
          ]
        },
        {
          "name": "stdout",
          "output_type": "stream",
          "text": [
            "\n",
            "\n",
            "Example input:\n",
            "گرانمایه سیندخت را پیش خواند\n",
            "Example output:\n",
            "گرانمایه سیندخت را پیش خواند   ,   اند را نامه در در او در بر\n",
            "\n",
            "\n"
          ]
        },
        {
          "name": "stderr",
          "output_type": "stream",
          "text": [
            " 36%|███▌      | 2000/5581 [02:45<04:52, 12.26it/s]Setting `pad_token_id` to `eos_token_id`:5 for open-end generation.\n"
          ]
        },
        {
          "name": "stdout",
          "output_type": "stream",
          "text": [
            "\n",
            "Batch 2000 of 5581. Loss:1.6762691736221313.\n"
          ]
        },
        {
          "name": "stderr",
          "output_type": "stream",
          "text": [
            "\r 36%|███▌      | 2002/5581 [02:46<07:00,  8.50it/s]"
          ]
        },
        {
          "name": "stdout",
          "output_type": "stream",
          "text": [
            "\n",
            "\n",
            "Example input:\n",
            "خرد مرد را خلعت ایزدیست\n",
            "Example output:\n",
            "خرد مرد را خلعت ایزدیست   ,   ستار هست طوسست چونستستزاست\n",
            "\n",
            "\n"
          ]
        },
        {
          "name": "stderr",
          "output_type": "stream",
          "text": [
            " 54%|█████▍    | 3000/5581 [04:08<03:30, 12.25it/s]Setting `pad_token_id` to `eos_token_id`:5 for open-end generation.\n"
          ]
        },
        {
          "name": "stdout",
          "output_type": "stream",
          "text": [
            "\n",
            "Batch 3000 of 5581. Loss:1.8015711307525635.\n"
          ]
        },
        {
          "name": "stderr",
          "output_type": "stream",
          "text": [
            "\r 54%|█████▍    | 3002/5581 [04:08<04:57,  8.67it/s]"
          ]
        },
        {
          "name": "stdout",
          "output_type": "stream",
          "text": [
            "\n",
            "\n",
            "Example input:\n",
            "مقاتوره بشنید گفتار اوی\n",
            "Example output:\n",
            "مقاتوره بشنید گفتار اوی   ,    اویید را زاری اوی اوی جوی جوی اوی\n",
            "\n",
            "\n"
          ]
        },
        {
          "name": "stderr",
          "output_type": "stream",
          "text": [
            " 72%|███████▏  | 4000/5581 [05:31<02:09, 12.17it/s]Setting `pad_token_id` to `eos_token_id`:5 for open-end generation.\n"
          ]
        },
        {
          "name": "stdout",
          "output_type": "stream",
          "text": [
            "\n",
            "Batch 4000 of 5581. Loss:1.5023674964904785.\n",
            "\n",
            "\n",
            "Example input:\n",
            "پس آن نامهٔ شاه، فرخ هجیر\n",
            "Example output:\n",
            "پس آن نامهٔ شاه، فرخ هجیر   ,   یر گیر خوانس بهها دبیر\n",
            "\n",
            "\n"
          ]
        },
        {
          "name": "stderr",
          "output_type": "stream",
          "text": [
            " 90%|████████▉ | 5000/5581 [06:54<00:49, 11.71it/s]Setting `pad_token_id` to `eos_token_id`:5 for open-end generation.\n"
          ]
        },
        {
          "name": "stdout",
          "output_type": "stream",
          "text": [
            "\n",
            "Batch 5000 of 5581. Loss:1.7441060543060303.\n"
          ]
        },
        {
          "name": "stderr",
          "output_type": "stream",
          "text": [
            "\r 90%|████████▉ | 5002/5581 [06:54<01:17,  7.47it/s]"
          ]
        },
        {
          "name": "stdout",
          "output_type": "stream",
          "text": [
            "\n",
            "\n",
            "Example input:\n",
            "پدر آرزو کرد بهرام را\n",
            "Example output:\n",
            "پدر آرزو کرد بهرام را   ,    نام کام تو را طوسام مک کامام\n",
            "\n",
            "\n"
          ]
        },
        {
          "name": "stderr",
          "output_type": "stream",
          "text": [
            "100%|██████████| 5581/5581 [07:42<00:00, 12.06it/s]\n"
          ]
        },
        {
          "name": "stdout",
          "output_type": "stream",
          "text": [
            "\n",
            "Epoch: 10, Training Loss: 1.6056345212718017.\n",
            "\n"
          ]
        },
        {
          "name": "stderr",
          "output_type": "stream",
          "text": [
            "100%|██████████| 621/621 [00:22<00:00, 28.08it/s]\n"
          ]
        },
        {
          "name": "stdout",
          "output_type": "stream",
          "text": [
            "\n",
            "Epoch: 10, Validation Loss: 3.106757586321009.\n",
            "\n",
            "Beginning epoch 11 of 15\n"
          ]
        },
        {
          "name": "stderr",
          "output_type": "stream",
          "text": [
            " 18%|█▊        | 1000/5581 [01:22<06:12, 12.29it/s]Setting `pad_token_id` to `eos_token_id`:5 for open-end generation.\n"
          ]
        },
        {
          "name": "stdout",
          "output_type": "stream",
          "text": [
            "\n",
            "Batch 1000 of 5581. Loss:1.401511311531067.\n"
          ]
        },
        {
          "name": "stderr",
          "output_type": "stream",
          "text": [
            "\r 18%|█▊        | 1002/5581 [01:23<08:44,  8.72it/s]"
          ]
        },
        {
          "name": "stdout",
          "output_type": "stream",
          "text": [
            "\n",
            "\n",
            "Example input:\n",
            "یکی دختری داشت خاتون چوماه\n",
            "Example output:\n",
            "یکی دختری داشت خاتون چوماه   ,    و را بود توکیکی\n",
            "\n",
            "\n"
          ]
        },
        {
          "name": "stderr",
          "output_type": "stream",
          "text": [
            " 36%|███▌      | 2000/5581 [02:45<04:50, 12.31it/s]Setting `pad_token_id` to `eos_token_id`:5 for open-end generation.\n"
          ]
        },
        {
          "name": "stdout",
          "output_type": "stream",
          "text": [
            "\n",
            "Batch 2000 of 5581. Loss:1.5510891675949097.\n"
          ]
        },
        {
          "name": "stderr",
          "output_type": "stream",
          "text": [
            "\r 36%|███▌      | 2002/5581 [02:45<06:52,  8.67it/s]"
          ]
        },
        {
          "name": "stdout",
          "output_type": "stream",
          "text": [
            "\n",
            "\n",
            "Example input:\n",
            "چنین گفت قیصر که من زین سپس\n",
            "Example output:\n",
            "چنین گفت قیصر که من زین سپس   ,    نه بود سود کس او کس و\n",
            "\n",
            "\n"
          ]
        },
        {
          "name": "stderr",
          "output_type": "stream",
          "text": [
            " 54%|█████▍    | 3000/5581 [04:08<03:29, 12.31it/s]Setting `pad_token_id` to `eos_token_id`:5 for open-end generation.\n"
          ]
        },
        {
          "name": "stdout",
          "output_type": "stream",
          "text": [
            "\n",
            "Batch 3000 of 5581. Loss:1.4872689247131348.\n"
          ]
        },
        {
          "name": "stderr",
          "output_type": "stream",
          "text": [
            "\r 54%|█████▍    | 3002/5581 [04:08<04:57,  8.67it/s]"
          ]
        },
        {
          "name": "stdout",
          "output_type": "stream",
          "text": [
            "\n",
            "\n",
            "Example input:\n",
            "بر اسبش ببردند نزدیک شاه\n",
            "Example output:\n",
            "بر اسبش ببردند نزدیک شاه   ,    راه بود بر را ماه خواه\n",
            "\n",
            "\n"
          ]
        },
        {
          "name": "stderr",
          "output_type": "stream",
          "text": [
            " 72%|███████▏  | 4000/5581 [05:31<02:15, 11.63it/s]Setting `pad_token_id` to `eos_token_id`:5 for open-end generation.\n"
          ]
        },
        {
          "name": "stdout",
          "output_type": "stream",
          "text": [
            "\n",
            "Batch 4000 of 5581. Loss:1.4436804056167603.\n"
          ]
        },
        {
          "name": "stderr",
          "output_type": "stream",
          "text": [
            "\r 72%|███████▏  | 4002/5581 [05:31<03:43,  7.06it/s]"
          ]
        },
        {
          "name": "stdout",
          "output_type": "stream",
          "text": [
            "\n",
            "\n",
            "Example input:\n",
            "اگر شاه بیند پسند آیدش\n",
            "Example output:\n",
            "اگر شاه بیند پسند آیدش   ,   ش بوداز زدیانشش مغزش\n",
            "\n",
            "\n"
          ]
        },
        {
          "name": "stderr",
          "output_type": "stream",
          "text": [
            " 90%|████████▉ | 5000/5581 [06:54<00:49, 11.82it/s]Setting `pad_token_id` to `eos_token_id`:5 for open-end generation.\n"
          ]
        },
        {
          "name": "stdout",
          "output_type": "stream",
          "text": [
            "\n",
            "Batch 5000 of 5581. Loss:1.334837794303894.\n"
          ]
        },
        {
          "name": "stderr",
          "output_type": "stream",
          "text": [
            "\r 90%|████████▉ | 5002/5581 [06:54<01:14,  7.78it/s]"
          ]
        },
        {
          "name": "stdout",
          "output_type": "stream",
          "text": [
            "\n",
            "\n",
            "Example input:\n",
            "بگیر و ببر زنده بردارکن\n",
            "Example output:\n",
            "بگیر و ببر زنده بردارکن   ,    رای بود را توکن ماکن فرمان\n",
            "\n",
            "\n"
          ]
        },
        {
          "name": "stderr",
          "output_type": "stream",
          "text": [
            "100%|██████████| 5581/5581 [07:42<00:00, 12.06it/s]\n"
          ]
        },
        {
          "name": "stdout",
          "output_type": "stream",
          "text": [
            "\n",
            "Epoch: 11, Training Loss: 1.5058968619961952.\n",
            "\n"
          ]
        },
        {
          "name": "stderr",
          "output_type": "stream",
          "text": [
            "100%|██████████| 621/621 [00:21<00:00, 28.29it/s]\n"
          ]
        },
        {
          "name": "stdout",
          "output_type": "stream",
          "text": [
            "\n",
            "Epoch: 11, Validation Loss: 3.2223033359853157.\n",
            "\n",
            "Beginning epoch 12 of 15\n"
          ]
        },
        {
          "name": "stderr",
          "output_type": "stream",
          "text": [
            " 18%|█▊        | 1000/5581 [01:22<06:14, 12.22it/s]Setting `pad_token_id` to `eos_token_id`:5 for open-end generation.\n"
          ]
        },
        {
          "name": "stdout",
          "output_type": "stream",
          "text": [
            "\n",
            "Batch 1000 of 5581. Loss:1.3836719989776611.\n"
          ]
        },
        {
          "name": "stderr",
          "output_type": "stream",
          "text": [
            "\r 18%|█▊        | 1002/5581 [01:23<08:54,  8.56it/s]"
          ]
        },
        {
          "name": "stdout",
          "output_type": "stream",
          "text": [
            "\n",
            "\n",
            "Example input:\n",
            "نخستین یکی گوهر آمد به چنگ\n",
            "Example output:\n",
            "نخستین یکی گوهر آمد به چنگ   ,    درنگ تو شکارسار طوسزد بلور\n",
            "\n",
            "\n"
          ]
        },
        {
          "name": "stderr",
          "output_type": "stream",
          "text": [
            " 36%|███▌      | 2000/5581 [02:45<04:52, 12.24it/s]Setting `pad_token_id` to `eos_token_id`:5 for open-end generation.\n"
          ]
        },
        {
          "name": "stdout",
          "output_type": "stream",
          "text": [
            "\n",
            "Batch 2000 of 5581. Loss:1.323594093322754.\n"
          ]
        },
        {
          "name": "stderr",
          "output_type": "stream",
          "text": [
            "\r 36%|███▌      | 2002/5581 [02:46<07:06,  8.39it/s]"
          ]
        },
        {
          "name": "stdout",
          "output_type": "stream",
          "text": [
            "\n",
            "\n",
            "Example input:\n",
            "همان سرخه نامور کشته شد\n",
            "Example output:\n",
            "همان سرخه نامور کشته شد   ,    شد شد بود سود زاریست شد آمد آمد شد\n",
            "\n",
            "\n"
          ]
        },
        {
          "name": "stderr",
          "output_type": "stream",
          "text": [
            " 54%|█████▍    | 3000/5581 [04:08<03:30, 12.25it/s]Setting `pad_token_id` to `eos_token_id`:5 for open-end generation.\n"
          ]
        },
        {
          "name": "stdout",
          "output_type": "stream",
          "text": [
            "\n",
            "Batch 3000 of 5581. Loss:1.4684706926345825.\n"
          ]
        },
        {
          "name": "stderr",
          "output_type": "stream",
          "text": [
            "\r 54%|█████▍    | 3002/5581 [04:09<05:06,  8.41it/s]"
          ]
        },
        {
          "name": "stdout",
          "output_type": "stream",
          "text": [
            "\n",
            "\n",
            "Example input:\n",
            "جهان را جهاندار محمود باد\n",
            "Example output:\n",
            "جهان را جهاندار محمود باد   ,   نده بود تو راند باد داد\n",
            "\n",
            "\n"
          ]
        },
        {
          "name": "stderr",
          "output_type": "stream",
          "text": [
            " 72%|███████▏  | 4000/5581 [05:31<02:15, 11.66it/s]Setting `pad_token_id` to `eos_token_id`:5 for open-end generation.\n"
          ]
        },
        {
          "name": "stdout",
          "output_type": "stream",
          "text": [
            "\n",
            "Batch 4000 of 5581. Loss:1.4393949508666992.\n"
          ]
        },
        {
          "name": "stderr",
          "output_type": "stream",
          "text": [
            "\r 72%|███████▏  | 4002/5581 [05:32<03:28,  7.57it/s]"
          ]
        },
        {
          "name": "stdout",
          "output_type": "stream",
          "text": [
            "\n",
            "\n",
            "Example input:\n",
            "چو پیغام خسرو شنید آن سپاه\n",
            "Example output:\n",
            "چو پیغام خسرو شنید آن سپاه   ,    گاه راه تو راید بدر شاه بن\n",
            "\n",
            "\n"
          ]
        },
        {
          "name": "stderr",
          "output_type": "stream",
          "text": [
            " 90%|████████▉ | 5000/5581 [06:54<00:47, 12.27it/s]Setting `pad_token_id` to `eos_token_id`:5 for open-end generation.\n"
          ]
        },
        {
          "name": "stdout",
          "output_type": "stream",
          "text": [
            "\n",
            "Batch 5000 of 5581. Loss:1.5583596229553223.\n"
          ]
        },
        {
          "name": "stderr",
          "output_type": "stream",
          "text": [
            "\r 90%|████████▉ | 5002/5581 [06:55<01:15,  7.65it/s]"
          ]
        },
        {
          "name": "stdout",
          "output_type": "stream",
          "text": [
            "\n",
            "\n",
            "Example input:\n",
            "چو بر شاه بر شد سپاه انجمن\n",
            "Example output:\n",
            "چو بر شاه بر شد سپاه انجمن   ,   من بود راسارن وت ز به\n",
            "\n",
            "\n"
          ]
        },
        {
          "name": "stderr",
          "output_type": "stream",
          "text": [
            "100%|██████████| 5581/5581 [07:43<00:00, 12.04it/s]\n"
          ]
        },
        {
          "name": "stdout",
          "output_type": "stream",
          "text": [
            "\n",
            "Epoch: 12, Training Loss: 1.4120242189621972.\n",
            "\n"
          ]
        },
        {
          "name": "stderr",
          "output_type": "stream",
          "text": [
            "100%|██████████| 621/621 [00:21<00:00, 28.31it/s]\n"
          ]
        },
        {
          "name": "stdout",
          "output_type": "stream",
          "text": [
            "\n",
            "Epoch: 12, Validation Loss: 3.3841945069231656.\n",
            "\n",
            "Beginning epoch 13 of 15\n"
          ]
        },
        {
          "name": "stderr",
          "output_type": "stream",
          "text": [
            " 18%|█▊        | 1000/5581 [01:22<06:12, 12.28it/s]Setting `pad_token_id` to `eos_token_id`:5 for open-end generation.\n"
          ]
        },
        {
          "name": "stdout",
          "output_type": "stream",
          "text": [
            "\n",
            "Batch 1000 of 5581. Loss:1.1221565008163452.\n"
          ]
        },
        {
          "name": "stderr",
          "output_type": "stream",
          "text": [
            "\r 18%|█▊        | 1002/5581 [01:23<09:01,  8.46it/s]"
          ]
        },
        {
          "name": "stdout",
          "output_type": "stream",
          "text": [
            "\n",
            "\n",
            "Example input:\n",
            "تو پیروزی ار پیشدستی کنی\n",
            "Example output:\n",
            "تو پیروزی ار پیشدستی کنی   ,   گنی تویمسارستست تست تست\n",
            "\n",
            "\n"
          ]
        },
        {
          "name": "stderr",
          "output_type": "stream",
          "text": [
            " 36%|███▌      | 2000/5581 [02:45<04:51, 12.30it/s]Setting `pad_token_id` to `eos_token_id`:5 for open-end generation.\n"
          ]
        },
        {
          "name": "stdout",
          "output_type": "stream",
          "text": [
            "\n",
            "Batch 2000 of 5581. Loss:1.3132898807525635.\n"
          ]
        },
        {
          "name": "stderr",
          "output_type": "stream",
          "text": [
            "\r 36%|███▌      | 2002/5581 [02:46<06:52,  8.68it/s]"
          ]
        },
        {
          "name": "stdout",
          "output_type": "stream",
          "text": [
            "\n",
            "\n",
            "Example input:\n",
            "که مهمان چو سیر آید از میزبان\n",
            "Example output:\n",
            "که مهمان چو سیر آید از میزبان   ,   بان بودازساربان شادمانبانبان زمان\n",
            "\n",
            "\n"
          ]
        },
        {
          "name": "stderr",
          "output_type": "stream",
          "text": [
            " 54%|█████▍    | 3000/5581 [04:08<03:39, 11.73it/s]Setting `pad_token_id` to `eos_token_id`:5 for open-end generation.\n"
          ]
        },
        {
          "name": "stdout",
          "output_type": "stream",
          "text": [
            "\n",
            "Batch 3000 of 5581. Loss:1.4076955318450928.\n"
          ]
        },
        {
          "name": "stderr",
          "output_type": "stream",
          "text": [
            "\r 54%|█████▍    | 3002/5581 [04:09<05:07,  8.39it/s]"
          ]
        },
        {
          "name": "stdout",
          "output_type": "stream",
          "text": [
            "\n",
            "\n",
            "Example input:\n",
            "غمی گشت پس نامور زال گفت\n",
            "Example output:\n",
            "غمی گشت پس نامور زال گفت   ,    جفت تو رایم براند جفت\n",
            "\n",
            "\n"
          ]
        },
        {
          "name": "stderr",
          "output_type": "stream",
          "text": [
            " 72%|███████▏  | 4000/5581 [05:31<02:13, 11.82it/s]Setting `pad_token_id` to `eos_token_id`:5 for open-end generation.\n"
          ]
        },
        {
          "name": "stdout",
          "output_type": "stream",
          "text": [
            "\n",
            "Batch 4000 of 5581. Loss:1.4322580099105835.\n"
          ]
        },
        {
          "name": "stderr",
          "output_type": "stream",
          "text": [
            "\r 72%|███████▏  | 4002/5581 [05:32<03:31,  7.48it/s]"
          ]
        },
        {
          "name": "stdout",
          "output_type": "stream",
          "text": [
            "\n",
            "\n",
            "Example input:\n",
            "برو آفرین کرد گشتاسپ و گفت\n",
            "Example output:\n",
            "برو آفرین کرد گشتاسپ و گفت   ,    و تو بود گشتست بر او اوالت\n",
            "\n",
            "\n"
          ]
        },
        {
          "name": "stderr",
          "output_type": "stream",
          "text": [
            " 90%|████████▉ | 5000/5581 [06:54<00:47, 12.30it/s]Setting `pad_token_id` to `eos_token_id`:5 for open-end generation.\n"
          ]
        },
        {
          "name": "stdout",
          "output_type": "stream",
          "text": [
            "\n",
            "Batch 5000 of 5581. Loss:1.578171730041504.\n"
          ]
        },
        {
          "name": "stderr",
          "output_type": "stream",
          "text": [
            "\r 90%|████████▉ | 5002/5581 [06:54<01:07,  8.54it/s]"
          ]
        },
        {
          "name": "stdout",
          "output_type": "stream",
          "text": [
            "\n",
            "\n",
            "Example input:\n",
            "به پیش کسان سیم از بهر لاف\n",
            "Example output:\n",
            "به پیش کسان سیم از بهر لاف   ,   ند کمینازبازباید خوشی خوشی\n",
            "\n",
            "\n"
          ]
        },
        {
          "name": "stderr",
          "output_type": "stream",
          "text": [
            "100%|██████████| 5581/5581 [07:42<00:00, 12.05it/s]\n"
          ]
        },
        {
          "name": "stdout",
          "output_type": "stream",
          "text": [
            "\n",
            "Epoch: 13, Training Loss: 1.3268259126446704.\n",
            "\n"
          ]
        },
        {
          "name": "stderr",
          "output_type": "stream",
          "text": [
            "100%|██████████| 621/621 [00:22<00:00, 28.13it/s]\n"
          ]
        },
        {
          "name": "stdout",
          "output_type": "stream",
          "text": [
            "\n",
            "Epoch: 13, Validation Loss: 3.500634917890392.\n",
            "\n",
            "Beginning epoch 14 of 15\n"
          ]
        },
        {
          "name": "stderr",
          "output_type": "stream",
          "text": [
            " 18%|█▊        | 1000/5581 [01:22<06:12, 12.28it/s]Setting `pad_token_id` to `eos_token_id`:5 for open-end generation.\n"
          ]
        },
        {
          "name": "stdout",
          "output_type": "stream",
          "text": [
            "\n",
            "Batch 1000 of 5581. Loss:1.4923198223114014.\n"
          ]
        },
        {
          "name": "stderr",
          "output_type": "stream",
          "text": [
            "\r 18%|█▊        | 1002/5581 [01:23<09:08,  8.35it/s]"
          ]
        },
        {
          "name": "stdout",
          "output_type": "stream",
          "text": [
            "\n",
            "\n",
            "Example input:\n",
            "سپاه الانی شدند انجمن\n",
            "Example output:\n",
            "سپاه الانی شدند انجمن   ,    زنان را سر بنها بن بن\n",
            "\n",
            "\n"
          ]
        },
        {
          "name": "stderr",
          "output_type": "stream",
          "text": [
            " 36%|███▌      | 2000/5581 [02:45<04:50, 12.32it/s]Setting `pad_token_id` to `eos_token_id`:5 for open-end generation.\n"
          ]
        },
        {
          "name": "stdout",
          "output_type": "stream",
          "text": [
            "\n",
            "Batch 2000 of 5581. Loss:1.2870030403137207.\n"
          ]
        },
        {
          "name": "stderr",
          "output_type": "stream",
          "text": [
            "\r 36%|███▌      | 2002/5581 [02:46<06:46,  8.81it/s]"
          ]
        },
        {
          "name": "stdout",
          "output_type": "stream",
          "text": [
            "\n",
            "\n",
            "Example input:\n",
            "که او از پی واژ شد زشت گوی\n",
            "Example output:\n",
            "که او از پی واژ شد زشت گوی   ,   ان کمینشابستست شد شد\n",
            "\n",
            "\n"
          ]
        },
        {
          "name": "stderr",
          "output_type": "stream",
          "text": [
            " 54%|█████▍    | 3000/5581 [04:08<03:40, 11.73it/s]Setting `pad_token_id` to `eos_token_id`:5 for open-end generation.\n"
          ]
        },
        {
          "name": "stdout",
          "output_type": "stream",
          "text": [
            "\n",
            "Batch 3000 of 5581. Loss:1.1996793746948242.\n"
          ]
        },
        {
          "name": "stderr",
          "output_type": "stream",
          "text": [
            "\r 54%|█████▍    | 3002/5581 [04:09<05:33,  7.72it/s]"
          ]
        },
        {
          "name": "stdout",
          "output_type": "stream",
          "text": [
            "\n",
            "\n",
            "Example input:\n",
            "به نیکی گراییم و فرمان کنیم\n",
            "Example output:\n",
            "به نیکی گراییم و فرمان کنیم   ,    کنیم بوداز را کنید ماه\n",
            "\n",
            "\n"
          ]
        },
        {
          "name": "stderr",
          "output_type": "stream",
          "text": [
            " 72%|███████▏  | 4000/5581 [05:31<02:09, 12.19it/s]Setting `pad_token_id` to `eos_token_id`:5 for open-end generation.\n"
          ]
        },
        {
          "name": "stdout",
          "output_type": "stream",
          "text": [
            "\n",
            "Batch 4000 of 5581. Loss:1.579818606376648.\n"
          ]
        },
        {
          "name": "stderr",
          "output_type": "stream",
          "text": [
            "\r 72%|███████▏  | 4002/5581 [05:32<03:24,  7.70it/s]"
          ]
        },
        {
          "name": "stdout",
          "output_type": "stream",
          "text": [
            "\n",
            "\n",
            "Example input:\n",
            "وگرنه فرخ زاد چون پیل مست\n",
            "Example output:\n",
            "وگرنه فرخ زاد چون پیل مست   ,    بدست هست هست دستاز بدست دست بدست بدست\n",
            "\n",
            "\n"
          ]
        },
        {
          "name": "stderr",
          "output_type": "stream",
          "text": [
            " 90%|████████▉ | 5000/5581 [06:54<00:47, 12.23it/s]Setting `pad_token_id` to `eos_token_id`:5 for open-end generation.\n"
          ]
        },
        {
          "name": "stdout",
          "output_type": "stream",
          "text": [
            "\n",
            "Batch 5000 of 5581. Loss:1.3184657096862793.\n"
          ]
        },
        {
          "name": "stderr",
          "output_type": "stream",
          "text": [
            "\r 90%|████████▉ | 5002/5581 [06:55<01:05,  8.83it/s]"
          ]
        },
        {
          "name": "stdout",
          "output_type": "stream",
          "text": [
            "\n",
            "\n",
            "Example input:\n",
            "رخی لعل دیدند و کافور موی\n",
            "Example output:\n",
            "رخی لعل دیدند و کافور موی   ,    بوی بوداز مشک بر حریر\n",
            "\n",
            "\n"
          ]
        },
        {
          "name": "stderr",
          "output_type": "stream",
          "text": [
            "100%|██████████| 5581/5581 [07:43<00:00, 12.05it/s]\n"
          ]
        },
        {
          "name": "stdout",
          "output_type": "stream",
          "text": [
            "\n",
            "Epoch: 14, Training Loss: 1.2538675241542105.\n",
            "\n"
          ]
        },
        {
          "name": "stderr",
          "output_type": "stream",
          "text": [
            "100%|██████████| 621/621 [00:22<00:00, 27.88it/s]\n"
          ]
        },
        {
          "name": "stdout",
          "output_type": "stream",
          "text": [
            "\n",
            "Epoch: 14, Validation Loss: 3.6226387688119246.\n",
            "\n",
            "Beginning epoch 15 of 15\n"
          ]
        },
        {
          "name": "stderr",
          "output_type": "stream",
          "text": [
            " 18%|█▊        | 1000/5581 [01:22<06:15, 12.21it/s]Setting `pad_token_id` to `eos_token_id`:5 for open-end generation.\n"
          ]
        },
        {
          "name": "stdout",
          "output_type": "stream",
          "text": [
            "\n",
            "Batch 1000 of 5581. Loss:1.1504133939743042.\n"
          ]
        },
        {
          "name": "stderr",
          "output_type": "stream",
          "text": [
            "\r 18%|█▊        | 1002/5581 [01:23<09:08,  8.35it/s]"
          ]
        },
        {
          "name": "stdout",
          "output_type": "stream",
          "text": [
            "\n",
            "\n",
            "Example input:\n",
            "ازان پس چنین گفت بهرام را\n",
            "Example output:\n",
            "ازان پس چنین گفت بهرام را   ,    را تو کهید را را در خوان را\n",
            "\n",
            "\n"
          ]
        },
        {
          "name": "stderr",
          "output_type": "stream",
          "text": [
            " 36%|███▌      | 2000/5581 [02:46<04:58, 12.01it/s]Setting `pad_token_id` to `eos_token_id`:5 for open-end generation.\n"
          ]
        },
        {
          "name": "stdout",
          "output_type": "stream",
          "text": [
            "\n",
            "Batch 2000 of 5581. Loss:1.3867462873458862.\n",
            "\n",
            "\n",
            "Example input:\n",
            "پر از بیم بودی گنهکار از وی\n",
            "Example output:\n",
            "پر از بیم بودی گنهکار از وی   ,    بود را که تازی شیرین در گریز\n",
            "\n",
            "\n"
          ]
        },
        {
          "name": "stderr",
          "output_type": "stream",
          "text": [
            " 54%|█████▍    | 3000/5581 [04:08<03:39, 11.74it/s]Setting `pad_token_id` to `eos_token_id`:5 for open-end generation.\n"
          ]
        },
        {
          "name": "stdout",
          "output_type": "stream",
          "text": [
            "\n",
            "Batch 3000 of 5581. Loss:0.9918769001960754.\n"
          ]
        },
        {
          "name": "stderr",
          "output_type": "stream",
          "text": [
            "\r 54%|█████▍    | 3002/5581 [04:09<05:42,  7.52it/s]"
          ]
        },
        {
          "name": "stdout",
          "output_type": "stream",
          "text": [
            "\n",
            "\n",
            "Example input:\n",
            "ز بس کشته و خسته بر دشت جنگ\n",
            "Example output:\n",
            "ز بس کشته و خسته بر دشت جنگ   ,    تنگ را سر بری پیل\n",
            "\n",
            "\n"
          ]
        },
        {
          "name": "stderr",
          "output_type": "stream",
          "text": [
            " 72%|███████▏  | 4000/5581 [05:31<02:09, 12.19it/s]Setting `pad_token_id` to `eos_token_id`:5 for open-end generation.\n"
          ]
        },
        {
          "name": "stdout",
          "output_type": "stream",
          "text": [
            "\n",
            "Batch 4000 of 5581. Loss:1.290419101715088.\n"
          ]
        },
        {
          "name": "stderr",
          "output_type": "stream",
          "text": [
            "\r 72%|███████▏  | 4002/5581 [05:32<03:10,  8.28it/s]"
          ]
        },
        {
          "name": "stdout",
          "output_type": "stream",
          "text": [
            "\n",
            "\n",
            "Example input:\n",
            "بدان انجمن تو زبان منی\n",
            "Example output:\n",
            "بدان انجمن تو زبان منی   ,   جمانند رایدنه منیفرست زمان\n",
            "\n",
            "\n"
          ]
        },
        {
          "name": "stderr",
          "output_type": "stream",
          "text": [
            " 90%|████████▉ | 5000/5581 [06:55<00:47, 12.32it/s]Setting `pad_token_id` to `eos_token_id`:5 for open-end generation.\n"
          ]
        },
        {
          "name": "stdout",
          "output_type": "stream",
          "text": [
            "\n",
            "Batch 5000 of 5581. Loss:1.2099497318267822.\n"
          ]
        },
        {
          "name": "stderr",
          "output_type": "stream",
          "text": [
            "\r 90%|████████▉ | 5002/5581 [06:55<01:09,  8.37it/s]"
          ]
        },
        {
          "name": "stdout",
          "output_type": "stream",
          "text": [
            "\n",
            "\n",
            "Example input:\n",
            "برآمد چنان خسته زان آبگیر\n",
            "Example output:\n",
            "برآمد چنان خسته زان آبگیر   ,    تیر بود هست هستسارزد بود بود\n",
            "\n",
            "\n"
          ]
        },
        {
          "name": "stderr",
          "output_type": "stream",
          "text": [
            "100%|██████████| 5581/5581 [07:43<00:00, 12.04it/s]\n"
          ]
        },
        {
          "name": "stdout",
          "output_type": "stream",
          "text": [
            "\n",
            "Epoch: 15, Training Loss: 1.1958876014652913.\n",
            "\n"
          ]
        },
        {
          "name": "stderr",
          "output_type": "stream",
          "text": [
            "100%|██████████| 621/621 [00:22<00:00, 27.62it/s]"
          ]
        },
        {
          "name": "stdout",
          "output_type": "stream",
          "text": [
            "\n",
            "Epoch: 15, Validation Loss: 3.7166837304110687.\n",
            "\n"
          ]
        },
        {
          "name": "stderr",
          "output_type": "stream",
          "text": [
            "\n"
          ]
        }
      ],
      "source": [
        "training_stats = []\n",
        "for epoch_i in range(epochs):\n",
        "    print(f'Beginning epoch {epoch_i + 1} of {epochs}')\n",
        "\n",
        "    total_train_loss = 0\n",
        "    ferdosi.train()\n",
        "    for step, (input,target,mask) in tqdm(enumerate(train_dataloader), total=len(train_dataloader), position=0):\n",
        "        b_masks = torch.ones_like(b_input_ids).to(device)\n",
        "        ferdosi.zero_grad()\n",
        "\n",
        "        outputs = ferdosi(input.to(device), labels=target.to(device), attention_mask=b_masks, token_type_ids=None)\n",
        "\n",
        "        loss = outputs[0]\n",
        "        batch_loss = loss.item()\n",
        "        total_train_loss += batch_loss\n",
        "\n",
        "        # Get sample every 'sample_every' batches.\n",
        "        if step % sample_every == 0 and not step == 0:\n",
        "\n",
        "            print()\n",
        "            print(f'Batch {step} of {len(train_dataloader)}. Loss:{batch_loss}.')\n",
        "\n",
        "            ferdosi.eval()\n",
        "\n",
        "            sample_poet = inputs[np.random.randint(0, len(inputs))]\n",
        "            sample_input = f\"<s>{sample_poet}</s>\"\n",
        "            sample_input_ids = torch.tensor(tokenizer([sample_input])[\"input_ids\"])\n",
        "            sample_input_ids = sample_input_ids.to(device)\n",
        "\n",
        "            sample_outputs = ferdosi.generate(\n",
        "                input_ids=sample_input_ids.to(device),\n",
        "                attention_mask=torch.ones_like(sample_input_ids).to(device),\n",
        "                # do_sample=True,\n",
        "                top_k=50,\n",
        "                max_length=25,\n",
        "                # top_p=0.95,\n",
        "                num_beams=5,\n",
        "                no_repeat_ngram_size=2,\n",
        "                num_return_sequences=1\n",
        "            )\n",
        "\n",
        "            for i, sample_output in enumerate(sample_outputs):\n",
        "                gen_sample_output = tokenizer.decode(sample_output, skip_special_tokens=False)\n",
        "                gen_sample_output = gen_sample_output.replace(\"<|startoftext|>\", \"\\n\")\n",
        "                gen_sample_output = gen_sample_output.replace(\"<s>\", \"\")\n",
        "                gen_sample_output = gen_sample_output.replace(\"</s>\", \"\")\n",
        "                gen_sample_output = gen_sample_output.replace(\"<sep>\", \"\\n\")\n",
        "                gen_sample_output = gen_sample_output.replace(\"<pad>\", \"\")\n",
        "                gen_sample_output = gen_sample_output.replace(\"\\u200c\", \"\")\n",
        "                gen_sample_output = gen_sample_output.replace(\"«\", \"\") \n",
        "                gen_sample_output = gen_sample_output.replace(\"»\", \"\") \n",
        " \n",
        "                print('\\n')\n",
        "                print_poems(sample_poet,gen_sample_output)\n",
        "                print('\\n')\n",
        "\n",
        "            ferdosi.train()\n",
        "\n",
        "        loss.backward()\n",
        "        optimizer.step()\n",
        "        scheduler.step()\n",
        "\n",
        "    # Calculate the average loss over all of the batches.\n",
        "    avg_train_loss = total_train_loss / len(train_dataloader)\n",
        "\n",
        "    print()\n",
        "    print(f'Epoch: {epoch_i+1}, Training Loss: {avg_train_loss}.')\n",
        "    print()\n",
        "    ferdosi.eval()\n",
        "\n",
        "    total_eval_loss = 0\n",
        "    nb_eval_steps = 0\n",
        "\n",
        "    # Evaluate data for one epoch\n",
        "    for input,target,mask in tqdm(validation_dataloader, total=len(validation_dataloader), position=0):\n",
        "\n",
        "        b_input_ids = input.to(device)\n",
        "        b_labels = target.to(device)\n",
        "        b_masks = torch.ones_like(b_input_ids).to(device)\n",
        "\n",
        "        outputs = ferdosi(b_input_ids, labels=b_labels, attention_mask=b_masks, token_type_ids=None)\n",
        "\n",
        "        with torch.no_grad():\n",
        "            outputs = ferdosi(b_input_ids, attention_mask=b_masks, labels=b_labels)\n",
        "            loss = outputs[0]\n",
        "\n",
        "        batch_loss = loss.item()\n",
        "        total_eval_loss += batch_loss\n",
        "\n",
        "    avg_val_loss = total_eval_loss / len(validation_dataloader)\n",
        "\n",
        "    print()\n",
        "    print(f'Epoch: {epoch_i+1}, Validation Loss: {avg_val_loss}.')\n",
        "    print()\n",
        "\n",
        "    # Record all statistics from this epoch.\n",
        "    training_stats.append(\n",
        "        {\n",
        "            'epoch': epoch_i + 1,\n",
        "            'Training Loss': avg_train_loss,\n",
        "            'Valid. Loss': avg_val_loss,\n",
        "        }\n",
        "    )\n"
      ]
    },
    {
      "cell_type": "markdown",
      "metadata": {
        "id": "dg0rr1jBbrl1"
      },
      "source": [
        "Continue training:"
      ]
    },
    {
      "cell_type": "code",
      "execution_count": null,
      "metadata": {
        "colab": {
          "base_uri": "https://localhost:8080/"
        },
        "id": "pVv7WgDubsrC",
        "outputId": "1dde2f7e-3a02-4c30-e102-b31f06c58304"
      },
      "outputs": [
        {
          "name": "stdout",
          "output_type": "stream",
          "text": [
            "Beginning epoch 1 of 20\n"
          ]
        },
        {
          "name": "stderr",
          "output_type": "stream",
          "text": [
            " 18%|█▊        | 1000/5581 [01:23<06:25, 11.88it/s]Setting `pad_token_id` to `eos_token_id`:5 for open-end generation.\n"
          ]
        },
        {
          "name": "stdout",
          "output_type": "stream",
          "text": [
            "\n",
            "Batch 1000 of 5581. Loss:2.761352300643921.\n"
          ]
        },
        {
          "name": "stderr",
          "output_type": "stream",
          "text": [
            "\r 18%|█▊        | 1002/5581 [01:24<14:14,  5.36it/s]"
          ]
        },
        {
          "name": "stdout",
          "output_type": "stream",
          "text": [
            "\n",
            "\n",
            "Example input:\n",
            "همین داشتم چشم زان بد نهان\n",
            "Example output:\n",
            "همین داشتم چشم زان بد نهان   ,   ویدیودیودیوودیوویدیو وو\n",
            "\n",
            "\n"
          ]
        },
        {
          "name": "stderr",
          "output_type": "stream",
          "text": [
            " 36%|███▌      | 2000/5581 [02:48<05:06, 11.70it/s]Setting `pad_token_id` to `eos_token_id`:5 for open-end generation.\n"
          ]
        },
        {
          "name": "stdout",
          "output_type": "stream",
          "text": [
            "\n",
            "Batch 2000 of 5581. Loss:2.5462119579315186.\n"
          ]
        },
        {
          "name": "stderr",
          "output_type": "stream",
          "text": [
            "\r 36%|███▌      | 2002/5581 [02:49<07:44,  7.70it/s]"
          ]
        },
        {
          "name": "stdout",
          "output_type": "stream",
          "text": [
            "\n",
            "\n",
            "Example input:\n",
            "بدو گفت ضحاک چندین منال\n",
            "Example output:\n",
            "بدو گفت ضحاک چندین منال   ,   ندمنی روم روم شام\n",
            "\n",
            "\n"
          ]
        },
        {
          "name": "stderr",
          "output_type": "stream",
          "text": [
            " 54%|█████▎    | 2999/5581 [04:13<03:46, 11.38it/s]Setting `pad_token_id` to `eos_token_id`:5 for open-end generation.\n"
          ]
        },
        {
          "name": "stdout",
          "output_type": "stream",
          "text": [
            "\n",
            "Batch 3000 of 5581. Loss:2.722905158996582.\n"
          ]
        },
        {
          "name": "stderr",
          "output_type": "stream",
          "text": [
            "\r 54%|█████▍    | 3001/5581 [04:13<05:45,  7.46it/s]"
          ]
        },
        {
          "name": "stdout",
          "output_type": "stream",
          "text": [
            "\n",
            "\n",
            "Example input:\n",
            "چو آیی به پیش تو آرم همه\n",
            "Example output:\n",
            "چو آیی به پیش تو آرم همه   ,   ند باد درداد باد باداد داد\n",
            "\n",
            "\n"
          ]
        },
        {
          "name": "stderr",
          "output_type": "stream",
          "text": [
            " 72%|███████▏  | 3999/5581 [05:37<02:14, 11.78it/s]Setting `pad_token_id` to `eos_token_id`:5 for open-end generation.\n"
          ]
        },
        {
          "name": "stdout",
          "output_type": "stream",
          "text": [
            "\n",
            "Batch 4000 of 5581. Loss:2.5751192569732666.\n"
          ]
        },
        {
          "name": "stderr",
          "output_type": "stream",
          "text": [
            "\r 72%|███████▏  | 4001/5581 [05:38<03:24,  7.74it/s]"
          ]
        },
        {
          "name": "stdout",
          "output_type": "stream",
          "text": [
            "\n",
            "\n",
            "Example input:\n",
            "وگر هیچ سازد کسی با تو جنگ\n",
            "Example output:\n",
            "وگر هیچ سازد کسی با تو جنگ   ,   نگوند کلاه کلاه کلاه\n",
            "\n",
            "\n"
          ]
        },
        {
          "name": "stderr",
          "output_type": "stream",
          "text": [
            " 90%|████████▉ | 4999/5581 [07:02<00:48, 12.09it/s]Setting `pad_token_id` to `eos_token_id`:5 for open-end generation.\n"
          ]
        },
        {
          "name": "stdout",
          "output_type": "stream",
          "text": [
            "\n",
            "Batch 5000 of 5581. Loss:2.4755568504333496.\n"
          ]
        },
        {
          "name": "stderr",
          "output_type": "stream",
          "text": [
            " 90%|████████▉ | 5003/5581 [07:02<01:01,  9.34it/s]"
          ]
        },
        {
          "name": "stdout",
          "output_type": "stream",
          "text": [
            "\n",
            "\n",
            "Example input:\n",
            "به شبگیر هرمزد خرداد ماه\n",
            "Example output:\n",
            "به شبگیر هرمزد خرداد ماه   ,    گاه کلاهگاه راه تاج و تاج تاج تخت تاج\n",
            "\n",
            "\n"
          ]
        },
        {
          "name": "stderr",
          "output_type": "stream",
          "text": [
            "100%|██████████| 5581/5581 [07:51<00:00, 11.84it/s]\n"
          ]
        },
        {
          "name": "stdout",
          "output_type": "stream",
          "text": [
            "\n",
            "Epoch: 1, Training Loss: 2.616658249842909.\n",
            "\n"
          ]
        },
        {
          "name": "stderr",
          "output_type": "stream",
          "text": [
            "100%|██████████| 621/621 [00:22<00:00, 27.93it/s]\n"
          ]
        },
        {
          "name": "stdout",
          "output_type": "stream",
          "text": [
            "\n",
            "Epoch: 1, Validation Loss: 2.525011693413899.\n",
            "\n",
            "Beginning epoch 2 of 20\n"
          ]
        },
        {
          "name": "stderr",
          "output_type": "stream",
          "text": [
            " 18%|█▊        | 1000/5581 [01:24<06:20, 12.04it/s]Setting `pad_token_id` to `eos_token_id`:5 for open-end generation.\n"
          ]
        },
        {
          "name": "stdout",
          "output_type": "stream",
          "text": [
            "\n",
            "Batch 1000 of 5581. Loss:2.641756534576416.\n"
          ]
        },
        {
          "name": "stderr",
          "output_type": "stream",
          "text": [
            "\r 18%|█▊        | 1002/5581 [01:24<08:41,  8.77it/s]"
          ]
        },
        {
          "name": "stdout",
          "output_type": "stream",
          "text": [
            "\n",
            "\n",
            "Example input:\n",
            "دگر گفت چندست با او سپاه\n",
            "Example output:\n",
            "دگر گفت چندست با او سپاه   ,   گاه گاهاز چند و و گاه گاه\n",
            "\n",
            "\n"
          ]
        },
        {
          "name": "stderr",
          "output_type": "stream",
          "text": [
            " 36%|███▌      | 2000/5581 [02:48<04:56, 12.09it/s]Setting `pad_token_id` to `eos_token_id`:5 for open-end generation.\n"
          ]
        },
        {
          "name": "stdout",
          "output_type": "stream",
          "text": [
            "\n",
            "Batch 2000 of 5581. Loss:2.4673726558685303.\n"
          ]
        },
        {
          "name": "stderr",
          "output_type": "stream",
          "text": [
            "\r 36%|███▌      | 2002/5581 [02:48<06:58,  8.55it/s]"
          ]
        },
        {
          "name": "stdout",
          "output_type": "stream",
          "text": [
            "\n",
            "\n",
            "Example input:\n",
            "چو دستان سام اندر آمد به تنگ\n",
            "Example output:\n",
            "چو دستان سام اندر آمد به تنگ   ,    تنگوگ رست گاه کلاه ماه\n",
            "\n",
            "\n"
          ]
        },
        {
          "name": "stderr",
          "output_type": "stream",
          "text": [
            " 54%|█████▍    | 3000/5581 [04:12<03:34, 12.03it/s]Setting `pad_token_id` to `eos_token_id`:5 for open-end generation.\n"
          ]
        },
        {
          "name": "stdout",
          "output_type": "stream",
          "text": [
            "\n",
            "Batch 3000 of 5581. Loss:2.557745933532715.\n"
          ]
        },
        {
          "name": "stderr",
          "output_type": "stream",
          "text": [
            "\r 54%|█████▍    | 3002/5581 [04:13<04:59,  8.62it/s]"
          ]
        },
        {
          "name": "stdout",
          "output_type": "stream",
          "text": [
            "\n",
            "\n",
            "Example input:\n",
            "همه یافتی جنگ خیره مجوی\n",
            "Example output:\n",
            "همه یافتی جنگ خیره مجوی   ,   ویبوگوی گوی روی\n",
            "\n",
            "\n"
          ]
        },
        {
          "name": "stderr",
          "output_type": "stream",
          "text": [
            " 72%|███████▏  | 4000/5581 [05:37<02:11, 12.05it/s]Setting `pad_token_id` to `eos_token_id`:5 for open-end generation.\n"
          ]
        },
        {
          "name": "stdout",
          "output_type": "stream",
          "text": [
            "\n",
            "Batch 4000 of 5581. Loss:2.5282955169677734.\n"
          ]
        },
        {
          "name": "stderr",
          "output_type": "stream",
          "text": [
            "\r 72%|███████▏  | 4002/5581 [05:37<03:04,  8.58it/s]"
          ]
        },
        {
          "name": "stdout",
          "output_type": "stream",
          "text": [
            "\n",
            "\n",
            "Example input:\n",
            "بفرمود پس تاش برداشتند\n",
            "Example output:\n",
            "بفرمود پس تاش برداشتند   ,    رانتران و ران ران\n",
            "\n",
            "\n"
          ]
        },
        {
          "name": "stderr",
          "output_type": "stream",
          "text": [
            " 90%|████████▉ | 5000/5581 [07:01<00:50, 11.49it/s]Setting `pad_token_id` to `eos_token_id`:5 for open-end generation.\n"
          ]
        },
        {
          "name": "stdout",
          "output_type": "stream",
          "text": [
            "\n",
            "Batch 5000 of 5581. Loss:2.365269422531128.\n"
          ]
        },
        {
          "name": "stderr",
          "output_type": "stream",
          "text": [
            "\r 90%|████████▉ | 5002/5581 [07:01<01:19,  7.27it/s]"
          ]
        },
        {
          "name": "stdout",
          "output_type": "stream",
          "text": [
            "\n",
            "\n",
            "Example input:\n",
            "سواری بیامد به کردار گرد\n",
            "Example output:\n",
            "سواری بیامد به کردار گرد   ,    گاه کلاه راه و گاه گاه کلاه راه\n",
            "\n",
            "\n"
          ]
        },
        {
          "name": "stderr",
          "output_type": "stream",
          "text": [
            "100%|██████████| 5581/5581 [07:50<00:00, 11.86it/s]\n"
          ]
        },
        {
          "name": "stdout",
          "output_type": "stream",
          "text": [
            "\n",
            "Epoch: 2, Training Loss: 2.479369555167284.\n",
            "\n"
          ]
        },
        {
          "name": "stderr",
          "output_type": "stream",
          "text": [
            "100%|██████████| 621/621 [00:22<00:00, 27.52it/s]\n"
          ]
        },
        {
          "name": "stdout",
          "output_type": "stream",
          "text": [
            "\n",
            "Epoch: 2, Validation Loss: 2.473659132989708.\n",
            "\n",
            "Beginning epoch 3 of 20\n"
          ]
        },
        {
          "name": "stderr",
          "output_type": "stream",
          "text": [
            " 18%|█▊        | 1000/5581 [01:24<06:33, 11.65it/s]Setting `pad_token_id` to `eos_token_id`:5 for open-end generation.\n"
          ]
        },
        {
          "name": "stdout",
          "output_type": "stream",
          "text": [
            "\n",
            "Batch 1000 of 5581. Loss:2.5625219345092773.\n"
          ]
        },
        {
          "name": "stderr",
          "output_type": "stream",
          "text": [
            "\r 18%|█▊        | 1002/5581 [01:24<10:11,  7.49it/s]"
          ]
        },
        {
          "name": "stdout",
          "output_type": "stream",
          "text": [
            "\n",
            "\n",
            "Example input:\n",
            "یکی باره پیشش به بالای اوی\n",
            "Example output:\n",
            "یکی باره پیشش به بالای اوی   ,    روی خویکید مشک روی اوی اوی\n",
            "\n",
            "\n"
          ]
        },
        {
          "name": "stderr",
          "output_type": "stream",
          "text": [
            " 36%|███▌      | 2000/5581 [02:48<04:54, 12.17it/s]Setting `pad_token_id` to `eos_token_id`:5 for open-end generation.\n"
          ]
        },
        {
          "name": "stdout",
          "output_type": "stream",
          "text": [
            "\n",
            "Batch 2000 of 5581. Loss:2.4519519805908203.\n"
          ]
        },
        {
          "name": "stderr",
          "output_type": "stream",
          "text": [
            "\r 36%|███▌      | 2002/5581 [02:48<07:39,  7.78it/s]"
          ]
        },
        {
          "name": "stdout",
          "output_type": "stream",
          "text": [
            "\n",
            "\n",
            "Example input:\n",
            "ببالید برسان سرو سهی\n",
            "Example output:\n",
            "ببالید برسان سرو سهی   ,   شهی رشک گاهشهشهی\n",
            "\n",
            "\n"
          ]
        },
        {
          "name": "stderr",
          "output_type": "stream",
          "text": [
            " 54%|█████▍    | 3000/5581 [04:12<03:33, 12.06it/s]Setting `pad_token_id` to `eos_token_id`:5 for open-end generation.\n"
          ]
        },
        {
          "name": "stdout",
          "output_type": "stream",
          "text": [
            "\n",
            "Batch 3000 of 5581. Loss:2.254458427429199.\n"
          ]
        },
        {
          "name": "stderr",
          "output_type": "stream",
          "text": [
            "\r 54%|█████▍    | 3002/5581 [04:13<05:05,  8.45it/s]"
          ]
        },
        {
          "name": "stdout",
          "output_type": "stream",
          "text": [
            "\n",
            "\n",
            "Example input:\n",
            "گزیتی نهادند بر یک درم\n",
            "Example output:\n",
            "گزیتی نهادند بر یک درم   ,   مفا رشکموم وهم\n",
            "\n",
            "\n"
          ]
        },
        {
          "name": "stderr",
          "output_type": "stream",
          "text": [
            " 72%|███████▏  | 4000/5581 [05:37<02:11, 12.03it/s]Setting `pad_token_id` to `eos_token_id`:5 for open-end generation.\n"
          ]
        },
        {
          "name": "stdout",
          "output_type": "stream",
          "text": [
            "\n",
            "Batch 4000 of 5581. Loss:2.4582860469818115.\n"
          ]
        },
        {
          "name": "stderr",
          "output_type": "stream",
          "text": [
            "\r 72%|███████▏  | 4002/5581 [05:37<03:06,  8.47it/s]"
          ]
        },
        {
          "name": "stdout",
          "output_type": "stream",
          "text": [
            "\n",
            "\n",
            "Example input:\n",
            "به پوزش به نزدیک موبد شدند\n",
            "Example output:\n",
            "به پوزش به نزدیک موبد شدند   ,    شدند شدندیمیم شویم شویمیم شویم شویم\n",
            "\n",
            "\n"
          ]
        },
        {
          "name": "stderr",
          "output_type": "stream",
          "text": [
            " 90%|████████▉ | 5000/5581 [07:01<00:47, 12.12it/s]Setting `pad_token_id` to `eos_token_id`:5 for open-end generation.\n"
          ]
        },
        {
          "name": "stdout",
          "output_type": "stream",
          "text": [
            "\n",
            "Batch 5000 of 5581. Loss:2.352457284927368.\n"
          ]
        },
        {
          "name": "stderr",
          "output_type": "stream",
          "text": [
            "\r 90%|████████▉ | 5002/5581 [07:02<01:07,  8.60it/s]"
          ]
        },
        {
          "name": "stdout",
          "output_type": "stream",
          "text": [
            "\n",
            "\n",
            "Example input:\n",
            "شود فرخ این جشن و آیین ما\n",
            "Example output:\n",
            "شود فرخ این جشن و آیین ما   ,    ما گاه آمدندیم شویم\n",
            "\n",
            "\n"
          ]
        },
        {
          "name": "stderr",
          "output_type": "stream",
          "text": [
            "100%|██████████| 5581/5581 [07:50<00:00, 11.86it/s]\n"
          ]
        },
        {
          "name": "stdout",
          "output_type": "stream",
          "text": [
            "\n",
            "Epoch: 3, Training Loss: 2.41715840822564.\n",
            "\n"
          ]
        },
        {
          "name": "stderr",
          "output_type": "stream",
          "text": [
            "100%|██████████| 621/621 [00:22<00:00, 27.44it/s]\n"
          ]
        },
        {
          "name": "stdout",
          "output_type": "stream",
          "text": [
            "\n",
            "Epoch: 3, Validation Loss: 2.476833610335026.\n",
            "\n",
            "Beginning epoch 4 of 20\n"
          ]
        },
        {
          "name": "stderr",
          "output_type": "stream",
          "text": [
            " 18%|█▊        | 1000/5581 [01:23<06:21, 12.01it/s]Setting `pad_token_id` to `eos_token_id`:5 for open-end generation.\n"
          ]
        },
        {
          "name": "stdout",
          "output_type": "stream",
          "text": [
            "\n",
            "Batch 1000 of 5581. Loss:2.343446731567383.\n"
          ]
        },
        {
          "name": "stderr",
          "output_type": "stream",
          "text": [
            "\r 18%|█▊        | 1002/5581 [01:24<08:49,  8.65it/s]"
          ]
        },
        {
          "name": "stdout",
          "output_type": "stream",
          "text": [
            "\n",
            "\n",
            "Example input:\n",
            "چو شیران جنگی برآشوفتند\n",
            "Example output:\n",
            "چو شیران جنگی برآشوفتند   ,   فتند دخترش سو دودار زدند زدندشد\n",
            "\n",
            "\n"
          ]
        },
        {
          "name": "stderr",
          "output_type": "stream",
          "text": [
            " 36%|███▌      | 2000/5581 [02:48<04:57, 12.04it/s]Setting `pad_token_id` to `eos_token_id`:5 for open-end generation.\n"
          ]
        },
        {
          "name": "stdout",
          "output_type": "stream",
          "text": [
            "\n",
            "Batch 2000 of 5581. Loss:2.435298204421997.\n"
          ]
        },
        {
          "name": "stderr",
          "output_type": "stream",
          "text": [
            "\r 36%|███▌      | 2002/5581 [02:48<06:54,  8.63it/s]"
          ]
        },
        {
          "name": "stdout",
          "output_type": "stream",
          "text": [
            "\n",
            "\n",
            "Example input:\n",
            "دریغ آن سر تخمهٔ اردشیر\n",
            "Example output:\n",
            "دریغ آن سر تخمهٔ اردشیر   ,    تیرار دار به گیرگیر\n",
            "\n",
            "\n"
          ]
        },
        {
          "name": "stderr",
          "output_type": "stream",
          "text": [
            " 54%|█████▍    | 3000/5581 [04:12<03:43, 11.56it/s]Setting `pad_token_id` to `eos_token_id`:5 for open-end generation.\n"
          ]
        },
        {
          "name": "stdout",
          "output_type": "stream",
          "text": [
            "\n",
            "Batch 3000 of 5581. Loss:2.4432811737060547.\n"
          ]
        },
        {
          "name": "stderr",
          "output_type": "stream",
          "text": [
            "\r 54%|█████▍    | 3002/5581 [04:12<05:40,  7.58it/s]"
          ]
        },
        {
          "name": "stdout",
          "output_type": "stream",
          "text": [
            "\n",
            "\n",
            "Example input:\n",
            "فراوان ز سامش نهان داشتند\n",
            "Example output:\n",
            "فراوان ز سامش نهان داشتند   ,   گذاشتند زن اوران آبشتندگفتند آمدند\n",
            "\n",
            "\n"
          ]
        },
        {
          "name": "stderr",
          "output_type": "stream",
          "text": [
            " 72%|███████▏  | 4000/5581 [05:36<02:15, 11.65it/s]Setting `pad_token_id` to `eos_token_id`:5 for open-end generation.\n"
          ]
        },
        {
          "name": "stdout",
          "output_type": "stream",
          "text": [
            "\n",
            "Batch 4000 of 5581. Loss:2.4243733882904053.\n"
          ]
        },
        {
          "name": "stderr",
          "output_type": "stream",
          "text": [
            "\r 72%|███████▏  | 4002/5581 [05:36<03:18,  7.95it/s]"
          ]
        },
        {
          "name": "stdout",
          "output_type": "stream",
          "text": [
            "\n",
            "\n",
            "Example input:\n",
            "پلنگ از بر سنگ و ماهی در آب\n",
            "Example output:\n",
            "پلنگ از بر سنگ و ماهی در آب   ,    طوس طوس آب آب طوس و طوس طوس کوس\n",
            "\n",
            "\n"
          ]
        },
        {
          "name": "stderr",
          "output_type": "stream",
          "text": [
            " 90%|████████▉ | 5000/5581 [07:00<00:48, 11.91it/s]Setting `pad_token_id` to `eos_token_id`:5 for open-end generation.\n"
          ]
        },
        {
          "name": "stdout",
          "output_type": "stream",
          "text": [
            "\n",
            "Batch 5000 of 5581. Loss:2.638669490814209.\n"
          ]
        },
        {
          "name": "stderr",
          "output_type": "stream",
          "text": [
            "\r 90%|████████▉ | 5002/5581 [07:00<01:17,  7.47it/s]"
          ]
        },
        {
          "name": "stdout",
          "output_type": "stream",
          "text": [
            "\n",
            "\n",
            "Example input:\n",
            "تو گفتی همه دشت بالای اوست\n",
            "Example output:\n",
            "تو گفتی همه دشت بالای اوست   ,    پوست چندست زن وپوستستست وست\n",
            "\n",
            "\n"
          ]
        },
        {
          "name": "stderr",
          "output_type": "stream",
          "text": [
            "100%|██████████| 5581/5581 [07:49<00:00, 11.88it/s]\n"
          ]
        },
        {
          "name": "stdout",
          "output_type": "stream",
          "text": [
            "\n",
            "Epoch: 4, Training Loss: 2.3537406415158415.\n",
            "\n"
          ]
        },
        {
          "name": "stderr",
          "output_type": "stream",
          "text": [
            "100%|██████████| 621/621 [00:22<00:00, 28.10it/s]\n"
          ]
        },
        {
          "name": "stdout",
          "output_type": "stream",
          "text": [
            "\n",
            "Epoch: 4, Validation Loss: 2.484927246919961.\n",
            "\n",
            "Beginning epoch 5 of 20\n"
          ]
        },
        {
          "name": "stderr",
          "output_type": "stream",
          "text": [
            " 18%|█▊        | 1000/5581 [01:23<06:18, 12.09it/s]Setting `pad_token_id` to `eos_token_id`:5 for open-end generation.\n"
          ]
        },
        {
          "name": "stdout",
          "output_type": "stream",
          "text": [
            "\n",
            "Batch 1000 of 5581. Loss:2.1672871112823486.\n"
          ]
        },
        {
          "name": "stderr",
          "output_type": "stream",
          "text": [
            "\r 18%|█▊        | 1002/5581 [01:24<08:57,  8.52it/s]"
          ]
        },
        {
          "name": "stdout",
          "output_type": "stream",
          "text": [
            "\n",
            "\n",
            "Example input:\n",
            "سوی تو یکی نامه بد بر پرند\n",
            "Example output:\n",
            "سوی تو یکی نامه بد بر پرند   ,    روس بگذرند بگذرند بر بر و بیارنداست\n",
            "\n",
            "\n"
          ]
        },
        {
          "name": "stderr",
          "output_type": "stream",
          "text": [
            " 36%|███▌      | 2000/5581 [02:47<04:56, 12.08it/s]Setting `pad_token_id` to `eos_token_id`:5 for open-end generation.\n"
          ]
        },
        {
          "name": "stdout",
          "output_type": "stream",
          "text": [
            "\n",
            "Batch 2000 of 5581. Loss:2.186713933944702.\n"
          ]
        },
        {
          "name": "stderr",
          "output_type": "stream",
          "text": [
            "\r 36%|███▌      | 2002/5581 [02:48<07:01,  8.49it/s]"
          ]
        },
        {
          "name": "stdout",
          "output_type": "stream",
          "text": [
            "\n",
            "\n",
            "Example input:\n",
            "به مردی و پیروزی و دستگاه\n",
            "Example output:\n",
            "به مردی و پیروزی و دستگاه   ,    کلاهگاه راهگاه خواه خواه کلاه خواه شاه خواه سپاه\n",
            "\n",
            "\n"
          ]
        },
        {
          "name": "stderr",
          "output_type": "stream",
          "text": [
            " 54%|█████▍    | 3000/5581 [04:12<03:33, 12.10it/s]Setting `pad_token_id` to `eos_token_id`:5 for open-end generation.\n"
          ]
        },
        {
          "name": "stdout",
          "output_type": "stream",
          "text": [
            "\n",
            "Batch 3000 of 5581. Loss:2.142526865005493.\n"
          ]
        },
        {
          "name": "stderr",
          "output_type": "stream",
          "text": [
            "\r 54%|█████▍    | 3002/5581 [04:12<04:53,  8.80it/s]"
          ]
        },
        {
          "name": "stdout",
          "output_type": "stream",
          "text": [
            "\n",
            "\n",
            "Example input:\n",
            "چو بازآمدش هوش بگشاد چشم\n",
            "Example output:\n",
            "چو بازآمدش هوش بگشاد چشم   ,    و چشم زب و و و ز و\n",
            "\n",
            "\n"
          ]
        },
        {
          "name": "stderr",
          "output_type": "stream",
          "text": [
            " 72%|███████▏  | 4000/5581 [05:36<02:10, 12.08it/s]Setting `pad_token_id` to `eos_token_id`:5 for open-end generation.\n"
          ]
        },
        {
          "name": "stdout",
          "output_type": "stream",
          "text": [
            "\n",
            "Batch 4000 of 5581. Loss:2.5332915782928467.\n"
          ]
        },
        {
          "name": "stderr",
          "output_type": "stream",
          "text": [
            "\r 72%|███████▏  | 4002/5581 [05:36<02:57,  8.87it/s]"
          ]
        },
        {
          "name": "stdout",
          "output_type": "stream",
          "text": [
            "\n",
            "\n",
            "Example input:\n",
            "ازو بستد آن جام بهمن به چنگ\n",
            "Example output:\n",
            "ازو بستد آن جام بهمن به چنگ   ,    مخ مخ خون مخ خوار آمدی آمدی استخوان استخوان خون\n",
            "\n",
            "\n"
          ]
        },
        {
          "name": "stderr",
          "output_type": "stream",
          "text": [
            " 90%|████████▉ | 5000/5581 [07:00<00:50, 11.62it/s]Setting `pad_token_id` to `eos_token_id`:5 for open-end generation.\n"
          ]
        },
        {
          "name": "stdout",
          "output_type": "stream",
          "text": [
            "\n",
            "Batch 5000 of 5581. Loss:2.5294580459594727.\n"
          ]
        },
        {
          "name": "stderr",
          "output_type": "stream",
          "text": [
            "\r 90%|████████▉ | 5002/5581 [07:01<01:07,  8.55it/s]"
          ]
        },
        {
          "name": "stdout",
          "output_type": "stream",
          "text": [
            "\n",
            "\n",
            "Example input:\n",
            "ز گردان و از رزم و کار سپاه\n",
            "Example output:\n",
            "ز گردان و از رزم و کار سپاه   ,    راه به شد گاه گاه راهگاهگاه گاه\n",
            "\n",
            "\n"
          ]
        },
        {
          "name": "stderr",
          "output_type": "stream",
          "text": [
            "100%|██████████| 5581/5581 [07:49<00:00, 11.88it/s]\n"
          ]
        },
        {
          "name": "stdout",
          "output_type": "stream",
          "text": [
            "\n",
            "Epoch: 5, Training Loss: 2.2808571017956867.\n",
            "\n"
          ]
        },
        {
          "name": "stderr",
          "output_type": "stream",
          "text": [
            "100%|██████████| 621/621 [00:22<00:00, 27.57it/s]\n"
          ]
        },
        {
          "name": "stdout",
          "output_type": "stream",
          "text": [
            "\n",
            "Epoch: 5, Validation Loss: 2.5155647035190256.\n",
            "\n",
            "Beginning epoch 6 of 20\n"
          ]
        },
        {
          "name": "stderr",
          "output_type": "stream",
          "text": [
            " 18%|█▊        | 1000/5581 [01:23<06:36, 11.57it/s]Setting `pad_token_id` to `eos_token_id`:5 for open-end generation.\n"
          ]
        },
        {
          "name": "stdout",
          "output_type": "stream",
          "text": [
            "\n",
            "Batch 1000 of 5581. Loss:2.144869089126587.\n"
          ]
        },
        {
          "name": "stderr",
          "output_type": "stream",
          "text": [
            "\r 18%|█▊        | 1002/5581 [01:24<10:17,  7.41it/s]"
          ]
        },
        {
          "name": "stdout",
          "output_type": "stream",
          "text": [
            "\n",
            "\n",
            "Example input:\n",
            "چوآمد به نزدیک خاقان چین\n",
            "Example output:\n",
            "چوآمد به نزدیک خاقان چین   ,    زمین زین بر آفرین داد داد نگین آفرین\n",
            "\n",
            "\n"
          ]
        },
        {
          "name": "stderr",
          "output_type": "stream",
          "text": [
            " 36%|███▌      | 2000/5581 [02:48<05:07, 11.63it/s]Setting `pad_token_id` to `eos_token_id`:5 for open-end generation.\n"
          ]
        },
        {
          "name": "stdout",
          "output_type": "stream",
          "text": [
            "\n",
            "Batch 2000 of 5581. Loss:2.2370548248291016.\n"
          ]
        },
        {
          "name": "stderr",
          "output_type": "stream",
          "text": [
            "\r 36%|███▌      | 2002/5581 [02:48<07:39,  7.79it/s]"
          ]
        },
        {
          "name": "stdout",
          "output_type": "stream",
          "text": [
            "\n",
            "\n",
            "Example input:\n",
            "که جاوید بادا سر تاجدار\n",
            "Example output:\n",
            "که جاوید بادا سر تاجدار   ,    کمر شدن بر نشسته راز بسر چه چه همی\n",
            "\n",
            "\n"
          ]
        },
        {
          "name": "stderr",
          "output_type": "stream",
          "text": [
            " 54%|█████▍    | 3000/5581 [04:12<03:33, 12.11it/s]Setting `pad_token_id` to `eos_token_id`:5 for open-end generation.\n"
          ]
        },
        {
          "name": "stdout",
          "output_type": "stream",
          "text": [
            "\n",
            "Batch 3000 of 5581. Loss:2.361224412918091.\n"
          ]
        },
        {
          "name": "stderr",
          "output_type": "stream",
          "text": [
            "\r 54%|█████▍    | 3002/5581 [04:12<05:02,  8.53it/s]"
          ]
        },
        {
          "name": "stdout",
          "output_type": "stream",
          "text": [
            "\n",
            "\n",
            "Example input:\n",
            "به دخمه درون تخت زرین نهاد\n",
            "Example output:\n",
            "به دخمه درون تخت زرین نهاد   ,    باد باد داد باد داد داد ز باد نژاد نژاد شاد\n",
            "\n",
            "\n"
          ]
        },
        {
          "name": "stderr",
          "output_type": "stream",
          "text": [
            " 72%|███████▏  | 4000/5581 [05:36<02:10, 12.13it/s]Setting `pad_token_id` to `eos_token_id`:5 for open-end generation.\n"
          ]
        },
        {
          "name": "stdout",
          "output_type": "stream",
          "text": [
            "\n",
            "Batch 4000 of 5581. Loss:2.2604897022247314.\n"
          ]
        },
        {
          "name": "stderr",
          "output_type": "stream",
          "text": [
            "\r 72%|███████▏  | 4002/5581 [05:37<03:08,  8.37it/s]"
          ]
        },
        {
          "name": "stdout",
          "output_type": "stream",
          "text": [
            "\n",
            "\n",
            "Example input:\n",
            "برآمد ز صندوق مرد دلیر\n",
            "Example output:\n",
            "برآمد ز صندوق مرد دلیر   ,    شیر زیر گرد بخورد زیر گرد درد گرد زیر زیر\n",
            "\n",
            "\n"
          ]
        },
        {
          "name": "stderr",
          "output_type": "stream",
          "text": [
            " 90%|████████▉ | 5000/5581 [07:00<00:48, 12.09it/s]Setting `pad_token_id` to `eos_token_id`:5 for open-end generation.\n"
          ]
        },
        {
          "name": "stdout",
          "output_type": "stream",
          "text": [
            "\n",
            "Batch 5000 of 5581. Loss:2.2743897438049316.\n"
          ]
        },
        {
          "name": "stderr",
          "output_type": "stream",
          "text": [
            "\r 90%|████████▉ | 5002/5581 [07:01<01:07,  8.59it/s]"
          ]
        },
        {
          "name": "stdout",
          "output_type": "stream",
          "text": [
            "\n",
            "\n",
            "Example input:\n",
            "بداندیش گرگین شوریده رفت\n",
            "Example output:\n",
            "بداندیش گرگین شوریده رفت   ,    رفت داد تند تند چه چه تند لاژ به آور\n",
            "\n",
            "\n"
          ]
        },
        {
          "name": "stderr",
          "output_type": "stream",
          "text": [
            "100%|██████████| 5581/5581 [07:49<00:00, 11.88it/s]\n"
          ]
        },
        {
          "name": "stdout",
          "output_type": "stream",
          "text": [
            "\n",
            "Epoch: 6, Training Loss: 2.193107516059438.\n",
            "\n"
          ]
        },
        {
          "name": "stderr",
          "output_type": "stream",
          "text": [
            "100%|██████████| 621/621 [00:22<00:00, 27.50it/s]\n"
          ]
        },
        {
          "name": "stdout",
          "output_type": "stream",
          "text": [
            "\n",
            "Epoch: 6, Validation Loss: 2.5781445795019278.\n",
            "\n",
            "Beginning epoch 7 of 20\n"
          ]
        },
        {
          "name": "stderr",
          "output_type": "stream",
          "text": [
            " 18%|█▊        | 1000/5581 [01:23<06:19, 12.08it/s]Setting `pad_token_id` to `eos_token_id`:5 for open-end generation.\n"
          ]
        },
        {
          "name": "stdout",
          "output_type": "stream",
          "text": [
            "\n",
            "Batch 1000 of 5581. Loss:2.196884870529175.\n"
          ]
        },
        {
          "name": "stderr",
          "output_type": "stream",
          "text": [
            "\r 18%|█▊        | 1002/5581 [01:24<08:41,  8.77it/s]"
          ]
        },
        {
          "name": "stdout",
          "output_type": "stream",
          "text": [
            "\n",
            "\n",
            "Example input:\n",
            "خروش آمد و نالهٔ کرنای\n",
            "Example output:\n",
            "خروش آمد و نالهٔ کرنای   ,    جای نی برآورده پرکپای پرک ز گیتی\n",
            "\n",
            "\n"
          ]
        },
        {
          "name": "stderr",
          "output_type": "stream",
          "text": [
            " 36%|███▌      | 2000/5581 [02:48<04:58, 12.01it/s]Setting `pad_token_id` to `eos_token_id`:5 for open-end generation.\n"
          ]
        },
        {
          "name": "stdout",
          "output_type": "stream",
          "text": [
            "\n",
            "Batch 2000 of 5581. Loss:2.434844970703125.\n"
          ]
        },
        {
          "name": "stderr",
          "output_type": "stream",
          "text": [
            "\r 36%|███▌      | 2002/5581 [02:48<06:50,  8.71it/s]"
          ]
        },
        {
          "name": "stdout",
          "output_type": "stream",
          "text": [
            "\n",
            "\n",
            "Example input:\n",
            "تو را در پس پرده یک دخترست\n",
            "Example output:\n",
            "تو را در پس پرده یک دخترست   ,   ست نی زیرست خواه راه خواه سراست کیستست\n",
            "\n",
            "\n"
          ]
        },
        {
          "name": "stderr",
          "output_type": "stream",
          "text": [
            " 54%|█████▍    | 3000/5581 [04:12<03:44, 11.52it/s]Setting `pad_token_id` to `eos_token_id`:5 for open-end generation.\n"
          ]
        },
        {
          "name": "stdout",
          "output_type": "stream",
          "text": [
            "\n",
            "Batch 3000 of 5581. Loss:2.2205326557159424.\n"
          ]
        },
        {
          "name": "stderr",
          "output_type": "stream",
          "text": [
            "\r 54%|█████▍    | 3002/5581 [04:12<05:33,  7.72it/s]"
          ]
        },
        {
          "name": "stdout",
          "output_type": "stream",
          "text": [
            "\n",
            "\n",
            "Example input:\n",
            "فرود آمد از باره جایی نهفت\n",
            "Example output:\n",
            "فرود آمد از باره جایی نهفت   ,   فت و از چه چه و جفت نهگوش شب لب\n",
            "\n",
            "\n"
          ]
        },
        {
          "name": "stderr",
          "output_type": "stream",
          "text": [
            " 72%|███████▏  | 4000/5581 [05:36<02:14, 11.75it/s]Setting `pad_token_id` to `eos_token_id`:5 for open-end generation.\n"
          ]
        },
        {
          "name": "stdout",
          "output_type": "stream",
          "text": [
            "\n",
            "Batch 4000 of 5581. Loss:1.9662443399429321.\n"
          ]
        },
        {
          "name": "stderr",
          "output_type": "stream",
          "text": [
            "\r 72%|███████▏  | 4002/5581 [05:36<03:20,  7.88it/s]"
          ]
        },
        {
          "name": "stdout",
          "output_type": "stream",
          "text": [
            "\n",
            "\n",
            "Example input:\n",
            "چو قیصر ز گرد بلا رخ بشست\n",
            "Example output:\n",
            "چو قیصر ز گرد بلا رخ بشست   ,    شکار دم گرد گرد سهی بشت یافتافتافت یافت یافت\n",
            "\n",
            "\n"
          ]
        },
        {
          "name": "stderr",
          "output_type": "stream",
          "text": [
            " 90%|████████▉ | 5000/5581 [07:00<00:48, 11.99it/s]Setting `pad_token_id` to `eos_token_id`:5 for open-end generation.\n"
          ]
        },
        {
          "name": "stdout",
          "output_type": "stream",
          "text": [
            "\n",
            "Batch 5000 of 5581. Loss:2.0795958042144775.\n"
          ]
        },
        {
          "name": "stderr",
          "output_type": "stream",
          "text": [
            "\r 90%|████████▉ | 5002/5581 [07:01<01:08,  8.39it/s]"
          ]
        },
        {
          "name": "stdout",
          "output_type": "stream",
          "text": [
            "\n",
            "\n",
            "Example input:\n",
            "از آن انجمن برد با خویشتن\n",
            "Example output:\n",
            "از آن انجمن برد با خویشتن   ,    زن سوار گرد آنستند زنند اف\n",
            "\n",
            "\n"
          ]
        },
        {
          "name": "stderr",
          "output_type": "stream",
          "text": [
            "100%|██████████| 5581/5581 [07:50<00:00, 11.87it/s]\n"
          ]
        },
        {
          "name": "stdout",
          "output_type": "stream",
          "text": [
            "\n",
            "Epoch: 7, Training Loss: 2.0928368374900224.\n",
            "\n"
          ]
        },
        {
          "name": "stderr",
          "output_type": "stream",
          "text": [
            "100%|██████████| 621/621 [00:22<00:00, 27.95it/s]\n"
          ]
        },
        {
          "name": "stdout",
          "output_type": "stream",
          "text": [
            "\n",
            "Epoch: 7, Validation Loss: 2.6539683150016553.\n",
            "\n",
            "Beginning epoch 8 of 20\n"
          ]
        },
        {
          "name": "stderr",
          "output_type": "stream",
          "text": [
            " 18%|█▊        | 1000/5581 [01:23<06:20, 12.05it/s]Setting `pad_token_id` to `eos_token_id`:5 for open-end generation.\n"
          ]
        },
        {
          "name": "stdout",
          "output_type": "stream",
          "text": [
            "\n",
            "Batch 1000 of 5581. Loss:1.964979887008667.\n",
            "\n",
            "\n",
            "Example input:\n",
            "ازان پس که بنمود پنچاه و هشت\n",
            "Example output:\n",
            "ازان پس که بنمود پنچاه و هشت   ,    چند را نیفتله ایزدی\n",
            "\n",
            "\n"
          ]
        },
        {
          "name": "stderr",
          "output_type": "stream",
          "text": [
            " 36%|███▌      | 2000/5581 [02:48<04:55, 12.11it/s]Setting `pad_token_id` to `eos_token_id`:5 for open-end generation.\n"
          ]
        },
        {
          "name": "stdout",
          "output_type": "stream",
          "text": [
            "\n",
            "Batch 2000 of 5581. Loss:1.9622551202774048.\n"
          ]
        },
        {
          "name": "stderr",
          "output_type": "stream",
          "text": [
            "\r 36%|███▌      | 2002/5581 [02:48<07:01,  8.50it/s]"
          ]
        },
        {
          "name": "stdout",
          "output_type": "stream",
          "text": [
            "\n",
            "\n",
            "Example input:\n",
            "شهنشاه باکاویانی درفش\n",
            "Example output:\n",
            "شهنشاه باکاویانی درفش   ,    کفش طوس آباد چند مب مب کفش کفش\n",
            "\n",
            "\n"
          ]
        },
        {
          "name": "stderr",
          "output_type": "stream",
          "text": [
            " 54%|█████▍    | 3000/5581 [04:12<03:35, 11.96it/s]Setting `pad_token_id` to `eos_token_id`:5 for open-end generation.\n"
          ]
        },
        {
          "name": "stdout",
          "output_type": "stream",
          "text": [
            "\n",
            "Batch 3000 of 5581. Loss:2.2545270919799805.\n"
          ]
        },
        {
          "name": "stderr",
          "output_type": "stream",
          "text": [
            "\r 54%|█████▍    | 3002/5581 [04:13<05:10,  8.29it/s]"
          ]
        },
        {
          "name": "stdout",
          "output_type": "stream",
          "text": [
            "\n",
            "\n",
            "Example input:\n",
            "یکی بنده چون زخم پیکان بدید\n",
            "Example output:\n",
            "یکی بنده چون زخم پیکان بدید   ,    کشید کشیدید کشید را دید کشیدید را مشت مشت بک\n",
            "\n",
            "\n"
          ]
        },
        {
          "name": "stderr",
          "output_type": "stream",
          "text": [
            " 72%|███████▏  | 4000/5581 [05:37<02:17, 11.51it/s]Setting `pad_token_id` to `eos_token_id`:5 for open-end generation.\n"
          ]
        },
        {
          "name": "stdout",
          "output_type": "stream",
          "text": [
            "\n",
            "Batch 4000 of 5581. Loss:1.9861133098602295.\n"
          ]
        },
        {
          "name": "stderr",
          "output_type": "stream",
          "text": [
            "\r 72%|███████▏  | 4002/5581 [05:37<03:25,  7.69it/s]"
          ]
        },
        {
          "name": "stdout",
          "output_type": "stream",
          "text": [
            "\n",
            "\n",
            "Example input:\n",
            "مرا خیره گشتی سر از فر شاه\n",
            "Example output:\n",
            "مرا خیره گشتی سر از فر شاه   ,    سپاهار گاه گاه و گاه گناه\n",
            "\n",
            "\n"
          ]
        },
        {
          "name": "stderr",
          "output_type": "stream",
          "text": [
            " 90%|████████▉ | 5000/5581 [07:01<00:50, 11.42it/s]Setting `pad_token_id` to `eos_token_id`:5 for open-end generation.\n"
          ]
        },
        {
          "name": "stdout",
          "output_type": "stream",
          "text": [
            "\n",
            "Batch 5000 of 5581. Loss:1.9594353437423706.\n"
          ]
        },
        {
          "name": "stderr",
          "output_type": "stream",
          "text": [
            "\r 90%|████████▉ | 5002/5581 [07:02<01:19,  7.33it/s]"
          ]
        },
        {
          "name": "stdout",
          "output_type": "stream",
          "text": [
            "\n",
            "\n",
            "Example input:\n",
            "به دیبا بپوشید خسته برش\n",
            "Example output:\n",
            "به دیبا بپوشید خسته برش   ,   شفرشش و بر شست بخورد بخوردش بر چرخاست\n",
            "\n",
            "\n"
          ]
        },
        {
          "name": "stderr",
          "output_type": "stream",
          "text": [
            "100%|██████████| 5581/5581 [07:51<00:00, 11.85it/s]\n"
          ]
        },
        {
          "name": "stdout",
          "output_type": "stream",
          "text": [
            "\n",
            "Epoch: 8, Training Loss: 1.979820684172564.\n",
            "\n"
          ]
        },
        {
          "name": "stderr",
          "output_type": "stream",
          "text": [
            "100%|██████████| 621/621 [00:22<00:00, 27.95it/s]\n"
          ]
        },
        {
          "name": "stdout",
          "output_type": "stream",
          "text": [
            "\n",
            "Epoch: 8, Validation Loss: 2.75564465392231.\n",
            "\n",
            "Beginning epoch 9 of 20\n"
          ]
        },
        {
          "name": "stderr",
          "output_type": "stream",
          "text": [
            " 18%|█▊        | 1000/5581 [01:23<06:17, 12.13it/s]Setting `pad_token_id` to `eos_token_id`:5 for open-end generation.\n"
          ]
        },
        {
          "name": "stdout",
          "output_type": "stream",
          "text": [
            "\n",
            "Batch 1000 of 5581. Loss:1.547574758529663.\n"
          ]
        },
        {
          "name": "stderr",
          "output_type": "stream",
          "text": [
            "\r 18%|█▊        | 1002/5581 [01:24<09:07,  8.36it/s]"
          ]
        },
        {
          "name": "stdout",
          "output_type": "stream",
          "text": [
            "\n",
            "\n",
            "Example input:\n",
            "سرافراز محمود فرخنده رای\n",
            "Example output:\n",
            "سرافراز محمود فرخنده رای   ,    جای به بر و پای رای رای\n",
            "\n",
            "\n"
          ]
        },
        {
          "name": "stderr",
          "output_type": "stream",
          "text": [
            " 36%|███▌      | 2000/5581 [02:48<04:56, 12.07it/s]Setting `pad_token_id` to `eos_token_id`:5 for open-end generation.\n"
          ]
        },
        {
          "name": "stdout",
          "output_type": "stream",
          "text": [
            "\n",
            "Batch 2000 of 5581. Loss:1.879520058631897.\n"
          ]
        },
        {
          "name": "stderr",
          "output_type": "stream",
          "text": [
            "\r 36%|███▌      | 2002/5581 [02:48<07:03,  8.44it/s]"
          ]
        },
        {
          "name": "stdout",
          "output_type": "stream",
          "text": [
            "\n",
            "\n",
            "Example input:\n",
            "ز پیش پدر نوذر نامدار\n",
            "Example output:\n",
            "ز پیش پدر نوذر نامدار   ,   سار و را بر دشت خوار جویبار جویبار خوار\n",
            "\n",
            "\n"
          ]
        },
        {
          "name": "stderr",
          "output_type": "stream",
          "text": [
            " 54%|█████▍    | 3000/5581 [04:12<03:33, 12.10it/s]Setting `pad_token_id` to `eos_token_id`:5 for open-end generation.\n"
          ]
        },
        {
          "name": "stdout",
          "output_type": "stream",
          "text": [
            "\n",
            "Batch 3000 of 5581. Loss:1.7716907262802124.\n"
          ]
        },
        {
          "name": "stderr",
          "output_type": "stream",
          "text": [
            "\r 54%|█████▍    | 3002/5581 [04:12<05:01,  8.55it/s]"
          ]
        },
        {
          "name": "stdout",
          "output_type": "stream",
          "text": [
            "\n",
            "\n",
            "Example input:\n",
            "بپیچد بیک سال پندش دهید\n",
            "Example output:\n",
            "بپیچد بیک سال پندش دهید   ,   ید بر بدر بدر دیدید بریدبل\n",
            "\n",
            "\n"
          ]
        },
        {
          "name": "stderr",
          "output_type": "stream",
          "text": [
            " 72%|███████▏  | 4000/5581 [05:36<02:11, 12.06it/s]Setting `pad_token_id` to `eos_token_id`:5 for open-end generation.\n"
          ]
        },
        {
          "name": "stdout",
          "output_type": "stream",
          "text": [
            "\n",
            "Batch 4000 of 5581. Loss:2.1773006916046143.\n"
          ]
        },
        {
          "name": "stderr",
          "output_type": "stream",
          "text": [
            "\r 72%|███████▏  | 4002/5581 [05:36<02:59,  8.81it/s]"
          ]
        },
        {
          "name": "stdout",
          "output_type": "stream",
          "text": [
            "\n",
            "\n",
            "Example input:\n",
            "نه آن خستگان را خورش نه پزشک\n",
            "Example output:\n",
            "نه آن خستگان را خورش نه پزشک   ,   خت و با گود گود و ازرزرونگون سر\n",
            "\n",
            "\n"
          ]
        },
        {
          "name": "stderr",
          "output_type": "stream",
          "text": [
            " 90%|████████▉ | 5000/5581 [07:00<00:49, 11.68it/s]Setting `pad_token_id` to `eos_token_id`:5 for open-end generation.\n"
          ]
        },
        {
          "name": "stdout",
          "output_type": "stream",
          "text": [
            "\n",
            "Batch 5000 of 5581. Loss:2.0138955116271973.\n"
          ]
        },
        {
          "name": "stderr",
          "output_type": "stream",
          "text": [
            "\r 90%|████████▉ | 5002/5581 [07:01<01:16,  7.54it/s]"
          ]
        },
        {
          "name": "stdout",
          "output_type": "stream",
          "text": [
            "\n",
            "\n",
            "Example input:\n",
            "دوان اندر آمد بر شهریار\n",
            "Example output:\n",
            "دوان اندر آمد بر شهریار   ,    نگارار بر چه چه کارزار گرد غارار\n",
            "\n",
            "\n"
          ]
        },
        {
          "name": "stderr",
          "output_type": "stream",
          "text": [
            "100%|██████████| 5581/5581 [07:49<00:00, 11.88it/s]\n"
          ]
        },
        {
          "name": "stdout",
          "output_type": "stream",
          "text": [
            "\n",
            "Epoch: 9, Training Loss: 1.8567973324911202.\n",
            "\n"
          ]
        },
        {
          "name": "stderr",
          "output_type": "stream",
          "text": [
            "100%|██████████| 621/621 [00:22<00:00, 27.34it/s]\n"
          ]
        },
        {
          "name": "stdout",
          "output_type": "stream",
          "text": [
            "\n",
            "Epoch: 9, Validation Loss: 2.8780972608237643.\n",
            "\n",
            "Beginning epoch 10 of 20\n"
          ]
        },
        {
          "name": "stderr",
          "output_type": "stream",
          "text": [
            " 18%|█▊        | 1000/5581 [01:23<06:28, 11.79it/s]Setting `pad_token_id` to `eos_token_id`:5 for open-end generation.\n"
          ]
        },
        {
          "name": "stdout",
          "output_type": "stream",
          "text": [
            "\n",
            "Batch 1000 of 5581. Loss:1.570510745048523.\n"
          ]
        },
        {
          "name": "stderr",
          "output_type": "stream",
          "text": [
            "\r 18%|█▊        | 1002/5581 [01:24<10:13,  7.47it/s]"
          ]
        },
        {
          "name": "stdout",
          "output_type": "stream",
          "text": [
            "\n",
            "\n",
            "Example input:\n",
            "که بیدادگر باشد و کژ گوی\n",
            "Example output:\n",
            "که بیدادگر باشد و کژ گوی   ,    رویار بر چه چه جه آیند روی شوی روی\n",
            "\n",
            "\n"
          ]
        },
        {
          "name": "stderr",
          "output_type": "stream",
          "text": [
            " 36%|███▌      | 2000/5581 [02:48<04:59, 11.94it/s]Setting `pad_token_id` to `eos_token_id`:5 for open-end generation.\n"
          ]
        },
        {
          "name": "stdout",
          "output_type": "stream",
          "text": [
            "\n",
            "Batch 2000 of 5581. Loss:2.015566825866699.\n"
          ]
        },
        {
          "name": "stderr",
          "output_type": "stream",
          "text": [
            "\r 36%|███▌      | 2002/5581 [02:48<07:01,  8.50it/s]"
          ]
        },
        {
          "name": "stdout",
          "output_type": "stream",
          "text": [
            "\n",
            "\n",
            "Example input:\n",
            "بدو گفت قیصر که خسرو کجاست\n",
            "Example output:\n",
            "بدو گفت قیصر که خسرو کجاست   ,   استار کهستست چه گرداست\n",
            "\n",
            "\n"
          ]
        },
        {
          "name": "stderr",
          "output_type": "stream",
          "text": [
            " 54%|█████▍    | 3000/5581 [04:12<03:35, 11.97it/s]Setting `pad_token_id` to `eos_token_id`:5 for open-end generation.\n"
          ]
        },
        {
          "name": "stdout",
          "output_type": "stream",
          "text": [
            "\n",
            "Batch 3000 of 5581. Loss:1.7394338846206665.\n"
          ]
        },
        {
          "name": "stderr",
          "output_type": "stream",
          "text": [
            "\r 54%|█████▍    | 3002/5581 [04:12<04:59,  8.60it/s]"
          ]
        },
        {
          "name": "stdout",
          "output_type": "stream",
          "text": [
            "\n",
            "\n",
            "Example input:\n",
            "همه پایهٔ تخت زر و بلور\n",
            "Example output:\n",
            "همه پایهٔ تخت زر و بلور   ,    زورار که که بدو زیر زیرتور و زیر\n",
            "\n",
            "\n"
          ]
        },
        {
          "name": "stderr",
          "output_type": "stream",
          "text": [
            " 72%|███████▏  | 4000/5581 [05:37<02:11, 12.01it/s]Setting `pad_token_id` to `eos_token_id`:5 for open-end generation.\n"
          ]
        },
        {
          "name": "stdout",
          "output_type": "stream",
          "text": [
            "\n",
            "Batch 4000 of 5581. Loss:1.7656056880950928.\n"
          ]
        },
        {
          "name": "stderr",
          "output_type": "stream",
          "text": [
            "\r 72%|███████▏  | 4002/5581 [05:37<03:11,  8.22it/s]"
          ]
        },
        {
          "name": "stdout",
          "output_type": "stream",
          "text": [
            "\n",
            "\n",
            "Example input:\n",
            "بدان کس دهد کو سزاوارتر\n",
            "Example output:\n",
            "بدان کس دهد کو سزاوارتر   ,   تر دخترش ایچ بر شد شد شد خوار\n",
            "\n",
            "\n"
          ]
        },
        {
          "name": "stderr",
          "output_type": "stream",
          "text": [
            " 90%|████████▉ | 5000/5581 [07:01<00:48, 11.88it/s]Setting `pad_token_id` to `eos_token_id`:5 for open-end generation.\n"
          ]
        },
        {
          "name": "stdout",
          "output_type": "stream",
          "text": [
            "\n",
            "Batch 5000 of 5581. Loss:1.5937118530273438.\n"
          ]
        },
        {
          "name": "stderr",
          "output_type": "stream",
          "text": [
            "\r 90%|████████▉ | 5002/5581 [07:01<01:10,  8.22it/s]"
          ]
        },
        {
          "name": "stdout",
          "output_type": "stream",
          "text": [
            "\n",
            "\n",
            "Example input:\n",
            "همان نیز پور سیاوش چه کرد\n",
            "Example output:\n",
            "همان نیز پور سیاوش چه کرد   ,    نبرد گرد گرد سپرد سپردورد گرد نبرد گرد\n",
            "\n",
            "\n"
          ]
        },
        {
          "name": "stderr",
          "output_type": "stream",
          "text": [
            "100%|██████████| 5581/5581 [07:50<00:00, 11.86it/s]\n"
          ]
        },
        {
          "name": "stdout",
          "output_type": "stream",
          "text": [
            "\n",
            "Epoch: 10, Training Loss: 1.732828723831088.\n",
            "\n"
          ]
        },
        {
          "name": "stderr",
          "output_type": "stream",
          "text": [
            "100%|██████████| 621/621 [00:22<00:00, 27.09it/s]\n"
          ]
        },
        {
          "name": "stdout",
          "output_type": "stream",
          "text": [
            "\n",
            "Epoch: 10, Validation Loss: 2.9860572684406272.\n",
            "\n",
            "Beginning epoch 11 of 20\n"
          ]
        },
        {
          "name": "stderr",
          "output_type": "stream",
          "text": [
            " 18%|█▊        | 1000/5581 [01:24<06:32, 11.66it/s]Setting `pad_token_id` to `eos_token_id`:5 for open-end generation.\n"
          ]
        },
        {
          "name": "stdout",
          "output_type": "stream",
          "text": [
            "\n",
            "Batch 1000 of 5581. Loss:1.370535135269165.\n"
          ]
        },
        {
          "name": "stderr",
          "output_type": "stream",
          "text": [
            "\r 18%|█▊        | 1002/5581 [01:24<09:51,  7.74it/s]"
          ]
        },
        {
          "name": "stdout",
          "output_type": "stream",
          "text": [
            "\n",
            "\n",
            "Example input:\n",
            "پرستنده فغفور هر بامداد\n",
            "Example output:\n",
            "پرستنده فغفور هر بامداد   ,    داد بر مامکوی جهان داد مام مام جهان\n",
            "\n",
            "\n"
          ]
        },
        {
          "name": "stderr",
          "output_type": "stream",
          "text": [
            " 36%|███▌      | 2000/5581 [02:48<04:56, 12.06it/s]Setting `pad_token_id` to `eos_token_id`:5 for open-end generation.\n"
          ]
        },
        {
          "name": "stdout",
          "output_type": "stream",
          "text": [
            "\n",
            "Batch 2000 of 5581. Loss:1.6133660078048706.\n"
          ]
        },
        {
          "name": "stderr",
          "output_type": "stream",
          "text": [
            "\r 36%|███▌      | 2002/5581 [02:49<07:20,  8.13it/s]"
          ]
        },
        {
          "name": "stdout",
          "output_type": "stream",
          "text": [
            "\n",
            "\n",
            "Example input:\n",
            "اگر جنگ فرمان دهد شهریار\n",
            "Example output:\n",
            "اگر جنگ فرمان دهد شهریار   ,    کارزارار و بر سوارسار شکار\n",
            "\n",
            "\n"
          ]
        },
        {
          "name": "stderr",
          "output_type": "stream",
          "text": [
            " 54%|█████▍    | 3000/5581 [04:12<03:34, 12.04it/s]Setting `pad_token_id` to `eos_token_id`:5 for open-end generation.\n"
          ]
        },
        {
          "name": "stdout",
          "output_type": "stream",
          "text": [
            "\n",
            "Batch 3000 of 5581. Loss:1.478538990020752.\n",
            "\n",
            "\n",
            "Example input:\n",
            "سرم پر ز دردست و دل پر ز خون\n",
            "Example output:\n",
            "سرم پر ز دردست و دل پر ز خون   ,    چند ز به بهست ز چاک\n",
            "\n",
            "\n"
          ]
        },
        {
          "name": "stderr",
          "output_type": "stream",
          "text": [
            " 72%|███████▏  | 4000/5581 [05:37<02:11, 12.04it/s]Setting `pad_token_id` to `eos_token_id`:5 for open-end generation.\n"
          ]
        },
        {
          "name": "stdout",
          "output_type": "stream",
          "text": [
            "\n",
            "Batch 4000 of 5581. Loss:1.7669916152954102.\n"
          ]
        },
        {
          "name": "stderr",
          "output_type": "stream",
          "text": [
            "\r 72%|███████▏  | 4002/5581 [05:37<03:06,  8.45it/s]"
          ]
        },
        {
          "name": "stdout",
          "output_type": "stream",
          "text": [
            "\n",
            "\n",
            "Example input:\n",
            "چو آن پاسخ نامه شد اسپری\n",
            "Example output:\n",
            "چو آن پاسخ نامه شد اسپری   ,   مریار سوار بر شکارستیمستیم\n",
            "\n",
            "\n"
          ]
        },
        {
          "name": "stderr",
          "output_type": "stream",
          "text": [
            " 90%|████████▉ | 5000/5581 [07:01<00:48, 11.92it/s]Setting `pad_token_id` to `eos_token_id`:5 for open-end generation.\n"
          ]
        },
        {
          "name": "stdout",
          "output_type": "stream",
          "text": [
            "\n",
            "Batch 5000 of 5581. Loss:1.5175644159317017.\n",
            "\n",
            "\n",
            "Example input:\n",
            "سکندر چو از کارش آگاه شد"
          ]
        },
        {
          "name": "stderr",
          "output_type": "stream",
          "text": [
            "\r 90%|████████▉ | 5002/5581 [07:02<01:05,  8.84it/s]"
          ]
        },
        {
          "name": "stdout",
          "output_type": "stream",
          "text": [
            "\n",
            "Example output:\n",
            "سکندر چو از کارش آگاه شد   ,    شد شد سپاه راهگاه بود بود آزمود گشت\n",
            "\n",
            "\n"
          ]
        },
        {
          "name": "stderr",
          "output_type": "stream",
          "text": [
            "100%|██████████| 5581/5581 [07:50<00:00, 11.86it/s]\n"
          ]
        },
        {
          "name": "stdout",
          "output_type": "stream",
          "text": [
            "\n",
            "Epoch: 11, Training Loss: 1.6108952717335927.\n",
            "\n"
          ]
        },
        {
          "name": "stderr",
          "output_type": "stream",
          "text": [
            "100%|██████████| 621/621 [00:22<00:00, 27.12it/s]\n"
          ]
        },
        {
          "name": "stdout",
          "output_type": "stream",
          "text": [
            "\n",
            "Epoch: 11, Validation Loss: 3.124954894353034.\n",
            "\n",
            "Beginning epoch 12 of 20\n"
          ]
        },
        {
          "name": "stderr",
          "output_type": "stream",
          "text": [
            " 18%|█▊        | 1000/5581 [01:24<06:37, 11.53it/s]Setting `pad_token_id` to `eos_token_id`:5 for open-end generation.\n"
          ]
        },
        {
          "name": "stdout",
          "output_type": "stream",
          "text": [
            "\n",
            "Batch 1000 of 5581. Loss:1.5354682207107544.\n"
          ]
        },
        {
          "name": "stderr",
          "output_type": "stream",
          "text": [
            "\r 18%|█▊        | 1002/5581 [01:24<10:19,  7.40it/s]"
          ]
        },
        {
          "name": "stdout",
          "output_type": "stream",
          "text": [
            "\n",
            "\n",
            "Example input:\n",
            "همان پور فرخنده زال سوار\n",
            "Example output:\n",
            "همان پور فرخنده زال سوار   ,    نامدارار سوار سوار یادآور به اندر لشکر کارزارسار\n",
            "\n",
            "\n"
          ]
        },
        {
          "name": "stderr",
          "output_type": "stream",
          "text": [
            " 36%|███▌      | 2000/5581 [02:48<05:09, 11.57it/s]Setting `pad_token_id` to `eos_token_id`:5 for open-end generation.\n"
          ]
        },
        {
          "name": "stdout",
          "output_type": "stream",
          "text": [
            "\n",
            "Batch 2000 of 5581. Loss:1.6364132165908813.\n"
          ]
        },
        {
          "name": "stderr",
          "output_type": "stream",
          "text": [
            "\r 36%|███▌      | 2002/5581 [02:49<07:37,  7.82it/s]"
          ]
        },
        {
          "name": "stdout",
          "output_type": "stream",
          "text": [
            "\n",
            "\n",
            "Example input:\n",
            "سیاووش زو خواست کاید پدید\n",
            "Example output:\n",
            "سیاووش زو خواست کاید پدید   ,   یدود بر چندیدید\n",
            "\n",
            "\n"
          ]
        },
        {
          "name": "stderr",
          "output_type": "stream",
          "text": [
            " 54%|█████▍    | 3000/5581 [04:13<03:34, 12.02it/s]Setting `pad_token_id` to `eos_token_id`:5 for open-end generation.\n"
          ]
        },
        {
          "name": "stdout",
          "output_type": "stream",
          "text": [
            "\n",
            "Batch 3000 of 5581. Loss:1.5265185832977295.\n"
          ]
        },
        {
          "name": "stderr",
          "output_type": "stream",
          "text": [
            "\r 54%|█████▍    | 3002/5581 [04:13<05:01,  8.55it/s]"
          ]
        },
        {
          "name": "stdout",
          "output_type": "stream",
          "text": [
            "\n",
            "\n",
            "Example input:\n",
            "سخن هرچ گفتم بجای آورم\n",
            "Example output:\n",
            "سخن هرچ گفتم بجای آورم   ,   م چند به ومستم خوش\n",
            "\n",
            "\n"
          ]
        },
        {
          "name": "stderr",
          "output_type": "stream",
          "text": [
            " 72%|███████▏  | 4000/5581 [05:37<02:10, 12.07it/s]Setting `pad_token_id` to `eos_token_id`:5 for open-end generation.\n"
          ]
        },
        {
          "name": "stdout",
          "output_type": "stream",
          "text": [
            "\n",
            "Batch 4000 of 5581. Loss:1.5074803829193115.\n"
          ]
        },
        {
          "name": "stderr",
          "output_type": "stream",
          "text": [
            "\r 72%|███████▏  | 4002/5581 [05:37<03:02,  8.66it/s]"
          ]
        },
        {
          "name": "stdout",
          "output_type": "stream",
          "text": [
            "\n",
            "\n",
            "Example input:\n",
            "ز دیبا و دینار بر خشک و آب\n",
            "Example output:\n",
            "ز دیبا و دینار بر خشک و آب   ,    خوابوان چندنینی گست به خواب آب\n",
            "\n",
            "\n"
          ]
        },
        {
          "name": "stderr",
          "output_type": "stream",
          "text": [
            " 90%|████████▉ | 5000/5581 [07:01<00:48, 11.97it/s]Setting `pad_token_id` to `eos_token_id`:5 for open-end generation.\n"
          ]
        },
        {
          "name": "stdout",
          "output_type": "stream",
          "text": [
            "\n",
            "Batch 5000 of 5581. Loss:1.6271264553070068.\n"
          ]
        },
        {
          "name": "stderr",
          "output_type": "stream",
          "text": [
            "\r 90%|████████▉ | 5002/5581 [07:02<01:07,  8.53it/s]"
          ]
        },
        {
          "name": "stdout",
          "output_type": "stream",
          "text": [
            "\n",
            "\n",
            "Example input:\n",
            "نشستی نو آراست بر پیش آب\n",
            "Example output:\n",
            "نشستی نو آراست بر پیش آب   ,    زیر به به وم بهزهزه به آب\n",
            "\n",
            "\n"
          ]
        },
        {
          "name": "stderr",
          "output_type": "stream",
          "text": [
            "100%|██████████| 5581/5581 [07:50<00:00, 11.85it/s]\n"
          ]
        },
        {
          "name": "stdout",
          "output_type": "stream",
          "text": [
            "\n",
            "Epoch: 12, Training Loss: 1.4957900064817318.\n",
            "\n"
          ]
        },
        {
          "name": "stderr",
          "output_type": "stream",
          "text": [
            "100%|██████████| 621/621 [00:22<00:00, 27.21it/s]\n"
          ]
        },
        {
          "name": "stdout",
          "output_type": "stream",
          "text": [
            "\n",
            "Epoch: 12, Validation Loss: 3.2759275140777686.\n",
            "\n",
            "Beginning epoch 13 of 20\n"
          ]
        },
        {
          "name": "stderr",
          "output_type": "stream",
          "text": [
            " 18%|█▊        | 1000/5581 [01:24<06:24, 11.91it/s]Setting `pad_token_id` to `eos_token_id`:5 for open-end generation.\n"
          ]
        },
        {
          "name": "stdout",
          "output_type": "stream",
          "text": [
            "\n",
            "Batch 1000 of 5581. Loss:1.3394488096237183.\n",
            "\n",
            "\n",
            "Example input:\n",
            "شد از هوش کاموس و نگسست خام\n",
            "Example output:\n",
            "شد از هوش کاموس و نگسست خام   ,    را برورد شبگون شسترد"
          ]
        },
        {
          "name": "stderr",
          "output_type": "stream",
          "text": [
            "\r 18%|█▊        | 1002/5581 [01:24<08:44,  8.72it/s]"
          ]
        },
        {
          "name": "stdout",
          "output_type": "stream",
          "text": [
            "\n",
            "\n",
            "\n"
          ]
        },
        {
          "name": "stderr",
          "output_type": "stream",
          "text": [
            " 36%|███▌      | 2000/5581 [02:48<05:09, 11.56it/s]Setting `pad_token_id` to `eos_token_id`:5 for open-end generation.\n"
          ]
        },
        {
          "name": "stdout",
          "output_type": "stream",
          "text": [
            "\n",
            "Batch 2000 of 5581. Loss:1.7513096332550049.\n"
          ]
        },
        {
          "name": "stderr",
          "output_type": "stream",
          "text": [
            "\r 36%|███▌      | 2002/5581 [02:49<08:09,  7.31it/s]"
          ]
        },
        {
          "name": "stdout",
          "output_type": "stream",
          "text": [
            "\n",
            "\n",
            "Example input:\n",
            "بینداخت آن تاب داده کمند\n",
            "Example output:\n",
            "بینداخت آن تاب داده کمند   ,   ند بر چند لا بخورد ز لا لا گرد\n",
            "\n",
            "\n"
          ]
        },
        {
          "name": "stderr",
          "output_type": "stream",
          "text": [
            " 54%|█████▍    | 3000/5581 [04:13<03:39, 11.74it/s]Setting `pad_token_id` to `eos_token_id`:5 for open-end generation.\n"
          ]
        },
        {
          "name": "stdout",
          "output_type": "stream",
          "text": [
            "\n",
            "Batch 3000 of 5581. Loss:1.502994179725647.\n"
          ]
        },
        {
          "name": "stderr",
          "output_type": "stream",
          "text": [
            "\r 54%|█████▍    | 3002/5581 [04:14<05:32,  7.75it/s]"
          ]
        },
        {
          "name": "stdout",
          "output_type": "stream",
          "text": [
            "\n",
            "\n",
            "Example input:\n",
            "دل من پر از خون شد و روی زرد\n",
            "Example output:\n",
            "دل من پر از خون شد و روی زرد   ,   ورد و به پپ روی لاژ لا لا\n",
            "\n",
            "\n"
          ]
        },
        {
          "name": "stderr",
          "output_type": "stream",
          "text": [
            " 72%|███████▏  | 4000/5581 [05:39<02:12, 11.97it/s]Setting `pad_token_id` to `eos_token_id`:5 for open-end generation.\n"
          ]
        },
        {
          "name": "stdout",
          "output_type": "stream",
          "text": [
            "\n",
            "Batch 4000 of 5581. Loss:1.5779768228530884.\n"
          ]
        },
        {
          "name": "stderr",
          "output_type": "stream",
          "text": [
            "\r 72%|███████▏  | 4002/5581 [05:39<03:04,  8.54it/s]"
          ]
        },
        {
          "name": "stdout",
          "output_type": "stream",
          "text": [
            "\n",
            "\n",
            "Example input:\n",
            "بزد خشت بر سه سپر گیل وار\n",
            "Example output:\n",
            "بزد خشت بر سه سپر گیل وار   ,   ارزا شاهسار نگار شاه وینه شکار\n",
            "\n",
            "\n"
          ]
        },
        {
          "name": "stderr",
          "output_type": "stream",
          "text": [
            " 90%|████████▉ | 5000/5581 [07:04<00:48, 12.03it/s]Setting `pad_token_id` to `eos_token_id`:5 for open-end generation.\n"
          ]
        },
        {
          "name": "stdout",
          "output_type": "stream",
          "text": [
            "\n",
            "Batch 5000 of 5581. Loss:1.1796159744262695.\n"
          ]
        },
        {
          "name": "stderr",
          "output_type": "stream",
          "text": [
            "\r 90%|████████▉ | 5002/5581 [07:04<01:10,  8.16it/s]"
          ]
        },
        {
          "name": "stdout",
          "output_type": "stream",
          "text": [
            "\n",
            "\n",
            "Example input:\n",
            "کجا نام او رستم پهلوان\n",
            "Example output:\n",
            "کجا نام او رستم پهلوان   ,    روان چند عیسی دید دخترش بود روانستست و\n",
            "\n",
            "\n"
          ]
        },
        {
          "name": "stderr",
          "output_type": "stream",
          "text": [
            "100%|██████████| 5581/5581 [07:53<00:00, 11.78it/s]\n"
          ]
        },
        {
          "name": "stdout",
          "output_type": "stream",
          "text": [
            "\n",
            "Epoch: 13, Training Loss: 1.392416500218601.\n",
            "\n"
          ]
        },
        {
          "name": "stderr",
          "output_type": "stream",
          "text": [
            "100%|██████████| 621/621 [00:23<00:00, 26.57it/s]\n"
          ]
        },
        {
          "name": "stdout",
          "output_type": "stream",
          "text": [
            "\n",
            "Epoch: 13, Validation Loss: 3.4119651075722515.\n",
            "\n",
            "Beginning epoch 14 of 20\n"
          ]
        },
        {
          "name": "stderr",
          "output_type": "stream",
          "text": [
            " 18%|█▊        | 1000/5581 [01:24<06:24, 11.91it/s]Setting `pad_token_id` to `eos_token_id`:5 for open-end generation.\n"
          ]
        },
        {
          "name": "stdout",
          "output_type": "stream",
          "text": [
            "\n",
            "Batch 1000 of 5581. Loss:1.3398241996765137.\n"
          ]
        },
        {
          "name": "stderr",
          "output_type": "stream",
          "text": [
            "\r 18%|█▊        | 1002/5581 [01:25<09:34,  7.97it/s]"
          ]
        },
        {
          "name": "stdout",
          "output_type": "stream",
          "text": [
            "\n",
            "\n",
            "Example input:\n",
            "ازان پس بروی سپه بنگرید\n",
            "Example output:\n",
            "ازان پس بروی سپه بنگرید   ,    دیدود دید آن چندداران شست دید پیاده\n",
            "\n",
            "\n"
          ]
        },
        {
          "name": "stderr",
          "output_type": "stream",
          "text": [
            " 36%|███▌      | 2000/5581 [02:49<05:16, 11.30it/s]Setting `pad_token_id` to `eos_token_id`:5 for open-end generation.\n"
          ]
        },
        {
          "name": "stdout",
          "output_type": "stream",
          "text": [
            "\n",
            "Batch 2000 of 5581. Loss:1.2489995956420898.\n"
          ]
        },
        {
          "name": "stderr",
          "output_type": "stream",
          "text": [
            "\r 36%|███▌      | 2002/5581 [02:50<07:57,  7.50it/s]"
          ]
        },
        {
          "name": "stdout",
          "output_type": "stream",
          "text": [
            "\n",
            "\n",
            "Example input:\n",
            "منوچهر را با سپاه گران\n",
            "Example output:\n",
            "منوچهر را با سپاه گران   ,    گران راه را و ران خواه راه\n",
            "\n",
            "\n"
          ]
        },
        {
          "name": "stderr",
          "output_type": "stream",
          "text": [
            " 54%|█████▍    | 3000/5581 [04:15<03:47, 11.34it/s]Setting `pad_token_id` to `eos_token_id`:5 for open-end generation.\n"
          ]
        },
        {
          "name": "stdout",
          "output_type": "stream",
          "text": [
            "\n",
            "Batch 3000 of 5581. Loss:1.4104156494140625.\n"
          ]
        },
        {
          "name": "stderr",
          "output_type": "stream",
          "text": [
            "\r 54%|█████▍    | 3002/5581 [04:15<05:51,  7.33it/s]"
          ]
        },
        {
          "name": "stdout",
          "output_type": "stream",
          "text": [
            "\n",
            "\n",
            "Example input:\n",
            "گر آیین ایران جز اینست راه\n",
            "Example output:\n",
            "گر آیین ایران جز اینست راه   ,    شاه دخترش لشکر خواهخواه خواه به خواه خواهگاه\n",
            "\n",
            "\n"
          ]
        },
        {
          "name": "stderr",
          "output_type": "stream",
          "text": [
            " 72%|███████▏  | 4000/5581 [05:40<02:11, 11.98it/s]Setting `pad_token_id` to `eos_token_id`:5 for open-end generation.\n"
          ]
        },
        {
          "name": "stdout",
          "output_type": "stream",
          "text": [
            "\n",
            "Batch 4000 of 5581. Loss:1.4465875625610352.\n"
          ]
        },
        {
          "name": "stderr",
          "output_type": "stream",
          "text": [
            "\r 72%|███████▏  | 4002/5581 [05:40<03:10,  8.27it/s]"
          ]
        },
        {
          "name": "stdout",
          "output_type": "stream",
          "text": [
            "\n",
            "\n",
            "Example input:\n",
            "اگر مانم اندر سپنجی سرای\n",
            "Example output:\n",
            "اگر مانم اندر سپنجی سرای   ,   پای بهمایمای کهمای به باشداک\n",
            "\n",
            "\n"
          ]
        },
        {
          "name": "stderr",
          "output_type": "stream",
          "text": [
            " 90%|████████▉ | 5000/5581 [07:05<00:48, 11.93it/s]Setting `pad_token_id` to `eos_token_id`:5 for open-end generation.\n"
          ]
        },
        {
          "name": "stdout",
          "output_type": "stream",
          "text": [
            "\n",
            "Batch 5000 of 5581. Loss:1.3912179470062256.\n"
          ]
        },
        {
          "name": "stderr",
          "output_type": "stream",
          "text": [
            "\r 90%|████████▉ | 5002/5581 [07:05<01:10,  8.26it/s]"
          ]
        },
        {
          "name": "stdout",
          "output_type": "stream",
          "text": [
            "\n",
            "\n",
            "Example input:\n",
            "ببستند بر پیش خسرو میان\n",
            "Example output:\n",
            "ببستند بر پیش خسرو میان   ,   انیانوان از ز گرد گردان گردن نشانار\n",
            "\n",
            "\n"
          ]
        },
        {
          "name": "stderr",
          "output_type": "stream",
          "text": [
            "100%|██████████| 5581/5581 [07:54<00:00, 11.75it/s]\n"
          ]
        },
        {
          "name": "stdout",
          "output_type": "stream",
          "text": [
            "\n",
            "Epoch: 14, Training Loss: 1.3011291410157895.\n",
            "\n"
          ]
        },
        {
          "name": "stderr",
          "output_type": "stream",
          "text": [
            "100%|██████████| 621/621 [00:23<00:00, 26.70it/s]\n"
          ]
        },
        {
          "name": "stdout",
          "output_type": "stream",
          "text": [
            "\n",
            "Epoch: 14, Validation Loss: 3.521300700935573.\n",
            "\n",
            "Beginning epoch 15 of 20\n"
          ]
        },
        {
          "name": "stderr",
          "output_type": "stream",
          "text": [
            " 18%|█▊        | 1000/5581 [01:25<06:26, 11.87it/s]Setting `pad_token_id` to `eos_token_id`:5 for open-end generation.\n"
          ]
        },
        {
          "name": "stdout",
          "output_type": "stream",
          "text": [
            "\n",
            "Batch 1000 of 5581. Loss:1.1308706998825073.\n"
          ]
        },
        {
          "name": "stderr",
          "output_type": "stream",
          "text": [
            "\r 18%|█▊        | 1002/5581 [01:25<09:19,  8.18it/s]"
          ]
        },
        {
          "name": "stdout",
          "output_type": "stream",
          "text": [
            "\n",
            "\n",
            "Example input:\n",
            "ز هر شهر فرزانه ای رای زن\n",
            "Example output:\n",
            "ز هر شهر فرزانه ای رای زن   ,    زن که که بخت عیسی دخترش بود بود پرده\n",
            "\n",
            "\n"
          ]
        },
        {
          "name": "stderr",
          "output_type": "stream",
          "text": [
            " 36%|███▌      | 2000/5581 [02:50<05:08, 11.61it/s]Setting `pad_token_id` to `eos_token_id`:5 for open-end generation.\n"
          ]
        },
        {
          "name": "stdout",
          "output_type": "stream",
          "text": [
            "\n",
            "Batch 2000 of 5581. Loss:1.1602754592895508.\n"
          ]
        },
        {
          "name": "stderr",
          "output_type": "stream",
          "text": [
            "\r 36%|███▌      | 2002/5581 [02:51<07:33,  7.90it/s]"
          ]
        },
        {
          "name": "stdout",
          "output_type": "stream",
          "text": [
            "\n",
            "\n",
            "Example input:\n",
            "اگر جنگ سازید یاری کنیم\n",
            "Example output:\n",
            "اگر جنگ سازید یاری کنیم   ,    کنیمیمکوی تاکوی بر کهیمیم شویم بد\n",
            "\n",
            "\n"
          ]
        },
        {
          "name": "stderr",
          "output_type": "stream",
          "text": [
            " 54%|█████▍    | 3000/5581 [04:16<03:48, 11.31it/s]Setting `pad_token_id` to `eos_token_id`:5 for open-end generation.\n"
          ]
        },
        {
          "name": "stdout",
          "output_type": "stream",
          "text": [
            "\n",
            "Batch 3000 of 5581. Loss:1.3757333755493164.\n"
          ]
        },
        {
          "name": "stderr",
          "output_type": "stream",
          "text": [
            "\r 54%|█████▍    | 3002/5581 [04:16<05:49,  7.38it/s]"
          ]
        },
        {
          "name": "stdout",
          "output_type": "stream",
          "text": [
            "\n",
            "\n",
            "Example input:\n",
            "بدو گفت شیرین که نوشه بدی\n",
            "Example output:\n",
            "بدو گفت شیرین که نوشه بدی   ,   ود آنست راکویی بار بار\n",
            "\n",
            "\n"
          ]
        },
        {
          "name": "stderr",
          "output_type": "stream",
          "text": [
            " 72%|███████▏  | 4000/5581 [05:42<02:13, 11.84it/s]Setting `pad_token_id` to `eos_token_id`:5 for open-end generation.\n"
          ]
        },
        {
          "name": "stdout",
          "output_type": "stream",
          "text": [
            "\n",
            "Batch 4000 of 5581. Loss:1.3924373388290405.\n"
          ]
        },
        {
          "name": "stderr",
          "output_type": "stream",
          "text": [
            "\r 72%|███████▏  | 4002/5581 [05:42<03:14,  8.13it/s]"
          ]
        },
        {
          "name": "stdout",
          "output_type": "stream",
          "text": [
            "\n",
            "\n",
            "Example input:\n",
            "ز اسب اندر آمد سبک شهریار\n",
            "Example output:\n",
            "ز اسب اندر آمد سبک شهریار   ,    شکارار بر شست شستردست شستمر\n",
            "\n",
            "\n"
          ]
        },
        {
          "name": "stderr",
          "output_type": "stream",
          "text": [
            " 90%|████████▉ | 5000/5581 [07:08<00:49, 11.86it/s]Setting `pad_token_id` to `eos_token_id`:5 for open-end generation.\n"
          ]
        },
        {
          "name": "stdout",
          "output_type": "stream",
          "text": [
            "\n",
            "Batch 5000 of 5581. Loss:1.242344856262207.\n"
          ]
        },
        {
          "name": "stderr",
          "output_type": "stream",
          "text": [
            "\r 90%|████████▉ | 5002/5581 [07:08<01:09,  8.29it/s]"
          ]
        },
        {
          "name": "stdout",
          "output_type": "stream",
          "text": [
            "\n",
            "\n",
            "Example input:\n",
            "چنین هم نگه دار تن در خورش\n",
            "Example output:\n",
            "چنین هم نگه دار تن در خورش   ,    خویشوان را آن رنج رشک ریخت\n",
            "\n",
            "\n"
          ]
        },
        {
          "name": "stderr",
          "output_type": "stream",
          "text": [
            "100%|██████████| 5581/5581 [07:57<00:00, 11.68it/s]\n"
          ]
        },
        {
          "name": "stdout",
          "output_type": "stream",
          "text": [
            "\n",
            "Epoch: 15, Training Loss: 1.2305016680935168.\n",
            "\n"
          ]
        },
        {
          "name": "stderr",
          "output_type": "stream",
          "text": [
            "100%|██████████| 621/621 [00:23<00:00, 26.27it/s]\n"
          ]
        },
        {
          "name": "stdout",
          "output_type": "stream",
          "text": [
            "\n",
            "Epoch: 15, Validation Loss: 3.6090918481829855.\n",
            "\n",
            "Beginning epoch 16 of 20\n"
          ]
        },
        {
          "name": "stderr",
          "output_type": "stream",
          "text": [
            " 18%|█▊        | 1000/5581 [01:25<06:24, 11.90it/s]Setting `pad_token_id` to `eos_token_id`:5 for open-end generation.\n"
          ]
        },
        {
          "name": "stdout",
          "output_type": "stream",
          "text": [
            "\n",
            "Batch 1000 of 5581. Loss:1.1557717323303223.\n"
          ]
        },
        {
          "name": "stderr",
          "output_type": "stream",
          "text": [
            "\r 18%|█▊        | 1002/5581 [01:26<09:24,  8.11it/s]"
          ]
        },
        {
          "name": "stdout",
          "output_type": "stream",
          "text": [
            "\n",
            "\n",
            "Example input:\n",
            "چو کیخسرو ایران بجوید همی\n",
            "Example output:\n",
            "چو کیخسرو ایران بجوید همی   ,    همی عیسی سوییامان سپاس گشت همی\n",
            "\n",
            "\n"
          ]
        },
        {
          "name": "stderr",
          "output_type": "stream",
          "text": [
            " 36%|███▌      | 2000/5581 [02:51<05:18, 11.24it/s]Setting `pad_token_id` to `eos_token_id`:5 for open-end generation.\n"
          ]
        },
        {
          "name": "stdout",
          "output_type": "stream",
          "text": [
            "\n",
            "Batch 2000 of 5581. Loss:1.168975591659546.\n"
          ]
        },
        {
          "name": "stderr",
          "output_type": "stream",
          "text": [
            "\r 36%|███▌      | 2002/5581 [02:51<08:20,  7.16it/s]"
          ]
        },
        {
          "name": "stdout",
          "output_type": "stream",
          "text": [
            "\n",
            "\n",
            "Example input:\n",
            "زن چاره گر برد پیشش نماز\n",
            "Example output:\n",
            "زن چاره گر برد پیشش نماز   ,   ودوان را چنداز که اند نیاز\n",
            "\n",
            "\n"
          ]
        },
        {
          "name": "stderr",
          "output_type": "stream",
          "text": [
            " 54%|█████▍    | 3000/5581 [04:16<03:41, 11.65it/s]Setting `pad_token_id` to `eos_token_id`:5 for open-end generation.\n"
          ]
        },
        {
          "name": "stdout",
          "output_type": "stream",
          "text": [
            "\n",
            "Batch 3000 of 5581. Loss:1.302037000656128.\n"
          ]
        },
        {
          "name": "stderr",
          "output_type": "stream",
          "text": [
            "\r 54%|█████▍    | 3002/5581 [04:17<05:46,  7.45it/s]"
          ]
        },
        {
          "name": "stdout",
          "output_type": "stream",
          "text": [
            "\n",
            "\n",
            "Example input:\n",
            "ز دهقان نژاد ایچ مردم مباد\n",
            "Example output:\n",
            "ز دهقان نژاد ایچ مردم مباد   ,    باد و را شاداد به همی\n",
            "\n",
            "\n"
          ]
        },
        {
          "name": "stderr",
          "output_type": "stream",
          "text": [
            " 72%|███████▏  | 4000/5581 [05:42<02:13, 11.87it/s]Setting `pad_token_id` to `eos_token_id`:5 for open-end generation.\n"
          ]
        },
        {
          "name": "stdout",
          "output_type": "stream",
          "text": [
            "\n",
            "Batch 4000 of 5581. Loss:1.051408290863037.\n"
          ]
        },
        {
          "name": "stderr",
          "output_type": "stream",
          "text": [
            "\r 72%|███████▏  | 4002/5581 [05:43<03:11,  8.23it/s]"
          ]
        },
        {
          "name": "stdout",
          "output_type": "stream",
          "text": [
            "\n",
            "\n",
            "Example input:\n",
            "گرت آرزو نیست خون ریختن\n",
            "Example output:\n",
            "گرت آرزو نیست خون ریختن   ,   ختن آنست خوابیده خوابیده نگه همیود بدانوز اند اند\n",
            "\n",
            "\n"
          ]
        },
        {
          "name": "stderr",
          "output_type": "stream",
          "text": [
            " 90%|████████▉ | 5000/5581 [07:08<00:48, 11.96it/s]Setting `pad_token_id` to `eos_token_id`:5 for open-end generation.\n"
          ]
        },
        {
          "name": "stdout",
          "output_type": "stream",
          "text": [
            "\n",
            "Batch 5000 of 5581. Loss:1.0086814165115356.\n"
          ]
        },
        {
          "name": "stderr",
          "output_type": "stream",
          "text": [
            "\r 90%|████████▉ | 5002/5581 [07:08<01:12,  8.00it/s]"
          ]
        },
        {
          "name": "stdout",
          "output_type": "stream",
          "text": [
            "\n",
            "\n",
            "Example input:\n",
            "بیامد خداوند آن کشت زار\n",
            "Example output:\n",
            "بیامد خداوند آن کشت زار   ,    خوارار بر کار آنست آنست شست چهار چهار روزگار\n",
            "\n",
            "\n"
          ]
        },
        {
          "name": "stderr",
          "output_type": "stream",
          "text": [
            "100%|██████████| 5581/5581 [07:58<00:00, 11.66it/s]\n"
          ]
        },
        {
          "name": "stdout",
          "output_type": "stream",
          "text": [
            "\n",
            "Epoch: 16, Training Loss: 1.1952022149387258.\n",
            "\n"
          ]
        },
        {
          "name": "stderr",
          "output_type": "stream",
          "text": [
            "100%|██████████| 621/621 [00:23<00:00, 25.95it/s]\n"
          ]
        },
        {
          "name": "stdout",
          "output_type": "stream",
          "text": [
            "\n",
            "Epoch: 16, Validation Loss: 3.6069876994103818.\n",
            "\n",
            "Beginning epoch 17 of 20\n"
          ]
        },
        {
          "name": "stderr",
          "output_type": "stream",
          "text": [
            " 18%|█▊        | 1000/5581 [01:25<06:40, 11.44it/s]Setting `pad_token_id` to `eos_token_id`:5 for open-end generation.\n"
          ]
        },
        {
          "name": "stdout",
          "output_type": "stream",
          "text": [
            "\n",
            "Batch 1000 of 5581. Loss:1.178575873374939.\n"
          ]
        },
        {
          "name": "stderr",
          "output_type": "stream",
          "text": [
            "\r 18%|█▊        | 1002/5581 [01:26<10:16,  7.43it/s]"
          ]
        },
        {
          "name": "stdout",
          "output_type": "stream",
          "text": [
            "\n",
            "\n",
            "Example input:\n",
            "بنه بر نهاد و سپه بر نشاند\n",
            "Example output:\n",
            "بنه بر نهاد و سپه بر نشاند   ,   اند را پهلوانان بروس خواند ماند\n",
            "\n",
            "\n"
          ]
        },
        {
          "name": "stderr",
          "output_type": "stream",
          "text": [
            " 36%|███▌      | 2000/5581 [02:51<05:03, 11.78it/s]Setting `pad_token_id` to `eos_token_id`:5 for open-end generation.\n"
          ]
        },
        {
          "name": "stdout",
          "output_type": "stream",
          "text": [
            "\n",
            "Batch 2000 of 5581. Loss:1.1323153972625732.\n"
          ]
        },
        {
          "name": "stderr",
          "output_type": "stream",
          "text": [
            "\r 36%|███▌      | 2002/5581 [02:52<08:16,  7.21it/s]"
          ]
        },
        {
          "name": "stdout",
          "output_type": "stream",
          "text": [
            "\n",
            "\n",
            "Example input:\n",
            "چنین تا برآمد برین چندگاه\n",
            "Example output:\n",
            "چنین تا برآمد برین چندگاه   ,    شاه راه و به خواه خواهگاه رزم\n",
            "\n",
            "\n"
          ]
        },
        {
          "name": "stderr",
          "output_type": "stream",
          "text": [
            " 54%|█████▍    | 3000/5581 [04:17<03:38, 11.79it/s]Setting `pad_token_id` to `eos_token_id`:5 for open-end generation.\n"
          ]
        },
        {
          "name": "stdout",
          "output_type": "stream",
          "text": [
            "\n",
            "Batch 3000 of 5581. Loss:1.1459511518478394.\n"
          ]
        },
        {
          "name": "stderr",
          "output_type": "stream",
          "text": [
            "\r 54%|█████▍    | 3002/5581 [04:18<05:24,  7.95it/s]"
          ]
        },
        {
          "name": "stdout",
          "output_type": "stream",
          "text": [
            "\n",
            "\n",
            "Example input:\n",
            "نیابی همی سیری از کارزار\n",
            "Example output:\n",
            "نیابی همی سیری از کارزار   ,    و وارار بر سر مخورچاررد\n",
            "\n",
            "\n"
          ]
        },
        {
          "name": "stderr",
          "output_type": "stream",
          "text": [
            " 72%|███████▏  | 4000/5581 [05:43<02:12, 11.96it/s]Setting `pad_token_id` to `eos_token_id`:5 for open-end generation.\n"
          ]
        },
        {
          "name": "stdout",
          "output_type": "stream",
          "text": [
            "\n",
            "Batch 4000 of 5581. Loss:1.2876557111740112.\n"
          ]
        },
        {
          "name": "stderr",
          "output_type": "stream",
          "text": [
            "\r 72%|███████▏  | 4002/5581 [05:44<03:14,  8.11it/s]"
          ]
        },
        {
          "name": "stdout",
          "output_type": "stream",
          "text": [
            "\n",
            "\n",
            "Example input:\n",
            "سه فرزند بودیم زیبای تخت\n",
            "Example output:\n",
            "سه فرزند بودیم زیبای تخت   ,    به به از را به رنج رنج از بهستست\n",
            "\n",
            "\n"
          ]
        },
        {
          "name": "stderr",
          "output_type": "stream",
          "text": [
            " 90%|████████▉ | 5000/5581 [07:09<00:50, 11.56it/s]Setting `pad_token_id` to `eos_token_id`:5 for open-end generation.\n"
          ]
        },
        {
          "name": "stdout",
          "output_type": "stream",
          "text": [
            "\n",
            "Batch 5000 of 5581. Loss:1.1508842706680298.\n",
            "\n",
            "\n",
            "Example input:\n",
            "سکندر چو بشنید شد سوی کوه\n",
            "Example output:\n"
          ]
        },
        {
          "name": "stderr",
          "output_type": "stream",
          "text": [
            "\r 90%|████████▉ | 5002/5581 [07:09<01:06,  8.66it/s]"
          ]
        },
        {
          "name": "stdout",
          "output_type": "stream",
          "text": [
            "سکندر چو بشنید شد سوی کوه   ,    که و خواه آن خواه خواه راه\n",
            "\n",
            "\n"
          ]
        },
        {
          "name": "stderr",
          "output_type": "stream",
          "text": [
            "100%|██████████| 5581/5581 [07:58<00:00, 11.66it/s]\n"
          ]
        },
        {
          "name": "stdout",
          "output_type": "stream",
          "text": [
            "\n",
            "Epoch: 17, Training Loss: 1.1954209258470498.\n",
            "\n"
          ]
        },
        {
          "name": "stderr",
          "output_type": "stream",
          "text": [
            "100%|██████████| 621/621 [00:23<00:00, 26.88it/s]\n"
          ]
        },
        {
          "name": "stdout",
          "output_type": "stream",
          "text": [
            "\n",
            "Epoch: 17, Validation Loss: 3.607175168975732.\n",
            "\n",
            "Beginning epoch 18 of 20\n"
          ]
        },
        {
          "name": "stderr",
          "output_type": "stream",
          "text": [
            " 18%|█▊        | 1000/5581 [01:23<06:17, 12.15it/s]Setting `pad_token_id` to `eos_token_id`:5 for open-end generation.\n"
          ]
        },
        {
          "name": "stdout",
          "output_type": "stream",
          "text": [
            "\n",
            "Batch 1000 of 5581. Loss:1.2619863748550415.\n"
          ]
        },
        {
          "name": "stderr",
          "output_type": "stream",
          "text": [
            "\r 18%|█▊        | 1002/5581 [01:24<08:51,  8.61it/s]"
          ]
        },
        {
          "name": "stdout",
          "output_type": "stream",
          "text": [
            "\n",
            "\n",
            "Example input:\n",
            "ز یزدان همی خواستند آنک رزم\n",
            "Example output:\n",
            "ز یزدان همی خواستند آنک رزم   ,   م و ز رامفرازم شویم آزار\n",
            "\n",
            "\n"
          ]
        },
        {
          "name": "stderr",
          "output_type": "stream",
          "text": [
            " 36%|███▌      | 2000/5581 [02:47<04:54, 12.16it/s]Setting `pad_token_id` to `eos_token_id`:5 for open-end generation.\n"
          ]
        },
        {
          "name": "stdout",
          "output_type": "stream",
          "text": [
            "\n",
            "Batch 2000 of 5581. Loss:1.161573886871338.\n"
          ]
        },
        {
          "name": "stderr",
          "output_type": "stream",
          "text": [
            "\r 36%|███▌      | 2002/5581 [02:47<06:55,  8.61it/s]"
          ]
        },
        {
          "name": "stdout",
          "output_type": "stream",
          "text": [
            "\n",
            "\n",
            "Example input:\n",
            "جهان را نمایش چو کردار نیست\n",
            "Example output:\n",
            "جهان را نمایش چو کردار نیست   ,    نیست از آن کهستستست\n",
            "\n",
            "\n"
          ]
        },
        {
          "name": "stderr",
          "output_type": "stream",
          "text": [
            " 54%|█████▍    | 3000/5581 [04:10<03:31, 12.20it/s]Setting `pad_token_id` to `eos_token_id`:5 for open-end generation.\n"
          ]
        },
        {
          "name": "stdout",
          "output_type": "stream",
          "text": [
            "\n",
            "Batch 3000 of 5581. Loss:1.376443862915039.\n"
          ]
        },
        {
          "name": "stderr",
          "output_type": "stream",
          "text": [
            "\r 54%|█████▍    | 3002/5581 [04:10<04:58,  8.64it/s]"
          ]
        },
        {
          "name": "stdout",
          "output_type": "stream",
          "text": [
            "\n",
            "\n",
            "Example input:\n",
            "سخن گفتن و کوشش آیین ماست\n",
            "Example output:\n",
            "سخن گفتن و کوشش آیین ماست   ,    ماست ماست دخترش دخترش ماست دخترش ناب ماست دادشش بود بود\n",
            "\n",
            "\n"
          ]
        },
        {
          "name": "stderr",
          "output_type": "stream",
          "text": [
            " 72%|███████▏  | 4000/5581 [05:33<02:11, 12.06it/s]Setting `pad_token_id` to `eos_token_id`:5 for open-end generation.\n"
          ]
        },
        {
          "name": "stdout",
          "output_type": "stream",
          "text": [
            "\n",
            "Batch 4000 of 5581. Loss:1.1856764554977417.\n"
          ]
        },
        {
          "name": "stderr",
          "output_type": "stream",
          "text": [
            "\r 72%|███████▏  | 4002/5581 [05:34<03:02,  8.66it/s]"
          ]
        },
        {
          "name": "stdout",
          "output_type": "stream",
          "text": [
            "\n",
            "\n",
            "Example input:\n",
            "برافگند اسپ از میان نبرد\n",
            "Example output:\n",
            "برافگند اسپ از میان نبرد   ,    ز بر چند بخورد بخورد به چه به غمرد\n",
            "\n",
            "\n"
          ]
        },
        {
          "name": "stderr",
          "output_type": "stream",
          "text": [
            " 90%|████████▉ | 5000/5581 [06:56<00:49, 11.78it/s]Setting `pad_token_id` to `eos_token_id`:5 for open-end generation.\n"
          ]
        },
        {
          "name": "stdout",
          "output_type": "stream",
          "text": [
            "\n",
            "Batch 5000 of 5581. Loss:1.2013397216796875.\n"
          ]
        },
        {
          "name": "stderr",
          "output_type": "stream",
          "text": [
            "\r 90%|████████▉ | 5002/5581 [06:57<01:17,  7.47it/s]"
          ]
        },
        {
          "name": "stdout",
          "output_type": "stream",
          "text": [
            "\n",
            "\n",
            "Example input:\n",
            "بی اندازه زر و گهر داشتم\n",
            "Example output:\n",
            "بی اندازه زر و گهر داشتم   ,   ودزدی آن دخترش داشتمکس داشتم بد اند کس\n",
            "\n",
            "\n"
          ]
        },
        {
          "name": "stderr",
          "output_type": "stream",
          "text": [
            "100%|██████████| 5581/5581 [07:45<00:00, 11.99it/s]\n"
          ]
        },
        {
          "name": "stdout",
          "output_type": "stream",
          "text": [
            "\n",
            "Epoch: 18, Training Loss: 1.1956670262270601.\n",
            "\n"
          ]
        },
        {
          "name": "stderr",
          "output_type": "stream",
          "text": [
            "100%|██████████| 621/621 [00:22<00:00, 28.02it/s]\n"
          ]
        },
        {
          "name": "stdout",
          "output_type": "stream",
          "text": [
            "\n",
            "Epoch: 18, Validation Loss: 3.60726075011175.\n",
            "\n",
            "Beginning epoch 19 of 20\n"
          ]
        },
        {
          "name": "stderr",
          "output_type": "stream",
          "text": [
            " 18%|█▊        | 1000/5581 [01:23<06:11, 12.32it/s]Setting `pad_token_id` to `eos_token_id`:5 for open-end generation.\n"
          ]
        },
        {
          "name": "stdout",
          "output_type": "stream",
          "text": [
            "\n",
            "Batch 1000 of 5581. Loss:1.3883781433105469.\n"
          ]
        },
        {
          "name": "stderr",
          "output_type": "stream",
          "text": [
            "\r 18%|█▊        | 1002/5581 [01:23<08:47,  8.67it/s]"
          ]
        },
        {
          "name": "stdout",
          "output_type": "stream",
          "text": [
            "\n",
            "\n",
            "Example input:\n",
            "چو دارا به دل سوک داراب داشت\n",
            "Example output:\n",
            "چو دارا به دل سوک داراب داشت   ,   فت کهانش آمد راشش زیرشت\n",
            "\n",
            "\n"
          ]
        },
        {
          "name": "stderr",
          "output_type": "stream",
          "text": [
            " 36%|███▌      | 2000/5581 [02:46<04:54, 12.16it/s]Setting `pad_token_id` to `eos_token_id`:5 for open-end generation.\n"
          ]
        },
        {
          "name": "stdout",
          "output_type": "stream",
          "text": [
            "\n",
            "Batch 2000 of 5581. Loss:1.429522156715393.\n",
            "\n",
            "\n",
            "Example input:\n",
            "دگر هفته چون هور بفراخت تاج\n",
            "Example output:\n",
            "دگر هفته چون هور بفراخت تاج   ,    بر را و چهگرفتمرد\n",
            "\n",
            "\n"
          ]
        },
        {
          "name": "stderr",
          "output_type": "stream",
          "text": [
            " 54%|█████▍    | 3000/5581 [04:09<03:31, 12.18it/s]Setting `pad_token_id` to `eos_token_id`:5 for open-end generation.\n"
          ]
        },
        {
          "name": "stdout",
          "output_type": "stream",
          "text": [
            "\n",
            "Batch 3000 of 5581. Loss:1.2321487665176392.\n"
          ]
        },
        {
          "name": "stderr",
          "output_type": "stream",
          "text": [
            "\r 54%|█████▍    | 3002/5581 [04:10<05:00,  8.60it/s]"
          ]
        },
        {
          "name": "stdout",
          "output_type": "stream",
          "text": [
            "\n",
            "\n",
            "Example input:\n",
            "چنین گفت همدان گشسب بلند\n",
            "Example output:\n",
            "چنین گفت همدان گشسب بلند   ,    ارجمند چند دخترش مرا چند بند بلند بلند پسند\n",
            "\n",
            "\n"
          ]
        },
        {
          "name": "stderr",
          "output_type": "stream",
          "text": [
            " 72%|███████▏  | 4000/5581 [05:33<02:15, 11.71it/s]Setting `pad_token_id` to `eos_token_id`:5 for open-end generation.\n"
          ]
        },
        {
          "name": "stdout",
          "output_type": "stream",
          "text": [
            "\n",
            "Batch 4000 of 5581. Loss:1.329079031944275.\n"
          ]
        },
        {
          "name": "stderr",
          "output_type": "stream",
          "text": [
            "\r 72%|███████▏  | 4002/5581 [05:33<03:10,  8.31it/s]"
          ]
        },
        {
          "name": "stdout",
          "output_type": "stream",
          "text": [
            "\n",
            "\n",
            "Example input:\n",
            "کلید چنین بند باشد فریب\n",
            "Example output:\n",
            "کلید چنین بند باشد فریب   ,    نه نه و راامان نه آذریوشند نعل نعل\n",
            "\n",
            "\n"
          ]
        },
        {
          "name": "stderr",
          "output_type": "stream",
          "text": [
            " 90%|████████▉ | 5000/5581 [06:56<00:50, 11.61it/s]Setting `pad_token_id` to `eos_token_id`:5 for open-end generation.\n"
          ]
        },
        {
          "name": "stdout",
          "output_type": "stream",
          "text": [
            "\n",
            "Batch 5000 of 5581. Loss:1.2261654138565063.\n"
          ]
        },
        {
          "name": "stderr",
          "output_type": "stream",
          "text": [
            "\r 90%|████████▉ | 5002/5581 [06:56<01:17,  7.49it/s]"
          ]
        },
        {
          "name": "stdout",
          "output_type": "stream",
          "text": [
            "\n",
            "\n",
            "Example input:\n",
            "ازان پس خرد را ستایش گرفت\n",
            "Example output:\n",
            "ازان پس خرد را ستایش گرفت   ,    گرفت ایچ بروان سر رشکگونهگرفت\n",
            "\n",
            "\n"
          ]
        },
        {
          "name": "stderr",
          "output_type": "stream",
          "text": [
            "100%|██████████| 5581/5581 [07:44<00:00, 12.00it/s]\n"
          ]
        },
        {
          "name": "stdout",
          "output_type": "stream",
          "text": [
            "\n",
            "Epoch: 19, Training Loss: 1.19511672242998.\n",
            "\n"
          ]
        },
        {
          "name": "stderr",
          "output_type": "stream",
          "text": [
            "100%|██████████| 621/621 [00:22<00:00, 28.18it/s]\n"
          ]
        },
        {
          "name": "stdout",
          "output_type": "stream",
          "text": [
            "\n",
            "Epoch: 19, Validation Loss: 3.610706099757442.\n",
            "\n",
            "Beginning epoch 20 of 20\n"
          ]
        },
        {
          "name": "stderr",
          "output_type": "stream",
          "text": [
            " 18%|█▊        | 1000/5581 [01:23<06:17, 12.14it/s]Setting `pad_token_id` to `eos_token_id`:5 for open-end generation.\n"
          ]
        },
        {
          "name": "stdout",
          "output_type": "stream",
          "text": [
            "\n",
            "Batch 1000 of 5581. Loss:1.3110538721084595.\n"
          ]
        },
        {
          "name": "stderr",
          "output_type": "stream",
          "text": [
            "\r 18%|█▊        | 1002/5581 [01:23<08:36,  8.87it/s]"
          ]
        },
        {
          "name": "stdout",
          "output_type": "stream",
          "text": [
            "\n",
            "\n",
            "Example input:\n",
            "بزد نای رویین بدرگاه شاه\n",
            "Example output:\n",
            "بزد نای رویین بدرگاه شاه   ,   گاه را بر آن اند بهگون دید سو\n",
            "\n",
            "\n"
          ]
        },
        {
          "name": "stderr",
          "output_type": "stream",
          "text": [
            " 36%|███▌      | 2000/5581 [02:46<04:52, 12.23it/s]Setting `pad_token_id` to `eos_token_id`:5 for open-end generation.\n"
          ]
        },
        {
          "name": "stdout",
          "output_type": "stream",
          "text": [
            "\n",
            "Batch 2000 of 5581. Loss:1.3509873151779175.\n"
          ]
        },
        {
          "name": "stderr",
          "output_type": "stream",
          "text": [
            "\r 36%|███▌      | 2002/5581 [02:46<06:50,  8.72it/s]"
          ]
        },
        {
          "name": "stdout",
          "output_type": "stream",
          "text": [
            "\n",
            "\n",
            "Example input:\n",
            "جهان سربسر پاک بی مرد گشت\n",
            "Example output:\n",
            "جهان سربسر پاک بی مرد گشت   ,    گشت آنست رفتند عیسی وستست اند نگ شب\n",
            "\n",
            "\n"
          ]
        },
        {
          "name": "stderr",
          "output_type": "stream",
          "text": [
            " 54%|█████▍    | 3000/5581 [04:09<03:31, 12.18it/s]Setting `pad_token_id` to `eos_token_id`:5 for open-end generation.\n"
          ]
        },
        {
          "name": "stdout",
          "output_type": "stream",
          "text": [
            "\n",
            "Batch 3000 of 5581. Loss:1.0331448316574097.\n"
          ]
        },
        {
          "name": "stderr",
          "output_type": "stream",
          "text": [
            "\r 54%|█████▍    | 3002/5581 [04:10<05:06,  8.41it/s]"
          ]
        },
        {
          "name": "stdout",
          "output_type": "stream",
          "text": [
            "\n",
            "\n",
            "Example input:\n",
            "جهانی سوی او نهادند روی\n",
            "Example output:\n",
            "جهانی سوی او نهادند روی   ,    جوی جوی و به ایچگوی جویگوی وگوی\n",
            "\n",
            "\n"
          ]
        },
        {
          "name": "stderr",
          "output_type": "stream",
          "text": [
            " 72%|███████▏  | 4000/5581 [05:32<02:14, 11.76it/s]Setting `pad_token_id` to `eos_token_id`:5 for open-end generation.\n"
          ]
        },
        {
          "name": "stdout",
          "output_type": "stream",
          "text": [
            "\n",
            "Batch 4000 of 5581. Loss:1.326168417930603.\n"
          ]
        },
        {
          "name": "stderr",
          "output_type": "stream",
          "text": [
            "\r 72%|███████▏  | 4002/5581 [05:33<03:23,  7.76it/s]"
          ]
        },
        {
          "name": "stdout",
          "output_type": "stream",
          "text": [
            "\n",
            "\n",
            "Example input:\n",
            "بر مادر آمد پژوهید و گفت\n",
            "Example output:\n",
            "بر مادر آمد پژوهید و گفت   ,   فتامان و را جفت نه نه چه دشت\n",
            "\n",
            "\n"
          ]
        },
        {
          "name": "stderr",
          "output_type": "stream",
          "text": [
            " 90%|████████▉ | 5000/5581 [06:56<00:48, 12.10it/s]Setting `pad_token_id` to `eos_token_id`:5 for open-end generation.\n"
          ]
        },
        {
          "name": "stdout",
          "output_type": "stream",
          "text": [
            "\n",
            "Batch 5000 of 5581. Loss:1.2738183736801147.\n"
          ]
        },
        {
          "name": "stderr",
          "output_type": "stream",
          "text": [
            "\r 90%|████████▉ | 5002/5581 [06:56<01:14,  7.79it/s]"
          ]
        },
        {
          "name": "stdout",
          "output_type": "stream",
          "text": [
            "\n",
            "\n",
            "Example input:\n",
            "یکی نامه با هدیه شاهوار\n",
            "Example output:\n",
            "یکی نامه با هدیه شاهوار   ,    نگارار و باز کرد به آن بر بیار\n",
            "\n",
            "\n"
          ]
        },
        {
          "name": "stderr",
          "output_type": "stream",
          "text": [
            "100%|██████████| 5581/5581 [07:44<00:00, 12.00it/s]\n"
          ]
        },
        {
          "name": "stdout",
          "output_type": "stream",
          "text": [
            "\n",
            "Epoch: 20, Training Loss: 1.1951289343227305.\n",
            "\n"
          ]
        },
        {
          "name": "stderr",
          "output_type": "stream",
          "text": [
            "100%|██████████| 621/621 [00:22<00:00, 28.21it/s]"
          ]
        },
        {
          "name": "stdout",
          "output_type": "stream",
          "text": [
            "\n",
            "Epoch: 20, Validation Loss: 3.6084791826933094.\n",
            "\n"
          ]
        },
        {
          "name": "stderr",
          "output_type": "stream",
          "text": [
            "\n"
          ]
        }
      ],
      "source": [
        "epochs = 20\n",
        "training_stats = []\n",
        "for epoch_i in range(epochs):\n",
        "    print(f'Beginning epoch {epoch_i + 1} of {epochs}')\n",
        "\n",
        "    total_train_loss = 0\n",
        "    ferdosi.train()\n",
        "    for step, (input,target,mask) in tqdm(enumerate(train_dataloader), total=len(train_dataloader), position=0):\n",
        "        b_input_ids = input.to(device)\n",
        "        b_labels = target.to(device)\n",
        "        b_masks = torch.ones_like(b_input_ids).to(device)\n",
        "\n",
        "        ferdosi.zero_grad()\n",
        "\n",
        "        outputs = ferdosi(b_input_ids, labels=b_labels, attention_mask=b_masks, token_type_ids=None)\n",
        "\n",
        "        loss = outputs[0]\n",
        "        batch_loss = loss.item()\n",
        "        total_train_loss += batch_loss\n",
        "\n",
        "        # Get sample every 'sample_every' batches.\n",
        "        if step % sample_every == 0 and not step == 0:\n",
        "\n",
        "            print()\n",
        "            print(f'Batch {step} of {len(train_dataloader)}. Loss:{batch_loss}.')\n",
        "\n",
        "            ferdosi.eval()\n",
        "\n",
        "            sample_poet = inputs[np.random.randint(0, len(inputs))]\n",
        "            sample_input = f\"<s>{sample_poet}</s>\"\n",
        "            sample_input_ids = torch.tensor(tokenizer([sample_input])[\"input_ids\"])\n",
        "            sample_input_ids = sample_input_ids.to(device)\n",
        "\n",
        "            sample_outputs = ferdosi.generate(\n",
        "                input_ids=sample_input_ids.to(device),\n",
        "                attention_mask=torch.ones_like(sample_input_ids).to(device),\n",
        "                # do_sample=True,\n",
        "                top_k=50,\n",
        "                max_length=25,\n",
        "                # top_p=0.95,\n",
        "                num_beams=5,\n",
        "                no_repeat_ngram_size=2,\n",
        "                num_return_sequences=1\n",
        "            )\n",
        "\n",
        "            for i, sample_output in enumerate(sample_outputs):\n",
        "                gen_sample_output = tokenizer.decode(sample_output, skip_special_tokens=False)\n",
        "                gen_sample_output = gen_sample_output.replace(\"<|startoftext|>\", \"\\n\")\n",
        "                gen_sample_output = gen_sample_output.replace(\"<s>\", \"\")\n",
        "                gen_sample_output = gen_sample_output.replace(\"</s>\", \"\")\n",
        "                gen_sample_output = gen_sample_output.replace(\"<sep>\", \"\\n\")\n",
        "                gen_sample_output = gen_sample_output.replace(\"<pad>\", \"\")\n",
        "                gen_sample_output = gen_sample_output.replace(\"\\u200c\", \"\")\n",
        "                gen_sample_output = gen_sample_output.replace(\"«\", \"\")\n",
        "                gen_sample_output = gen_sample_output.replace(\"»\", \"\")\n",
        "\n",
        "                print('\\n')\n",
        "                print_poems(sample_poet,gen_sample_output)\n",
        "                print('\\n')\n",
        "\n",
        "            ferdosi.train()\n",
        "\n",
        "        loss.backward()\n",
        "        optimizer.step()\n",
        "        scheduler.step()\n",
        "\n",
        "    # Calculate the average loss over all of the batches.\n",
        "    avg_train_loss = total_train_loss / len(train_dataloader)\n",
        "\n",
        "    print()\n",
        "    print(f'Epoch: {epoch_i+1}, Training Loss: {avg_train_loss}.')\n",
        "    print()\n",
        "\n",
        "    ferdosi.eval()\n",
        "\n",
        "    total_eval_loss = 0\n",
        "    nb_eval_steps = 0\n",
        "\n",
        "    # Evaluate data for one epoch\n",
        "    for input,target,mask in tqdm(validation_dataloader, total=len(validation_dataloader), position=0):\n",
        "\n",
        "        b_input_ids = input.to(device)\n",
        "        b_labels = target.to(device)\n",
        "        b_masks = torch.ones_like(b_input_ids).to(device)\n",
        "\n",
        "        outputs = ferdosi(b_input_ids, labels=b_labels, attention_mask=b_masks, token_type_ids=None)\n",
        "\n",
        "        with torch.no_grad():\n",
        "\n",
        "            outputs = ferdosi(b_input_ids, attention_mask=b_masks, labels=b_labels)\n",
        "\n",
        "            loss = outputs[0]\n",
        "\n",
        "        batch_loss = loss.item()\n",
        "        total_eval_loss += batch_loss\n",
        "\n",
        "    avg_val_loss = total_eval_loss / len(validation_dataloader)\n",
        "\n",
        "    print()\n",
        "    print(f'Epoch: {epoch_i+1}, Validation Loss: {avg_val_loss}.')\n",
        "    print()\n",
        "\n",
        "    # Record all statistics from this epoch.\n",
        "    training_stats.append(\n",
        "        {\n",
        "            'epoch': epoch_i + 1,\n",
        "            'Training Loss': avg_train_loss,\n",
        "            'Valid. Loss': avg_val_loss,\n",
        "        }\n",
        "    )\n"
      ]
    },
    {
      "cell_type": "markdown",
      "metadata": {
        "id": "aAJC5ZdgG9uF"
      },
      "source": [
        "# Inference :"
      ]
    },
    {
      "cell_type": "code",
      "execution_count": null,
      "metadata": {
        "id": "0RGuiZUaHJXw"
      },
      "outputs": [],
      "source": [
        "def random_generator():\n",
        "  ferdosi.eval()\n",
        "\n",
        "  sample_poet = inputs[np.random.randint(0, len(inputs))]\n",
        "  sample_input = f\"<s>{sample_poet}</s>\"\n",
        "  sample_input_ids = torch.tensor(tokenizer([sample_input])[\"input_ids\"])\n",
        "  sample_input_ids = sample_input_ids.to(device)\n",
        "\n",
        "  sample_outputs = ferdosi.generate(\n",
        "      input_ids=sample_input_ids.to(device),\n",
        "      attention_mask=torch.ones_like(sample_input_ids).to(device),\n",
        "      top_k=50,\n",
        "      # top_p=0.50,\n",
        "      max_length=20,\n",
        "      num_beams=5,\n",
        "      no_repeat_ngram_size=1,\n",
        "      num_return_sequences=1,\n",
        "      do_sample=False,\n",
        "      # pad_token_id=tokenizer.eos_token_id,\n",
        "  )\n",
        "\n",
        "  for i, sample_output in enumerate(sample_outputs):\n",
        "      gen_sample_output = tokenizer.decode(sample_output, skip_special_tokens=False)\n",
        "      gen_sample_output = gen_sample_output.replace(\"<|startoftext|>\", \"\\n\")\n",
        "      gen_sample_output = gen_sample_output.replace(\"<s>\", \"\")\n",
        "      gen_sample_output = gen_sample_output.replace(\"</s>\", \"\")\n",
        "      gen_sample_output = gen_sample_output.replace(\"<sep>\", \"\\n\")\n",
        "      gen_sample_output = gen_sample_output.replace(\"<pad>\", \"\")\n",
        "      gen_sample_output = gen_sample_output.replace(\"\\u200c\", \" \")\n",
        "      gen_sample_output = gen_sample_output.replace(\"«\", \" \")\n",
        "      gen_sample_output = gen_sample_output.replace(\"»\", \" \")\n",
        "\n",
        "      print_poems(sample_poet,gen_sample_output)\n",
        "\n"
      ]
    },
    {
      "cell_type": "code",
      "execution_count": null,
      "metadata": {
        "colab": {
          "base_uri": "https://localhost:8080/"
        },
        "id": "23ec_0O3HvsR",
        "outputId": "84f222f8-4988-4a6e-dae3-02189f10f07c"
      },
      "outputs": [
        {
          "name": "stderr",
          "output_type": "stream",
          "text": [
            "Setting `pad_token_id` to `eos_token_id`:5 for open-end generation.\n",
            "Setting `pad_token_id` to `eos_token_id`:5 for open-end generation.\n",
            "Setting `pad_token_id` to `eos_token_id`:5 for open-end generation.\n"
          ]
        },
        {
          "name": "stdout",
          "output_type": "stream",
          "text": [
            "Example input:\n",
            "به درگاه چون خواست لشکر فزون\n",
            "Example output:\n",
            "به درگاه چون خواست لشکر فزون   ,    و چندب نی آب ز آرم سان گذشت گود\n",
            "\n",
            "\n",
            "\n",
            "Example input:\n",
            "چه نیکو بود هر که خود را شناخت\n",
            "Example output:\n",
            "چه نیکو بود هر که خود را شناخت   ,   ود چند دخترش دیگر فریبرز بهست سرود سو\n",
            "\n",
            "\n",
            "\n"
          ]
        },
        {
          "name": "stderr",
          "output_type": "stream",
          "text": [
            "Setting `pad_token_id` to `eos_token_id`:5 for open-end generation.\n",
            "Setting `pad_token_id` to `eos_token_id`:5 for open-end generation.\n"
          ]
        },
        {
          "name": "stdout",
          "output_type": "stream",
          "text": [
            "Example input:\n",
            "که گر گیو و خسرو به ایران شوند\n",
            "Example output:\n",
            "که گر گیو و خسرو به ایران شوند   ,    شکار زوار عیسی شاهکوی بدتری دهی\n",
            "\n",
            "\n",
            "\n",
            "Example input:\n",
            "بدین جستن عیبهای دروغ\n",
            "Example output:\n",
            "بدین جستن عیبهای دروغ   ,    فروغستی دخترش شد آزمود ایچ فرستیمگرفترد\n",
            "\n",
            "\n",
            "\n"
          ]
        },
        {
          "name": "stderr",
          "output_type": "stream",
          "text": [
            "Setting `pad_token_id` to `eos_token_id`:5 for open-end generation.\n",
            "Setting `pad_token_id` to `eos_token_id`:5 for open-end generation.\n"
          ]
        },
        {
          "name": "stdout",
          "output_type": "stream",
          "text": [
            "Example input:\n",
            "دگر کز پی جنگ افراسیاب\n",
            "Example output:\n",
            "دگر کز پی جنگ افراسیاب   ,    و خواب آبز وس از پرشتاب به ز بر راه\n",
            "\n",
            "\n",
            "\n",
            "Example input:\n",
            "یکی بچهٔ فرخ آمد پدید\n",
            "Example output:\n",
            "یکی بچهٔ فرخ آمد پدید   ,    رسیدید دیدزیدودزدی بر برو س گستر پیران\n",
            "\n",
            "\n",
            "\n"
          ]
        },
        {
          "name": "stderr",
          "output_type": "stream",
          "text": [
            "Setting `pad_token_id` to `eos_token_id`:5 for open-end generation.\n",
            "Setting `pad_token_id` to `eos_token_id`:5 for open-end generation.\n"
          ]
        },
        {
          "name": "stdout",
          "output_type": "stream",
          "text": [
            "Example input:\n",
            "بپوشید پس جامهٔ نو سپید\n",
            "Example output:\n",
            "بپوشید پس جامهٔ نو سپید   ,   ستازز شد شست گشت دل ایچ اندرید\n",
            "\n",
            "\n",
            "\n",
            "Example input:\n",
            "گزین کرد زو بارگی ده هزار\n",
            "Example output:\n",
            "گزین کرد زو بارگی ده هزار   ,    سوار شکارارسار نشانخر کشوری ز شمارزار\n",
            "\n",
            "\n",
            "\n"
          ]
        },
        {
          "name": "stderr",
          "output_type": "stream",
          "text": [
            "Setting `pad_token_id` to `eos_token_id`:5 for open-end generation.\n"
          ]
        },
        {
          "name": "stdout",
          "output_type": "stream",
          "text": [
            "Example input:\n",
            "چنین گفت زان پس به بانگ بلند\n",
            "Example output:\n",
            "چنین گفت زان پس به بانگ بلند   ,   ندود چند دودوبندلقست سرود راز باز\n",
            "\n",
            "\n",
            "\n",
            "Example input:\n",
            "چنین گفت ماهوی بدبخت و شوم\n",
            "Example output:\n",
            "چنین گفت ماهوی بدبخت و شوم   ,    بوم رومز چند دخترشست برو شویم دراز نیاز\n",
            "\n",
            "\n",
            "\n"
          ]
        }
      ],
      "source": [
        "for _ in range(10):\n",
        "  random_generator()\n",
        "  print('\\n\\n')"
      ]
    },
    {
      "cell_type": "markdown",
      "metadata": {
        "id": "gocp3vFzLIwy"
      },
      "source": [
        "## Save `ferdosi` :)"
      ]
    },
    {
      "cell_type": "code",
      "execution_count": null,
      "metadata": {
        "id": "0cVB7y6kLH-P"
      },
      "outputs": [],
      "source": [
        "torch.save(ferdosi.state_dict(), '/content/drive/My Drive/DEEP/HW4/Q3/ferdosi.pth')"
      ]
    },
    {
      "cell_type": "markdown",
      "metadata": {},
      "source": [
        "## Report :"
      ]
    },
    {
      "cell_type": "markdown",
      "metadata": {},
      "source": [
        "\n",
        "<div dir=\"rtl\" style=\"font-size:18px\">\n",
        "در این تمرین از fine tune کردن gpt2 برای تولید اشعار فردوسی استفاده شده است. و خروجی ی مدل به ازای 40 ایپاک در حالت inference در چند مثال بالا آمده است.\n",
        "\n",
        "همچنین خروجی مدل که در هر ایپاک به عنوان training loss نمایش داده شده است ، همان perplexity می باشد.\n",
        "</div>"
      ]
    },
    {
      "cell_type": "markdown",
      "metadata": {},
      "source": [
        "# END :\\"
      ]
    }
  ],
  "metadata": {
    "accelerator": "GPU",
    "colab": {
      "gpuType": "T4",
      "provenance": []
    },
    "kernelspec": {
      "display_name": "Python 3",
      "name": "python3"
    },
    "language_info": {
      "name": "python"
    },
    "widgets": {
      "application/vnd.jupyter.widget-state+json": {
        "047e0e0a286c4c4f8d822e75d7514af3": {
          "model_module": "@jupyter-widgets/base",
          "model_module_version": "1.2.0",
          "model_name": "LayoutModel",
          "state": {
            "_model_module": "@jupyter-widgets/base",
            "_model_module_version": "1.2.0",
            "_model_name": "LayoutModel",
            "_view_count": null,
            "_view_module": "@jupyter-widgets/base",
            "_view_module_version": "1.2.0",
            "_view_name": "LayoutView",
            "align_content": null,
            "align_items": null,
            "align_self": null,
            "border": null,
            "bottom": null,
            "display": null,
            "flex": null,
            "flex_flow": null,
            "grid_area": null,
            "grid_auto_columns": null,
            "grid_auto_flow": null,
            "grid_auto_rows": null,
            "grid_column": null,
            "grid_gap": null,
            "grid_row": null,
            "grid_template_areas": null,
            "grid_template_columns": null,
            "grid_template_rows": null,
            "height": null,
            "justify_content": null,
            "justify_items": null,
            "left": null,
            "margin": null,
            "max_height": null,
            "max_width": null,
            "min_height": null,
            "min_width": null,
            "object_fit": null,
            "object_position": null,
            "order": null,
            "overflow": null,
            "overflow_x": null,
            "overflow_y": null,
            "padding": null,
            "right": null,
            "top": null,
            "visibility": null,
            "width": null
          }
        },
        "0a5a47bbde1b4d8abcce98723329ff4a": {
          "model_module": "@jupyter-widgets/controls",
          "model_module_version": "1.5.0",
          "model_name": "HBoxModel",
          "state": {
            "_dom_classes": [],
            "_model_module": "@jupyter-widgets/controls",
            "_model_module_version": "1.5.0",
            "_model_name": "HBoxModel",
            "_view_count": null,
            "_view_module": "@jupyter-widgets/controls",
            "_view_module_version": "1.5.0",
            "_view_name": "HBoxView",
            "box_style": "",
            "children": [
              "IPY_MODEL_1b690d58cef94ab5ab2de4acaafbee19",
              "IPY_MODEL_fa5d7236457a459a9c0d984ffd27fa39",
              "IPY_MODEL_3385181d1b474ce8bd1cd03c41eb78a6"
            ],
            "layout": "IPY_MODEL_0b0a0e2978de4401a5299c8aa64e53ac"
          }
        },
        "0b0a0e2978de4401a5299c8aa64e53ac": {
          "model_module": "@jupyter-widgets/base",
          "model_module_version": "1.2.0",
          "model_name": "LayoutModel",
          "state": {
            "_model_module": "@jupyter-widgets/base",
            "_model_module_version": "1.2.0",
            "_model_name": "LayoutModel",
            "_view_count": null,
            "_view_module": "@jupyter-widgets/base",
            "_view_module_version": "1.2.0",
            "_view_name": "LayoutView",
            "align_content": null,
            "align_items": null,
            "align_self": null,
            "border": null,
            "bottom": null,
            "display": null,
            "flex": null,
            "flex_flow": null,
            "grid_area": null,
            "grid_auto_columns": null,
            "grid_auto_flow": null,
            "grid_auto_rows": null,
            "grid_column": null,
            "grid_gap": null,
            "grid_row": null,
            "grid_template_areas": null,
            "grid_template_columns": null,
            "grid_template_rows": null,
            "height": null,
            "justify_content": null,
            "justify_items": null,
            "left": null,
            "margin": null,
            "max_height": null,
            "max_width": null,
            "min_height": null,
            "min_width": null,
            "object_fit": null,
            "object_position": null,
            "order": null,
            "overflow": null,
            "overflow_x": null,
            "overflow_y": null,
            "padding": null,
            "right": null,
            "top": null,
            "visibility": null,
            "width": null
          }
        },
        "0d2008f446754de1980eac824428cabb": {
          "model_module": "@jupyter-widgets/base",
          "model_module_version": "1.2.0",
          "model_name": "LayoutModel",
          "state": {
            "_model_module": "@jupyter-widgets/base",
            "_model_module_version": "1.2.0",
            "_model_name": "LayoutModel",
            "_view_count": null,
            "_view_module": "@jupyter-widgets/base",
            "_view_module_version": "1.2.0",
            "_view_name": "LayoutView",
            "align_content": null,
            "align_items": null,
            "align_self": null,
            "border": null,
            "bottom": null,
            "display": null,
            "flex": null,
            "flex_flow": null,
            "grid_area": null,
            "grid_auto_columns": null,
            "grid_auto_flow": null,
            "grid_auto_rows": null,
            "grid_column": null,
            "grid_gap": null,
            "grid_row": null,
            "grid_template_areas": null,
            "grid_template_columns": null,
            "grid_template_rows": null,
            "height": null,
            "justify_content": null,
            "justify_items": null,
            "left": null,
            "margin": null,
            "max_height": null,
            "max_width": null,
            "min_height": null,
            "min_width": null,
            "object_fit": null,
            "object_position": null,
            "order": null,
            "overflow": null,
            "overflow_x": null,
            "overflow_y": null,
            "padding": null,
            "right": null,
            "top": null,
            "visibility": null,
            "width": null
          }
        },
        "101b71fa3f0e4f44b7f24102fab8afa4": {
          "model_module": "@jupyter-widgets/base",
          "model_module_version": "1.2.0",
          "model_name": "LayoutModel",
          "state": {
            "_model_module": "@jupyter-widgets/base",
            "_model_module_version": "1.2.0",
            "_model_name": "LayoutModel",
            "_view_count": null,
            "_view_module": "@jupyter-widgets/base",
            "_view_module_version": "1.2.0",
            "_view_name": "LayoutView",
            "align_content": null,
            "align_items": null,
            "align_self": null,
            "border": null,
            "bottom": null,
            "display": null,
            "flex": null,
            "flex_flow": null,
            "grid_area": null,
            "grid_auto_columns": null,
            "grid_auto_flow": null,
            "grid_auto_rows": null,
            "grid_column": null,
            "grid_gap": null,
            "grid_row": null,
            "grid_template_areas": null,
            "grid_template_columns": null,
            "grid_template_rows": null,
            "height": null,
            "justify_content": null,
            "justify_items": null,
            "left": null,
            "margin": null,
            "max_height": null,
            "max_width": null,
            "min_height": null,
            "min_width": null,
            "object_fit": null,
            "object_position": null,
            "order": null,
            "overflow": null,
            "overflow_x": null,
            "overflow_y": null,
            "padding": null,
            "right": null,
            "top": null,
            "visibility": null,
            "width": null
          }
        },
        "103252bf126747b9bc13b679d1befe95": {
          "model_module": "@jupyter-widgets/controls",
          "model_module_version": "1.5.0",
          "model_name": "HBoxModel",
          "state": {
            "_dom_classes": [],
            "_model_module": "@jupyter-widgets/controls",
            "_model_module_version": "1.5.0",
            "_model_name": "HBoxModel",
            "_view_count": null,
            "_view_module": "@jupyter-widgets/controls",
            "_view_module_version": "1.5.0",
            "_view_name": "HBoxView",
            "box_style": "",
            "children": [
              "IPY_MODEL_1fc60715e98046b88bf770cf0c559484",
              "IPY_MODEL_ccc5c4081ec74b809c317e2a0ababbf7",
              "IPY_MODEL_6eb375a1bfed48bfbe07267c511f2f55"
            ],
            "layout": "IPY_MODEL_be4f77d6bddf41e59240a0aac88bc437"
          }
        },
        "11a20e3e0f12476dba1f6a1a01b2bf1a": {
          "model_module": "@jupyter-widgets/base",
          "model_module_version": "1.2.0",
          "model_name": "LayoutModel",
          "state": {
            "_model_module": "@jupyter-widgets/base",
            "_model_module_version": "1.2.0",
            "_model_name": "LayoutModel",
            "_view_count": null,
            "_view_module": "@jupyter-widgets/base",
            "_view_module_version": "1.2.0",
            "_view_name": "LayoutView",
            "align_content": null,
            "align_items": null,
            "align_self": null,
            "border": null,
            "bottom": null,
            "display": null,
            "flex": null,
            "flex_flow": null,
            "grid_area": null,
            "grid_auto_columns": null,
            "grid_auto_flow": null,
            "grid_auto_rows": null,
            "grid_column": null,
            "grid_gap": null,
            "grid_row": null,
            "grid_template_areas": null,
            "grid_template_columns": null,
            "grid_template_rows": null,
            "height": null,
            "justify_content": null,
            "justify_items": null,
            "left": null,
            "margin": null,
            "max_height": null,
            "max_width": null,
            "min_height": null,
            "min_width": null,
            "object_fit": null,
            "object_position": null,
            "order": null,
            "overflow": null,
            "overflow_x": null,
            "overflow_y": null,
            "padding": null,
            "right": null,
            "top": null,
            "visibility": null,
            "width": null
          }
        },
        "1917bc2760644fe88197ee4010a80eda": {
          "model_module": "@jupyter-widgets/base",
          "model_module_version": "1.2.0",
          "model_name": "LayoutModel",
          "state": {
            "_model_module": "@jupyter-widgets/base",
            "_model_module_version": "1.2.0",
            "_model_name": "LayoutModel",
            "_view_count": null,
            "_view_module": "@jupyter-widgets/base",
            "_view_module_version": "1.2.0",
            "_view_name": "LayoutView",
            "align_content": null,
            "align_items": null,
            "align_self": null,
            "border": null,
            "bottom": null,
            "display": null,
            "flex": null,
            "flex_flow": null,
            "grid_area": null,
            "grid_auto_columns": null,
            "grid_auto_flow": null,
            "grid_auto_rows": null,
            "grid_column": null,
            "grid_gap": null,
            "grid_row": null,
            "grid_template_areas": null,
            "grid_template_columns": null,
            "grid_template_rows": null,
            "height": null,
            "justify_content": null,
            "justify_items": null,
            "left": null,
            "margin": null,
            "max_height": null,
            "max_width": null,
            "min_height": null,
            "min_width": null,
            "object_fit": null,
            "object_position": null,
            "order": null,
            "overflow": null,
            "overflow_x": null,
            "overflow_y": null,
            "padding": null,
            "right": null,
            "top": null,
            "visibility": null,
            "width": null
          }
        },
        "19cdf927fabb4013a8910b40fb4e18de": {
          "model_module": "@jupyter-widgets/controls",
          "model_module_version": "1.5.0",
          "model_name": "DescriptionStyleModel",
          "state": {
            "_model_module": "@jupyter-widgets/controls",
            "_model_module_version": "1.5.0",
            "_model_name": "DescriptionStyleModel",
            "_view_count": null,
            "_view_module": "@jupyter-widgets/base",
            "_view_module_version": "1.2.0",
            "_view_name": "StyleView",
            "description_width": ""
          }
        },
        "1b4b5304ab1b4257bf87a006fa51429c": {
          "model_module": "@jupyter-widgets/controls",
          "model_module_version": "1.5.0",
          "model_name": "FloatProgressModel",
          "state": {
            "_dom_classes": [],
            "_model_module": "@jupyter-widgets/controls",
            "_model_module_version": "1.5.0",
            "_model_name": "FloatProgressModel",
            "_view_count": null,
            "_view_module": "@jupyter-widgets/controls",
            "_view_module_version": "1.5.0",
            "_view_name": "ProgressView",
            "bar_style": "success",
            "description": "",
            "description_tooltip": null,
            "layout": "IPY_MODEL_5f9cd8caaf2745c7a61ae1eb46400dc3",
            "max": 1159342,
            "min": 0,
            "orientation": "horizontal",
            "style": "IPY_MODEL_6ec55ca345c94fefadde7c6fdcc47436",
            "value": 1159342
          }
        },
        "1b690d58cef94ab5ab2de4acaafbee19": {
          "model_module": "@jupyter-widgets/controls",
          "model_module_version": "1.5.0",
          "model_name": "HTMLModel",
          "state": {
            "_dom_classes": [],
            "_model_module": "@jupyter-widgets/controls",
            "_model_module_version": "1.5.0",
            "_model_name": "HTMLModel",
            "_view_count": null,
            "_view_module": "@jupyter-widgets/controls",
            "_view_module_version": "1.5.0",
            "_view_name": "HTMLView",
            "description": "",
            "description_tooltip": null,
            "layout": "IPY_MODEL_101b71fa3f0e4f44b7f24102fab8afa4",
            "placeholder": "​",
            "style": "IPY_MODEL_d9884b197f1d4789b0efaa09b7c4844b",
            "value": "config.json: 100%"
          }
        },
        "1fc60715e98046b88bf770cf0c559484": {
          "model_module": "@jupyter-widgets/controls",
          "model_module_version": "1.5.0",
          "model_name": "HTMLModel",
          "state": {
            "_dom_classes": [],
            "_model_module": "@jupyter-widgets/controls",
            "_model_module_version": "1.5.0",
            "_model_name": "HTMLModel",
            "_view_count": null,
            "_view_module": "@jupyter-widgets/controls",
            "_view_module_version": "1.5.0",
            "_view_name": "HTMLView",
            "description": "",
            "description_tooltip": null,
            "layout": "IPY_MODEL_e9c1586ef8fc4eccb961d8fb22974f99",
            "placeholder": "​",
            "style": "IPY_MODEL_61f2c0dcb50744d99b0d0ae17be7f47d",
            "value": "tokenizer.json: 100%"
          }
        },
        "23a9c5cd0bee46b1810ffba15708877d": {
          "model_module": "@jupyter-widgets/base",
          "model_module_version": "1.2.0",
          "model_name": "LayoutModel",
          "state": {
            "_model_module": "@jupyter-widgets/base",
            "_model_module_version": "1.2.0",
            "_model_name": "LayoutModel",
            "_view_count": null,
            "_view_module": "@jupyter-widgets/base",
            "_view_module_version": "1.2.0",
            "_view_name": "LayoutView",
            "align_content": null,
            "align_items": null,
            "align_self": null,
            "border": null,
            "bottom": null,
            "display": null,
            "flex": null,
            "flex_flow": null,
            "grid_area": null,
            "grid_auto_columns": null,
            "grid_auto_flow": null,
            "grid_auto_rows": null,
            "grid_column": null,
            "grid_gap": null,
            "grid_row": null,
            "grid_template_areas": null,
            "grid_template_columns": null,
            "grid_template_rows": null,
            "height": null,
            "justify_content": null,
            "justify_items": null,
            "left": null,
            "margin": null,
            "max_height": null,
            "max_width": null,
            "min_height": null,
            "min_width": null,
            "object_fit": null,
            "object_position": null,
            "order": null,
            "overflow": null,
            "overflow_x": null,
            "overflow_y": null,
            "padding": null,
            "right": null,
            "top": null,
            "visibility": null,
            "width": null
          }
        },
        "254297c22b784b77962e4acb186c1248": {
          "model_module": "@jupyter-widgets/controls",
          "model_module_version": "1.5.0",
          "model_name": "DescriptionStyleModel",
          "state": {
            "_model_module": "@jupyter-widgets/controls",
            "_model_module_version": "1.5.0",
            "_model_name": "DescriptionStyleModel",
            "_view_count": null,
            "_view_module": "@jupyter-widgets/base",
            "_view_module_version": "1.2.0",
            "_view_name": "StyleView",
            "description_width": ""
          }
        },
        "27c5aef77dec41958f56bab202fa0b79": {
          "model_module": "@jupyter-widgets/controls",
          "model_module_version": "1.5.0",
          "model_name": "HBoxModel",
          "state": {
            "_dom_classes": [],
            "_model_module": "@jupyter-widgets/controls",
            "_model_module_version": "1.5.0",
            "_model_name": "HBoxModel",
            "_view_count": null,
            "_view_module": "@jupyter-widgets/controls",
            "_view_module_version": "1.5.0",
            "_view_name": "HBoxView",
            "box_style": "",
            "children": [
              "IPY_MODEL_7f46a09dc99046b2bfc54f2be6773328",
              "IPY_MODEL_b64ffe1d79ca46ab9c6b0dcd550069e0",
              "IPY_MODEL_e1023cc805f64fabbcc2d10607463854"
            ],
            "layout": "IPY_MODEL_9c350b9ecd834cf7af592f9c8072f262"
          }
        },
        "2944210f55e8456e9fd9f4fad406c79e": {
          "model_module": "@jupyter-widgets/controls",
          "model_module_version": "1.5.0",
          "model_name": "ProgressStyleModel",
          "state": {
            "_model_module": "@jupyter-widgets/controls",
            "_model_module_version": "1.5.0",
            "_model_name": "ProgressStyleModel",
            "_view_count": null,
            "_view_module": "@jupyter-widgets/base",
            "_view_module_version": "1.2.0",
            "_view_name": "StyleView",
            "bar_color": null,
            "description_width": ""
          }
        },
        "2e9a9ec383604b18a918b4d8ba687c8b": {
          "model_module": "@jupyter-widgets/base",
          "model_module_version": "1.2.0",
          "model_name": "LayoutModel",
          "state": {
            "_model_module": "@jupyter-widgets/base",
            "_model_module_version": "1.2.0",
            "_model_name": "LayoutModel",
            "_view_count": null,
            "_view_module": "@jupyter-widgets/base",
            "_view_module_version": "1.2.0",
            "_view_name": "LayoutView",
            "align_content": null,
            "align_items": null,
            "align_self": null,
            "border": null,
            "bottom": null,
            "display": null,
            "flex": null,
            "flex_flow": null,
            "grid_area": null,
            "grid_auto_columns": null,
            "grid_auto_flow": null,
            "grid_auto_rows": null,
            "grid_column": null,
            "grid_gap": null,
            "grid_row": null,
            "grid_template_areas": null,
            "grid_template_columns": null,
            "grid_template_rows": null,
            "height": null,
            "justify_content": null,
            "justify_items": null,
            "left": null,
            "margin": null,
            "max_height": null,
            "max_width": null,
            "min_height": null,
            "min_width": null,
            "object_fit": null,
            "object_position": null,
            "order": null,
            "overflow": null,
            "overflow_x": null,
            "overflow_y": null,
            "padding": null,
            "right": null,
            "top": null,
            "visibility": null,
            "width": null
          }
        },
        "30a9216f647243b3953560af1ca86dd1": {
          "model_module": "@jupyter-widgets/controls",
          "model_module_version": "1.5.0",
          "model_name": "DescriptionStyleModel",
          "state": {
            "_model_module": "@jupyter-widgets/controls",
            "_model_module_version": "1.5.0",
            "_model_name": "DescriptionStyleModel",
            "_view_count": null,
            "_view_module": "@jupyter-widgets/base",
            "_view_module_version": "1.2.0",
            "_view_name": "StyleView",
            "description_width": ""
          }
        },
        "31712659cb56424ba525c774bbe86576": {
          "model_module": "@jupyter-widgets/controls",
          "model_module_version": "1.5.0",
          "model_name": "DescriptionStyleModel",
          "state": {
            "_model_module": "@jupyter-widgets/controls",
            "_model_module_version": "1.5.0",
            "_model_name": "DescriptionStyleModel",
            "_view_count": null,
            "_view_module": "@jupyter-widgets/base",
            "_view_module_version": "1.2.0",
            "_view_name": "StyleView",
            "description_width": ""
          }
        },
        "328b72914f58469aab2444e5e40306ca": {
          "model_module": "@jupyter-widgets/controls",
          "model_module_version": "1.5.0",
          "model_name": "ProgressStyleModel",
          "state": {
            "_model_module": "@jupyter-widgets/controls",
            "_model_module_version": "1.5.0",
            "_model_name": "ProgressStyleModel",
            "_view_count": null,
            "_view_module": "@jupyter-widgets/base",
            "_view_module_version": "1.2.0",
            "_view_name": "StyleView",
            "bar_color": null,
            "description_width": ""
          }
        },
        "33261b3b6de348fcbf98f3cf3dab487f": {
          "model_module": "@jupyter-widgets/base",
          "model_module_version": "1.2.0",
          "model_name": "LayoutModel",
          "state": {
            "_model_module": "@jupyter-widgets/base",
            "_model_module_version": "1.2.0",
            "_model_name": "LayoutModel",
            "_view_count": null,
            "_view_module": "@jupyter-widgets/base",
            "_view_module_version": "1.2.0",
            "_view_name": "LayoutView",
            "align_content": null,
            "align_items": null,
            "align_self": null,
            "border": null,
            "bottom": null,
            "display": null,
            "flex": null,
            "flex_flow": null,
            "grid_area": null,
            "grid_auto_columns": null,
            "grid_auto_flow": null,
            "grid_auto_rows": null,
            "grid_column": null,
            "grid_gap": null,
            "grid_row": null,
            "grid_template_areas": null,
            "grid_template_columns": null,
            "grid_template_rows": null,
            "height": null,
            "justify_content": null,
            "justify_items": null,
            "left": null,
            "margin": null,
            "max_height": null,
            "max_width": null,
            "min_height": null,
            "min_width": null,
            "object_fit": null,
            "object_position": null,
            "order": null,
            "overflow": null,
            "overflow_x": null,
            "overflow_y": null,
            "padding": null,
            "right": null,
            "top": null,
            "visibility": null,
            "width": null
          }
        },
        "3385181d1b474ce8bd1cd03c41eb78a6": {
          "model_module": "@jupyter-widgets/controls",
          "model_module_version": "1.5.0",
          "model_name": "HTMLModel",
          "state": {
            "_dom_classes": [],
            "_model_module": "@jupyter-widgets/controls",
            "_model_module_version": "1.5.0",
            "_model_name": "HTMLModel",
            "_view_count": null,
            "_view_module": "@jupyter-widgets/controls",
            "_view_module_version": "1.5.0",
            "_view_name": "HTMLView",
            "description": "",
            "description_tooltip": null,
            "layout": "IPY_MODEL_c9f826f4362b432f89cb2a54d967f22d",
            "placeholder": "​",
            "style": "IPY_MODEL_31712659cb56424ba525c774bbe86576",
            "value": " 808/808 [00:00&lt;00:00, 57.7kB/s]"
          }
        },
        "37af0f9b8f7645868fb19c6d90e1745b": {
          "model_module": "@jupyter-widgets/controls",
          "model_module_version": "1.5.0",
          "model_name": "HTMLModel",
          "state": {
            "_dom_classes": [],
            "_model_module": "@jupyter-widgets/controls",
            "_model_module_version": "1.5.0",
            "_model_name": "HTMLModel",
            "_view_count": null,
            "_view_module": "@jupyter-widgets/controls",
            "_view_module_version": "1.5.0",
            "_view_name": "HTMLView",
            "description": "",
            "description_tooltip": null,
            "layout": "IPY_MODEL_5ac4efc07acf4a4dbf8b3ba967a20db8",
            "placeholder": "​",
            "style": "IPY_MODEL_683091fb005b4596bb78475f6f75128e",
            "value": " 485M/485M [00:05&lt;00:00, 113MB/s]"
          }
        },
        "3aa48d57cf684d0abc7023eb7474d0af": {
          "model_module": "@jupyter-widgets/base",
          "model_module_version": "1.2.0",
          "model_name": "LayoutModel",
          "state": {
            "_model_module": "@jupyter-widgets/base",
            "_model_module_version": "1.2.0",
            "_model_name": "LayoutModel",
            "_view_count": null,
            "_view_module": "@jupyter-widgets/base",
            "_view_module_version": "1.2.0",
            "_view_name": "LayoutView",
            "align_content": null,
            "align_items": null,
            "align_self": null,
            "border": null,
            "bottom": null,
            "display": null,
            "flex": null,
            "flex_flow": null,
            "grid_area": null,
            "grid_auto_columns": null,
            "grid_auto_flow": null,
            "grid_auto_rows": null,
            "grid_column": null,
            "grid_gap": null,
            "grid_row": null,
            "grid_template_areas": null,
            "grid_template_columns": null,
            "grid_template_rows": null,
            "height": null,
            "justify_content": null,
            "justify_items": null,
            "left": null,
            "margin": null,
            "max_height": null,
            "max_width": null,
            "min_height": null,
            "min_width": null,
            "object_fit": null,
            "object_position": null,
            "order": null,
            "overflow": null,
            "overflow_x": null,
            "overflow_y": null,
            "padding": null,
            "right": null,
            "top": null,
            "visibility": null,
            "width": null
          }
        },
        "4f2f22f42da24de692a3fc07ad9a113c": {
          "model_module": "@jupyter-widgets/controls",
          "model_module_version": "1.5.0",
          "model_name": "HTMLModel",
          "state": {
            "_dom_classes": [],
            "_model_module": "@jupyter-widgets/controls",
            "_model_module_version": "1.5.0",
            "_model_name": "HTMLModel",
            "_view_count": null,
            "_view_module": "@jupyter-widgets/controls",
            "_view_module_version": "1.5.0",
            "_view_name": "HTMLView",
            "description": "",
            "description_tooltip": null,
            "layout": "IPY_MODEL_2e9a9ec383604b18a918b4d8ba687c8b",
            "placeholder": "​",
            "style": "IPY_MODEL_254297c22b784b77962e4acb186c1248",
            "value": " 1.16M/1.16M [00:00&lt;00:00, 1.61MB/s]"
          }
        },
        "4f865403696749068a9f1d2e5d59447c": {
          "model_module": "@jupyter-widgets/base",
          "model_module_version": "1.2.0",
          "model_name": "LayoutModel",
          "state": {
            "_model_module": "@jupyter-widgets/base",
            "_model_module_version": "1.2.0",
            "_model_name": "LayoutModel",
            "_view_count": null,
            "_view_module": "@jupyter-widgets/base",
            "_view_module_version": "1.2.0",
            "_view_name": "LayoutView",
            "align_content": null,
            "align_items": null,
            "align_self": null,
            "border": null,
            "bottom": null,
            "display": null,
            "flex": null,
            "flex_flow": null,
            "grid_area": null,
            "grid_auto_columns": null,
            "grid_auto_flow": null,
            "grid_auto_rows": null,
            "grid_column": null,
            "grid_gap": null,
            "grid_row": null,
            "grid_template_areas": null,
            "grid_template_columns": null,
            "grid_template_rows": null,
            "height": null,
            "justify_content": null,
            "justify_items": null,
            "left": null,
            "margin": null,
            "max_height": null,
            "max_width": null,
            "min_height": null,
            "min_width": null,
            "object_fit": null,
            "object_position": null,
            "order": null,
            "overflow": null,
            "overflow_x": null,
            "overflow_y": null,
            "padding": null,
            "right": null,
            "top": null,
            "visibility": null,
            "width": null
          }
        },
        "5747b293320a4a0bb70eea8e65fcc815": {
          "model_module": "@jupyter-widgets/controls",
          "model_module_version": "1.5.0",
          "model_name": "DescriptionStyleModel",
          "state": {
            "_model_module": "@jupyter-widgets/controls",
            "_model_module_version": "1.5.0",
            "_model_name": "DescriptionStyleModel",
            "_view_count": null,
            "_view_module": "@jupyter-widgets/base",
            "_view_module_version": "1.2.0",
            "_view_name": "StyleView",
            "description_width": ""
          }
        },
        "5a4871a224824cdc82334817db5a91bd": {
          "model_module": "@jupyter-widgets/base",
          "model_module_version": "1.2.0",
          "model_name": "LayoutModel",
          "state": {
            "_model_module": "@jupyter-widgets/base",
            "_model_module_version": "1.2.0",
            "_model_name": "LayoutModel",
            "_view_count": null,
            "_view_module": "@jupyter-widgets/base",
            "_view_module_version": "1.2.0",
            "_view_name": "LayoutView",
            "align_content": null,
            "align_items": null,
            "align_self": null,
            "border": null,
            "bottom": null,
            "display": null,
            "flex": null,
            "flex_flow": null,
            "grid_area": null,
            "grid_auto_columns": null,
            "grid_auto_flow": null,
            "grid_auto_rows": null,
            "grid_column": null,
            "grid_gap": null,
            "grid_row": null,
            "grid_template_areas": null,
            "grid_template_columns": null,
            "grid_template_rows": null,
            "height": null,
            "justify_content": null,
            "justify_items": null,
            "left": null,
            "margin": null,
            "max_height": null,
            "max_width": null,
            "min_height": null,
            "min_width": null,
            "object_fit": null,
            "object_position": null,
            "order": null,
            "overflow": null,
            "overflow_x": null,
            "overflow_y": null,
            "padding": null,
            "right": null,
            "top": null,
            "visibility": null,
            "width": null
          }
        },
        "5ac4efc07acf4a4dbf8b3ba967a20db8": {
          "model_module": "@jupyter-widgets/base",
          "model_module_version": "1.2.0",
          "model_name": "LayoutModel",
          "state": {
            "_model_module": "@jupyter-widgets/base",
            "_model_module_version": "1.2.0",
            "_model_name": "LayoutModel",
            "_view_count": null,
            "_view_module": "@jupyter-widgets/base",
            "_view_module_version": "1.2.0",
            "_view_name": "LayoutView",
            "align_content": null,
            "align_items": null,
            "align_self": null,
            "border": null,
            "bottom": null,
            "display": null,
            "flex": null,
            "flex_flow": null,
            "grid_area": null,
            "grid_auto_columns": null,
            "grid_auto_flow": null,
            "grid_auto_rows": null,
            "grid_column": null,
            "grid_gap": null,
            "grid_row": null,
            "grid_template_areas": null,
            "grid_template_columns": null,
            "grid_template_rows": null,
            "height": null,
            "justify_content": null,
            "justify_items": null,
            "left": null,
            "margin": null,
            "max_height": null,
            "max_width": null,
            "min_height": null,
            "min_width": null,
            "object_fit": null,
            "object_position": null,
            "order": null,
            "overflow": null,
            "overflow_x": null,
            "overflow_y": null,
            "padding": null,
            "right": null,
            "top": null,
            "visibility": null,
            "width": null
          }
        },
        "5f9cd8caaf2745c7a61ae1eb46400dc3": {
          "model_module": "@jupyter-widgets/base",
          "model_module_version": "1.2.0",
          "model_name": "LayoutModel",
          "state": {
            "_model_module": "@jupyter-widgets/base",
            "_model_module_version": "1.2.0",
            "_model_name": "LayoutModel",
            "_view_count": null,
            "_view_module": "@jupyter-widgets/base",
            "_view_module_version": "1.2.0",
            "_view_name": "LayoutView",
            "align_content": null,
            "align_items": null,
            "align_self": null,
            "border": null,
            "bottom": null,
            "display": null,
            "flex": null,
            "flex_flow": null,
            "grid_area": null,
            "grid_auto_columns": null,
            "grid_auto_flow": null,
            "grid_auto_rows": null,
            "grid_column": null,
            "grid_gap": null,
            "grid_row": null,
            "grid_template_areas": null,
            "grid_template_columns": null,
            "grid_template_rows": null,
            "height": null,
            "justify_content": null,
            "justify_items": null,
            "left": null,
            "margin": null,
            "max_height": null,
            "max_width": null,
            "min_height": null,
            "min_width": null,
            "object_fit": null,
            "object_position": null,
            "order": null,
            "overflow": null,
            "overflow_x": null,
            "overflow_y": null,
            "padding": null,
            "right": null,
            "top": null,
            "visibility": null,
            "width": null
          }
        },
        "618214d572174a70ae8e07bb92e14880": {
          "model_module": "@jupyter-widgets/controls",
          "model_module_version": "1.5.0",
          "model_name": "DescriptionStyleModel",
          "state": {
            "_model_module": "@jupyter-widgets/controls",
            "_model_module_version": "1.5.0",
            "_model_name": "DescriptionStyleModel",
            "_view_count": null,
            "_view_module": "@jupyter-widgets/base",
            "_view_module_version": "1.2.0",
            "_view_name": "StyleView",
            "description_width": ""
          }
        },
        "61f2c0dcb50744d99b0d0ae17be7f47d": {
          "model_module": "@jupyter-widgets/controls",
          "model_module_version": "1.5.0",
          "model_name": "DescriptionStyleModel",
          "state": {
            "_model_module": "@jupyter-widgets/controls",
            "_model_module_version": "1.5.0",
            "_model_name": "DescriptionStyleModel",
            "_view_count": null,
            "_view_module": "@jupyter-widgets/base",
            "_view_module_version": "1.2.0",
            "_view_name": "StyleView",
            "description_width": ""
          }
        },
        "627ea590eda94b40a2a44f028c68ffa5": {
          "model_module": "@jupyter-widgets/base",
          "model_module_version": "1.2.0",
          "model_name": "LayoutModel",
          "state": {
            "_model_module": "@jupyter-widgets/base",
            "_model_module_version": "1.2.0",
            "_model_name": "LayoutModel",
            "_view_count": null,
            "_view_module": "@jupyter-widgets/base",
            "_view_module_version": "1.2.0",
            "_view_name": "LayoutView",
            "align_content": null,
            "align_items": null,
            "align_self": null,
            "border": null,
            "bottom": null,
            "display": null,
            "flex": null,
            "flex_flow": null,
            "grid_area": null,
            "grid_auto_columns": null,
            "grid_auto_flow": null,
            "grid_auto_rows": null,
            "grid_column": null,
            "grid_gap": null,
            "grid_row": null,
            "grid_template_areas": null,
            "grid_template_columns": null,
            "grid_template_rows": null,
            "height": null,
            "justify_content": null,
            "justify_items": null,
            "left": null,
            "margin": null,
            "max_height": null,
            "max_width": null,
            "min_height": null,
            "min_width": null,
            "object_fit": null,
            "object_position": null,
            "order": null,
            "overflow": null,
            "overflow_x": null,
            "overflow_y": null,
            "padding": null,
            "right": null,
            "top": null,
            "visibility": null,
            "width": null
          }
        },
        "64b9ccc2e6db4538901984df3679db32": {
          "model_module": "@jupyter-widgets/controls",
          "model_module_version": "1.5.0",
          "model_name": "ProgressStyleModel",
          "state": {
            "_model_module": "@jupyter-widgets/controls",
            "_model_module_version": "1.5.0",
            "_model_name": "ProgressStyleModel",
            "_view_count": null,
            "_view_module": "@jupyter-widgets/base",
            "_view_module_version": "1.2.0",
            "_view_name": "StyleView",
            "bar_color": null,
            "description_width": ""
          }
        },
        "683091fb005b4596bb78475f6f75128e": {
          "model_module": "@jupyter-widgets/controls",
          "model_module_version": "1.5.0",
          "model_name": "DescriptionStyleModel",
          "state": {
            "_model_module": "@jupyter-widgets/controls",
            "_model_module_version": "1.5.0",
            "_model_name": "DescriptionStyleModel",
            "_view_count": null,
            "_view_module": "@jupyter-widgets/base",
            "_view_module_version": "1.2.0",
            "_view_name": "StyleView",
            "description_width": ""
          }
        },
        "683c46a126d74985a0e81dc321e0496a": {
          "model_module": "@jupyter-widgets/controls",
          "model_module_version": "1.5.0",
          "model_name": "ProgressStyleModel",
          "state": {
            "_model_module": "@jupyter-widgets/controls",
            "_model_module_version": "1.5.0",
            "_model_name": "ProgressStyleModel",
            "_view_count": null,
            "_view_module": "@jupyter-widgets/base",
            "_view_module_version": "1.2.0",
            "_view_name": "StyleView",
            "bar_color": null,
            "description_width": ""
          }
        },
        "6a86cb778e2d4e8faf09455aa8733ee4": {
          "model_module": "@jupyter-widgets/controls",
          "model_module_version": "1.5.0",
          "model_name": "FloatProgressModel",
          "state": {
            "_dom_classes": [],
            "_model_module": "@jupyter-widgets/controls",
            "_model_module_version": "1.5.0",
            "_model_name": "FloatProgressModel",
            "_view_count": null,
            "_view_module": "@jupyter-widgets/controls",
            "_view_module_version": "1.5.0",
            "_view_name": "ProgressView",
            "bar_style": "success",
            "description": "",
            "description_tooltip": null,
            "layout": "IPY_MODEL_9f0d9fbdafbc42c2a78639071a182204",
            "max": 104,
            "min": 0,
            "orientation": "horizontal",
            "style": "IPY_MODEL_7c4f8f3891be432b904e9dedac495b80",
            "value": 104
          }
        },
        "6b5c5e24ef2642bdac69df8de054f1c8": {
          "model_module": "@jupyter-widgets/controls",
          "model_module_version": "1.5.0",
          "model_name": "DescriptionStyleModel",
          "state": {
            "_model_module": "@jupyter-widgets/controls",
            "_model_module_version": "1.5.0",
            "_model_name": "DescriptionStyleModel",
            "_view_count": null,
            "_view_module": "@jupyter-widgets/base",
            "_view_module_version": "1.2.0",
            "_view_name": "StyleView",
            "description_width": ""
          }
        },
        "6eb375a1bfed48bfbe07267c511f2f55": {
          "model_module": "@jupyter-widgets/controls",
          "model_module_version": "1.5.0",
          "model_name": "HTMLModel",
          "state": {
            "_dom_classes": [],
            "_model_module": "@jupyter-widgets/controls",
            "_model_module_version": "1.5.0",
            "_model_name": "HTMLModel",
            "_view_count": null,
            "_view_module": "@jupyter-widgets/controls",
            "_view_module_version": "1.5.0",
            "_view_name": "HTMLView",
            "description": "",
            "description_tooltip": null,
            "layout": "IPY_MODEL_94b4a64a63ee4d5d9916ec388706cc32",
            "placeholder": "​",
            "style": "IPY_MODEL_a7aa5d68a76247898fd570803637dc7b",
            "value": " 2.75M/2.75M [00:01&lt;00:00, 2.32MB/s]"
          }
        },
        "6ec55ca345c94fefadde7c6fdcc47436": {
          "model_module": "@jupyter-widgets/controls",
          "model_module_version": "1.5.0",
          "model_name": "ProgressStyleModel",
          "state": {
            "_model_module": "@jupyter-widgets/controls",
            "_model_module_version": "1.5.0",
            "_model_name": "ProgressStyleModel",
            "_view_count": null,
            "_view_module": "@jupyter-widgets/base",
            "_view_module_version": "1.2.0",
            "_view_name": "StyleView",
            "bar_color": null,
            "description_width": ""
          }
        },
        "70e102a9c9f6432ba9860efd4841b25b": {
          "model_module": "@jupyter-widgets/base",
          "model_module_version": "1.2.0",
          "model_name": "LayoutModel",
          "state": {
            "_model_module": "@jupyter-widgets/base",
            "_model_module_version": "1.2.0",
            "_model_name": "LayoutModel",
            "_view_count": null,
            "_view_module": "@jupyter-widgets/base",
            "_view_module_version": "1.2.0",
            "_view_name": "LayoutView",
            "align_content": null,
            "align_items": null,
            "align_self": null,
            "border": null,
            "bottom": null,
            "display": null,
            "flex": null,
            "flex_flow": null,
            "grid_area": null,
            "grid_auto_columns": null,
            "grid_auto_flow": null,
            "grid_auto_rows": null,
            "grid_column": null,
            "grid_gap": null,
            "grid_row": null,
            "grid_template_areas": null,
            "grid_template_columns": null,
            "grid_template_rows": null,
            "height": null,
            "justify_content": null,
            "justify_items": null,
            "left": null,
            "margin": null,
            "max_height": null,
            "max_width": null,
            "min_height": null,
            "min_width": null,
            "object_fit": null,
            "object_position": null,
            "order": null,
            "overflow": null,
            "overflow_x": null,
            "overflow_y": null,
            "padding": null,
            "right": null,
            "top": null,
            "visibility": null,
            "width": null
          }
        },
        "71349cd23e6849f3b7ec439e1459af13": {
          "model_module": "@jupyter-widgets/base",
          "model_module_version": "1.2.0",
          "model_name": "LayoutModel",
          "state": {
            "_model_module": "@jupyter-widgets/base",
            "_model_module_version": "1.2.0",
            "_model_name": "LayoutModel",
            "_view_count": null,
            "_view_module": "@jupyter-widgets/base",
            "_view_module_version": "1.2.0",
            "_view_name": "LayoutView",
            "align_content": null,
            "align_items": null,
            "align_self": null,
            "border": null,
            "bottom": null,
            "display": null,
            "flex": null,
            "flex_flow": null,
            "grid_area": null,
            "grid_auto_columns": null,
            "grid_auto_flow": null,
            "grid_auto_rows": null,
            "grid_column": null,
            "grid_gap": null,
            "grid_row": null,
            "grid_template_areas": null,
            "grid_template_columns": null,
            "grid_template_rows": null,
            "height": null,
            "justify_content": null,
            "justify_items": null,
            "left": null,
            "margin": null,
            "max_height": null,
            "max_width": null,
            "min_height": null,
            "min_width": null,
            "object_fit": null,
            "object_position": null,
            "order": null,
            "overflow": null,
            "overflow_x": null,
            "overflow_y": null,
            "padding": null,
            "right": null,
            "top": null,
            "visibility": null,
            "width": null
          }
        },
        "766f9a0383d74ab6b7c3490abb93ff5b": {
          "model_module": "@jupyter-widgets/base",
          "model_module_version": "1.2.0",
          "model_name": "LayoutModel",
          "state": {
            "_model_module": "@jupyter-widgets/base",
            "_model_module_version": "1.2.0",
            "_model_name": "LayoutModel",
            "_view_count": null,
            "_view_module": "@jupyter-widgets/base",
            "_view_module_version": "1.2.0",
            "_view_name": "LayoutView",
            "align_content": null,
            "align_items": null,
            "align_self": null,
            "border": null,
            "bottom": null,
            "display": null,
            "flex": null,
            "flex_flow": null,
            "grid_area": null,
            "grid_auto_columns": null,
            "grid_auto_flow": null,
            "grid_auto_rows": null,
            "grid_column": null,
            "grid_gap": null,
            "grid_row": null,
            "grid_template_areas": null,
            "grid_template_columns": null,
            "grid_template_rows": null,
            "height": null,
            "justify_content": null,
            "justify_items": null,
            "left": null,
            "margin": null,
            "max_height": null,
            "max_width": null,
            "min_height": null,
            "min_width": null,
            "object_fit": null,
            "object_position": null,
            "order": null,
            "overflow": null,
            "overflow_x": null,
            "overflow_y": null,
            "padding": null,
            "right": null,
            "top": null,
            "visibility": null,
            "width": null
          }
        },
        "7c1f0a3ede3c4159bbada2a0ab374da3": {
          "model_module": "@jupyter-widgets/controls",
          "model_module_version": "1.5.0",
          "model_name": "HTMLModel",
          "state": {
            "_dom_classes": [],
            "_model_module": "@jupyter-widgets/controls",
            "_model_module_version": "1.5.0",
            "_model_name": "HTMLModel",
            "_view_count": null,
            "_view_module": "@jupyter-widgets/controls",
            "_view_module_version": "1.5.0",
            "_view_name": "HTMLView",
            "description": "",
            "description_tooltip": null,
            "layout": "IPY_MODEL_33261b3b6de348fcbf98f3cf3dab487f",
            "placeholder": "​",
            "style": "IPY_MODEL_30a9216f647243b3953560af1ca86dd1",
            "value": "special_tokens_map.json: 100%"
          }
        },
        "7c4f8f3891be432b904e9dedac495b80": {
          "model_module": "@jupyter-widgets/controls",
          "model_module_version": "1.5.0",
          "model_name": "ProgressStyleModel",
          "state": {
            "_model_module": "@jupyter-widgets/controls",
            "_model_module_version": "1.5.0",
            "_model_name": "ProgressStyleModel",
            "_view_count": null,
            "_view_module": "@jupyter-widgets/base",
            "_view_module_version": "1.2.0",
            "_view_name": "StyleView",
            "bar_color": null,
            "description_width": ""
          }
        },
        "7ccdb323cc754a9bb78b17628a1139ca": {
          "model_module": "@jupyter-widgets/controls",
          "model_module_version": "1.5.0",
          "model_name": "DescriptionStyleModel",
          "state": {
            "_model_module": "@jupyter-widgets/controls",
            "_model_module_version": "1.5.0",
            "_model_name": "DescriptionStyleModel",
            "_view_count": null,
            "_view_module": "@jupyter-widgets/base",
            "_view_module_version": "1.2.0",
            "_view_name": "StyleView",
            "description_width": ""
          }
        },
        "7f46a09dc99046b2bfc54f2be6773328": {
          "model_module": "@jupyter-widgets/controls",
          "model_module_version": "1.5.0",
          "model_name": "HTMLModel",
          "state": {
            "_dom_classes": [],
            "_model_module": "@jupyter-widgets/controls",
            "_model_module_version": "1.5.0",
            "_model_name": "HTMLModel",
            "_view_count": null,
            "_view_module": "@jupyter-widgets/controls",
            "_view_module_version": "1.5.0",
            "_view_name": "HTMLView",
            "description": "",
            "description_tooltip": null,
            "layout": "IPY_MODEL_b639db20b8c14f4ea3a1b578c32496d1",
            "placeholder": "​",
            "style": "IPY_MODEL_618214d572174a70ae8e07bb92e14880",
            "value": "added_tokens.json: 100%"
          }
        },
        "862cefc91dba4b09a92975a4828324f4": {
          "model_module": "@jupyter-widgets/controls",
          "model_module_version": "1.5.0",
          "model_name": "FloatProgressModel",
          "state": {
            "_dom_classes": [],
            "_model_module": "@jupyter-widgets/controls",
            "_model_module_version": "1.5.0",
            "_model_name": "FloatProgressModel",
            "_view_count": null,
            "_view_module": "@jupyter-widgets/controls",
            "_view_module_version": "1.5.0",
            "_view_name": "ProgressView",
            "bar_style": "success",
            "description": "",
            "description_tooltip": null,
            "layout": "IPY_MODEL_a0fe13dcab724474950482232c807e2d",
            "max": 485044198,
            "min": 0,
            "orientation": "horizontal",
            "style": "IPY_MODEL_683c46a126d74985a0e81dc321e0496a",
            "value": 485044198
          }
        },
        "899aa3185cb74542b527314bab910480": {
          "model_module": "@jupyter-widgets/controls",
          "model_module_version": "1.5.0",
          "model_name": "HBoxModel",
          "state": {
            "_dom_classes": [],
            "_model_module": "@jupyter-widgets/controls",
            "_model_module_version": "1.5.0",
            "_model_name": "HBoxModel",
            "_view_count": null,
            "_view_module": "@jupyter-widgets/controls",
            "_view_module_version": "1.5.0",
            "_view_name": "HBoxView",
            "box_style": "",
            "children": [
              "IPY_MODEL_af6b09acab884d2396a93cd50b2a36db",
              "IPY_MODEL_b8439440d165431eb67573f18d795bd3",
              "IPY_MODEL_ebd1f7a67b02447abd030e9721ffbbfd"
            ],
            "layout": "IPY_MODEL_71349cd23e6849f3b7ec439e1459af13"
          }
        },
        "8b1bc39823324991876521e7b2b94cd2": {
          "model_module": "@jupyter-widgets/base",
          "model_module_version": "1.2.0",
          "model_name": "LayoutModel",
          "state": {
            "_model_module": "@jupyter-widgets/base",
            "_model_module_version": "1.2.0",
            "_model_name": "LayoutModel",
            "_view_count": null,
            "_view_module": "@jupyter-widgets/base",
            "_view_module_version": "1.2.0",
            "_view_name": "LayoutView",
            "align_content": null,
            "align_items": null,
            "align_self": null,
            "border": null,
            "bottom": null,
            "display": null,
            "flex": null,
            "flex_flow": null,
            "grid_area": null,
            "grid_auto_columns": null,
            "grid_auto_flow": null,
            "grid_auto_rows": null,
            "grid_column": null,
            "grid_gap": null,
            "grid_row": null,
            "grid_template_areas": null,
            "grid_template_columns": null,
            "grid_template_rows": null,
            "height": null,
            "justify_content": null,
            "justify_items": null,
            "left": null,
            "margin": null,
            "max_height": null,
            "max_width": null,
            "min_height": null,
            "min_width": null,
            "object_fit": null,
            "object_position": null,
            "order": null,
            "overflow": null,
            "overflow_x": null,
            "overflow_y": null,
            "padding": null,
            "right": null,
            "top": null,
            "visibility": null,
            "width": null
          }
        },
        "8cdbb1913e014a56ba45b6251b62af95": {
          "model_module": "@jupyter-widgets/controls",
          "model_module_version": "1.5.0",
          "model_name": "HBoxModel",
          "state": {
            "_dom_classes": [],
            "_model_module": "@jupyter-widgets/controls",
            "_model_module_version": "1.5.0",
            "_model_name": "HBoxModel",
            "_view_count": null,
            "_view_module": "@jupyter-widgets/controls",
            "_view_module_version": "1.5.0",
            "_view_name": "HBoxView",
            "box_style": "",
            "children": [
              "IPY_MODEL_bd4ca303bb7d423a9b2efc6943e9cf43",
              "IPY_MODEL_1b4b5304ab1b4257bf87a006fa51429c",
              "IPY_MODEL_4f2f22f42da24de692a3fc07ad9a113c"
            ],
            "layout": "IPY_MODEL_70e102a9c9f6432ba9860efd4841b25b"
          }
        },
        "919a948ede9a4c71a7fc61a2f82ab11b": {
          "model_module": "@jupyter-widgets/controls",
          "model_module_version": "1.5.0",
          "model_name": "ProgressStyleModel",
          "state": {
            "_model_module": "@jupyter-widgets/controls",
            "_model_module_version": "1.5.0",
            "_model_name": "ProgressStyleModel",
            "_view_count": null,
            "_view_module": "@jupyter-widgets/base",
            "_view_module_version": "1.2.0",
            "_view_name": "StyleView",
            "bar_color": null,
            "description_width": ""
          }
        },
        "94b4a64a63ee4d5d9916ec388706cc32": {
          "model_module": "@jupyter-widgets/base",
          "model_module_version": "1.2.0",
          "model_name": "LayoutModel",
          "state": {
            "_model_module": "@jupyter-widgets/base",
            "_model_module_version": "1.2.0",
            "_model_name": "LayoutModel",
            "_view_count": null,
            "_view_module": "@jupyter-widgets/base",
            "_view_module_version": "1.2.0",
            "_view_name": "LayoutView",
            "align_content": null,
            "align_items": null,
            "align_self": null,
            "border": null,
            "bottom": null,
            "display": null,
            "flex": null,
            "flex_flow": null,
            "grid_area": null,
            "grid_auto_columns": null,
            "grid_auto_flow": null,
            "grid_auto_rows": null,
            "grid_column": null,
            "grid_gap": null,
            "grid_row": null,
            "grid_template_areas": null,
            "grid_template_columns": null,
            "grid_template_rows": null,
            "height": null,
            "justify_content": null,
            "justify_items": null,
            "left": null,
            "margin": null,
            "max_height": null,
            "max_width": null,
            "min_height": null,
            "min_width": null,
            "object_fit": null,
            "object_position": null,
            "order": null,
            "overflow": null,
            "overflow_x": null,
            "overflow_y": null,
            "padding": null,
            "right": null,
            "top": null,
            "visibility": null,
            "width": null
          }
        },
        "9535f7993b304f56bb6db2bb9da5bbe8": {
          "model_module": "@jupyter-widgets/controls",
          "model_module_version": "1.5.0",
          "model_name": "DescriptionStyleModel",
          "state": {
            "_model_module": "@jupyter-widgets/controls",
            "_model_module_version": "1.5.0",
            "_model_name": "DescriptionStyleModel",
            "_view_count": null,
            "_view_module": "@jupyter-widgets/base",
            "_view_module_version": "1.2.0",
            "_view_name": "StyleView",
            "description_width": ""
          }
        },
        "9c350b9ecd834cf7af592f9c8072f262": {
          "model_module": "@jupyter-widgets/base",
          "model_module_version": "1.2.0",
          "model_name": "LayoutModel",
          "state": {
            "_model_module": "@jupyter-widgets/base",
            "_model_module_version": "1.2.0",
            "_model_name": "LayoutModel",
            "_view_count": null,
            "_view_module": "@jupyter-widgets/base",
            "_view_module_version": "1.2.0",
            "_view_name": "LayoutView",
            "align_content": null,
            "align_items": null,
            "align_self": null,
            "border": null,
            "bottom": null,
            "display": null,
            "flex": null,
            "flex_flow": null,
            "grid_area": null,
            "grid_auto_columns": null,
            "grid_auto_flow": null,
            "grid_auto_rows": null,
            "grid_column": null,
            "grid_gap": null,
            "grid_row": null,
            "grid_template_areas": null,
            "grid_template_columns": null,
            "grid_template_rows": null,
            "height": null,
            "justify_content": null,
            "justify_items": null,
            "left": null,
            "margin": null,
            "max_height": null,
            "max_width": null,
            "min_height": null,
            "min_width": null,
            "object_fit": null,
            "object_position": null,
            "order": null,
            "overflow": null,
            "overflow_x": null,
            "overflow_y": null,
            "padding": null,
            "right": null,
            "top": null,
            "visibility": null,
            "width": null
          }
        },
        "9c5f06f0b7174d70a76a3b42191d30e2": {
          "model_module": "@jupyter-widgets/controls",
          "model_module_version": "1.5.0",
          "model_name": "DescriptionStyleModel",
          "state": {
            "_model_module": "@jupyter-widgets/controls",
            "_model_module_version": "1.5.0",
            "_model_name": "DescriptionStyleModel",
            "_view_count": null,
            "_view_module": "@jupyter-widgets/base",
            "_view_module_version": "1.2.0",
            "_view_name": "StyleView",
            "description_width": ""
          }
        },
        "9f0d9fbdafbc42c2a78639071a182204": {
          "model_module": "@jupyter-widgets/base",
          "model_module_version": "1.2.0",
          "model_name": "LayoutModel",
          "state": {
            "_model_module": "@jupyter-widgets/base",
            "_model_module_version": "1.2.0",
            "_model_name": "LayoutModel",
            "_view_count": null,
            "_view_module": "@jupyter-widgets/base",
            "_view_module_version": "1.2.0",
            "_view_name": "LayoutView",
            "align_content": null,
            "align_items": null,
            "align_self": null,
            "border": null,
            "bottom": null,
            "display": null,
            "flex": null,
            "flex_flow": null,
            "grid_area": null,
            "grid_auto_columns": null,
            "grid_auto_flow": null,
            "grid_auto_rows": null,
            "grid_column": null,
            "grid_gap": null,
            "grid_row": null,
            "grid_template_areas": null,
            "grid_template_columns": null,
            "grid_template_rows": null,
            "height": null,
            "justify_content": null,
            "justify_items": null,
            "left": null,
            "margin": null,
            "max_height": null,
            "max_width": null,
            "min_height": null,
            "min_width": null,
            "object_fit": null,
            "object_position": null,
            "order": null,
            "overflow": null,
            "overflow_x": null,
            "overflow_y": null,
            "padding": null,
            "right": null,
            "top": null,
            "visibility": null,
            "width": null
          }
        },
        "a0fe13dcab724474950482232c807e2d": {
          "model_module": "@jupyter-widgets/base",
          "model_module_version": "1.2.0",
          "model_name": "LayoutModel",
          "state": {
            "_model_module": "@jupyter-widgets/base",
            "_model_module_version": "1.2.0",
            "_model_name": "LayoutModel",
            "_view_count": null,
            "_view_module": "@jupyter-widgets/base",
            "_view_module_version": "1.2.0",
            "_view_name": "LayoutView",
            "align_content": null,
            "align_items": null,
            "align_self": null,
            "border": null,
            "bottom": null,
            "display": null,
            "flex": null,
            "flex_flow": null,
            "grid_area": null,
            "grid_auto_columns": null,
            "grid_auto_flow": null,
            "grid_auto_rows": null,
            "grid_column": null,
            "grid_gap": null,
            "grid_row": null,
            "grid_template_areas": null,
            "grid_template_columns": null,
            "grid_template_rows": null,
            "height": null,
            "justify_content": null,
            "justify_items": null,
            "left": null,
            "margin": null,
            "max_height": null,
            "max_width": null,
            "min_height": null,
            "min_width": null,
            "object_fit": null,
            "object_position": null,
            "order": null,
            "overflow": null,
            "overflow_x": null,
            "overflow_y": null,
            "padding": null,
            "right": null,
            "top": null,
            "visibility": null,
            "width": null
          }
        },
        "a1f9c69077934d6b80b8526f5d237c0b": {
          "model_module": "@jupyter-widgets/controls",
          "model_module_version": "1.5.0",
          "model_name": "HTMLModel",
          "state": {
            "_dom_classes": [],
            "_model_module": "@jupyter-widgets/controls",
            "_model_module_version": "1.5.0",
            "_model_name": "HTMLModel",
            "_view_count": null,
            "_view_module": "@jupyter-widgets/controls",
            "_view_module_version": "1.5.0",
            "_view_name": "HTMLView",
            "description": "",
            "description_tooltip": null,
            "layout": "IPY_MODEL_627ea590eda94b40a2a44f028c68ffa5",
            "placeholder": "​",
            "style": "IPY_MODEL_5747b293320a4a0bb70eea8e65fcc815",
            "value": " 728/728 [00:00&lt;00:00, 30.0kB/s]"
          }
        },
        "a7aa5d68a76247898fd570803637dc7b": {
          "model_module": "@jupyter-widgets/controls",
          "model_module_version": "1.5.0",
          "model_name": "DescriptionStyleModel",
          "state": {
            "_model_module": "@jupyter-widgets/controls",
            "_model_module_version": "1.5.0",
            "_model_name": "DescriptionStyleModel",
            "_view_count": null,
            "_view_module": "@jupyter-widgets/base",
            "_view_module_version": "1.2.0",
            "_view_name": "StyleView",
            "description_width": ""
          }
        },
        "af6b09acab884d2396a93cd50b2a36db": {
          "model_module": "@jupyter-widgets/controls",
          "model_module_version": "1.5.0",
          "model_name": "HTMLModel",
          "state": {
            "_dom_classes": [],
            "_model_module": "@jupyter-widgets/controls",
            "_model_module_version": "1.5.0",
            "_model_name": "HTMLModel",
            "_view_count": null,
            "_view_module": "@jupyter-widgets/controls",
            "_view_module_version": "1.5.0",
            "_view_name": "HTMLView",
            "description": "",
            "description_tooltip": null,
            "layout": "IPY_MODEL_766f9a0383d74ab6b7c3490abb93ff5b",
            "placeholder": "​",
            "style": "IPY_MODEL_19cdf927fabb4013a8910b40fb4e18de",
            "value": "merges.txt: 100%"
          }
        },
        "b096a0ca29504313a10fe346b6b613c1": {
          "model_module": "@jupyter-widgets/controls",
          "model_module_version": "1.5.0",
          "model_name": "HBoxModel",
          "state": {
            "_dom_classes": [],
            "_model_module": "@jupyter-widgets/controls",
            "_model_module_version": "1.5.0",
            "_model_name": "HBoxModel",
            "_view_count": null,
            "_view_module": "@jupyter-widgets/controls",
            "_view_module_version": "1.5.0",
            "_view_name": "HBoxView",
            "box_style": "",
            "children": [
              "IPY_MODEL_c35961dea1a8405fa7c32598de220d84",
              "IPY_MODEL_862cefc91dba4b09a92975a4828324f4",
              "IPY_MODEL_37af0f9b8f7645868fb19c6d90e1745b"
            ],
            "layout": "IPY_MODEL_d7de2b54628c473dbc1aa46925bf0ebe"
          }
        },
        "b2f991fe7fbb497bb215e3e0bdd5a538": {
          "model_module": "@jupyter-widgets/controls",
          "model_module_version": "1.5.0",
          "model_name": "HBoxModel",
          "state": {
            "_dom_classes": [],
            "_model_module": "@jupyter-widgets/controls",
            "_model_module_version": "1.5.0",
            "_model_name": "HBoxModel",
            "_view_count": null,
            "_view_module": "@jupyter-widgets/controls",
            "_view_module_version": "1.5.0",
            "_view_name": "HBoxView",
            "box_style": "",
            "children": [
              "IPY_MODEL_f881fbae36444d53a7c4c90df040f946",
              "IPY_MODEL_fd290329d4234455961afe652bc6c495",
              "IPY_MODEL_a1f9c69077934d6b80b8526f5d237c0b"
            ],
            "layout": "IPY_MODEL_d82be6aa26014fd79f235cac29b07cbe"
          }
        },
        "b639db20b8c14f4ea3a1b578c32496d1": {
          "model_module": "@jupyter-widgets/base",
          "model_module_version": "1.2.0",
          "model_name": "LayoutModel",
          "state": {
            "_model_module": "@jupyter-widgets/base",
            "_model_module_version": "1.2.0",
            "_model_name": "LayoutModel",
            "_view_count": null,
            "_view_module": "@jupyter-widgets/base",
            "_view_module_version": "1.2.0",
            "_view_name": "LayoutView",
            "align_content": null,
            "align_items": null,
            "align_self": null,
            "border": null,
            "bottom": null,
            "display": null,
            "flex": null,
            "flex_flow": null,
            "grid_area": null,
            "grid_auto_columns": null,
            "grid_auto_flow": null,
            "grid_auto_rows": null,
            "grid_column": null,
            "grid_gap": null,
            "grid_row": null,
            "grid_template_areas": null,
            "grid_template_columns": null,
            "grid_template_rows": null,
            "height": null,
            "justify_content": null,
            "justify_items": null,
            "left": null,
            "margin": null,
            "max_height": null,
            "max_width": null,
            "min_height": null,
            "min_width": null,
            "object_fit": null,
            "object_position": null,
            "order": null,
            "overflow": null,
            "overflow_x": null,
            "overflow_y": null,
            "padding": null,
            "right": null,
            "top": null,
            "visibility": null,
            "width": null
          }
        },
        "b64ffe1d79ca46ab9c6b0dcd550069e0": {
          "model_module": "@jupyter-widgets/controls",
          "model_module_version": "1.5.0",
          "model_name": "FloatProgressModel",
          "state": {
            "_dom_classes": [],
            "_model_module": "@jupyter-widgets/controls",
            "_model_module_version": "1.5.0",
            "_model_name": "FloatProgressModel",
            "_view_count": null,
            "_view_module": "@jupyter-widgets/controls",
            "_view_module_version": "1.5.0",
            "_view_name": "ProgressView",
            "bar_style": "success",
            "description": "",
            "description_tooltip": null,
            "layout": "IPY_MODEL_f10a05c4653e41358ed65d18748e910f",
            "max": 14,
            "min": 0,
            "orientation": "horizontal",
            "style": "IPY_MODEL_64b9ccc2e6db4538901984df3679db32",
            "value": 14
          }
        },
        "b8439440d165431eb67573f18d795bd3": {
          "model_module": "@jupyter-widgets/controls",
          "model_module_version": "1.5.0",
          "model_name": "FloatProgressModel",
          "state": {
            "_dom_classes": [],
            "_model_module": "@jupyter-widgets/controls",
            "_model_module_version": "1.5.0",
            "_model_name": "FloatProgressModel",
            "_view_count": null,
            "_view_module": "@jupyter-widgets/controls",
            "_view_module_version": "1.5.0",
            "_view_name": "ProgressView",
            "bar_style": "success",
            "description": "",
            "description_tooltip": null,
            "layout": "IPY_MODEL_c8bc65b944c64ee4ad7824e3a74de0f0",
            "max": 875476,
            "min": 0,
            "orientation": "horizontal",
            "style": "IPY_MODEL_2944210f55e8456e9fd9f4fad406c79e",
            "value": 875476
          }
        },
        "bcdd336a484e44bd833fa1949b7912fe": {
          "model_module": "@jupyter-widgets/controls",
          "model_module_version": "1.5.0",
          "model_name": "ProgressStyleModel",
          "state": {
            "_model_module": "@jupyter-widgets/controls",
            "_model_module_version": "1.5.0",
            "_model_name": "ProgressStyleModel",
            "_view_count": null,
            "_view_module": "@jupyter-widgets/base",
            "_view_module_version": "1.2.0",
            "_view_name": "StyleView",
            "bar_color": null,
            "description_width": ""
          }
        },
        "bd4ca303bb7d423a9b2efc6943e9cf43": {
          "model_module": "@jupyter-widgets/controls",
          "model_module_version": "1.5.0",
          "model_name": "HTMLModel",
          "state": {
            "_dom_classes": [],
            "_model_module": "@jupyter-widgets/controls",
            "_model_module_version": "1.5.0",
            "_model_name": "HTMLModel",
            "_view_count": null,
            "_view_module": "@jupyter-widgets/controls",
            "_view_module_version": "1.5.0",
            "_view_name": "HTMLView",
            "description": "",
            "description_tooltip": null,
            "layout": "IPY_MODEL_0d2008f446754de1980eac824428cabb",
            "placeholder": "​",
            "style": "IPY_MODEL_9535f7993b304f56bb6db2bb9da5bbe8",
            "value": "vocab.json: 100%"
          }
        },
        "be4f77d6bddf41e59240a0aac88bc437": {
          "model_module": "@jupyter-widgets/base",
          "model_module_version": "1.2.0",
          "model_name": "LayoutModel",
          "state": {
            "_model_module": "@jupyter-widgets/base",
            "_model_module_version": "1.2.0",
            "_model_name": "LayoutModel",
            "_view_count": null,
            "_view_module": "@jupyter-widgets/base",
            "_view_module_version": "1.2.0",
            "_view_name": "LayoutView",
            "align_content": null,
            "align_items": null,
            "align_self": null,
            "border": null,
            "bottom": null,
            "display": null,
            "flex": null,
            "flex_flow": null,
            "grid_area": null,
            "grid_auto_columns": null,
            "grid_auto_flow": null,
            "grid_auto_rows": null,
            "grid_column": null,
            "grid_gap": null,
            "grid_row": null,
            "grid_template_areas": null,
            "grid_template_columns": null,
            "grid_template_rows": null,
            "height": null,
            "justify_content": null,
            "justify_items": null,
            "left": null,
            "margin": null,
            "max_height": null,
            "max_width": null,
            "min_height": null,
            "min_width": null,
            "object_fit": null,
            "object_position": null,
            "order": null,
            "overflow": null,
            "overflow_x": null,
            "overflow_y": null,
            "padding": null,
            "right": null,
            "top": null,
            "visibility": null,
            "width": null
          }
        },
        "c2b715bcee564734b0de5e6471dc15ae": {
          "model_module": "@jupyter-widgets/controls",
          "model_module_version": "1.5.0",
          "model_name": "HTMLModel",
          "state": {
            "_dom_classes": [],
            "_model_module": "@jupyter-widgets/controls",
            "_model_module_version": "1.5.0",
            "_model_name": "HTMLModel",
            "_view_count": null,
            "_view_module": "@jupyter-widgets/controls",
            "_view_module_version": "1.5.0",
            "_view_name": "HTMLView",
            "description": "",
            "description_tooltip": null,
            "layout": "IPY_MODEL_11a20e3e0f12476dba1f6a1a01b2bf1a",
            "placeholder": "​",
            "style": "IPY_MODEL_dd278ea130b64284877c5fc1e52840eb",
            "value": " 104/104 [00:00&lt;00:00, 2.15kB/s]"
          }
        },
        "c35961dea1a8405fa7c32598de220d84": {
          "model_module": "@jupyter-widgets/controls",
          "model_module_version": "1.5.0",
          "model_name": "HTMLModel",
          "state": {
            "_dom_classes": [],
            "_model_module": "@jupyter-widgets/controls",
            "_model_module_version": "1.5.0",
            "_model_name": "HTMLModel",
            "_view_count": null,
            "_view_module": "@jupyter-widgets/controls",
            "_view_module_version": "1.5.0",
            "_view_name": "HTMLView",
            "description": "",
            "description_tooltip": null,
            "layout": "IPY_MODEL_3aa48d57cf684d0abc7023eb7474d0af",
            "placeholder": "​",
            "style": "IPY_MODEL_9c5f06f0b7174d70a76a3b42191d30e2",
            "value": "pytorch_model.bin: 100%"
          }
        },
        "c8bc65b944c64ee4ad7824e3a74de0f0": {
          "model_module": "@jupyter-widgets/base",
          "model_module_version": "1.2.0",
          "model_name": "LayoutModel",
          "state": {
            "_model_module": "@jupyter-widgets/base",
            "_model_module_version": "1.2.0",
            "_model_name": "LayoutModel",
            "_view_count": null,
            "_view_module": "@jupyter-widgets/base",
            "_view_module_version": "1.2.0",
            "_view_name": "LayoutView",
            "align_content": null,
            "align_items": null,
            "align_self": null,
            "border": null,
            "bottom": null,
            "display": null,
            "flex": null,
            "flex_flow": null,
            "grid_area": null,
            "grid_auto_columns": null,
            "grid_auto_flow": null,
            "grid_auto_rows": null,
            "grid_column": null,
            "grid_gap": null,
            "grid_row": null,
            "grid_template_areas": null,
            "grid_template_columns": null,
            "grid_template_rows": null,
            "height": null,
            "justify_content": null,
            "justify_items": null,
            "left": null,
            "margin": null,
            "max_height": null,
            "max_width": null,
            "min_height": null,
            "min_width": null,
            "object_fit": null,
            "object_position": null,
            "order": null,
            "overflow": null,
            "overflow_x": null,
            "overflow_y": null,
            "padding": null,
            "right": null,
            "top": null,
            "visibility": null,
            "width": null
          }
        },
        "c932e44bd36a4fbb9129cd20e85e0e26": {
          "model_module": "@jupyter-widgets/controls",
          "model_module_version": "1.5.0",
          "model_name": "HBoxModel",
          "state": {
            "_dom_classes": [],
            "_model_module": "@jupyter-widgets/controls",
            "_model_module_version": "1.5.0",
            "_model_name": "HBoxModel",
            "_view_count": null,
            "_view_module": "@jupyter-widgets/controls",
            "_view_module_version": "1.5.0",
            "_view_name": "HBoxView",
            "box_style": "",
            "children": [
              "IPY_MODEL_7c1f0a3ede3c4159bbada2a0ab374da3",
              "IPY_MODEL_6a86cb778e2d4e8faf09455aa8733ee4",
              "IPY_MODEL_c2b715bcee564734b0de5e6471dc15ae"
            ],
            "layout": "IPY_MODEL_047e0e0a286c4c4f8d822e75d7514af3"
          }
        },
        "c9f826f4362b432f89cb2a54d967f22d": {
          "model_module": "@jupyter-widgets/base",
          "model_module_version": "1.2.0",
          "model_name": "LayoutModel",
          "state": {
            "_model_module": "@jupyter-widgets/base",
            "_model_module_version": "1.2.0",
            "_model_name": "LayoutModel",
            "_view_count": null,
            "_view_module": "@jupyter-widgets/base",
            "_view_module_version": "1.2.0",
            "_view_name": "LayoutView",
            "align_content": null,
            "align_items": null,
            "align_self": null,
            "border": null,
            "bottom": null,
            "display": null,
            "flex": null,
            "flex_flow": null,
            "grid_area": null,
            "grid_auto_columns": null,
            "grid_auto_flow": null,
            "grid_auto_rows": null,
            "grid_column": null,
            "grid_gap": null,
            "grid_row": null,
            "grid_template_areas": null,
            "grid_template_columns": null,
            "grid_template_rows": null,
            "height": null,
            "justify_content": null,
            "justify_items": null,
            "left": null,
            "margin": null,
            "max_height": null,
            "max_width": null,
            "min_height": null,
            "min_width": null,
            "object_fit": null,
            "object_position": null,
            "order": null,
            "overflow": null,
            "overflow_x": null,
            "overflow_y": null,
            "padding": null,
            "right": null,
            "top": null,
            "visibility": null,
            "width": null
          }
        },
        "cbda4ca763c1403198603fb2e7dcd689": {
          "model_module": "@jupyter-widgets/base",
          "model_module_version": "1.2.0",
          "model_name": "LayoutModel",
          "state": {
            "_model_module": "@jupyter-widgets/base",
            "_model_module_version": "1.2.0",
            "_model_name": "LayoutModel",
            "_view_count": null,
            "_view_module": "@jupyter-widgets/base",
            "_view_module_version": "1.2.0",
            "_view_name": "LayoutView",
            "align_content": null,
            "align_items": null,
            "align_self": null,
            "border": null,
            "bottom": null,
            "display": null,
            "flex": null,
            "flex_flow": null,
            "grid_area": null,
            "grid_auto_columns": null,
            "grid_auto_flow": null,
            "grid_auto_rows": null,
            "grid_column": null,
            "grid_gap": null,
            "grid_row": null,
            "grid_template_areas": null,
            "grid_template_columns": null,
            "grid_template_rows": null,
            "height": null,
            "justify_content": null,
            "justify_items": null,
            "left": null,
            "margin": null,
            "max_height": null,
            "max_width": null,
            "min_height": null,
            "min_width": null,
            "object_fit": null,
            "object_position": null,
            "order": null,
            "overflow": null,
            "overflow_x": null,
            "overflow_y": null,
            "padding": null,
            "right": null,
            "top": null,
            "visibility": null,
            "width": null
          }
        },
        "ccc5c4081ec74b809c317e2a0ababbf7": {
          "model_module": "@jupyter-widgets/controls",
          "model_module_version": "1.5.0",
          "model_name": "FloatProgressModel",
          "state": {
            "_dom_classes": [],
            "_model_module": "@jupyter-widgets/controls",
            "_model_module_version": "1.5.0",
            "_model_name": "FloatProgressModel",
            "_view_count": null,
            "_view_module": "@jupyter-widgets/controls",
            "_view_module_version": "1.5.0",
            "_view_name": "ProgressView",
            "bar_style": "success",
            "description": "",
            "description_tooltip": null,
            "layout": "IPY_MODEL_cbda4ca763c1403198603fb2e7dcd689",
            "max": 2748949,
            "min": 0,
            "orientation": "horizontal",
            "style": "IPY_MODEL_bcdd336a484e44bd833fa1949b7912fe",
            "value": 2748949
          }
        },
        "d7de2b54628c473dbc1aa46925bf0ebe": {
          "model_module": "@jupyter-widgets/base",
          "model_module_version": "1.2.0",
          "model_name": "LayoutModel",
          "state": {
            "_model_module": "@jupyter-widgets/base",
            "_model_module_version": "1.2.0",
            "_model_name": "LayoutModel",
            "_view_count": null,
            "_view_module": "@jupyter-widgets/base",
            "_view_module_version": "1.2.0",
            "_view_name": "LayoutView",
            "align_content": null,
            "align_items": null,
            "align_self": null,
            "border": null,
            "bottom": null,
            "display": null,
            "flex": null,
            "flex_flow": null,
            "grid_area": null,
            "grid_auto_columns": null,
            "grid_auto_flow": null,
            "grid_auto_rows": null,
            "grid_column": null,
            "grid_gap": null,
            "grid_row": null,
            "grid_template_areas": null,
            "grid_template_columns": null,
            "grid_template_rows": null,
            "height": null,
            "justify_content": null,
            "justify_items": null,
            "left": null,
            "margin": null,
            "max_height": null,
            "max_width": null,
            "min_height": null,
            "min_width": null,
            "object_fit": null,
            "object_position": null,
            "order": null,
            "overflow": null,
            "overflow_x": null,
            "overflow_y": null,
            "padding": null,
            "right": null,
            "top": null,
            "visibility": null,
            "width": null
          }
        },
        "d82be6aa26014fd79f235cac29b07cbe": {
          "model_module": "@jupyter-widgets/base",
          "model_module_version": "1.2.0",
          "model_name": "LayoutModel",
          "state": {
            "_model_module": "@jupyter-widgets/base",
            "_model_module_version": "1.2.0",
            "_model_name": "LayoutModel",
            "_view_count": null,
            "_view_module": "@jupyter-widgets/base",
            "_view_module_version": "1.2.0",
            "_view_name": "LayoutView",
            "align_content": null,
            "align_items": null,
            "align_self": null,
            "border": null,
            "bottom": null,
            "display": null,
            "flex": null,
            "flex_flow": null,
            "grid_area": null,
            "grid_auto_columns": null,
            "grid_auto_flow": null,
            "grid_auto_rows": null,
            "grid_column": null,
            "grid_gap": null,
            "grid_row": null,
            "grid_template_areas": null,
            "grid_template_columns": null,
            "grid_template_rows": null,
            "height": null,
            "justify_content": null,
            "justify_items": null,
            "left": null,
            "margin": null,
            "max_height": null,
            "max_width": null,
            "min_height": null,
            "min_width": null,
            "object_fit": null,
            "object_position": null,
            "order": null,
            "overflow": null,
            "overflow_x": null,
            "overflow_y": null,
            "padding": null,
            "right": null,
            "top": null,
            "visibility": null,
            "width": null
          }
        },
        "d9884b197f1d4789b0efaa09b7c4844b": {
          "model_module": "@jupyter-widgets/controls",
          "model_module_version": "1.5.0",
          "model_name": "DescriptionStyleModel",
          "state": {
            "_model_module": "@jupyter-widgets/controls",
            "_model_module_version": "1.5.0",
            "_model_name": "DescriptionStyleModel",
            "_view_count": null,
            "_view_module": "@jupyter-widgets/base",
            "_view_module_version": "1.2.0",
            "_view_name": "StyleView",
            "description_width": ""
          }
        },
        "dd278ea130b64284877c5fc1e52840eb": {
          "model_module": "@jupyter-widgets/controls",
          "model_module_version": "1.5.0",
          "model_name": "DescriptionStyleModel",
          "state": {
            "_model_module": "@jupyter-widgets/controls",
            "_model_module_version": "1.5.0",
            "_model_name": "DescriptionStyleModel",
            "_view_count": null,
            "_view_module": "@jupyter-widgets/base",
            "_view_module_version": "1.2.0",
            "_view_name": "StyleView",
            "description_width": ""
          }
        },
        "e1023cc805f64fabbcc2d10607463854": {
          "model_module": "@jupyter-widgets/controls",
          "model_module_version": "1.5.0",
          "model_name": "HTMLModel",
          "state": {
            "_dom_classes": [],
            "_model_module": "@jupyter-widgets/controls",
            "_model_module_version": "1.5.0",
            "_model_name": "HTMLModel",
            "_view_count": null,
            "_view_module": "@jupyter-widgets/controls",
            "_view_module_version": "1.5.0",
            "_view_name": "HTMLView",
            "description": "",
            "description_tooltip": null,
            "layout": "IPY_MODEL_5a4871a224824cdc82334817db5a91bd",
            "placeholder": "​",
            "style": "IPY_MODEL_e2e4be2ede8842d787d9ea92fc67b261",
            "value": " 14.0/14.0 [00:00&lt;00:00, 598B/s]"
          }
        },
        "e2e4be2ede8842d787d9ea92fc67b261": {
          "model_module": "@jupyter-widgets/controls",
          "model_module_version": "1.5.0",
          "model_name": "DescriptionStyleModel",
          "state": {
            "_model_module": "@jupyter-widgets/controls",
            "_model_module_version": "1.5.0",
            "_model_name": "DescriptionStyleModel",
            "_view_count": null,
            "_view_module": "@jupyter-widgets/base",
            "_view_module_version": "1.2.0",
            "_view_name": "StyleView",
            "description_width": ""
          }
        },
        "e9c1586ef8fc4eccb961d8fb22974f99": {
          "model_module": "@jupyter-widgets/base",
          "model_module_version": "1.2.0",
          "model_name": "LayoutModel",
          "state": {
            "_model_module": "@jupyter-widgets/base",
            "_model_module_version": "1.2.0",
            "_model_name": "LayoutModel",
            "_view_count": null,
            "_view_module": "@jupyter-widgets/base",
            "_view_module_version": "1.2.0",
            "_view_name": "LayoutView",
            "align_content": null,
            "align_items": null,
            "align_self": null,
            "border": null,
            "bottom": null,
            "display": null,
            "flex": null,
            "flex_flow": null,
            "grid_area": null,
            "grid_auto_columns": null,
            "grid_auto_flow": null,
            "grid_auto_rows": null,
            "grid_column": null,
            "grid_gap": null,
            "grid_row": null,
            "grid_template_areas": null,
            "grid_template_columns": null,
            "grid_template_rows": null,
            "height": null,
            "justify_content": null,
            "justify_items": null,
            "left": null,
            "margin": null,
            "max_height": null,
            "max_width": null,
            "min_height": null,
            "min_width": null,
            "object_fit": null,
            "object_position": null,
            "order": null,
            "overflow": null,
            "overflow_x": null,
            "overflow_y": null,
            "padding": null,
            "right": null,
            "top": null,
            "visibility": null,
            "width": null
          }
        },
        "ebd1f7a67b02447abd030e9721ffbbfd": {
          "model_module": "@jupyter-widgets/controls",
          "model_module_version": "1.5.0",
          "model_name": "HTMLModel",
          "state": {
            "_dom_classes": [],
            "_model_module": "@jupyter-widgets/controls",
            "_model_module_version": "1.5.0",
            "_model_name": "HTMLModel",
            "_view_count": null,
            "_view_module": "@jupyter-widgets/controls",
            "_view_module_version": "1.5.0",
            "_view_name": "HTMLView",
            "description": "",
            "description_tooltip": null,
            "layout": "IPY_MODEL_1917bc2760644fe88197ee4010a80eda",
            "placeholder": "​",
            "style": "IPY_MODEL_7ccdb323cc754a9bb78b17628a1139ca",
            "value": " 875k/875k [00:00&lt;00:00, 896kB/s]"
          }
        },
        "f10a05c4653e41358ed65d18748e910f": {
          "model_module": "@jupyter-widgets/base",
          "model_module_version": "1.2.0",
          "model_name": "LayoutModel",
          "state": {
            "_model_module": "@jupyter-widgets/base",
            "_model_module_version": "1.2.0",
            "_model_name": "LayoutModel",
            "_view_count": null,
            "_view_module": "@jupyter-widgets/base",
            "_view_module_version": "1.2.0",
            "_view_name": "LayoutView",
            "align_content": null,
            "align_items": null,
            "align_self": null,
            "border": null,
            "bottom": null,
            "display": null,
            "flex": null,
            "flex_flow": null,
            "grid_area": null,
            "grid_auto_columns": null,
            "grid_auto_flow": null,
            "grid_auto_rows": null,
            "grid_column": null,
            "grid_gap": null,
            "grid_row": null,
            "grid_template_areas": null,
            "grid_template_columns": null,
            "grid_template_rows": null,
            "height": null,
            "justify_content": null,
            "justify_items": null,
            "left": null,
            "margin": null,
            "max_height": null,
            "max_width": null,
            "min_height": null,
            "min_width": null,
            "object_fit": null,
            "object_position": null,
            "order": null,
            "overflow": null,
            "overflow_x": null,
            "overflow_y": null,
            "padding": null,
            "right": null,
            "top": null,
            "visibility": null,
            "width": null
          }
        },
        "f881fbae36444d53a7c4c90df040f946": {
          "model_module": "@jupyter-widgets/controls",
          "model_module_version": "1.5.0",
          "model_name": "HTMLModel",
          "state": {
            "_dom_classes": [],
            "_model_module": "@jupyter-widgets/controls",
            "_model_module_version": "1.5.0",
            "_model_name": "HTMLModel",
            "_view_count": null,
            "_view_module": "@jupyter-widgets/controls",
            "_view_module_version": "1.5.0",
            "_view_name": "HTMLView",
            "description": "",
            "description_tooltip": null,
            "layout": "IPY_MODEL_8b1bc39823324991876521e7b2b94cd2",
            "placeholder": "​",
            "style": "IPY_MODEL_6b5c5e24ef2642bdac69df8de054f1c8",
            "value": "tokenizer_config.json: 100%"
          }
        },
        "fa5d7236457a459a9c0d984ffd27fa39": {
          "model_module": "@jupyter-widgets/controls",
          "model_module_version": "1.5.0",
          "model_name": "FloatProgressModel",
          "state": {
            "_dom_classes": [],
            "_model_module": "@jupyter-widgets/controls",
            "_model_module_version": "1.5.0",
            "_model_name": "FloatProgressModel",
            "_view_count": null,
            "_view_module": "@jupyter-widgets/controls",
            "_view_module_version": "1.5.0",
            "_view_name": "ProgressView",
            "bar_style": "success",
            "description": "",
            "description_tooltip": null,
            "layout": "IPY_MODEL_4f865403696749068a9f1d2e5d59447c",
            "max": 808,
            "min": 0,
            "orientation": "horizontal",
            "style": "IPY_MODEL_919a948ede9a4c71a7fc61a2f82ab11b",
            "value": 808
          }
        },
        "fd290329d4234455961afe652bc6c495": {
          "model_module": "@jupyter-widgets/controls",
          "model_module_version": "1.5.0",
          "model_name": "FloatProgressModel",
          "state": {
            "_dom_classes": [],
            "_model_module": "@jupyter-widgets/controls",
            "_model_module_version": "1.5.0",
            "_model_name": "FloatProgressModel",
            "_view_count": null,
            "_view_module": "@jupyter-widgets/controls",
            "_view_module_version": "1.5.0",
            "_view_name": "ProgressView",
            "bar_style": "success",
            "description": "",
            "description_tooltip": null,
            "layout": "IPY_MODEL_23a9c5cd0bee46b1810ffba15708877d",
            "max": 728,
            "min": 0,
            "orientation": "horizontal",
            "style": "IPY_MODEL_328b72914f58469aab2444e5e40306ca",
            "value": 728
          }
        }
      }
    }
  },
  "nbformat": 4,
  "nbformat_minor": 0
}
