{
  "nbformat": 4,
  "nbformat_minor": 0,
  "metadata": {
    "colab": {
      "provenance": [],
      "gpuType": "T4"
    },
    "kernelspec": {
      "name": "python3",
      "display_name": "Python 3"
    },
    "language_info": {
      "name": "python"
    },
    "accelerator": "GPU"
  },
  "cells": [
    {
      "cell_type": "markdown",
      "source": [
        "<h1 style=\"text-align: center\">\n",
        "Deep Learning HW3 </br>\n",
        "Question 1\n",
        "</h1>\n"
      ],
      "metadata": {
        "id": "csBU4-KELBQC"
      }
    },
    {
      "cell_type": "markdown",
      "source": [
        "### Full Name: Amirabbas Afzali\n",
        "\n",
        "### Student ID: 400100662"
      ],
      "metadata": {
        "id": "3hB1FZMBLLIg"
      }
    },
    {
      "cell_type": "code",
      "source": [
        "!pip install rdkit"
      ],
      "metadata": {
        "colab": {
          "base_uri": "https://localhost:8080/"
        },
        "id": "aNBRu5gyn0Vq",
        "outputId": "03726200-69fd-4c57-a3ce-2ff4f6661557"
      },
      "execution_count": 1,
      "outputs": [
        {
          "output_type": "stream",
          "name": "stdout",
          "text": [
            "Collecting rdkit\n",
            "  Downloading rdkit-2023.9.4-cp310-cp310-manylinux_2_17_x86_64.manylinux2014_x86_64.whl (34.4 MB)\n",
            "\u001b[2K     \u001b[90m━━━━━━━━━━━━━━━━━━━━━━━━━━━━━━━━━━━━━━━━\u001b[0m \u001b[32m34.4/34.4 MB\u001b[0m \u001b[31m32.9 MB/s\u001b[0m eta \u001b[36m0:00:00\u001b[0m\n",
            "\u001b[?25hRequirement already satisfied: numpy in /usr/local/lib/python3.10/dist-packages (from rdkit) (1.23.5)\n",
            "Requirement already satisfied: Pillow in /usr/local/lib/python3.10/dist-packages (from rdkit) (9.4.0)\n",
            "Installing collected packages: rdkit\n",
            "Successfully installed rdkit-2023.9.4\n"
          ]
        }
      ]
    },
    {
      "cell_type": "code",
      "execution_count": 45,
      "metadata": {
        "id": "Qk7GCSTRK6vc"
      },
      "outputs": [],
      "source": [
        "import torch\n",
        "import torch.nn as nn\n",
        "import torch.optim as optim\n",
        "import torch.nn.functional as F\n",
        "from torchvision import datasets, transforms\n",
        "from torch.utils.data import DataLoader\n",
        "import matplotlib.pyplot as plt\n",
        "import numpy as np\n",
        "import random\n",
        "import torchvision\n",
        "import pandas as pd\n",
        "import seaborn as sns\n",
        "from tqdm import tqdm\n",
        "from torch.utils.data import DataLoader,Dataset\n",
        "from torch.utils.data import DataLoader, Subset\n",
        "from sklearn.model_selection import KFold\n",
        "\n",
        "import pickle\n",
        "import rdkit\n",
        "import re\n",
        "from rdkit import Chem\n",
        "from IPython.display import display\n",
        "from rdkit.Chem import Draw\n",
        "from rdkit.Chem import Descriptors"
      ]
    },
    {
      "cell_type": "code",
      "source": [
        "device = torch.device(\"cuda\" if torch.cuda.is_available() else \"cpu\")\n",
        "device"
      ],
      "metadata": {
        "colab": {
          "base_uri": "https://localhost:8080/"
        },
        "id": "6VZ11-4Yjd1i",
        "outputId": "c22fba08-2a2a-4023-8cb6-21964cf4f0ef"
      },
      "execution_count": 46,
      "outputs": [
        {
          "output_type": "execute_result",
          "data": {
            "text/plain": [
              "device(type='cuda')"
            ]
          },
          "metadata": {},
          "execution_count": 46
        }
      ]
    },
    {
      "cell_type": "code",
      "source": [
        "from google.colab import drive\n",
        "drive.mount('/content/drive')"
      ],
      "metadata": {
        "colab": {
          "base_uri": "https://localhost:8080/"
        },
        "id": "1xVZSqI4L16i",
        "outputId": "4f3e0c49-b1a7-4ba4-b8e6-5f9a0364f0e4"
      },
      "execution_count": 4,
      "outputs": [
        {
          "output_type": "stream",
          "name": "stdout",
          "text": [
            "Mounted at /content/drive\n"
          ]
        }
      ]
    },
    {
      "cell_type": "code",
      "source": [
        "df = pd.read_csv('/content/drive/My Drive/DEEP/HW4/Q1 Materials/BBBP.csv')\n",
        "df.head()"
      ],
      "metadata": {
        "colab": {
          "base_uri": "https://localhost:8080/",
          "height": 206
        },
        "id": "LwAdVqBhLUXG",
        "outputId": "aec7893f-2d42-447f-fc87-e3981e88a1af"
      },
      "execution_count": 47,
      "outputs": [
        {
          "output_type": "execute_result",
          "data": {
            "text/plain": [
              "   num                  name  p_np  \\\n",
              "0    1            Propanolol     1   \n",
              "1    2  Terbutylchlorambucil     1   \n",
              "2    3                 40730     1   \n",
              "3    4                    24     1   \n",
              "4    5           cloxacillin     1   \n",
              "\n",
              "                                              smiles  \n",
              "0                   [Cl].CC(C)NCC(O)COc1cccc2ccccc12  \n",
              "1           C(=O)(OC(C)(C)C)CCCc1ccc(cc1)N(CCCl)CCCl  \n",
              "2  c12c3c(N4CCN(C)CC4)c(F)cc1c(c(C(O)=O)cn2C(C)CO...  \n",
              "3                   C1CCN(CC1)Cc1cccc(c1)OCCCNC(=O)C  \n",
              "4  Cc1onc(c2ccccc2Cl)c1C(=O)N[C@H]3[C@H]4SC(C)(C)...  "
            ],
            "text/html": [
              "\n",
              "  <div id=\"df-19b02401-8bce-4f3f-a052-ccfa4f88c35f\" class=\"colab-df-container\">\n",
              "    <div>\n",
              "<style scoped>\n",
              "    .dataframe tbody tr th:only-of-type {\n",
              "        vertical-align: middle;\n",
              "    }\n",
              "\n",
              "    .dataframe tbody tr th {\n",
              "        vertical-align: top;\n",
              "    }\n",
              "\n",
              "    .dataframe thead th {\n",
              "        text-align: right;\n",
              "    }\n",
              "</style>\n",
              "<table border=\"1\" class=\"dataframe\">\n",
              "  <thead>\n",
              "    <tr style=\"text-align: right;\">\n",
              "      <th></th>\n",
              "      <th>num</th>\n",
              "      <th>name</th>\n",
              "      <th>p_np</th>\n",
              "      <th>smiles</th>\n",
              "    </tr>\n",
              "  </thead>\n",
              "  <tbody>\n",
              "    <tr>\n",
              "      <th>0</th>\n",
              "      <td>1</td>\n",
              "      <td>Propanolol</td>\n",
              "      <td>1</td>\n",
              "      <td>[Cl].CC(C)NCC(O)COc1cccc2ccccc12</td>\n",
              "    </tr>\n",
              "    <tr>\n",
              "      <th>1</th>\n",
              "      <td>2</td>\n",
              "      <td>Terbutylchlorambucil</td>\n",
              "      <td>1</td>\n",
              "      <td>C(=O)(OC(C)(C)C)CCCc1ccc(cc1)N(CCCl)CCCl</td>\n",
              "    </tr>\n",
              "    <tr>\n",
              "      <th>2</th>\n",
              "      <td>3</td>\n",
              "      <td>40730</td>\n",
              "      <td>1</td>\n",
              "      <td>c12c3c(N4CCN(C)CC4)c(F)cc1c(c(C(O)=O)cn2C(C)CO...</td>\n",
              "    </tr>\n",
              "    <tr>\n",
              "      <th>3</th>\n",
              "      <td>4</td>\n",
              "      <td>24</td>\n",
              "      <td>1</td>\n",
              "      <td>C1CCN(CC1)Cc1cccc(c1)OCCCNC(=O)C</td>\n",
              "    </tr>\n",
              "    <tr>\n",
              "      <th>4</th>\n",
              "      <td>5</td>\n",
              "      <td>cloxacillin</td>\n",
              "      <td>1</td>\n",
              "      <td>Cc1onc(c2ccccc2Cl)c1C(=O)N[C@H]3[C@H]4SC(C)(C)...</td>\n",
              "    </tr>\n",
              "  </tbody>\n",
              "</table>\n",
              "</div>\n",
              "    <div class=\"colab-df-buttons\">\n",
              "\n",
              "  <div class=\"colab-df-container\">\n",
              "    <button class=\"colab-df-convert\" onclick=\"convertToInteractive('df-19b02401-8bce-4f3f-a052-ccfa4f88c35f')\"\n",
              "            title=\"Convert this dataframe to an interactive table.\"\n",
              "            style=\"display:none;\">\n",
              "\n",
              "  <svg xmlns=\"http://www.w3.org/2000/svg\" height=\"24px\" viewBox=\"0 -960 960 960\">\n",
              "    <path d=\"M120-120v-720h720v720H120Zm60-500h600v-160H180v160Zm220 220h160v-160H400v160Zm0 220h160v-160H400v160ZM180-400h160v-160H180v160Zm440 0h160v-160H620v160ZM180-180h160v-160H180v160Zm440 0h160v-160H620v160Z\"/>\n",
              "  </svg>\n",
              "    </button>\n",
              "\n",
              "  <style>\n",
              "    .colab-df-container {\n",
              "      display:flex;\n",
              "      gap: 12px;\n",
              "    }\n",
              "\n",
              "    .colab-df-convert {\n",
              "      background-color: #E8F0FE;\n",
              "      border: none;\n",
              "      border-radius: 50%;\n",
              "      cursor: pointer;\n",
              "      display: none;\n",
              "      fill: #1967D2;\n",
              "      height: 32px;\n",
              "      padding: 0 0 0 0;\n",
              "      width: 32px;\n",
              "    }\n",
              "\n",
              "    .colab-df-convert:hover {\n",
              "      background-color: #E2EBFA;\n",
              "      box-shadow: 0px 1px 2px rgba(60, 64, 67, 0.3), 0px 1px 3px 1px rgba(60, 64, 67, 0.15);\n",
              "      fill: #174EA6;\n",
              "    }\n",
              "\n",
              "    .colab-df-buttons div {\n",
              "      margin-bottom: 4px;\n",
              "    }\n",
              "\n",
              "    [theme=dark] .colab-df-convert {\n",
              "      background-color: #3B4455;\n",
              "      fill: #D2E3FC;\n",
              "    }\n",
              "\n",
              "    [theme=dark] .colab-df-convert:hover {\n",
              "      background-color: #434B5C;\n",
              "      box-shadow: 0px 1px 3px 1px rgba(0, 0, 0, 0.15);\n",
              "      filter: drop-shadow(0px 1px 2px rgba(0, 0, 0, 0.3));\n",
              "      fill: #FFFFFF;\n",
              "    }\n",
              "  </style>\n",
              "\n",
              "    <script>\n",
              "      const buttonEl =\n",
              "        document.querySelector('#df-19b02401-8bce-4f3f-a052-ccfa4f88c35f button.colab-df-convert');\n",
              "      buttonEl.style.display =\n",
              "        google.colab.kernel.accessAllowed ? 'block' : 'none';\n",
              "\n",
              "      async function convertToInteractive(key) {\n",
              "        const element = document.querySelector('#df-19b02401-8bce-4f3f-a052-ccfa4f88c35f');\n",
              "        const dataTable =\n",
              "          await google.colab.kernel.invokeFunction('convertToInteractive',\n",
              "                                                    [key], {});\n",
              "        if (!dataTable) return;\n",
              "\n",
              "        const docLinkHtml = 'Like what you see? Visit the ' +\n",
              "          '<a target=\"_blank\" href=https://colab.research.google.com/notebooks/data_table.ipynb>data table notebook</a>'\n",
              "          + ' to learn more about interactive tables.';\n",
              "        element.innerHTML = '';\n",
              "        dataTable['output_type'] = 'display_data';\n",
              "        await google.colab.output.renderOutput(dataTable, element);\n",
              "        const docLink = document.createElement('div');\n",
              "        docLink.innerHTML = docLinkHtml;\n",
              "        element.appendChild(docLink);\n",
              "      }\n",
              "    </script>\n",
              "  </div>\n",
              "\n",
              "\n",
              "<div id=\"df-92cd0868-82da-4c93-9fd2-3f86e4ebd145\">\n",
              "  <button class=\"colab-df-quickchart\" onclick=\"quickchart('df-92cd0868-82da-4c93-9fd2-3f86e4ebd145')\"\n",
              "            title=\"Suggest charts\"\n",
              "            style=\"display:none;\">\n",
              "\n",
              "<svg xmlns=\"http://www.w3.org/2000/svg\" height=\"24px\"viewBox=\"0 0 24 24\"\n",
              "     width=\"24px\">\n",
              "    <g>\n",
              "        <path d=\"M19 3H5c-1.1 0-2 .9-2 2v14c0 1.1.9 2 2 2h14c1.1 0 2-.9 2-2V5c0-1.1-.9-2-2-2zM9 17H7v-7h2v7zm4 0h-2V7h2v10zm4 0h-2v-4h2v4z\"/>\n",
              "    </g>\n",
              "</svg>\n",
              "  </button>\n",
              "\n",
              "<style>\n",
              "  .colab-df-quickchart {\n",
              "      --bg-color: #E8F0FE;\n",
              "      --fill-color: #1967D2;\n",
              "      --hover-bg-color: #E2EBFA;\n",
              "      --hover-fill-color: #174EA6;\n",
              "      --disabled-fill-color: #AAA;\n",
              "      --disabled-bg-color: #DDD;\n",
              "  }\n",
              "\n",
              "  [theme=dark] .colab-df-quickchart {\n",
              "      --bg-color: #3B4455;\n",
              "      --fill-color: #D2E3FC;\n",
              "      --hover-bg-color: #434B5C;\n",
              "      --hover-fill-color: #FFFFFF;\n",
              "      --disabled-bg-color: #3B4455;\n",
              "      --disabled-fill-color: #666;\n",
              "  }\n",
              "\n",
              "  .colab-df-quickchart {\n",
              "    background-color: var(--bg-color);\n",
              "    border: none;\n",
              "    border-radius: 50%;\n",
              "    cursor: pointer;\n",
              "    display: none;\n",
              "    fill: var(--fill-color);\n",
              "    height: 32px;\n",
              "    padding: 0;\n",
              "    width: 32px;\n",
              "  }\n",
              "\n",
              "  .colab-df-quickchart:hover {\n",
              "    background-color: var(--hover-bg-color);\n",
              "    box-shadow: 0 1px 2px rgba(60, 64, 67, 0.3), 0 1px 3px 1px rgba(60, 64, 67, 0.15);\n",
              "    fill: var(--button-hover-fill-color);\n",
              "  }\n",
              "\n",
              "  .colab-df-quickchart-complete:disabled,\n",
              "  .colab-df-quickchart-complete:disabled:hover {\n",
              "    background-color: var(--disabled-bg-color);\n",
              "    fill: var(--disabled-fill-color);\n",
              "    box-shadow: none;\n",
              "  }\n",
              "\n",
              "  .colab-df-spinner {\n",
              "    border: 2px solid var(--fill-color);\n",
              "    border-color: transparent;\n",
              "    border-bottom-color: var(--fill-color);\n",
              "    animation:\n",
              "      spin 1s steps(1) infinite;\n",
              "  }\n",
              "\n",
              "  @keyframes spin {\n",
              "    0% {\n",
              "      border-color: transparent;\n",
              "      border-bottom-color: var(--fill-color);\n",
              "      border-left-color: var(--fill-color);\n",
              "    }\n",
              "    20% {\n",
              "      border-color: transparent;\n",
              "      border-left-color: var(--fill-color);\n",
              "      border-top-color: var(--fill-color);\n",
              "    }\n",
              "    30% {\n",
              "      border-color: transparent;\n",
              "      border-left-color: var(--fill-color);\n",
              "      border-top-color: var(--fill-color);\n",
              "      border-right-color: var(--fill-color);\n",
              "    }\n",
              "    40% {\n",
              "      border-color: transparent;\n",
              "      border-right-color: var(--fill-color);\n",
              "      border-top-color: var(--fill-color);\n",
              "    }\n",
              "    60% {\n",
              "      border-color: transparent;\n",
              "      border-right-color: var(--fill-color);\n",
              "    }\n",
              "    80% {\n",
              "      border-color: transparent;\n",
              "      border-right-color: var(--fill-color);\n",
              "      border-bottom-color: var(--fill-color);\n",
              "    }\n",
              "    90% {\n",
              "      border-color: transparent;\n",
              "      border-bottom-color: var(--fill-color);\n",
              "    }\n",
              "  }\n",
              "</style>\n",
              "\n",
              "  <script>\n",
              "    async function quickchart(key) {\n",
              "      const quickchartButtonEl =\n",
              "        document.querySelector('#' + key + ' button');\n",
              "      quickchartButtonEl.disabled = true;  // To prevent multiple clicks.\n",
              "      quickchartButtonEl.classList.add('colab-df-spinner');\n",
              "      try {\n",
              "        const charts = await google.colab.kernel.invokeFunction(\n",
              "            'suggestCharts', [key], {});\n",
              "      } catch (error) {\n",
              "        console.error('Error during call to suggestCharts:', error);\n",
              "      }\n",
              "      quickchartButtonEl.classList.remove('colab-df-spinner');\n",
              "      quickchartButtonEl.classList.add('colab-df-quickchart-complete');\n",
              "    }\n",
              "    (() => {\n",
              "      let quickchartButtonEl =\n",
              "        document.querySelector('#df-92cd0868-82da-4c93-9fd2-3f86e4ebd145 button');\n",
              "      quickchartButtonEl.style.display =\n",
              "        google.colab.kernel.accessAllowed ? 'block' : 'none';\n",
              "    })();\n",
              "  </script>\n",
              "</div>\n",
              "    </div>\n",
              "  </div>\n"
            ]
          },
          "metadata": {},
          "execution_count": 47
        }
      ]
    },
    {
      "cell_type": "code",
      "source": [
        "df['smiles length'] = df['smiles'].apply(len)"
      ],
      "metadata": {
        "id": "e7NJeQKzLxVT"
      },
      "execution_count": 48,
      "outputs": []
    },
    {
      "cell_type": "code",
      "source": [
        "df.head()"
      ],
      "metadata": {
        "colab": {
          "base_uri": "https://localhost:8080/",
          "height": 206
        },
        "id": "pftiAkDeNF7J",
        "outputId": "0b80f7f6-ec0d-401e-e92f-a89f5b36ace4"
      },
      "execution_count": 7,
      "outputs": [
        {
          "output_type": "execute_result",
          "data": {
            "text/plain": [
              "   num                  name  p_np  \\\n",
              "0    1            Propanolol     1   \n",
              "1    2  Terbutylchlorambucil     1   \n",
              "2    3                 40730     1   \n",
              "3    4                    24     1   \n",
              "4    5           cloxacillin     1   \n",
              "\n",
              "                                              smiles  smiles length  \n",
              "0                   [Cl].CC(C)NCC(O)COc1cccc2ccccc12             32  \n",
              "1           C(=O)(OC(C)(C)C)CCCc1ccc(cc1)N(CCCl)CCCl             40  \n",
              "2  c12c3c(N4CCN(C)CC4)c(F)cc1c(c(C(O)=O)cn2C(C)CO...             50  \n",
              "3                   C1CCN(CC1)Cc1cccc(c1)OCCCNC(=O)C             32  \n",
              "4  Cc1onc(c2ccccc2Cl)c1C(=O)N[C@H]3[C@H]4SC(C)(C)...             66  "
            ],
            "text/html": [
              "\n",
              "  <div id=\"df-074d6b43-45f6-4f25-8765-0569ba0c4cb3\" class=\"colab-df-container\">\n",
              "    <div>\n",
              "<style scoped>\n",
              "    .dataframe tbody tr th:only-of-type {\n",
              "        vertical-align: middle;\n",
              "    }\n",
              "\n",
              "    .dataframe tbody tr th {\n",
              "        vertical-align: top;\n",
              "    }\n",
              "\n",
              "    .dataframe thead th {\n",
              "        text-align: right;\n",
              "    }\n",
              "</style>\n",
              "<table border=\"1\" class=\"dataframe\">\n",
              "  <thead>\n",
              "    <tr style=\"text-align: right;\">\n",
              "      <th></th>\n",
              "      <th>num</th>\n",
              "      <th>name</th>\n",
              "      <th>p_np</th>\n",
              "      <th>smiles</th>\n",
              "      <th>smiles length</th>\n",
              "    </tr>\n",
              "  </thead>\n",
              "  <tbody>\n",
              "    <tr>\n",
              "      <th>0</th>\n",
              "      <td>1</td>\n",
              "      <td>Propanolol</td>\n",
              "      <td>1</td>\n",
              "      <td>[Cl].CC(C)NCC(O)COc1cccc2ccccc12</td>\n",
              "      <td>32</td>\n",
              "    </tr>\n",
              "    <tr>\n",
              "      <th>1</th>\n",
              "      <td>2</td>\n",
              "      <td>Terbutylchlorambucil</td>\n",
              "      <td>1</td>\n",
              "      <td>C(=O)(OC(C)(C)C)CCCc1ccc(cc1)N(CCCl)CCCl</td>\n",
              "      <td>40</td>\n",
              "    </tr>\n",
              "    <tr>\n",
              "      <th>2</th>\n",
              "      <td>3</td>\n",
              "      <td>40730</td>\n",
              "      <td>1</td>\n",
              "      <td>c12c3c(N4CCN(C)CC4)c(F)cc1c(c(C(O)=O)cn2C(C)CO...</td>\n",
              "      <td>50</td>\n",
              "    </tr>\n",
              "    <tr>\n",
              "      <th>3</th>\n",
              "      <td>4</td>\n",
              "      <td>24</td>\n",
              "      <td>1</td>\n",
              "      <td>C1CCN(CC1)Cc1cccc(c1)OCCCNC(=O)C</td>\n",
              "      <td>32</td>\n",
              "    </tr>\n",
              "    <tr>\n",
              "      <th>4</th>\n",
              "      <td>5</td>\n",
              "      <td>cloxacillin</td>\n",
              "      <td>1</td>\n",
              "      <td>Cc1onc(c2ccccc2Cl)c1C(=O)N[C@H]3[C@H]4SC(C)(C)...</td>\n",
              "      <td>66</td>\n",
              "    </tr>\n",
              "  </tbody>\n",
              "</table>\n",
              "</div>\n",
              "    <div class=\"colab-df-buttons\">\n",
              "\n",
              "  <div class=\"colab-df-container\">\n",
              "    <button class=\"colab-df-convert\" onclick=\"convertToInteractive('df-074d6b43-45f6-4f25-8765-0569ba0c4cb3')\"\n",
              "            title=\"Convert this dataframe to an interactive table.\"\n",
              "            style=\"display:none;\">\n",
              "\n",
              "  <svg xmlns=\"http://www.w3.org/2000/svg\" height=\"24px\" viewBox=\"0 -960 960 960\">\n",
              "    <path d=\"M120-120v-720h720v720H120Zm60-500h600v-160H180v160Zm220 220h160v-160H400v160Zm0 220h160v-160H400v160ZM180-400h160v-160H180v160Zm440 0h160v-160H620v160ZM180-180h160v-160H180v160Zm440 0h160v-160H620v160Z\"/>\n",
              "  </svg>\n",
              "    </button>\n",
              "\n",
              "  <style>\n",
              "    .colab-df-container {\n",
              "      display:flex;\n",
              "      gap: 12px;\n",
              "    }\n",
              "\n",
              "    .colab-df-convert {\n",
              "      background-color: #E8F0FE;\n",
              "      border: none;\n",
              "      border-radius: 50%;\n",
              "      cursor: pointer;\n",
              "      display: none;\n",
              "      fill: #1967D2;\n",
              "      height: 32px;\n",
              "      padding: 0 0 0 0;\n",
              "      width: 32px;\n",
              "    }\n",
              "\n",
              "    .colab-df-convert:hover {\n",
              "      background-color: #E2EBFA;\n",
              "      box-shadow: 0px 1px 2px rgba(60, 64, 67, 0.3), 0px 1px 3px 1px rgba(60, 64, 67, 0.15);\n",
              "      fill: #174EA6;\n",
              "    }\n",
              "\n",
              "    .colab-df-buttons div {\n",
              "      margin-bottom: 4px;\n",
              "    }\n",
              "\n",
              "    [theme=dark] .colab-df-convert {\n",
              "      background-color: #3B4455;\n",
              "      fill: #D2E3FC;\n",
              "    }\n",
              "\n",
              "    [theme=dark] .colab-df-convert:hover {\n",
              "      background-color: #434B5C;\n",
              "      box-shadow: 0px 1px 3px 1px rgba(0, 0, 0, 0.15);\n",
              "      filter: drop-shadow(0px 1px 2px rgba(0, 0, 0, 0.3));\n",
              "      fill: #FFFFFF;\n",
              "    }\n",
              "  </style>\n",
              "\n",
              "    <script>\n",
              "      const buttonEl =\n",
              "        document.querySelector('#df-074d6b43-45f6-4f25-8765-0569ba0c4cb3 button.colab-df-convert');\n",
              "      buttonEl.style.display =\n",
              "        google.colab.kernel.accessAllowed ? 'block' : 'none';\n",
              "\n",
              "      async function convertToInteractive(key) {\n",
              "        const element = document.querySelector('#df-074d6b43-45f6-4f25-8765-0569ba0c4cb3');\n",
              "        const dataTable =\n",
              "          await google.colab.kernel.invokeFunction('convertToInteractive',\n",
              "                                                    [key], {});\n",
              "        if (!dataTable) return;\n",
              "\n",
              "        const docLinkHtml = 'Like what you see? Visit the ' +\n",
              "          '<a target=\"_blank\" href=https://colab.research.google.com/notebooks/data_table.ipynb>data table notebook</a>'\n",
              "          + ' to learn more about interactive tables.';\n",
              "        element.innerHTML = '';\n",
              "        dataTable['output_type'] = 'display_data';\n",
              "        await google.colab.output.renderOutput(dataTable, element);\n",
              "        const docLink = document.createElement('div');\n",
              "        docLink.innerHTML = docLinkHtml;\n",
              "        element.appendChild(docLink);\n",
              "      }\n",
              "    </script>\n",
              "  </div>\n",
              "\n",
              "\n",
              "<div id=\"df-45bb7edd-6ae1-4585-8d01-0257a105ddc1\">\n",
              "  <button class=\"colab-df-quickchart\" onclick=\"quickchart('df-45bb7edd-6ae1-4585-8d01-0257a105ddc1')\"\n",
              "            title=\"Suggest charts\"\n",
              "            style=\"display:none;\">\n",
              "\n",
              "<svg xmlns=\"http://www.w3.org/2000/svg\" height=\"24px\"viewBox=\"0 0 24 24\"\n",
              "     width=\"24px\">\n",
              "    <g>\n",
              "        <path d=\"M19 3H5c-1.1 0-2 .9-2 2v14c0 1.1.9 2 2 2h14c1.1 0 2-.9 2-2V5c0-1.1-.9-2-2-2zM9 17H7v-7h2v7zm4 0h-2V7h2v10zm4 0h-2v-4h2v4z\"/>\n",
              "    </g>\n",
              "</svg>\n",
              "  </button>\n",
              "\n",
              "<style>\n",
              "  .colab-df-quickchart {\n",
              "      --bg-color: #E8F0FE;\n",
              "      --fill-color: #1967D2;\n",
              "      --hover-bg-color: #E2EBFA;\n",
              "      --hover-fill-color: #174EA6;\n",
              "      --disabled-fill-color: #AAA;\n",
              "      --disabled-bg-color: #DDD;\n",
              "  }\n",
              "\n",
              "  [theme=dark] .colab-df-quickchart {\n",
              "      --bg-color: #3B4455;\n",
              "      --fill-color: #D2E3FC;\n",
              "      --hover-bg-color: #434B5C;\n",
              "      --hover-fill-color: #FFFFFF;\n",
              "      --disabled-bg-color: #3B4455;\n",
              "      --disabled-fill-color: #666;\n",
              "  }\n",
              "\n",
              "  .colab-df-quickchart {\n",
              "    background-color: var(--bg-color);\n",
              "    border: none;\n",
              "    border-radius: 50%;\n",
              "    cursor: pointer;\n",
              "    display: none;\n",
              "    fill: var(--fill-color);\n",
              "    height: 32px;\n",
              "    padding: 0;\n",
              "    width: 32px;\n",
              "  }\n",
              "\n",
              "  .colab-df-quickchart:hover {\n",
              "    background-color: var(--hover-bg-color);\n",
              "    box-shadow: 0 1px 2px rgba(60, 64, 67, 0.3), 0 1px 3px 1px rgba(60, 64, 67, 0.15);\n",
              "    fill: var(--button-hover-fill-color);\n",
              "  }\n",
              "\n",
              "  .colab-df-quickchart-complete:disabled,\n",
              "  .colab-df-quickchart-complete:disabled:hover {\n",
              "    background-color: var(--disabled-bg-color);\n",
              "    fill: var(--disabled-fill-color);\n",
              "    box-shadow: none;\n",
              "  }\n",
              "\n",
              "  .colab-df-spinner {\n",
              "    border: 2px solid var(--fill-color);\n",
              "    border-color: transparent;\n",
              "    border-bottom-color: var(--fill-color);\n",
              "    animation:\n",
              "      spin 1s steps(1) infinite;\n",
              "  }\n",
              "\n",
              "  @keyframes spin {\n",
              "    0% {\n",
              "      border-color: transparent;\n",
              "      border-bottom-color: var(--fill-color);\n",
              "      border-left-color: var(--fill-color);\n",
              "    }\n",
              "    20% {\n",
              "      border-color: transparent;\n",
              "      border-left-color: var(--fill-color);\n",
              "      border-top-color: var(--fill-color);\n",
              "    }\n",
              "    30% {\n",
              "      border-color: transparent;\n",
              "      border-left-color: var(--fill-color);\n",
              "      border-top-color: var(--fill-color);\n",
              "      border-right-color: var(--fill-color);\n",
              "    }\n",
              "    40% {\n",
              "      border-color: transparent;\n",
              "      border-right-color: var(--fill-color);\n",
              "      border-top-color: var(--fill-color);\n",
              "    }\n",
              "    60% {\n",
              "      border-color: transparent;\n",
              "      border-right-color: var(--fill-color);\n",
              "    }\n",
              "    80% {\n",
              "      border-color: transparent;\n",
              "      border-right-color: var(--fill-color);\n",
              "      border-bottom-color: var(--fill-color);\n",
              "    }\n",
              "    90% {\n",
              "      border-color: transparent;\n",
              "      border-bottom-color: var(--fill-color);\n",
              "    }\n",
              "  }\n",
              "</style>\n",
              "\n",
              "  <script>\n",
              "    async function quickchart(key) {\n",
              "      const quickchartButtonEl =\n",
              "        document.querySelector('#' + key + ' button');\n",
              "      quickchartButtonEl.disabled = true;  // To prevent multiple clicks.\n",
              "      quickchartButtonEl.classList.add('colab-df-spinner');\n",
              "      try {\n",
              "        const charts = await google.colab.kernel.invokeFunction(\n",
              "            'suggestCharts', [key], {});\n",
              "      } catch (error) {\n",
              "        console.error('Error during call to suggestCharts:', error);\n",
              "      }\n",
              "      quickchartButtonEl.classList.remove('colab-df-spinner');\n",
              "      quickchartButtonEl.classList.add('colab-df-quickchart-complete');\n",
              "    }\n",
              "    (() => {\n",
              "      let quickchartButtonEl =\n",
              "        document.querySelector('#df-45bb7edd-6ae1-4585-8d01-0257a105ddc1 button');\n",
              "      quickchartButtonEl.style.display =\n",
              "        google.colab.kernel.accessAllowed ? 'block' : 'none';\n",
              "    })();\n",
              "  </script>\n",
              "</div>\n",
              "    </div>\n",
              "  </div>\n"
            ]
          },
          "metadata": {},
          "execution_count": 7
        }
      ]
    },
    {
      "cell_type": "markdown",
      "source": [
        "## analysis the length of smiles for two class."
      ],
      "metadata": {
        "id": "N7J0E77FNM2R"
      }
    },
    {
      "cell_type": "code",
      "source": [
        "plt.figure(figsize=(10,8))\n",
        "sns.histplot(data = df, x = 'smiles length',hue= 'p_np',kde=True);"
      ],
      "metadata": {
        "colab": {
          "base_uri": "https://localhost:8080/",
          "height": 696
        },
        "id": "OYp5oTcrLAC2",
        "outputId": "27301367-0b63-48db-dfa7-de653ce1344c"
      },
      "execution_count": 126,
      "outputs": [
        {
          "output_type": "display_data",
          "data": {
            "text/plain": [
              "<Figure size 1000x800 with 1 Axes>"
            ],
            "image/png": "[encoded data removed]"
          },
          "metadata": {}
        }
      ]
    },
    {
      "cell_type": "markdown",
      "source": [
        "### Draw some sample of dataset"
      ],
      "metadata": {
        "id": "b9lKCM99oFak"
      }
    },
    {
      "cell_type": "code",
      "source": [
        "print(df['smiles'][0],'\\n')\n",
        "\n",
        "taxol = Chem.MolFromSmiles(df['smiles'][0])\n",
        "Draw.MolToImage(taxol, size=(300, 300))"
      ],
      "metadata": {
        "colab": {
          "base_uri": "https://localhost:8080/",
          "height": 353
        },
        "id": "pZ0T_CXmm6dd",
        "outputId": "944629cc-0949-44dd-b7a5-1d5a677b3557"
      },
      "execution_count": 127,
      "outputs": [
        {
          "output_type": "stream",
          "name": "stdout",
          "text": [
            "[Cl].CC(C)NCC(O)COc1cccc2ccccc12 \n",
            "\n"
          ]
        },
        {
          "output_type": "execute_result",
          "data": {
            "text/plain": [
              "<PIL.PngImagePlugin.PngImageFile image mode=RGB size=300x300>"
            ],
            "image/png": "[encoded data removed]"
          },
          "metadata": {},
          "execution_count": 127
        }
      ]
    },
    {
      "cell_type": "code",
      "source": [
        "print(df['smiles'][10],'\\n')\n",
        "\n",
        "taxol = Chem.MolFromSmiles(df['smiles'][10])\n",
        "\n",
        "Draw.MolToImage(taxol, size=(300, 300))"
      ],
      "metadata": {
        "colab": {
          "base_uri": "https://localhost:8080/",
          "height": 353
        },
        "id": "pEQrLLNRoq5K",
        "outputId": "410f1c66-5447-4572-95ef-5b3c5db9acf6"
      },
      "execution_count": 128,
      "outputs": [
        {
          "output_type": "stream",
          "name": "stdout",
          "text": [
            "OCC(C)(O)c1onc(c2ncn3c2CN(C)C(c4c3cccc4Cl)=O)n1 \n",
            "\n"
          ]
        },
        {
          "output_type": "execute_result",
          "data": {
            "text/plain": [
              "<PIL.PngImagePlugin.PngImageFile image mode=RGB size=300x300>"
            ],
            "image/png": "[encoded data removed]"
          },
          "metadata": {},
          "execution_count": 128
        }
      ]
    },
    {
      "cell_type": "code",
      "source": [
        "print(df['smiles'][30],'\\n')\n",
        "\n",
        "taxol = Chem.MolFromSmiles(df['smiles'][30])\n",
        "Draw.MolToImage(taxol, size=(300, 300))"
      ],
      "metadata": {
        "colab": {
          "base_uri": "https://localhost:8080/",
          "height": 353
        },
        "id": "nem2Wyxzo1pt",
        "outputId": "6d600113-68f6-46cb-8e82-76e611b760b9"
      },
      "execution_count": 129,
      "outputs": [
        {
          "output_type": "stream",
          "name": "stdout",
          "text": [
            "CCCC(C)C1(CC)C(=O)NC(=O)NC1=O \n",
            "\n"
          ]
        },
        {
          "output_type": "execute_result",
          "data": {
            "text/plain": [
              "<PIL.PngImagePlugin.PngImageFile image mode=RGB size=300x300>"
            ],
            "image/png": "[encoded data removed]"
          },
          "metadata": {},
          "execution_count": 129
        }
      ]
    },
    {
      "cell_type": "markdown",
      "source": [
        "## analysis diversity of tokens\n",
        "\n"
      ],
      "metadata": {
        "id": "nxblqP0dPFTA"
      }
    },
    {
      "cell_type": "code",
      "source": [
        "import numpy as np\n",
        "import re  # Regular expression module for pattern matching\n",
        "\n",
        "\n",
        "# Tokenize the SMILES string based on the defined regex pattern\n",
        "def tokenizer(smiles_string):\n",
        "  \"\"\"\n",
        "  Tokenize the SMILES string using the predefined regex pattern\n",
        "  :param smiles_string: Input SMILES string\n",
        "  :return: List of tokens extracted from the input string\n",
        "  \"\"\"\n",
        "  # Define the SMILES regex pattern\n",
        "  SMI_REGEX_PATTERN = r\"\"\"(\\[[^\\]]+]|Br?|Cl?|N|O|S|P|F|I|b|c|n|o|s|p|\\(|\\)|\\.|=|#|-|\\+|\\\\|\\/|:|~|@|\\?|>>?|\\*|\\$|\\%[0-9]{2}|[0-9])\"\"\"\n",
        "  regex = re.compile(SMI_REGEX_PATTERN)\n",
        "\n",
        "  tokens = []\n",
        "  for token in regex.findall(smiles_string):\n",
        "    tokens.append(token)\n",
        "  return tokens\n",
        "\n",
        "# Build vocabulary from the given dataset\n",
        "def build_vocab(smiles):\n",
        "  \"\"\"\n",
        "  Build vocabulary from the input dataset\n",
        "  :param data: Input dataset containing SMILES strings\n",
        "  :return: Tuple containing the vocabulary and its inverse dictionary\n",
        "  \"\"\"\n",
        "  if not isinstance(smiles, list):\n",
        "    smiles = list(smiles)\n",
        "\n",
        "  vocab_ = set()\n",
        "\n",
        "  # save all tokens in dataset\n",
        "  for ex in smiles:\n",
        "    for letter in tokenizer(ex):\n",
        "      vocab_.add(letter)\n",
        "\n",
        "  vocab = {}\n",
        "  vocab['<PAD>'] = 0\n",
        "  vocab['<UNK>'] = 1\n",
        "  for i, letter in enumerate(vocab_):\n",
        "    vocab[letter] = i + 2\n",
        "\n",
        "  return vocab\n",
        "\n",
        "# Convert SMILES strings to one-hot encoded data\n",
        "def make_one_hot(data, vocab, max_len):\n",
        "  \"\"\"\n",
        "  Convert the input SMILES strings to one-hot encoded data\n",
        "  :param data: Input SMILES strings\n",
        "  :param vocab: Vocabulary for encoding\n",
        "  :param max_len: Maximum length for padding\n",
        "  :return: One-hot encoded data matrix\n",
        "  \"\"\"\n",
        "  # tokenizer = Tokenizer(char_level=True)\n",
        "  # tokenizer.fit_on_texts(data)\n",
        "  # vocab = tokenizer.word_index\n",
        "\n",
        "  tokens = vocab.keys()\n",
        "  one_hot = np.zeros((len(data), max_len, len(vocab)))\n",
        "\n",
        "  for i, smiles in enumerate(data):\n",
        "    smiles = tokenizer(smiles)\n",
        "    smiles = smiles[:max_len] + ['<PAD>'] * (max_len - len(smiles))\n",
        "    for j, letter in enumerate(smiles):\n",
        "      if letter in tokens:\n",
        "        one_hot[i, j, vocab[letter]] = 1\n",
        "      else: # if token not exist in vacab\n",
        "        one_hot[i, j, vocab['<UNK>']] = 1\n",
        "\n",
        "  return one_hot"
      ],
      "metadata": {
        "id": "34boKmXe1ss4"
      },
      "execution_count": 49,
      "outputs": []
    },
    {
      "cell_type": "code",
      "source": [
        "vocab = build_vocab(df['smiles'])\n",
        "print(\"Vocab\",vocab)\n",
        "print(\"Vocab Size: \",len(vocab))\n",
        "\n",
        "data_one_hot = make_one_hot(df['smiles'],vocab,75)\n",
        "print(\"data shape: \",data_one_hot.shape)"
      ],
      "metadata": {
        "colab": {
          "base_uri": "https://localhost:8080/"
        },
        "id": "7xL39dCpacg9",
        "outputId": "42456ea3-d78c-4b8f-fb1f-3f0028885776"
      },
      "execution_count": 50,
      "outputs": [
        {
          "output_type": "stream",
          "name": "stdout",
          "text": [
            "Vocab {'<PAD>': 0, '<UNK>': 1, '[n+]': 2, 'O': 3, '[CH2-]': 4, '[NH-]': 5, '8': 6, '[OH-]': 7, '[NH3+]': 8, '[S@]': 9, '(': 10, '[N]': 11, 'B': 12, '[S+]': 13, '[Na]': 14, '[O+]': 15, '4': 16, 'S': 17, '[NH+]': 18, 'Cl': 19, '[H+]': 20, '[Cl]': 21, 'C': 22, '[o+]': 23, '[NH2+]': 24, '[NH2]': 25, '[C@@H]': 26, '[Na+]': 27, '[N@]': 28, '3': 29, '2': 30, '/': 31, 'N': 32, '[S]': 33, 'o': 34, '[C@H]': 35, '[P]': 36, 'Br': 37, '[H]': 38, '[N+]': 39, '%14': 40, '\\\\': 41, '9': 42, '[Br-]': 43, '5': 44, '[C@@]': 45, 'I': 46, 'F': 47, '[C@]': 48, '7': 49, '[nH]': 50, '=': 51, '%10': 52, '[Ca++]': 53, '%11': 54, '[C-]': 55, '[O-]': 56, 'c': 57, '[N-]': 58, '[CH-]': 59, '[Cl-]': 60, '[NH]': 61, '[nH+]': 62, 'n': 63, ')': 64, 's': 65, '#': 66, '[N@@]': 67, '.': 68, '1': 69, '6': 70, '%13': 71, '%12': 72}\n",
            "Vocab Size:  73\n",
            "data shape:  (2050, 75, 73)\n"
          ]
        }
      ]
    },
    {
      "cell_type": "code",
      "source": [
        "def count_tokens(data, vocab):\n",
        "  tokens = vocab.keys()\n",
        "  one_hot = np.zeros(len(vocab),dtype=np.int64)\n",
        "\n",
        "  for i, smiles in enumerate(data):\n",
        "    smiles = tokenizer(smiles)\n",
        "    # smiles = smiles[:max_len] + ['<PAD>'] * (max_len - len(smiles))\n",
        "    for j, letter in enumerate(smiles):\n",
        "      if letter in tokens:\n",
        "        one_hot[vocab[letter]] += 1\n",
        "      else: # if token not exist in vacab\n",
        "        one_hot[vocab['<UNK>']] += 1\n",
        "\n",
        "  return one_hot"
      ],
      "metadata": {
        "id": "VkbJYHXZgqjv"
      },
      "execution_count": 51,
      "outputs": []
    },
    {
      "cell_type": "code",
      "source": [
        "# number of differnt tokens in the all data\n",
        "count_all = count_tokens(df['smiles'],vocab)\n",
        "count_all"
      ],
      "metadata": {
        "colab": {
          "base_uri": "https://localhost:8080/"
        },
        "id": "wiB9s6QxhwKe",
        "outputId": "96abe0c0-461e-4099-fbea-d638016718dc"
      },
      "execution_count": 11,
      "outputs": [
        {
          "output_type": "execute_result",
          "data": {
            "text/plain": [
              "array([    0,     0,     2,  6142,     1,     1,    28,     1,     1,\n",
              "           1, 10491,    77,     1,     1,     2,     1,  1434,   405,\n",
              "           2,   570,    40,     5, 26859,     1,     2,     1,   893,\n",
              "          19,    14,  2548,  3362,   184,  3724,   103,    48,  1354,\n",
              "          11,    45,     4,    49,     4,   203,    16,     6,   454,\n",
              "         350,     6,   509,   323,    56,    40,  8034,     8,     1,\n",
              "           4,     2,    64,  6937,     4,     1,    43,    50,     1,\n",
              "         472, 10491,    72,    53,     8,   163,  4100,   124,     4,\n",
              "           4])"
            ]
          },
          "metadata": {},
          "execution_count": 11
        }
      ]
    },
    {
      "cell_type": "code",
      "source": [
        "# number of differnt tokens in the class 0\n",
        "count_all0 = count_tokens(df[df['p_np']==0]['smiles'],vocab)\n",
        "count_all0"
      ],
      "metadata": {
        "colab": {
          "base_uri": "https://localhost:8080/"
        },
        "id": "GSUavrrGiq4H",
        "outputId": "1758932e-fa6b-4c21-e3f0-73b8e90288fc"
      },
      "execution_count": 12,
      "outputs": [
        {
          "output_type": "execute_result",
          "data": {
            "text/plain": [
              "array([   0,    0,    0, 2620,    0,    0,   18,    0,    1,    1, 3413,\n",
              "          0,    0,    0,    2,    0,  372,  171,    1,   97,    7,    2,\n",
              "       5390,    0,    0,    0,  477,   12,   12,  654,  846,  116, 1102,\n",
              "         42,   26,  736,    2,    5,    0,   19,    4,  105,   10,    5,\n",
              "        132,   64,    5,   43,  123,   32,   21, 1530,    6,    0,    4,\n",
              "          2,   24, 3238,    1,    0,    8,    5,    0,  266, 3413,   45,\n",
              "         16,    4,   57, 1018,   50,    4,    4])"
            ]
          },
          "metadata": {},
          "execution_count": 12
        }
      ]
    },
    {
      "cell_type": "code",
      "source": [
        "# number of differnt tokens in the class 1\n",
        "count_all1 = count_tokens(df[df['p_np']==1]['smiles'],vocab)\n",
        "count_all1"
      ],
      "metadata": {
        "colab": {
          "base_uri": "https://localhost:8080/"
        },
        "id": "_fynna7uikO1",
        "outputId": "cfd34ea2-fb1f-4497-f1ee-e33f52a3ea0f"
      },
      "execution_count": 13,
      "outputs": [
        {
          "output_type": "execute_result",
          "data": {
            "text/plain": [
              "array([    0,     0,     2,  3522,     1,     1,    10,     1,     0,\n",
              "           0,  7078,    77,     1,     1,     0,     1,  1062,   234,\n",
              "           1,   473,    33,     3, 21469,     1,     2,     1,   416,\n",
              "           7,     2,  1894,  2516,    68,  2622,    61,    22,   618,\n",
              "           9,    40,     4,    30,     0,    98,     6,     1,   322,\n",
              "         286,     1,   466,   200,    24,    19,  6504,     2,     1,\n",
              "           0,     0,    40,  3699,     3,     1,    35,    45,     1,\n",
              "         206,  7078,    27,    37,     4,   106,  3082,    74,     0,\n",
              "           0])"
            ]
          },
          "metadata": {},
          "execution_count": 13
        }
      ]
    },
    {
      "cell_type": "markdown",
      "source": [
        "### Bar plot"
      ],
      "metadata": {
        "id": "I7OYnam0ja2x"
      }
    },
    {
      "cell_type": "code",
      "source": [
        "# Create subplots\n",
        "plt.figure(figsize=(16, 5))\n",
        "\n",
        "# First subplot\n",
        "plt.subplot(1, 3, 1)  # (rows, columns, plot number)\n",
        "plt.bar(range(len(list(vocab.keys()))), count_all0, color ='maroon',\n",
        "        width = 0.7)\n",
        "\n",
        "plt.xlabel(\"token index\")\n",
        "plt.ylabel(\"count\")\n",
        "plt.title(\"number of different tokens in class 0\")\n",
        "\n",
        "# Second subplot\n",
        "plt.subplot(1, 3, 2)\n",
        "plt.bar(range(len(list(vocab.keys()))), count_all1, color ='maroon',\n",
        "        width = 0.7)\n",
        "plt.xlabel(\"token index\")\n",
        "plt.ylabel(\"count\")\n",
        "plt.title(\"number of different tokens in class 1\")\n",
        "\n",
        "\n",
        "# Second subplot\n",
        "plt.subplot(1, 3, 3)\n",
        "plt.bar(range(len(list(vocab.keys()))), count_all, color ='maroon',\n",
        "        width = 0.7)\n",
        "plt.xlabel(\"token index\")\n",
        "plt.ylabel(\"count\")\n",
        "plt.title(\"number of different tokens in all data\")\n",
        "\n",
        "# Display the plots\n",
        "plt.show()"
      ],
      "metadata": {
        "colab": {
          "base_uri": "https://localhost:8080/",
          "height": 487
        },
        "id": "57UbQqMNjdYZ",
        "outputId": "7f1fcb16-7f04-43f7-912e-5b37a0d4f181"
      },
      "execution_count": 136,
      "outputs": [
        {
          "output_type": "display_data",
          "data": {
            "text/plain": [
              "<Figure size 1600x500 with 3 Axes>"
            ],
            "image/png": "[encoded data removed]"
          },
          "metadata": {}
        }
      ]
    },
    {
      "cell_type": "markdown",
      "source": [
        "### Create Dataset and Dataloader"
      ],
      "metadata": {
        "id": "y9ro90Rp_mP_"
      }
    },
    {
      "cell_type": "code",
      "source": [
        "class MyDataset(Dataset):\n",
        "    def __init__(self, X, y):\n",
        "        self.X = X\n",
        "        self.y = y\n",
        "\n",
        "    def __len__(self):\n",
        "        return len(self.X)\n",
        "\n",
        "    def __getitem__(self, idx):\n",
        "        return self.X[idx], self.y[idx]"
      ],
      "metadata": {
        "id": "fsVPHIwQgW36"
      },
      "execution_count": 52,
      "outputs": []
    },
    {
      "cell_type": "code",
      "source": [
        "from torch.utils.data import random_split\n",
        "\n",
        "X_data = data_one_hot.reshape(data_one_hot.shape[0],-1)\n",
        "\n",
        "my_dataset = MyDataset(X_data,df['p_np'])\n",
        "one_hot_dataset = MyDataset(data_one_hot,df['p_np'])\n",
        "\n",
        "dataset_size = df.shape[0]\n",
        "train_size = int(0.8 * dataset_size)  # 80% for training\n",
        "test_size = dataset_size - train_size  # Remaining 20% for testing\n",
        "\n",
        "train_dataset, test_dataset = random_split(my_dataset, [train_size, test_size])\n",
        "\n",
        "train_dataset_lstm, test_dataset_lstm = random_split(one_hot_dataset, [train_size, test_size])"
      ],
      "metadata": {
        "id": "NbvH_bdfhNio"
      },
      "execution_count": 53,
      "outputs": []
    },
    {
      "cell_type": "code",
      "source": [
        "batch_size = 32\n",
        "\n",
        "train_dataloader = DataLoader(train_dataset, batch_size=batch_size, shuffle=True)\n",
        "test_dataloader = DataLoader(test_dataset, batch_size=batch_size, shuffle=True)\n",
        "\n",
        "train_dataloader_lstm = DataLoader(train_dataset_lstm, batch_size=batch_size, shuffle=True)\n",
        "test_dataloader_lstm = DataLoader(test_dataset_lstm, batch_size=batch_size, shuffle=True)"
      ],
      "metadata": {
        "id": "VTSnvJUgXJdE"
      },
      "execution_count": 54,
      "outputs": []
    },
    {
      "cell_type": "code",
      "source": [
        "for (data, targets) in tqdm(train_dataloader):\n",
        "  print('\\n',data.shape,targets.shape)\n",
        "  break"
      ],
      "metadata": {
        "colab": {
          "base_uri": "https://localhost:8080/"
        },
        "id": "bW8Hymo2jCg2",
        "outputId": "e539f8ef-40ce-4e82-ef4b-b593809543ba"
      },
      "execution_count": 55,
      "outputs": [
        {
          "output_type": "stream",
          "name": "stderr",
          "text": [
            "  0%|          | 0/52 [00:00<?, ?it/s]"
          ]
        },
        {
          "output_type": "stream",
          "name": "stdout",
          "text": [
            "\n",
            " torch.Size([32, 5475]) torch.Size([32])\n"
          ]
        },
        {
          "output_type": "stream",
          "name": "stderr",
          "text": [
            "\n"
          ]
        }
      ]
    },
    {
      "cell_type": "markdown",
      "source": [
        "#Part b)"
      ],
      "metadata": {
        "id": "MieznL8PREch"
      }
    },
    {
      "cell_type": "markdown",
      "source": [
        "# Define FC network\n"
      ],
      "metadata": {
        "id": "gjnMlbYbcyat"
      }
    },
    {
      "cell_type": "code",
      "source": [
        "class FCNet(nn.Module):\n",
        "  def __init__(self, input_size):\n",
        "      super(FCNet, self).__init__()\n",
        "\n",
        "      # self.fc = nn.Sequential(\n",
        "      #     nn.Linear(input_size, 8192),\n",
        "      #     nn.ReLU(),\n",
        "      #     nn.Linear(8192, 2048),\n",
        "      #     nn.ReLU(),\n",
        "      #     nn.Linear(2048, 512),\n",
        "      #     nn.ReLU(),\n",
        "      #     nn.Linear(512, 1)\n",
        "      #             )\n",
        "      self.fc = nn.Sequential(\n",
        "          nn.Linear(input_size, 1),)\n",
        "\n",
        "  def forward(self, x):\n",
        "      x = self.fc(x)\n",
        "      # x = nn.BatchNorm1d(x)\n",
        "      return torch.sigmoid(x)"
      ],
      "metadata": {
        "id": "8DejjIjVc3Lv"
      },
      "execution_count": 23,
      "outputs": []
    },
    {
      "cell_type": "code",
      "source": [
        "fc_model = FCNet(X_data.shape[-1]).to(device)"
      ],
      "metadata": {
        "id": "nVa_kBM0nDiI"
      },
      "execution_count": 142,
      "outputs": []
    },
    {
      "cell_type": "code",
      "source": [
        "criterion = nn.BCELoss()\n",
        "optimizer = torch.optim.Adam(fc_model.parameters(), lr=0.001)\n",
        "num_epochs = 20\n",
        "loss_list = []\n",
        "accuracy_list = []\n",
        "\n",
        "for _ in range(num_epochs):\n",
        "    fc_model.train()\n",
        "\n",
        "    epoch_loss = 0.0\n",
        "    accuracies = []\n",
        "\n",
        "    for (data, targets) in tqdm(train_dataloader):\n",
        "        data = data.to(device).float()\n",
        "        targets = targets.to(device).float()\n",
        "\n",
        "        optimizer.zero_grad()\n",
        "        outputs = fc_model(data).squeeze(-1)\n",
        "        loss = criterion(outputs, targets)\n",
        "\n",
        "        loss.backward()\n",
        "        optimizer.step()\n",
        "\n",
        "        epoch_loss += loss.item()\n",
        "        # print(outputs.shape)\n",
        "        predicted = torch.zeros(outputs.shape[0]).to(device)\n",
        "        indices = (outputs > 0.5).nonzero(as_tuple=False).squeeze()\n",
        "        predicted[indices] = 1\n",
        "\n",
        "        correct = (predicted == targets).sum().item()\n",
        "\n",
        "        accuracies.append(correct / targets.size(0))\n",
        "\n",
        "    epoch_loss /= len(train_dataloader)\n",
        "    accuracy = np.mean(accuracies)\n",
        "\n",
        "    print(f'Loss: {epoch_loss:.4f}, Accuracy: {100*accuracy:.2f}%')\n",
        "    loss_list.append(epoch_loss)\n",
        "    accuracy_list.append(100*accuracy)\n",
        "\n"
      ],
      "metadata": {
        "colab": {
          "base_uri": "https://localhost:8080/"
        },
        "id": "e7mYZB7LiGj-",
        "outputId": "007748fc-7d16-4301-f95c-708761ff69a1"
      },
      "execution_count": null,
      "outputs": [
        {
          "output_type": "stream",
          "name": "stderr",
          "text": [
            "100%|██████████| 52/52 [00:00<00:00, 354.31it/s]\n"
          ]
        },
        {
          "output_type": "stream",
          "name": "stdout",
          "text": [
            "Loss: 0.5079, Accuracy: 77.28%\n"
          ]
        },
        {
          "output_type": "stream",
          "name": "stderr",
          "text": [
            "100%|██████████| 52/52 [00:00<00:00, 357.40it/s]\n"
          ]
        },
        {
          "output_type": "stream",
          "name": "stdout",
          "text": [
            "Loss: 0.4206, Accuracy: 79.69%\n"
          ]
        },
        {
          "output_type": "stream",
          "name": "stderr",
          "text": [
            "100%|██████████| 52/52 [00:00<00:00, 350.65it/s]\n"
          ]
        },
        {
          "output_type": "stream",
          "name": "stdout",
          "text": [
            "Loss: 0.3721, Accuracy: 82.93%\n"
          ]
        },
        {
          "output_type": "stream",
          "name": "stderr",
          "text": [
            "100%|██████████| 52/52 [00:00<00:00, 345.70it/s]\n"
          ]
        },
        {
          "output_type": "stream",
          "name": "stdout",
          "text": [
            "Loss: 0.3366, Accuracy: 85.58%\n"
          ]
        },
        {
          "output_type": "stream",
          "name": "stderr",
          "text": [
            "100%|██████████| 52/52 [00:00<00:00, 351.97it/s]\n"
          ]
        },
        {
          "output_type": "stream",
          "name": "stdout",
          "text": [
            "Loss: 0.3115, Accuracy: 87.08%\n"
          ]
        },
        {
          "output_type": "stream",
          "name": "stderr",
          "text": [
            "100%|██████████| 52/52 [00:00<00:00, 353.31it/s]\n"
          ]
        },
        {
          "output_type": "stream",
          "name": "stdout",
          "text": [
            "Loss: 0.2945, Accuracy: 87.68%\n"
          ]
        },
        {
          "output_type": "stream",
          "name": "stderr",
          "text": [
            "100%|██████████| 52/52 [00:00<00:00, 334.46it/s]\n"
          ]
        },
        {
          "output_type": "stream",
          "name": "stdout",
          "text": [
            "Loss: 0.2779, Accuracy: 89.18%\n"
          ]
        },
        {
          "output_type": "stream",
          "name": "stderr",
          "text": [
            "100%|██████████| 52/52 [00:00<00:00, 339.68it/s]\n"
          ]
        },
        {
          "output_type": "stream",
          "name": "stdout",
          "text": [
            "Loss: 0.2675, Accuracy: 90.02%\n"
          ]
        },
        {
          "output_type": "stream",
          "name": "stderr",
          "text": [
            "100%|██████████| 52/52 [00:00<00:00, 344.66it/s]\n"
          ]
        },
        {
          "output_type": "stream",
          "name": "stdout",
          "text": [
            "Loss: 0.2545, Accuracy: 90.26%\n"
          ]
        },
        {
          "output_type": "stream",
          "name": "stderr",
          "text": [
            "100%|██████████| 52/52 [00:00<00:00, 334.25it/s]\n"
          ]
        },
        {
          "output_type": "stream",
          "name": "stdout",
          "text": [
            "Loss: 0.2415, Accuracy: 90.62%\n"
          ]
        },
        {
          "output_type": "stream",
          "name": "stderr",
          "text": [
            "100%|██████████| 52/52 [00:00<00:00, 349.05it/s]\n"
          ]
        },
        {
          "output_type": "stream",
          "name": "stdout",
          "text": [
            "Loss: 0.2372, Accuracy: 90.69%\n"
          ]
        },
        {
          "output_type": "stream",
          "name": "stderr",
          "text": [
            "100%|██████████| 52/52 [00:00<00:00, 359.37it/s]\n"
          ]
        },
        {
          "output_type": "stream",
          "name": "stdout",
          "text": [
            "Loss: 0.2270, Accuracy: 91.71%\n"
          ]
        },
        {
          "output_type": "stream",
          "name": "stderr",
          "text": [
            "100%|██████████| 52/52 [00:00<00:00, 349.24it/s]\n"
          ]
        },
        {
          "output_type": "stream",
          "name": "stdout",
          "text": [
            "Loss: 0.2203, Accuracy: 91.71%\n"
          ]
        },
        {
          "output_type": "stream",
          "name": "stderr",
          "text": [
            "100%|██████████| 52/52 [00:00<00:00, 327.06it/s]\n"
          ]
        },
        {
          "output_type": "stream",
          "name": "stdout",
          "text": [
            "Loss: 0.2102, Accuracy: 92.79%\n"
          ]
        },
        {
          "output_type": "stream",
          "name": "stderr",
          "text": [
            "100%|██████████| 52/52 [00:00<00:00, 353.92it/s]\n"
          ]
        },
        {
          "output_type": "stream",
          "name": "stdout",
          "text": [
            "Loss: 0.2060, Accuracy: 92.73%\n"
          ]
        },
        {
          "output_type": "stream",
          "name": "stderr",
          "text": [
            "100%|██████████| 52/52 [00:00<00:00, 350.60it/s]\n"
          ]
        },
        {
          "output_type": "stream",
          "name": "stdout",
          "text": [
            "Loss: 0.1978, Accuracy: 93.03%\n"
          ]
        },
        {
          "output_type": "stream",
          "name": "stderr",
          "text": [
            "100%|██████████| 52/52 [00:00<00:00, 341.00it/s]\n"
          ]
        },
        {
          "output_type": "stream",
          "name": "stdout",
          "text": [
            "Loss: 0.1923, Accuracy: 93.39%\n"
          ]
        },
        {
          "output_type": "stream",
          "name": "stderr",
          "text": [
            "100%|██████████| 52/52 [00:00<00:00, 347.54it/s]\n"
          ]
        },
        {
          "output_type": "stream",
          "name": "stdout",
          "text": [
            "Loss: 0.1891, Accuracy: 93.75%\n"
          ]
        },
        {
          "output_type": "stream",
          "name": "stderr",
          "text": [
            "100%|██████████| 52/52 [00:00<00:00, 354.20it/s]\n"
          ]
        },
        {
          "output_type": "stream",
          "name": "stdout",
          "text": [
            "Loss: 0.1830, Accuracy: 93.99%\n"
          ]
        },
        {
          "output_type": "stream",
          "name": "stderr",
          "text": [
            "100%|██████████| 52/52 [00:00<00:00, 337.26it/s]"
          ]
        },
        {
          "output_type": "stream",
          "name": "stdout",
          "text": [
            "Loss: 0.1816, Accuracy: 93.81%\n"
          ]
        },
        {
          "output_type": "stream",
          "name": "stderr",
          "text": [
            "\n"
          ]
        }
      ]
    },
    {
      "cell_type": "code",
      "source": [
        "with torch.no_grad():\n",
        "    train_accuracy = 0\n",
        "    for (data, targets) in tqdm(train_dataloader):\n",
        "        data = data.to(device).float()\n",
        "        targets = targets.to(device).float()\n",
        "        train_outputs = fc_model(data)\n",
        "\n",
        "        predicted = torch.zeros(train_outputs.shape[0]).to(device)\n",
        "        indices = (train_outputs > 0.5).nonzero(as_tuple=False).squeeze()\n",
        "        predicted[indices] = 1\n",
        "\n",
        "        train_accuracy += (predicted == targets).sum().item() / len(targets)\n",
        "        accuracies.append(correct / targets.size(0))\n",
        "\n",
        "    epoch_loss /= len(train_dataloader)\n",
        "    accuracy = np.mean(accuracies)\n",
        "\n",
        "\n",
        "print('\\n train accuracy: ',(train_accuracy/len(train_dataloader))*100)"
      ],
      "metadata": {
        "colab": {
          "base_uri": "https://localhost:8080/"
        },
        "id": "Do7ZgnUCjH7W",
        "outputId": "3bae843d-68e5-4849-9c51-b242026046d9"
      },
      "execution_count": null,
      "outputs": [
        {
          "output_type": "stream",
          "name": "stderr",
          "text": [
            "100%|██████████| 52/52 [00:00<00:00, 523.54it/s]"
          ]
        },
        {
          "output_type": "stream",
          "name": "stdout",
          "text": [
            "\n",
            " train accuracy:  93.50961538461539\n"
          ]
        },
        {
          "output_type": "stream",
          "name": "stderr",
          "text": [
            "\n"
          ]
        }
      ]
    },
    {
      "cell_type": "code",
      "source": [
        "with torch.no_grad():\n",
        "    test_accuracy = 0\n",
        "    for (data, targets) in tqdm(test_dataloader):\n",
        "        data = data.to(device).float()\n",
        "        targets = targets.to(device).float()\n",
        "        test_outputs = fc_model(data)\n",
        "\n",
        "        predicted = torch.zeros(test_outputs.shape[0]).to(device)\n",
        "        indices = (test_outputs > 0.5).nonzero(as_tuple=False).squeeze()\n",
        "        predicted[indices] = 1\n",
        "\n",
        "        test_accuracy += (predicted == targets).sum().item() / len(targets)\n",
        "        accuracies.append(correct / targets.size(0))\n",
        "\n",
        "print('\\n test accuracy: ',(test_accuracy/len(test_dataloader))*100)"
      ],
      "metadata": {
        "colab": {
          "base_uri": "https://localhost:8080/"
        },
        "id": "Sfj1bqhdkhRT",
        "outputId": "29201ab9-3548-4586-89b5-6692dbd6f8a9"
      },
      "execution_count": null,
      "outputs": [
        {
          "output_type": "stream",
          "name": "stderr",
          "text": [
            "100%|██████████| 13/13 [00:00<00:00, 442.57it/s]"
          ]
        },
        {
          "output_type": "stream",
          "name": "stdout",
          "text": [
            "\n",
            " test accuracy:  85.72485207100591\n"
          ]
        },
        {
          "output_type": "stream",
          "name": "stderr",
          "text": [
            "\n"
          ]
        }
      ]
    },
    {
      "cell_type": "code",
      "source": [
        "def plot_results(loss_list,accuracy_list):\n",
        "  # Create subplots\n",
        "  plt.figure(figsize=(10, 5))\n",
        "\n",
        "  # First subplot\n",
        "  plt.subplot(1, 2, 1)  # (rows, columns, plot number)\n",
        "  plt.plot(loss_list)\n",
        "  plt.title('Training loss')\n",
        "\n",
        "  # Second subplot\n",
        "  plt.subplot(1, 2, 2)\n",
        "  plt.plot(accuracy_list)\n",
        "  plt.title('Training accuracy')\n",
        "\n",
        "  # Display the plots\n",
        "  plt.show()\n"
      ],
      "metadata": {
        "id": "IPChIYNSH7va"
      },
      "execution_count": 152,
      "outputs": []
    },
    {
      "cell_type": "code",
      "source": [
        "plot_results(loss_list,accuracy_list)"
      ],
      "metadata": {
        "colab": {
          "base_uri": "https://localhost:8080/",
          "height": 468
        },
        "id": "__Dn_ttTBdI5",
        "outputId": "1ba2f0ad-d9e4-40ef-ec1f-66c3c3ead411"
      },
      "execution_count": null,
      "outputs": [
        {
          "output_type": "display_data",
          "data": {
            "text/plain": [
              "<Figure size 1000x500 with 2 Axes>"
            ],
            "image/png": "[encoded data removed]"
          },
          "metadata": {}
        }
      ]
    },
    {
      "cell_type": "markdown",
      "source": [
        "Save the model"
      ],
      "metadata": {
        "id": "PxZSVr1UBydl"
      }
    },
    {
      "cell_type": "code",
      "source": [
        "torch.save(fc_model.state_dict(), '/content/drive/My Drive/DEEP/HW4/fc_model.pth')"
      ],
      "metadata": {
        "id": "J-ZXbuMFB0LH"
      },
      "execution_count": null,
      "outputs": []
    },
    {
      "cell_type": "markdown",
      "source": [
        "## Kfold Validation"
      ],
      "metadata": {
        "id": "LKop-vRhOll7"
      }
    },
    {
      "cell_type": "code",
      "source": [
        "from sklearn.model_selection import KFold\n",
        "\n",
        "def Kfold_Validation(model_class,custom_dataset,is_lstm=False,\n",
        "                     input_size=None, hidden_size=None, num_layers=None,epochs=None):\n",
        "\n",
        "  # Define the number of folds\n",
        "  k = 5\n",
        "  kf = KFold(n_splits=k, shuffle=True)\n",
        "\n",
        "  all_acc_train = []\n",
        "  all_acc_test = []\n",
        "\n",
        "  # Split the dataset into k folds\n",
        "  fold_datasets = []\n",
        "  for train_index, val_index in kf.split(custom_dataset):\n",
        "      train_subset = Subset(custom_dataset, train_index)\n",
        "      val_subset = Subset(custom_dataset, val_index)\n",
        "      fold_datasets.append((train_subset, val_subset))\n",
        "\n",
        "  # Now you have k (train, val) pairs in fold_datasets, and you can train/validate your model with each pair\n",
        "  for i, (train_subset, val_subset) in enumerate(fold_datasets):\n",
        "      # Create data loaders for the current fold\n",
        "      train_dataloader = DataLoader(train_subset, batch_size=32, shuffle=True)\n",
        "      test_dataloader = DataLoader(val_subset, batch_size=32, shuffle=True)\n",
        "\n",
        "      if is_lstm:\n",
        "        model = model_class(input_size, hidden_size, num_layers).to(device)\n",
        "      else:\n",
        "        model = model_class(X_data.shape[-1]).to(device)\n",
        "      criterion = nn.BCELoss()\n",
        "      optimizer = torch.optim.Adam(model.parameters(), lr=0.001)\n",
        "      num_epochs = 20\n",
        "\n",
        "      best_accuracy = 0.0\n",
        "      best_epoch = 0\n",
        "      best_model_state = None\n",
        "\n",
        "      # training loop\n",
        "      for _ in range(num_epochs):\n",
        "          model.train()\n",
        "\n",
        "          epoch_loss = 0.0\n",
        "          accuracies = []\n",
        "          acc = 0\n",
        "\n",
        "          for (data, targets) in train_dataloader:\n",
        "              data = data.to(device).float()\n",
        "              targets = targets.to(device).float()\n",
        "\n",
        "              optimizer.zero_grad()\n",
        "              outputs = model(data).squeeze(-1)\n",
        "              loss = criterion(outputs, targets)\n",
        "\n",
        "              loss.backward()\n",
        "              optimizer.step()\n",
        "\n",
        "              epoch_loss += loss.item()\n",
        "              # print(outputs.shape)\n",
        "              predicted = torch.zeros(outputs.shape[0]).to(device)\n",
        "              indices = (outputs > 0.5).nonzero(as_tuple=False).squeeze()\n",
        "              predicted[indices] = 1\n",
        "\n",
        "              acc += (predicted == targets).sum().item() / len(targets)\n",
        "\n",
        "          if is_lstm:\n",
        "            if acc > best_accuracy:\n",
        "                best_accuracy = accuracy\n",
        "                bestmodel = model.state_dict()\n",
        "\n",
        "\n",
        "      if is_lstm:\n",
        "        model.load_state_dict(bestmodel)\n",
        "\n",
        "      # store model result\n",
        "      model.eval()\n",
        "      with torch.no_grad():\n",
        "        train_accuracy = 0\n",
        "        for (data, targets) in train_dataloader:\n",
        "          data = data.to(device).float()\n",
        "          targets = targets.to(device).float()\n",
        "          train_outputs = model(data)\n",
        "\n",
        "          predicted = torch.zeros(train_outputs.shape[0]).to(device)\n",
        "          indices = (train_outputs > 0.5).nonzero(as_tuple=False).squeeze()\n",
        "          predicted[indices] = 1\n",
        "          train_accuracy += (predicted == targets).sum().item() / len(targets)\n",
        "\n",
        "      model.eval()\n",
        "      with torch.no_grad():\n",
        "        test_accuracy = 0\n",
        "        for (data, targets) in test_dataloader:\n",
        "            data = data.to(device).float()\n",
        "            targets = targets.to(device).float()\n",
        "            test_outputs = model(data)\n",
        "\n",
        "            predicted = torch.zeros(test_outputs.shape[0]).to(device)\n",
        "            indices = (test_outputs > 0.5).nonzero(as_tuple=False).squeeze()\n",
        "            predicted[indices] = 1\n",
        "            test_accuracy += (predicted == targets).sum().item() / len(targets)\n",
        "\n",
        "\n",
        "      res_test = (test_accuracy/len(test_dataloader))*100\n",
        "      res_train = (train_accuracy/len(train_dataloader))*100\n",
        "\n",
        "      all_acc_train.append(res_train)\n",
        "      all_acc_test.append(res_test)\n",
        "\n",
        "  return np.mean(all_acc_train),np.std(all_acc_train),\\\n",
        "          np.mean(all_acc_test),np.std(all_acc_test)\n",
        "\n"
      ],
      "metadata": {
        "id": "T_a1y8V6NvLT"
      },
      "execution_count": 24,
      "outputs": []
    },
    {
      "cell_type": "code",
      "source": [
        "fc_dataset = MyDataset(X_data,df['p_np'])\n",
        "one_hot_dataset = MyDataset(data_one_hot,df['p_np'])"
      ],
      "metadata": {
        "id": "ADcq9dFIVeBA"
      },
      "execution_count": null,
      "outputs": []
    },
    {
      "cell_type": "code",
      "source": [
        "acc_train_mean,acc_train_std,acc_test_mean,acc_test_std = Kfold_Validation(FCNet,fc_dataset)"
      ],
      "metadata": {
        "id": "1y0tYoi0S7Nz"
      },
      "execution_count": null,
      "outputs": []
    },
    {
      "cell_type": "code",
      "source": [
        "print(f'Train accuracy: {acc_train_mean} ± {acc_train_std}')\n",
        "print(f'Test accuracy: {acc_test_mean} ± {acc_test_std}')"
      ],
      "metadata": {
        "colab": {
          "base_uri": "https://localhost:8080/"
        },
        "id": "xehyYFEFX7eC",
        "outputId": "513f64ec-62c6-4f27-eff9-a12e148bd70e"
      },
      "execution_count": null,
      "outputs": [
        {
          "output_type": "stream",
          "name": "stdout",
          "text": [
            "Train accuracy: 93.66586538461539 ± 0.7045361004688822\n",
            "Test accuracy: 87.94748520710058 ± 1.6464121565972247\n"
          ]
        }
      ]
    },
    {
      "cell_type": "markdown",
      "source": [
        "#Part C,D,E"
      ],
      "metadata": {
        "id": "69aaARY_GQg_"
      }
    },
    {
      "cell_type": "code",
      "source": [
        "class RNN_LSTM(nn.Module):\n",
        "    def __init__(self, input_size, hidden_size, num_layers):\n",
        "        super(RNN_LSTM, self).__init__()\n",
        "        self.hidden_size = hidden_size\n",
        "        self.num_layers = num_layers\n",
        "        self.lstm = nn.LSTM(input_size, hidden_size, num_layers,\n",
        "                            dropout=0.5, batch_first=True)\n",
        "        self.fc = nn.Linear(hidden_size , 1)\n",
        "\n",
        "    def forward(self, x):\n",
        "        # Set initial hidden and cell states\n",
        "        h0 = torch.zeros(self.num_layers, x.size(0), self.hidden_size).to(device)\n",
        "        c0 = torch.zeros(self.num_layers, x.size(0), self.hidden_size).to(device)\n",
        "\n",
        "        # Forward propagate LSTM\n",
        "        out, _ = self.lstm(\n",
        "            x, (h0, c0)\n",
        "        )  # out: tensor of shape (batch_size, seq_length, hidden_size)\n",
        "        out = out[:, -1, :].reshape(out.shape[0], -1)\n",
        "\n",
        "        # Decode the hidden state of the last time step\n",
        "        out = self.fc(out)\n",
        "        return torch.sigmoid(out)"
      ],
      "metadata": {
        "id": "-hdId3r-s2ox"
      },
      "execution_count": 71,
      "outputs": []
    },
    {
      "cell_type": "code",
      "source": [
        "input_size = 73\n",
        "hidden_size = 64\n",
        "num_layers = 4\n",
        "\n",
        "LSTM_model = RNN_LSTM(input_size, hidden_size, num_layers).to(device)"
      ],
      "metadata": {
        "id": "Js1CFufelhCw"
      },
      "execution_count": 145,
      "outputs": []
    },
    {
      "cell_type": "code",
      "source": [
        "criterion = nn.BCELoss()\n",
        "optimizer = torch.optim.Adam(LSTM_model.parameters(), lr=0.001)\n",
        "num_epochs = 70\n",
        "accuracy_list2 = []\n",
        "loss_list2 = []\n",
        "\n",
        "for epoch in range(num_epochs):\n",
        "    LSTM_model.train()\n",
        "\n",
        "    epoch_loss = 0.0\n",
        "    accuracies = []\n",
        "\n",
        "    for (data, targets) in train_dataloader_lstm:\n",
        "        data = data.to(device).float()\n",
        "        targets = targets.to(device).float()\n",
        "\n",
        "        optimizer.zero_grad()\n",
        "        outputs = LSTM_model(data).squeeze(-1)\n",
        "        loss = criterion(outputs, targets)\n",
        "\n",
        "        loss.backward()\n",
        "        optimizer.step()\n",
        "\n",
        "        epoch_loss += loss.item()\n",
        "        # print(outputs.shape)\n",
        "        predicted = torch.zeros(outputs.shape[0]).to(device)\n",
        "        indices = (outputs > 0.5).nonzero(as_tuple=False).squeeze()\n",
        "        predicted[indices] = 1\n",
        "\n",
        "        correct = (predicted == targets).sum().item()\n",
        "        accuracies.append(correct / targets.size(0))\n",
        "\n",
        "    epoch_loss /= len(train_dataloader)\n",
        "    accuracy = np.mean(accuracies)\n",
        "\n",
        "    print(f'Epoch: {epoch+1}, Loss: {epoch_loss:.4f}, Accuracy: {100*accuracy:.2f}%')\n",
        "    loss_list2.append(epoch_loss)\n",
        "    accuracy_list2.append(100*accuracy)\n",
        "\n"
      ],
      "metadata": {
        "colab": {
          "base_uri": "https://localhost:8080/"
        },
        "id": "dYZhXVDyHFEM",
        "outputId": "713d36d0-b723-4287-8d1a-72028078c1e3"
      },
      "execution_count": null,
      "outputs": [
        {
          "output_type": "stream",
          "name": "stdout",
          "text": [
            "Epoch: 1, Loss: 0.5762, Accuracy: 76.74%\n",
            "Epoch: 2, Loss: 0.5424, Accuracy: 76.92%\n",
            "Epoch: 3, Loss: 0.5382, Accuracy: 76.56%\n",
            "Epoch: 4, Loss: 0.5316, Accuracy: 77.46%\n",
            "Epoch: 5, Loss: 0.5296, Accuracy: 77.94%\n",
            "Epoch: 6, Loss: 0.5259, Accuracy: 78.06%\n",
            "Epoch: 7, Loss: 0.5233, Accuracy: 78.31%\n",
            "Epoch: 8, Loss: 0.5159, Accuracy: 78.85%\n",
            "Epoch: 9, Loss: 0.5224, Accuracy: 78.37%\n",
            "Epoch: 10, Loss: 0.5147, Accuracy: 78.91%\n",
            "Epoch: 11, Loss: 0.5183, Accuracy: 78.55%\n",
            "Epoch: 12, Loss: 0.5099, Accuracy: 78.91%\n",
            "Epoch: 13, Loss: 0.5139, Accuracy: 77.34%\n",
            "Epoch: 14, Loss: 0.5116, Accuracy: 78.43%\n",
            "Epoch: 15, Loss: 0.4696, Accuracy: 79.15%\n",
            "Epoch: 16, Loss: 0.4525, Accuracy: 76.02%\n",
            "Epoch: 17, Loss: 0.4243, Accuracy: 76.92%\n",
            "Epoch: 18, Loss: 0.4132, Accuracy: 76.74%\n",
            "Epoch: 19, Loss: 0.4136, Accuracy: 76.92%\n",
            "Epoch: 20, Loss: 0.4067, Accuracy: 76.92%\n",
            "Epoch: 21, Loss: 0.4289, Accuracy: 76.20%\n",
            "Epoch: 22, Loss: 0.3894, Accuracy: 83.47%\n",
            "Epoch: 23, Loss: 0.3775, Accuracy: 82.87%\n",
            "Epoch: 24, Loss: 0.3868, Accuracy: 81.97%\n",
            "Epoch: 25, Loss: 0.3958, Accuracy: 82.63%\n",
            "Epoch: 26, Loss: 0.3672, Accuracy: 84.50%\n",
            "Epoch: 27, Loss: 0.3705, Accuracy: 84.38%\n",
            "Epoch: 28, Loss: 0.4266, Accuracy: 83.41%\n",
            "Epoch: 29, Loss: 0.4049, Accuracy: 84.19%\n",
            "Epoch: 30, Loss: 0.3498, Accuracy: 84.92%\n",
            "Epoch: 31, Loss: 0.3471, Accuracy: 86.54%\n",
            "Epoch: 32, Loss: 0.3543, Accuracy: 86.90%\n",
            "Epoch: 33, Loss: 0.3279, Accuracy: 87.14%\n",
            "Epoch: 34, Loss: 0.5346, Accuracy: 70.07%\n",
            "Epoch: 35, Loss: 0.4692, Accuracy: 76.92%\n",
            "Epoch: 36, Loss: 0.5086, Accuracy: 76.92%\n",
            "Epoch: 37, Loss: 0.5058, Accuracy: 76.74%\n",
            "Epoch: 38, Loss: 0.5013, Accuracy: 77.10%\n",
            "Epoch: 39, Loss: 0.5066, Accuracy: 76.74%\n",
            "Epoch: 40, Loss: 0.5032, Accuracy: 76.92%\n",
            "Epoch: 41, Loss: 0.5066, Accuracy: 76.74%\n",
            "Epoch: 42, Loss: 0.5048, Accuracy: 76.92%\n",
            "Epoch: 43, Loss: 0.5047, Accuracy: 76.92%\n",
            "Epoch: 44, Loss: 0.5022, Accuracy: 76.92%\n",
            "Epoch: 45, Loss: 0.4898, Accuracy: 77.10%\n",
            "Epoch: 46, Loss: 0.5013, Accuracy: 76.92%\n",
            "Epoch: 47, Loss: 0.4788, Accuracy: 76.74%\n",
            "Epoch: 48, Loss: 0.4374, Accuracy: 76.74%\n",
            "Epoch: 49, Loss: 0.3988, Accuracy: 76.74%\n",
            "Epoch: 50, Loss: 0.3777, Accuracy: 79.33%\n",
            "Epoch: 51, Loss: 0.3790, Accuracy: 79.15%\n",
            "Epoch: 52, Loss: 0.3948, Accuracy: 74.40%\n",
            "Epoch: 53, Loss: 0.3843, Accuracy: 76.92%\n",
            "Epoch: 54, Loss: 0.3988, Accuracy: 79.51%\n",
            "Epoch: 55, Loss: 0.3676, Accuracy: 82.45%\n",
            "Epoch: 56, Loss: 0.3574, Accuracy: 84.31%\n",
            "Epoch: 57, Loss: 0.3307, Accuracy: 86.00%\n",
            "Epoch: 58, Loss: 0.3145, Accuracy: 87.62%\n",
            "Epoch: 59, Loss: 0.3138, Accuracy: 85.94%\n",
            "Epoch: 60, Loss: 0.3093, Accuracy: 87.14%\n",
            "Epoch: 61, Loss: 0.3157, Accuracy: 86.96%\n",
            "Epoch: 62, Loss: 0.3190, Accuracy: 87.02%\n",
            "Epoch: 63, Loss: 0.3089, Accuracy: 87.20%\n",
            "Epoch: 64, Loss: 0.3037, Accuracy: 87.56%\n",
            "Epoch: 65, Loss: 0.3456, Accuracy: 84.74%\n",
            "Epoch: 66, Loss: 0.3079, Accuracy: 87.32%\n",
            "Epoch: 67, Loss: 0.2925, Accuracy: 88.34%\n",
            "Epoch: 68, Loss: 0.2960, Accuracy: 87.74%\n",
            "Epoch: 69, Loss: 0.2928, Accuracy: 87.98%\n",
            "Epoch: 70, Loss: 0.2954, Accuracy: 88.34%\n"
          ]
        }
      ]
    },
    {
      "cell_type": "code",
      "source": [
        "plot_results(loss_list2,accuracy_list2)"
      ],
      "metadata": {
        "colab": {
          "base_uri": "https://localhost:8080/",
          "height": 468
        },
        "id": "qe5PuI5QIIt2",
        "outputId": "310925ea-5f08-4f29-c940-d1be1da547e1"
      },
      "execution_count": null,
      "outputs": [
        {
          "output_type": "display_data",
          "data": {
            "text/plain": [
              "<Figure size 1000x500 with 2 Axes>"
            ],
            "image/png": "[encoded data removed]"
          },
          "metadata": {}
        }
      ]
    },
    {
      "cell_type": "code",
      "source": [
        "with torch.no_grad():\n",
        "    train_accuracy = 0\n",
        "    for (data, targets) in tqdm(train_dataloader_lstm):\n",
        "        data = data.to(device).float()\n",
        "        targets = targets.to(device).float()\n",
        "        train_outputs = LSTM_model(data)\n",
        "\n",
        "        predicted = torch.zeros(train_outputs.shape[0]).to(device)\n",
        "        indices = (train_outputs > 0.5).nonzero(as_tuple=False).squeeze()\n",
        "        predicted[indices] = 1\n",
        "\n",
        "        train_accuracy += (predicted == targets).sum().item() / len(targets)\n",
        "        accuracies.append(correct / targets.size(0))\n",
        "\n",
        "    epoch_loss /= len(train_dataloader)\n",
        "    accuracy = np.mean(accuracies)\n",
        "\n",
        "\n",
        "print('\\n train accuracy: ',(train_accuracy/len(train_dataloader))*100)"
      ],
      "metadata": {
        "colab": {
          "base_uri": "https://localhost:8080/"
        },
        "id": "4nSJTry5n6w1",
        "outputId": "d2315e44-af8d-40e0-8937-e4857afeddb4"
      },
      "execution_count": null,
      "outputs": [
        {
          "output_type": "stream",
          "name": "stderr",
          "text": [
            "100%|██████████| 52/52 [00:00<00:00, 261.40it/s]"
          ]
        },
        {
          "output_type": "stream",
          "name": "stdout",
          "text": [
            "\n",
            " train accuracy:  87.98076923076923\n"
          ]
        },
        {
          "output_type": "stream",
          "name": "stderr",
          "text": [
            "\n"
          ]
        }
      ]
    },
    {
      "cell_type": "code",
      "source": [
        "with torch.no_grad():\n",
        "    test_accuracy = 0\n",
        "    for (data, targets) in tqdm(test_dataloader_lstm):\n",
        "        data = data.to(device).float()\n",
        "        targets = targets.to(device).float()\n",
        "        test_outputs = LSTM_model(data)\n",
        "\n",
        "        predicted = torch.zeros(test_outputs.shape[0]).to(device)\n",
        "        indices = (test_outputs > 0.5).nonzero(as_tuple=False).squeeze()\n",
        "        predicted[indices] = 1\n",
        "\n",
        "        test_accuracy += (predicted == targets).sum().item() / len(targets)\n",
        "        accuracies.append(correct / targets.size(0))\n",
        "\n",
        "    epoch_loss /= len(test_dataloader)\n",
        "    accuracy = np.mean(accuracies)\n",
        "\n",
        "\n",
        "print('\\n test accuracy: ',(test_accuracy/len(test_dataloader))*100)"
      ],
      "metadata": {
        "colab": {
          "base_uri": "https://localhost:8080/"
        },
        "id": "82lA0E8uHk-H",
        "outputId": "9820e77d-8125-44ce-944c-675d1df7351d"
      },
      "execution_count": null,
      "outputs": [
        {
          "output_type": "stream",
          "name": "stderr",
          "text": [
            "100%|██████████| 13/13 [00:00<00:00, 246.89it/s]"
          ]
        },
        {
          "output_type": "stream",
          "name": "stdout",
          "text": [
            "\n",
            " test accuracy:  84.44896449704143\n"
          ]
        },
        {
          "output_type": "stream",
          "name": "stderr",
          "text": [
            "\n"
          ]
        }
      ]
    },
    {
      "cell_type": "markdown",
      "source": [
        "Save the model"
      ],
      "metadata": {
        "id": "rMsdALmycSzv"
      }
    },
    {
      "cell_type": "code",
      "source": [
        "torch.save(LSTM_model.state_dict(), '/content/drive/My Drive/DEEP/HW4/lstm_model.pth')"
      ],
      "metadata": {
        "id": "E_NQh95OcSzv"
      },
      "execution_count": null,
      "outputs": []
    },
    {
      "cell_type": "markdown",
      "source": [
        "## Kfold Validation"
      ],
      "metadata": {
        "id": "17Dg4mJocSzv"
      }
    },
    {
      "cell_type": "code",
      "source": [
        "input_size = 73\n",
        "hidden_size = 64\n",
        "num_layers = 4\n",
        "\n",
        "acc_train_mean,acc_train_std,acc_test_mean,acc_test_std = Kfold_Validation(RNN_LSTM,\n",
        "                     one_hot_dataset,True,input_size, hidden_size, num_layers,epochs=70)\n"
      ],
      "metadata": {
        "id": "UOpvRKCZcSzv"
      },
      "execution_count": null,
      "outputs": []
    },
    {
      "cell_type": "code",
      "source": [
        "print(f'Train accuracy: {acc_train_mean} ± {acc_train_std}')\n",
        "print(f'Test accuracy: {acc_test_mean} ± {acc_test_std}')"
      ],
      "metadata": {
        "colab": {
          "base_uri": "https://localhost:8080/"
        },
        "id": "46gqr2RL5eo6",
        "outputId": "93172001-071f-47a6-a34a-7f646eef6f00"
      },
      "execution_count": null,
      "outputs": [
        {
          "output_type": "stream",
          "name": "stdout",
          "text": [
            "Train accuracy: 84.11057692307693 ± 4.0573761497320175\n",
            "Test accuracy: 83.22855029585799 ± 2.6038497087786525\n"
          ]
        }
      ]
    },
    {
      "cell_type": "markdown",
      "source": [
        "---\n",
        "# Bidirectional RNN"
      ],
      "metadata": {
        "id": "DzzgFKJBtXtX"
      }
    },
    {
      "cell_type": "code",
      "source": [
        "class BiRNN_LSTM(nn.Module):\n",
        "    def __init__(self, input_size, hidden_size, num_layers):\n",
        "        super(BiRNN_LSTM, self).__init__()\n",
        "        self.hidden_size = hidden_size\n",
        "        self.num_layers = num_layers\n",
        "        self.lstm = nn.LSTM(input_size, hidden_size, num_layers, batch_first=True, bidirectional=True)\n",
        "        self.fc = nn.Linear(hidden_size * 2, 1)  # Note the modification in the linear layer input size\n",
        "\n",
        "    def forward(self, x):\n",
        "        # Set initial hidden and cell states\n",
        "        h0 = torch.zeros(self.num_layers * 2, x.size(0), self.hidden_size).to(x.device)  # Note the modification in the initial hidden state size\n",
        "        c0 = torch.zeros(self.num_layers * 2, x.size(0), self.hidden_size).to(x.device)  # Note the modification in the initial cell state size\n",
        "\n",
        "        # Forward propagate LSTM\n",
        "        out, _ = self.lstm(\n",
        "            x, (h0, c0)\n",
        "        )  # out: tensor of shape (batch_size, seq_length, hidden_size * 2) due to concatenation of forward and backward hidden states\n",
        "\n",
        "        # Concatenate the final states of both directions before passing to the linear layer\n",
        "        out = torch.cat((out[:, -1, :self.hidden_size], out[:, 0, self.hidden_size:]), dim=1)  # Concatenating hidden states of forward and backward directions\n",
        "\n",
        "        # Decode the concatenated hidden states of the last time step\n",
        "        out = self.fc(out)\n",
        "        return torch.sigmoid(out)\n"
      ],
      "metadata": {
        "id": "ClFQ_1q6sR9T"
      },
      "execution_count": 79,
      "outputs": []
    },
    {
      "cell_type": "code",
      "source": [
        "\n",
        "input_size = 73\n",
        "hidden_size = 64\n",
        "num_layers = 4\n",
        "\n",
        "BILSTM_model = BiRNN_LSTM(input_size, hidden_size, num_layers).to(device)\n",
        "criterion = nn.BCELoss()\n",
        "optimizer = torch.optim.Adam(BILSTM_model.parameters(), lr=0.001)\n",
        "num_epochs = 70\n",
        "\n",
        "loss_list3 = []\n",
        "accuracy_list3 = []\n",
        "\n",
        "for epoch in range(num_epochs):\n",
        "    BILSTM_model.train()\n",
        "\n",
        "    epoch_loss = 0.0\n",
        "    accuracies = []\n",
        "\n",
        "    for (data, targets) in train_dataloader_lstm:\n",
        "        data = data.to(device).float()\n",
        "        targets = targets.to(device).float()\n",
        "\n",
        "        optimizer.zero_grad()\n",
        "        outputs = BILSTM_model(data).squeeze(-1)\n",
        "        loss = criterion(outputs, targets)\n",
        "\n",
        "        loss.backward()\n",
        "        optimizer.step()\n",
        "\n",
        "        epoch_loss += loss.item()\n",
        "        # print(outputs.shape)\n",
        "        predicted = torch.zeros(outputs.shape[0]).to(device)\n",
        "        indices = (outputs > 0.5).nonzero(as_tuple=False).squeeze()\n",
        "        predicted[indices] = 1\n",
        "\n",
        "        correct = (predicted == targets).sum().item()\n",
        "        accuracies.append(correct / targets.size(0))\n",
        "\n",
        "    epoch_loss /= len(train_dataloader)\n",
        "    accuracy = np.mean(accuracies)\n",
        "\n",
        "    print(f'Epoch: {epoch+1}, Loss: {epoch_loss:.4f}, Accuracy: {100*accuracy:.2f}%')\n",
        "    loss_list3.append(epoch_loss)\n",
        "    accuracy_list3.append(100*accuracy)\n",
        "\n"
      ],
      "metadata": {
        "colab": {
          "base_uri": "https://localhost:8080/"
        },
        "id": "6yWFCioMWq5R",
        "outputId": "98f345f0-5473-486f-e2cf-16569d0160e5"
      },
      "execution_count": 148,
      "outputs": [
        {
          "output_type": "stream",
          "name": "stdout",
          "text": [
            "Epoch: 1, Loss: 0.5654, Accuracy: 74.76%\n",
            "Epoch: 2, Loss: 0.5102, Accuracy: 78.12%\n",
            "Epoch: 3, Loss: 0.3819, Accuracy: 82.15%\n",
            "Epoch: 4, Loss: 0.3363, Accuracy: 84.74%\n",
            "Epoch: 5, Loss: 0.3155, Accuracy: 85.40%\n",
            "Epoch: 6, Loss: 0.3117, Accuracy: 85.34%\n",
            "Epoch: 7, Loss: 0.2765, Accuracy: 87.32%\n",
            "Epoch: 8, Loss: 0.2612, Accuracy: 87.74%\n",
            "Epoch: 9, Loss: 0.2474, Accuracy: 88.16%\n",
            "Epoch: 10, Loss: 0.2467, Accuracy: 89.18%\n",
            "Epoch: 11, Loss: 0.2313, Accuracy: 89.96%\n",
            "Epoch: 12, Loss: 0.2421, Accuracy: 89.12%\n",
            "Epoch: 13, Loss: 0.2297, Accuracy: 89.96%\n",
            "Epoch: 14, Loss: 0.2169, Accuracy: 90.56%\n",
            "Epoch: 15, Loss: 0.2256, Accuracy: 89.96%\n",
            "Epoch: 16, Loss: 0.2337, Accuracy: 89.66%\n",
            "Epoch: 17, Loss: 0.2430, Accuracy: 88.94%\n",
            "Epoch: 18, Loss: 0.2231, Accuracy: 89.66%\n",
            "Epoch: 19, Loss: 0.2313, Accuracy: 89.54%\n",
            "Epoch: 20, Loss: 0.2272, Accuracy: 89.66%\n",
            "Epoch: 21, Loss: 0.2477, Accuracy: 88.16%\n",
            "Epoch: 22, Loss: 0.2249, Accuracy: 89.96%\n",
            "Epoch: 23, Loss: 0.2180, Accuracy: 90.69%\n",
            "Epoch: 24, Loss: 0.2011, Accuracy: 91.29%\n",
            "Epoch: 25, Loss: 0.2063, Accuracy: 90.99%\n",
            "Epoch: 26, Loss: 0.1994, Accuracy: 91.77%\n",
            "Epoch: 27, Loss: 0.1964, Accuracy: 91.53%\n",
            "Epoch: 28, Loss: 0.1945, Accuracy: 91.59%\n",
            "Epoch: 29, Loss: 0.2049, Accuracy: 91.17%\n",
            "Epoch: 30, Loss: 0.1873, Accuracy: 92.49%\n",
            "Epoch: 31, Loss: 0.1806, Accuracy: 92.37%\n",
            "Epoch: 32, Loss: 0.1774, Accuracy: 92.01%\n",
            "Epoch: 33, Loss: 0.1827, Accuracy: 92.67%\n",
            "Epoch: 34, Loss: 0.1787, Accuracy: 92.61%\n",
            "Epoch: 35, Loss: 0.1755, Accuracy: 92.25%\n",
            "Epoch: 36, Loss: 0.1755, Accuracy: 92.61%\n",
            "Epoch: 37, Loss: 0.1652, Accuracy: 93.45%\n",
            "Epoch: 38, Loss: 0.1661, Accuracy: 92.79%\n",
            "Epoch: 39, Loss: 0.1524, Accuracy: 93.69%\n",
            "Epoch: 40, Loss: 0.1799, Accuracy: 92.25%\n",
            "Epoch: 41, Loss: 0.1544, Accuracy: 93.57%\n",
            "Epoch: 42, Loss: 0.1516, Accuracy: 93.87%\n",
            "Epoch: 43, Loss: 0.1521, Accuracy: 93.57%\n",
            "Epoch: 44, Loss: 0.1468, Accuracy: 93.81%\n",
            "Epoch: 45, Loss: 0.1510, Accuracy: 93.87%\n",
            "Epoch: 46, Loss: 0.1653, Accuracy: 93.27%\n",
            "Epoch: 47, Loss: 0.1444, Accuracy: 93.87%\n",
            "Epoch: 48, Loss: 0.1289, Accuracy: 94.83%\n",
            "Epoch: 49, Loss: 0.1281, Accuracy: 94.47%\n",
            "Epoch: 50, Loss: 0.1373, Accuracy: 94.59%\n",
            "Epoch: 51, Loss: 0.1481, Accuracy: 93.81%\n",
            "Epoch: 52, Loss: 0.1171, Accuracy: 95.25%\n",
            "Epoch: 53, Loss: 0.1411, Accuracy: 94.11%\n",
            "Epoch: 54, Loss: 0.1219, Accuracy: 95.07%\n",
            "Epoch: 55, Loss: 0.1268, Accuracy: 94.77%\n",
            "Epoch: 56, Loss: 0.1213, Accuracy: 95.37%\n",
            "Epoch: 57, Loss: 0.1140, Accuracy: 95.43%\n",
            "Epoch: 58, Loss: 0.1037, Accuracy: 96.03%\n",
            "Epoch: 59, Loss: 0.1076, Accuracy: 95.91%\n",
            "Epoch: 60, Loss: 0.1071, Accuracy: 95.67%\n",
            "Epoch: 61, Loss: 0.1196, Accuracy: 95.43%\n",
            "Epoch: 62, Loss: 0.1160, Accuracy: 95.43%\n",
            "Epoch: 63, Loss: 0.1306, Accuracy: 93.93%\n",
            "Epoch: 64, Loss: 0.0947, Accuracy: 96.51%\n",
            "Epoch: 65, Loss: 0.0991, Accuracy: 96.09%\n",
            "Epoch: 66, Loss: 0.0933, Accuracy: 96.69%\n",
            "Epoch: 67, Loss: 0.0847, Accuracy: 97.18%\n",
            "Epoch: 68, Loss: 0.0966, Accuracy: 96.15%\n",
            "Epoch: 69, Loss: 0.0870, Accuracy: 96.75%\n",
            "Epoch: 70, Loss: 0.1033, Accuracy: 96.03%\n"
          ]
        }
      ]
    },
    {
      "cell_type": "code",
      "source": [
        "with torch.no_grad():\n",
        "    train_accuracy = 0\n",
        "    BILSTM_model.eval()\n",
        "    for (data, targets) in tqdm(train_dataloader_lstm):\n",
        "        data = data.to(device).float()\n",
        "        targets = targets.to(device).float()\n",
        "        train_outputs = BILSTM_model(data)\n",
        "\n",
        "        predicted = torch.zeros(train_outputs.shape[0]).to(device)\n",
        "        indices = (train_outputs > 0.5).nonzero(as_tuple=False).squeeze()\n",
        "        predicted[indices] = 1\n",
        "\n",
        "        train_accuracy += (predicted == targets).sum().item() / len(targets)\n",
        "        accuracies.append(correct / targets.size(0))\n",
        "\n",
        "    epoch_loss /= len(train_dataloader)\n",
        "    accuracy = np.mean(accuracies)\n",
        "\n",
        "print('\\n train accuracy: ',(train_accuracy/len(train_dataloader))*100)"
      ],
      "metadata": {
        "colab": {
          "base_uri": "https://localhost:8080/"
        },
        "id": "gOoCMrJCXAM3",
        "outputId": "9bc9d04c-8b72-40b3-d6ba-5c44a86e721d"
      },
      "execution_count": 150,
      "outputs": [
        {
          "output_type": "stream",
          "name": "stderr",
          "text": [
            "100%|██████████| 52/52 [00:00<00:00, 165.45it/s]"
          ]
        },
        {
          "output_type": "stream",
          "name": "stdout",
          "text": [
            "\n",
            " train accuracy:  97.17548076923077\n"
          ]
        },
        {
          "output_type": "stream",
          "name": "stderr",
          "text": [
            "\n"
          ]
        }
      ]
    },
    {
      "cell_type": "code",
      "source": [
        "with torch.no_grad():\n",
        "    test_accuracy = 0\n",
        "    BILSTM_model.eval()\n",
        "    for (data, targets) in tqdm(test_dataloader_lstm):\n",
        "        data = data.to(device).float()\n",
        "        targets = targets.to(device).float()\n",
        "        test_outputs = BILSTM_model(data)\n",
        "\n",
        "        predicted = torch.zeros(test_outputs.shape[0]).to(device)\n",
        "        indices = (test_outputs > 0.5).nonzero(as_tuple=False).squeeze()\n",
        "        predicted[indices] = 1\n",
        "\n",
        "        test_accuracy += (predicted == targets).sum().item() / len(targets)\n",
        "        accuracies.append(correct / targets.size(0))\n",
        "\n",
        "    epoch_loss /= len(test_dataloader)\n",
        "    accuracy = np.mean(accuracies)\n",
        "\n",
        "\n",
        "print('\\n test accuracy: ',(test_accuracy/len(test_dataloader))*100)"
      ],
      "metadata": {
        "colab": {
          "base_uri": "https://localhost:8080/"
        },
        "id": "dbMDpe0113Kg",
        "outputId": "9a4a32d5-8b5e-43b7-b258-c09c1df49082"
      },
      "execution_count": null,
      "outputs": [
        {
          "output_type": "stream",
          "name": "stderr",
          "text": [
            "100%|██████████| 13/13 [00:00<00:00, 199.43it/s]"
          ]
        },
        {
          "output_type": "stream",
          "name": "stdout",
          "text": [
            "\n",
            " test accuracy:  88.29511834319527\n"
          ]
        },
        {
          "output_type": "stream",
          "name": "stderr",
          "text": [
            "\n"
          ]
        }
      ]
    },
    {
      "cell_type": "markdown",
      "source": [
        "Save model"
      ],
      "metadata": {
        "id": "fzZ5In-S38dG"
      }
    },
    {
      "cell_type": "code",
      "source": [
        "torch.save(BILSTM_model.state_dict(), '/content/drive/My Drive/DEEP/HW4/bilstm_model.pth')"
      ],
      "metadata": {
        "id": "1-W4XMeb206k"
      },
      "execution_count": null,
      "outputs": []
    },
    {
      "cell_type": "code",
      "source": [
        "plot_results(loss_list3,accuracy_list3)"
      ],
      "metadata": {
        "colab": {
          "base_uri": "https://localhost:8080/",
          "height": 468
        },
        "id": "W_V-wQtTfPNX",
        "outputId": "1a66e978-e2bf-4322-f20f-88dce3f54d49"
      },
      "execution_count": 153,
      "outputs": [
        {
          "output_type": "display_data",
          "data": {
            "text/plain": [
              "<Figure size 1000x500 with 2 Axes>"
            ],
            "image/png": "[encoded data removed]"
          },
          "metadata": {}
        }
      ]
    },
    {
      "cell_type": "markdown",
      "source": [
        "## Kfold Validation"
      ],
      "metadata": {
        "id": "YmyZY4p4fKjf"
      }
    },
    {
      "cell_type": "code",
      "source": [
        "input_size = 73\n",
        "hidden_size = 64\n",
        "num_layers = 4\n",
        "\n",
        "acc_train_mean,acc_train_std,acc_test_mean,acc_test_std = Kfold_Validation(BiRNN_LSTM,\n",
        "                     one_hot_dataset,True,input_size, hidden_size, num_layers,epochs=70)\n"
      ],
      "metadata": {
        "id": "9eQUrlzZfKjm"
      },
      "execution_count": 156,
      "outputs": []
    },
    {
      "cell_type": "code",
      "source": [
        "print(f'Train accuracy: {acc_train_mean} ± {acc_train_std}')\n",
        "print(f'Test accuracy: {acc_test_mean} ± {acc_test_std}')"
      ],
      "metadata": {
        "colab": {
          "base_uri": "https://localhost:8080/"
        },
        "outputId": "332bc3a1-b196-4d36-c70c-2f7e30649c4f",
        "id": "vUoJmNjafKjm"
      },
      "execution_count": null,
      "outputs": [
        {
          "output_type": "stream",
          "name": "stdout",
          "text": [
            "Train accuracy: 87.86057692307693 ± 4.004767291328213\n",
            "Test accuracy: 87.40754437869823 ± 4.8290518918980085\n"
          ]
        }
      ]
    },
    {
      "cell_type": "markdown",
      "source": [
        "----\n",
        "### Part G)"
      ],
      "metadata": {
        "id": "jaQI-mC5gANd"
      }
    },
    {
      "cell_type": "code",
      "source": [
        "from sklearn.model_selection import train_test_split\n",
        "\n",
        "# Split the data into training and testing sets\n",
        "df_train, df_test = train_test_split(df, test_size=0.5, random_state=42)\n"
      ],
      "metadata": {
        "id": "efGU-Atl6CRy"
      },
      "execution_count": 165,
      "outputs": []
    },
    {
      "cell_type": "code",
      "source": [
        "df_test.head()"
      ],
      "metadata": {
        "colab": {
          "base_uri": "https://localhost:8080/",
          "height": 206
        },
        "id": "AChxlJIg6RK8",
        "outputId": "60069b95-9ce4-4cea-bd24-d07b4a3512b2"
      },
      "execution_count": 166,
      "outputs": [
        {
          "output_type": "execute_result",
          "data": {
            "text/plain": [
              "       num             name  p_np  \\\n",
              "1808  1812      doliracetam     1   \n",
              "694    696  methamphetamine     1   \n",
              "906    908      quinacillin     0   \n",
              "544    546        GR94839_L     0   \n",
              "1847  1851      fluradoline     1   \n",
              "\n",
              "                                                 smiles  smiles length  \n",
              "1808           C1=CC=CC2=C1C(C(N2CC(N)=O)=O)C3=CC=CC=C3             40  \n",
              "694                                CN[C@@H](C)Cc1ccccc1             20  \n",
              "906   CC1(C)S[C@@H]2[C@H](NC(=O)c3nc4ccccc4nc3C(O)=O...             66  \n",
              "544   c1(CC(N2[C@H](CN(CC2)C(=O)C)C[N@]2CC[C@H](O)C2...             68  \n",
              "1847             C1=C(F)C=CC3=C1C=C(SCCNC)C2=CC=CC=C2O3             38  "
            ],
            "text/html": [
              "\n",
              "  <div id=\"df-264da231-6613-4031-828e-269b28f27e2b\" class=\"colab-df-container\">\n",
              "    <div>\n",
              "<style scoped>\n",
              "    .dataframe tbody tr th:only-of-type {\n",
              "        vertical-align: middle;\n",
              "    }\n",
              "\n",
              "    .dataframe tbody tr th {\n",
              "        vertical-align: top;\n",
              "    }\n",
              "\n",
              "    .dataframe thead th {\n",
              "        text-align: right;\n",
              "    }\n",
              "</style>\n",
              "<table border=\"1\" class=\"dataframe\">\n",
              "  <thead>\n",
              "    <tr style=\"text-align: right;\">\n",
              "      <th></th>\n",
              "      <th>num</th>\n",
              "      <th>name</th>\n",
              "      <th>p_np</th>\n",
              "      <th>smiles</th>\n",
              "      <th>smiles length</th>\n",
              "    </tr>\n",
              "  </thead>\n",
              "  <tbody>\n",
              "    <tr>\n",
              "      <th>1808</th>\n",
              "      <td>1812</td>\n",
              "      <td>doliracetam</td>\n",
              "      <td>1</td>\n",
              "      <td>C1=CC=CC2=C1C(C(N2CC(N)=O)=O)C3=CC=CC=C3</td>\n",
              "      <td>40</td>\n",
              "    </tr>\n",
              "    <tr>\n",
              "      <th>694</th>\n",
              "      <td>696</td>\n",
              "      <td>methamphetamine</td>\n",
              "      <td>1</td>\n",
              "      <td>CN[C@@H](C)Cc1ccccc1</td>\n",
              "      <td>20</td>\n",
              "    </tr>\n",
              "    <tr>\n",
              "      <th>906</th>\n",
              "      <td>908</td>\n",
              "      <td>quinacillin</td>\n",
              "      <td>0</td>\n",
              "      <td>CC1(C)S[C@@H]2[C@H](NC(=O)c3nc4ccccc4nc3C(O)=O...</td>\n",
              "      <td>66</td>\n",
              "    </tr>\n",
              "    <tr>\n",
              "      <th>544</th>\n",
              "      <td>546</td>\n",
              "      <td>GR94839_L</td>\n",
              "      <td>0</td>\n",
              "      <td>c1(CC(N2[C@H](CN(CC2)C(=O)C)C[N@]2CC[C@H](O)C2...</td>\n",
              "      <td>68</td>\n",
              "    </tr>\n",
              "    <tr>\n",
              "      <th>1847</th>\n",
              "      <td>1851</td>\n",
              "      <td>fluradoline</td>\n",
              "      <td>1</td>\n",
              "      <td>C1=C(F)C=CC3=C1C=C(SCCNC)C2=CC=CC=C2O3</td>\n",
              "      <td>38</td>\n",
              "    </tr>\n",
              "  </tbody>\n",
              "</table>\n",
              "</div>\n",
              "    <div class=\"colab-df-buttons\">\n",
              "\n",
              "  <div class=\"colab-df-container\">\n",
              "    <button class=\"colab-df-convert\" onclick=\"convertToInteractive('df-264da231-6613-4031-828e-269b28f27e2b')\"\n",
              "            title=\"Convert this dataframe to an interactive table.\"\n",
              "            style=\"display:none;\">\n",
              "\n",
              "  <svg xmlns=\"http://www.w3.org/2000/svg\" height=\"24px\" viewBox=\"0 -960 960 960\">\n",
              "    <path d=\"M120-120v-720h720v720H120Zm60-500h600v-160H180v160Zm220 220h160v-160H400v160Zm0 220h160v-160H400v160ZM180-400h160v-160H180v160Zm440 0h160v-160H620v160ZM180-180h160v-160H180v160Zm440 0h160v-160H620v160Z\"/>\n",
              "  </svg>\n",
              "    </button>\n",
              "\n",
              "  <style>\n",
              "    .colab-df-container {\n",
              "      display:flex;\n",
              "      gap: 12px;\n",
              "    }\n",
              "\n",
              "    .colab-df-convert {\n",
              "      background-color: #E8F0FE;\n",
              "      border: none;\n",
              "      border-radius: 50%;\n",
              "      cursor: pointer;\n",
              "      display: none;\n",
              "      fill: #1967D2;\n",
              "      height: 32px;\n",
              "      padding: 0 0 0 0;\n",
              "      width: 32px;\n",
              "    }\n",
              "\n",
              "    .colab-df-convert:hover {\n",
              "      background-color: #E2EBFA;\n",
              "      box-shadow: 0px 1px 2px rgba(60, 64, 67, 0.3), 0px 1px 3px 1px rgba(60, 64, 67, 0.15);\n",
              "      fill: #174EA6;\n",
              "    }\n",
              "\n",
              "    .colab-df-buttons div {\n",
              "      margin-bottom: 4px;\n",
              "    }\n",
              "\n",
              "    [theme=dark] .colab-df-convert {\n",
              "      background-color: #3B4455;\n",
              "      fill: #D2E3FC;\n",
              "    }\n",
              "\n",
              "    [theme=dark] .colab-df-convert:hover {\n",
              "      background-color: #434B5C;\n",
              "      box-shadow: 0px 1px 3px 1px rgba(0, 0, 0, 0.15);\n",
              "      filter: drop-shadow(0px 1px 2px rgba(0, 0, 0, 0.3));\n",
              "      fill: #FFFFFF;\n",
              "    }\n",
              "  </style>\n",
              "\n",
              "    <script>\n",
              "      const buttonEl =\n",
              "        document.querySelector('#df-264da231-6613-4031-828e-269b28f27e2b button.colab-df-convert');\n",
              "      buttonEl.style.display =\n",
              "        google.colab.kernel.accessAllowed ? 'block' : 'none';\n",
              "\n",
              "      async function convertToInteractive(key) {\n",
              "        const element = document.querySelector('#df-264da231-6613-4031-828e-269b28f27e2b');\n",
              "        const dataTable =\n",
              "          await google.colab.kernel.invokeFunction('convertToInteractive',\n",
              "                                                    [key], {});\n",
              "        if (!dataTable) return;\n",
              "\n",
              "        const docLinkHtml = 'Like what you see? Visit the ' +\n",
              "          '<a target=\"_blank\" href=https://colab.research.google.com/notebooks/data_table.ipynb>data table notebook</a>'\n",
              "          + ' to learn more about interactive tables.';\n",
              "        element.innerHTML = '';\n",
              "        dataTable['output_type'] = 'display_data';\n",
              "        await google.colab.output.renderOutput(dataTable, element);\n",
              "        const docLink = document.createElement('div');\n",
              "        docLink.innerHTML = docLinkHtml;\n",
              "        element.appendChild(docLink);\n",
              "      }\n",
              "    </script>\n",
              "  </div>\n",
              "\n",
              "\n",
              "<div id=\"df-e7c47159-74c1-4337-9f44-9c94fef00041\">\n",
              "  <button class=\"colab-df-quickchart\" onclick=\"quickchart('df-e7c47159-74c1-4337-9f44-9c94fef00041')\"\n",
              "            title=\"Suggest charts\"\n",
              "            style=\"display:none;\">\n",
              "\n",
              "<svg xmlns=\"http://www.w3.org/2000/svg\" height=\"24px\"viewBox=\"0 0 24 24\"\n",
              "     width=\"24px\">\n",
              "    <g>\n",
              "        <path d=\"M19 3H5c-1.1 0-2 .9-2 2v14c0 1.1.9 2 2 2h14c1.1 0 2-.9 2-2V5c0-1.1-.9-2-2-2zM9 17H7v-7h2v7zm4 0h-2V7h2v10zm4 0h-2v-4h2v4z\"/>\n",
              "    </g>\n",
              "</svg>\n",
              "  </button>\n",
              "\n",
              "<style>\n",
              "  .colab-df-quickchart {\n",
              "      --bg-color: #E8F0FE;\n",
              "      --fill-color: #1967D2;\n",
              "      --hover-bg-color: #E2EBFA;\n",
              "      --hover-fill-color: #174EA6;\n",
              "      --disabled-fill-color: #AAA;\n",
              "      --disabled-bg-color: #DDD;\n",
              "  }\n",
              "\n",
              "  [theme=dark] .colab-df-quickchart {\n",
              "      --bg-color: #3B4455;\n",
              "      --fill-color: #D2E3FC;\n",
              "      --hover-bg-color: #434B5C;\n",
              "      --hover-fill-color: #FFFFFF;\n",
              "      --disabled-bg-color: #3B4455;\n",
              "      --disabled-fill-color: #666;\n",
              "  }\n",
              "\n",
              "  .colab-df-quickchart {\n",
              "    background-color: var(--bg-color);\n",
              "    border: none;\n",
              "    border-radius: 50%;\n",
              "    cursor: pointer;\n",
              "    display: none;\n",
              "    fill: var(--fill-color);\n",
              "    height: 32px;\n",
              "    padding: 0;\n",
              "    width: 32px;\n",
              "  }\n",
              "\n",
              "  .colab-df-quickchart:hover {\n",
              "    background-color: var(--hover-bg-color);\n",
              "    box-shadow: 0 1px 2px rgba(60, 64, 67, 0.3), 0 1px 3px 1px rgba(60, 64, 67, 0.15);\n",
              "    fill: var(--button-hover-fill-color);\n",
              "  }\n",
              "\n",
              "  .colab-df-quickchart-complete:disabled,\n",
              "  .colab-df-quickchart-complete:disabled:hover {\n",
              "    background-color: var(--disabled-bg-color);\n",
              "    fill: var(--disabled-fill-color);\n",
              "    box-shadow: none;\n",
              "  }\n",
              "\n",
              "  .colab-df-spinner {\n",
              "    border: 2px solid var(--fill-color);\n",
              "    border-color: transparent;\n",
              "    border-bottom-color: var(--fill-color);\n",
              "    animation:\n",
              "      spin 1s steps(1) infinite;\n",
              "  }\n",
              "\n",
              "  @keyframes spin {\n",
              "    0% {\n",
              "      border-color: transparent;\n",
              "      border-bottom-color: var(--fill-color);\n",
              "      border-left-color: var(--fill-color);\n",
              "    }\n",
              "    20% {\n",
              "      border-color: transparent;\n",
              "      border-left-color: var(--fill-color);\n",
              "      border-top-color: var(--fill-color);\n",
              "    }\n",
              "    30% {\n",
              "      border-color: transparent;\n",
              "      border-left-color: var(--fill-color);\n",
              "      border-top-color: var(--fill-color);\n",
              "      border-right-color: var(--fill-color);\n",
              "    }\n",
              "    40% {\n",
              "      border-color: transparent;\n",
              "      border-right-color: var(--fill-color);\n",
              "      border-top-color: var(--fill-color);\n",
              "    }\n",
              "    60% {\n",
              "      border-color: transparent;\n",
              "      border-right-color: var(--fill-color);\n",
              "    }\n",
              "    80% {\n",
              "      border-color: transparent;\n",
              "      border-right-color: var(--fill-color);\n",
              "      border-bottom-color: var(--fill-color);\n",
              "    }\n",
              "    90% {\n",
              "      border-color: transparent;\n",
              "      border-bottom-color: var(--fill-color);\n",
              "    }\n",
              "  }\n",
              "</style>\n",
              "\n",
              "  <script>\n",
              "    async function quickchart(key) {\n",
              "      const quickchartButtonEl =\n",
              "        document.querySelector('#' + key + ' button');\n",
              "      quickchartButtonEl.disabled = true;  // To prevent multiple clicks.\n",
              "      quickchartButtonEl.classList.add('colab-df-spinner');\n",
              "      try {\n",
              "        const charts = await google.colab.kernel.invokeFunction(\n",
              "            'suggestCharts', [key], {});\n",
              "      } catch (error) {\n",
              "        console.error('Error during call to suggestCharts:', error);\n",
              "      }\n",
              "      quickchartButtonEl.classList.remove('colab-df-spinner');\n",
              "      quickchartButtonEl.classList.add('colab-df-quickchart-complete');\n",
              "    }\n",
              "    (() => {\n",
              "      let quickchartButtonEl =\n",
              "        document.querySelector('#df-e7c47159-74c1-4337-9f44-9c94fef00041 button');\n",
              "      quickchartButtonEl.style.display =\n",
              "        google.colab.kernel.accessAllowed ? 'block' : 'none';\n",
              "    })();\n",
              "  </script>\n",
              "</div>\n",
              "    </div>\n",
              "  </div>\n"
            ]
          },
          "metadata": {},
          "execution_count": 166
        }
      ]
    },
    {
      "cell_type": "code",
      "source": [
        "from torch.utils.data import random_split\n",
        "\n",
        "data_one_hot = make_one_hot(df_train['smiles'],vocab,75)\n",
        "data_one_hot_test = make_one_hot(df_test['smiles'],vocab,75)\n",
        "\n",
        "print(\"data (train) shape: \",data_one_hot.shape)\n",
        "X_data = data_one_hot.reshape(data_one_hot.shape[0],-1)\n",
        "X_data_test = data_one_hot_test.reshape(data_one_hot_test.shape[0],-1)\n",
        "\n",
        "my_dataset = MyDataset(X_data,df_train['p_np'].values)\n",
        "one_hot_dataset = MyDataset(data_one_hot,df_train['p_np'].values)\n",
        "\n",
        "my_dataset_test = MyDataset(X_data_test,df_test['p_np'].values)\n",
        "one_hot_dataset_test = MyDataset(data_one_hot_test,df_test['p_np'].values)\n",
        "\n",
        "batch_size = 32\n",
        " #np.array(my_dataset)\n",
        "train_dataloader = DataLoader(my_dataset, batch_size=batch_size, shuffle=True)\n",
        "test_dataloader = DataLoader(my_dataset_test, batch_size=1, shuffle=False)\n",
        "\n",
        "train_dataloader_lstm = DataLoader(one_hot_dataset, batch_size=batch_size, shuffle=True)\n",
        "test_dataloader_lstm = DataLoader(one_hot_dataset_test, batch_size=1, shuffle=False)"
      ],
      "metadata": {
        "colab": {
          "base_uri": "https://localhost:8080/"
        },
        "id": "1NCDI27e5JVE",
        "outputId": "81b6747b-2a40-485e-db1c-0ae0f73fb56d"
      },
      "execution_count": 167,
      "outputs": [
        {
          "output_type": "stream",
          "name": "stdout",
          "text": [
            "data (train) shape:  (1025, 75, 73)\n"
          ]
        }
      ]
    },
    {
      "cell_type": "markdown",
      "source": [
        "## Training Models"
      ],
      "metadata": {
        "id": "Z8WUw1xUBSjv"
      }
    },
    {
      "cell_type": "code",
      "source": [
        "from IPython.display import Javascript  # Restrict height of output cell.\n",
        "display(Javascript('''google.colab.output.setIframeHeight(0, true, {maxHeight: 300})'''))\n",
        "\n",
        "fc_model = FCNet(X_data.shape[-1]).to(device)\n",
        "\n",
        "criterion = nn.BCELoss()\n",
        "optimizer = torch.optim.Adam(fc_model.parameters(), lr=0.001)\n",
        "num_epochs = 20\n",
        "loss_list = []\n",
        "accuracy_list = []\n",
        "\n",
        "for _ in range(num_epochs):\n",
        "    fc_model.train()\n",
        "\n",
        "    epoch_loss = 0.0\n",
        "    accuracies = []\n",
        "\n",
        "    for (data, targets) in train_dataloader:\n",
        "        data = data.to(device).float()\n",
        "        targets = targets.to(device).float()\n",
        "\n",
        "        optimizer.zero_grad()\n",
        "        outputs = fc_model(data).squeeze(-1)\n",
        "        loss = criterion(outputs, targets)\n",
        "\n",
        "        loss.backward()\n",
        "        optimizer.step()\n",
        "\n",
        "        epoch_loss += loss.item()\n",
        "        # print(outputs.shape)\n",
        "        predicted = torch.zeros(outputs.shape[0]).to(device)\n",
        "        indices = (outputs > 0.5).nonzero(as_tuple=False).squeeze()\n",
        "        predicted[indices] = 1\n",
        "\n",
        "        correct = (predicted == targets).sum().item()\n",
        "\n",
        "        accuracies.append(correct / targets.size(0))\n",
        "\n",
        "    epoch_loss /= len(train_dataloader)\n",
        "    accuracy = np.mean(accuracies)\n",
        "\n",
        "    print(f'Loss: {epoch_loss:.4f}, Accuracy: {100*accuracy:.2f}%')\n",
        "    loss_list.append(epoch_loss)\n",
        "    accuracy_list.append(100*accuracy)"
      ],
      "metadata": {
        "colab": {
          "base_uri": "https://localhost:8080/",
          "height": 300
        },
        "id": "AP2dfdWL8GgN",
        "outputId": "29ece17d-0057-4410-bb16-728c258e607b"
      },
      "execution_count": 168,
      "outputs": [
        {
          "output_type": "display_data",
          "data": {
            "text/plain": [
              "<IPython.core.display.Javascript object>"
            ],
            "application/javascript": [
              "google.colab.output.setIframeHeight(0, true, {maxHeight: 300})"
            ]
          },
          "metadata": {}
        },
        {
          "output_type": "stream",
          "name": "stdout",
          "text": [
            "Loss: 0.5432, Accuracy: 75.47%\n",
            "Loss: 0.4723, Accuracy: 76.23%\n",
            "Loss: 0.3963, Accuracy: 81.82%\n",
            "Loss: 0.3656, Accuracy: 82.86%\n",
            "Loss: 0.3406, Accuracy: 85.70%\n",
            "Loss: 0.3183, Accuracy: 86.55%\n",
            "Loss: 0.3019, Accuracy: 87.31%\n",
            "Loss: 0.2886, Accuracy: 88.64%\n",
            "Loss: 0.2714, Accuracy: 88.92%\n",
            "Loss: 0.2675, Accuracy: 90.15%\n",
            "Loss: 0.2535, Accuracy: 90.62%\n",
            "Loss: 0.2630, Accuracy: 87.97%\n",
            "Loss: 0.2409, Accuracy: 92.14%\n",
            "Loss: 0.2242, Accuracy: 91.67%\n",
            "Loss: 0.2381, Accuracy: 88.92%\n",
            "Loss: 0.2144, Accuracy: 93.37%\n",
            "Loss: 0.2041, Accuracy: 93.09%\n",
            "Loss: 0.1979, Accuracy: 93.28%\n",
            "Loss: 0.1929, Accuracy: 93.84%\n",
            "Loss: 0.1882, Accuracy: 93.84%\n"
          ]
        }
      ]
    },
    {
      "cell_type": "code",
      "source": [
        "from IPython.display import Javascript  # Restrict height of output cell.\n",
        "display(Javascript('''google.colab.output.setIframeHeight(0, true, {maxHeight: 300})'''))\n",
        "\n",
        "input_size = 73\n",
        "hidden_size = 64\n",
        "num_layers = 4\n",
        "\n",
        "LSTM_model = RNN_LSTM(input_size, hidden_size, num_layers).to(device)\n",
        "\n",
        "criterion = nn.BCELoss()\n",
        "optimizer = torch.optim.Adam(LSTM_model.parameters(), lr=0.001)\n",
        "num_epochs = 70\n",
        "accuracy_list2 = []\n",
        "loss_list2 = []\n",
        "\n",
        "for epoch in range(num_epochs):\n",
        "    LSTM_model.train()\n",
        "\n",
        "    epoch_loss = 0.0\n",
        "    accuracies = []\n",
        "\n",
        "    for (data, targets) in train_dataloader_lstm:\n",
        "        data = data.to(device).float()\n",
        "        targets = targets.to(device).float()\n",
        "\n",
        "        optimizer.zero_grad()\n",
        "        outputs = LSTM_model(data).squeeze(-1)\n",
        "        loss = criterion(outputs, targets)\n",
        "\n",
        "        loss.backward()\n",
        "        optimizer.step()\n",
        "\n",
        "        epoch_loss += loss.item()\n",
        "        # print(outputs.shape)\n",
        "        predicted = torch.zeros(outputs.shape[0]).to(device)\n",
        "        indices = (outputs > 0.5).nonzero(as_tuple=False).squeeze()\n",
        "        predicted[indices] = 1\n",
        "\n",
        "        correct = (predicted == targets).sum().item()\n",
        "        accuracies.append(correct / targets.size(0))\n",
        "\n",
        "    epoch_loss /= len(train_dataloader)\n",
        "    accuracy = np.mean(accuracies)\n",
        "\n",
        "    print(f'Epoch: {epoch+1}, Loss: {epoch_loss:.4f}, Accuracy: {100*accuracy:.2f}%')\n",
        "    loss_list2.append(epoch_loss)\n",
        "    accuracy_list2.append(100*accuracy)\n",
        "\n"
      ],
      "metadata": {
        "colab": {
          "base_uri": "https://localhost:8080/",
          "height": 300
        },
        "id": "Wp70hR9l8dAf",
        "outputId": "222008c9-70d1-4efd-c323-d933f51f55fe"
      },
      "execution_count": 169,
      "outputs": [
        {
          "output_type": "display_data",
          "data": {
            "text/plain": [
              "<IPython.core.display.Javascript object>"
            ],
            "application/javascript": [
              "google.colab.output.setIframeHeight(0, true, {maxHeight: 300})"
            ]
          },
          "metadata": {}
        },
        {
          "output_type": "stream",
          "name": "stdout",
          "text": [
            "Epoch: 1, Loss: 0.5890, Accuracy: 75.00%\n",
            "Epoch: 2, Loss: 0.5307, Accuracy: 77.94%\n",
            "Epoch: 3, Loss: 0.4935, Accuracy: 77.56%\n",
            "Epoch: 4, Loss: 0.4805, Accuracy: 74.81%\n",
            "Epoch: 5, Loss: 0.4345, Accuracy: 77.56%\n",
            "Epoch: 6, Loss: 0.4059, Accuracy: 75.47%\n",
            "Epoch: 7, Loss: 0.3923, Accuracy: 82.10%\n",
            "Epoch: 8, Loss: 0.3749, Accuracy: 85.23%\n",
            "Epoch: 9, Loss: 0.4624, Accuracy: 82.67%\n",
            "Epoch: 10, Loss: 0.5325, Accuracy: 76.89%\n",
            "Epoch: 11, Loss: 0.5142, Accuracy: 78.03%\n",
            "Epoch: 12, Loss: 0.4650, Accuracy: 77.84%\n",
            "Epoch: 13, Loss: 0.4411, Accuracy: 78.79%\n",
            "Epoch: 14, Loss: 0.4165, Accuracy: 82.48%\n",
            "Epoch: 15, Loss: 0.3838, Accuracy: 82.86%\n",
            "Epoch: 16, Loss: 0.3719, Accuracy: 82.77%\n",
            "Epoch: 17, Loss: 0.3995, Accuracy: 79.73%\n",
            "Epoch: 18, Loss: 0.4683, Accuracy: 78.69%\n",
            "Epoch: 19, Loss: 0.3788, Accuracy: 82.67%\n",
            "Epoch: 20, Loss: 0.3369, Accuracy: 84.75%\n",
            "Epoch: 21, Loss: 0.3041, Accuracy: 86.65%\n",
            "Epoch: 22, Loss: 0.3032, Accuracy: 86.36%\n",
            "Epoch: 23, Loss: 0.3087, Accuracy: 85.70%\n",
            "Epoch: 24, Loss: 0.2838, Accuracy: 87.69%\n",
            "Epoch: 25, Loss: 0.2775, Accuracy: 86.84%\n",
            "Epoch: 26, Loss: 0.2810, Accuracy: 86.27%\n",
            "Epoch: 27, Loss: 0.2762, Accuracy: 87.59%\n",
            "Epoch: 28, Loss: 0.2770, Accuracy: 88.26%\n",
            "Epoch: 29, Loss: 0.3998, Accuracy: 83.90%\n",
            "Epoch: 30, Loss: 0.4791, Accuracy: 68.66%\n",
            "Epoch: 31, Loss: 0.3307, Accuracy: 80.59%\n",
            "Epoch: 32, Loss: 0.2881, Accuracy: 88.35%\n",
            "Epoch: 33, Loss: 0.2769, Accuracy: 88.35%\n",
            "Epoch: 34, Loss: 0.3250, Accuracy: 85.13%\n",
            "Epoch: 35, Loss: 0.2829, Accuracy: 87.03%\n",
            "Epoch: 36, Loss: 0.2600, Accuracy: 88.16%\n",
            "Epoch: 37, Loss: 0.2995, Accuracy: 85.61%\n",
            "Epoch: 38, Loss: 0.2647, Accuracy: 88.64%\n",
            "Epoch: 39, Loss: 0.3375, Accuracy: 84.00%\n",
            "Epoch: 40, Loss: 0.2749, Accuracy: 88.45%\n",
            "Epoch: 41, Loss: 0.3080, Accuracy: 84.09%\n",
            "Epoch: 42, Loss: 0.4307, Accuracy: 75.76%\n",
            "Epoch: 43, Loss: 0.5979, Accuracy: 77.94%\n",
            "Epoch: 44, Loss: 0.5327, Accuracy: 77.94%\n",
            "Epoch: 45, Loss: 0.5632, Accuracy: 75.00%\n",
            "Epoch: 46, Loss: 0.5660, Accuracy: 75.00%\n",
            "Epoch: 47, Loss: 0.5294, Accuracy: 77.94%\n",
            "Epoch: 48, Loss: 0.5610, Accuracy: 75.00%\n",
            "Epoch: 49, Loss: 0.5230, Accuracy: 77.94%\n",
            "Epoch: 50, Loss: 0.5027, Accuracy: 78.03%\n",
            "Epoch: 51, Loss: 0.4139, Accuracy: 82.77%\n",
            "Epoch: 52, Loss: 0.3950, Accuracy: 85.04%\n",
            "Epoch: 53, Loss: 0.3511, Accuracy: 85.04%\n",
            "Epoch: 54, Loss: 0.4277, Accuracy: 82.29%\n",
            "Epoch: 55, Loss: 0.4299, Accuracy: 83.90%\n",
            "Epoch: 56, Loss: 0.4116, Accuracy: 84.47%\n",
            "Epoch: 57, Loss: 0.4989, Accuracy: 78.88%\n",
            "Epoch: 58, Loss: 0.5042, Accuracy: 72.35%\n",
            "Epoch: 59, Loss: 0.3745, Accuracy: 80.30%\n",
            "Epoch: 60, Loss: 0.3712, Accuracy: 80.49%\n",
            "Epoch: 61, Loss: 0.3415, Accuracy: 87.31%\n",
            "Epoch: 62, Loss: 0.4221, Accuracy: 84.00%\n",
            "Epoch: 63, Loss: 0.3646, Accuracy: 85.98%\n",
            "Epoch: 64, Loss: 0.3840, Accuracy: 86.74%\n",
            "Epoch: 65, Loss: 0.3938, Accuracy: 81.53%\n",
            "Epoch: 66, Loss: 0.3696, Accuracy: 86.55%\n",
            "Epoch: 67, Loss: 0.4379, Accuracy: 83.24%\n",
            "Epoch: 68, Loss: 0.3702, Accuracy: 86.08%\n",
            "Epoch: 69, Loss: 0.4167, Accuracy: 84.75%\n",
            "Epoch: 70, Loss: 0.3754, Accuracy: 87.03%\n"
          ]
        }
      ]
    },
    {
      "cell_type": "code",
      "source": [
        "from IPython.display import Javascript  # Restrict height of output cell.\n",
        "display(Javascript('''google.colab.output.setIframeHeight(0, true, {maxHeight: 300})'''))\n",
        "\n",
        "input_size = 73\n",
        "hidden_size = 64\n",
        "num_layers = 4\n",
        "\n",
        "BILSTM_model = BiRNN_LSTM(input_size, hidden_size, num_layers).to(device)\n",
        "\n",
        "criterion = nn.BCELoss()\n",
        "optimizer = torch.optim.Adam(BILSTM_model.parameters(), lr=0.001)\n",
        "num_epochs = 70\n",
        "accuracy_list2 = []\n",
        "loss_list2 = []\n",
        "\n",
        "for epoch in range(num_epochs):\n",
        "    BILSTM_model.train()\n",
        "\n",
        "    epoch_loss = 0.0\n",
        "    accuracies = []\n",
        "\n",
        "    for (data, targets) in train_dataloader_lstm:\n",
        "        data = data.to(device).float()\n",
        "        targets = targets.to(device).float()\n",
        "\n",
        "        optimizer.zero_grad()\n",
        "        outputs = BILSTM_model(data).squeeze(-1)\n",
        "        loss = criterion(outputs, targets)\n",
        "\n",
        "        loss.backward()\n",
        "        optimizer.step()\n",
        "\n",
        "        epoch_loss += loss.item()\n",
        "        # print(outputs.shape)\n",
        "        predicted = torch.zeros(outputs.shape[0]).to(device)\n",
        "        indices = (outputs > 0.5).nonzero(as_tuple=False).squeeze()\n",
        "        predicted[indices] = 1\n",
        "\n",
        "        correct = (predicted == targets).sum().item()\n",
        "        accuracies.append(correct / targets.size(0))\n",
        "\n",
        "    epoch_loss /= len(train_dataloader)\n",
        "    accuracy = np.mean(accuracies)\n",
        "\n",
        "    print(f'Epoch: {epoch+1}, Loss: {epoch_loss:.4f}, Accuracy: {100*accuracy:.2f}%')\n",
        "    loss_list2.append(epoch_loss)\n",
        "    accuracy_list2.append(100*accuracy)\n",
        "\n"
      ],
      "metadata": {
        "colab": {
          "base_uri": "https://localhost:8080/",
          "height": 300
        },
        "id": "ulP3vVRN8Gc-",
        "outputId": "5da3b4ef-ff51-4cdf-cab0-8a213bee7286"
      },
      "execution_count": 170,
      "outputs": [
        {
          "output_type": "display_data",
          "data": {
            "text/plain": [
              "<IPython.core.display.Javascript object>"
            ],
            "application/javascript": [
              "google.colab.output.setIframeHeight(0, true, {maxHeight: 300})"
            ]
          },
          "metadata": {}
        },
        {
          "output_type": "stream",
          "name": "stdout",
          "text": [
            "Epoch: 1, Loss: 0.5614, Accuracy: 76.61%\n",
            "Epoch: 2, Loss: 0.5115, Accuracy: 77.94%\n",
            "Epoch: 3, Loss: 0.3694, Accuracy: 84.56%\n",
            "Epoch: 4, Loss: 0.3178, Accuracy: 86.74%\n",
            "Epoch: 5, Loss: 0.3749, Accuracy: 84.75%\n",
            "Epoch: 6, Loss: 0.5005, Accuracy: 80.11%\n",
            "Epoch: 7, Loss: 0.4883, Accuracy: 79.17%\n",
            "Epoch: 8, Loss: 0.3788, Accuracy: 84.85%\n",
            "Epoch: 9, Loss: 0.3548, Accuracy: 83.24%\n",
            "Epoch: 10, Loss: 0.2901, Accuracy: 87.12%\n",
            "Epoch: 11, Loss: 0.3375, Accuracy: 85.61%\n",
            "Epoch: 12, Loss: 0.2630, Accuracy: 88.54%\n",
            "Epoch: 13, Loss: 0.2540, Accuracy: 88.26%\n",
            "Epoch: 14, Loss: 0.2432, Accuracy: 89.30%\n",
            "Epoch: 15, Loss: 0.2712, Accuracy: 87.88%\n",
            "Epoch: 16, Loss: 0.2379, Accuracy: 87.59%\n",
            "Epoch: 17, Loss: 0.2314, Accuracy: 88.73%\n",
            "Epoch: 18, Loss: 0.2805, Accuracy: 86.36%\n",
            "Epoch: 19, Loss: 0.2740, Accuracy: 88.16%\n",
            "Epoch: 20, Loss: 0.2384, Accuracy: 89.39%\n",
            "Epoch: 21, Loss: 0.2710, Accuracy: 86.74%\n",
            "Epoch: 22, Loss: 0.2735, Accuracy: 86.84%\n",
            "Epoch: 23, Loss: 0.2433, Accuracy: 89.02%\n",
            "Epoch: 24, Loss: 0.2557, Accuracy: 86.46%\n",
            "Epoch: 25, Loss: 0.3106, Accuracy: 82.29%\n",
            "Epoch: 26, Loss: 0.3604, Accuracy: 82.48%\n",
            "Epoch: 27, Loss: 0.2747, Accuracy: 88.73%\n",
            "Epoch: 28, Loss: 0.2577, Accuracy: 89.68%\n",
            "Epoch: 29, Loss: 0.2566, Accuracy: 89.11%\n",
            "Epoch: 30, Loss: 0.2441, Accuracy: 89.49%\n",
            "Epoch: 31, Loss: 0.2599, Accuracy: 87.03%\n",
            "Epoch: 32, Loss: 0.3235, Accuracy: 88.26%\n",
            "Epoch: 33, Loss: 0.2377, Accuracy: 90.53%\n",
            "Epoch: 34, Loss: 0.2412, Accuracy: 90.62%\n",
            "Epoch: 35, Loss: 0.2364, Accuracy: 90.53%\n",
            "Epoch: 36, Loss: 0.3267, Accuracy: 84.56%\n",
            "Epoch: 37, Loss: 0.3005, Accuracy: 83.62%\n",
            "Epoch: 38, Loss: 0.2700, Accuracy: 84.56%\n",
            "Epoch: 39, Loss: 0.2490, Accuracy: 86.46%\n",
            "Epoch: 40, Loss: 0.2430, Accuracy: 87.69%\n",
            "Epoch: 41, Loss: 0.2707, Accuracy: 87.59%\n",
            "Epoch: 42, Loss: 0.2725, Accuracy: 85.61%\n",
            "Epoch: 43, Loss: 0.2549, Accuracy: 87.59%\n",
            "Epoch: 44, Loss: 0.2611, Accuracy: 86.08%\n",
            "Epoch: 45, Loss: 0.2884, Accuracy: 84.94%\n",
            "Epoch: 46, Loss: 0.2523, Accuracy: 88.26%\n",
            "Epoch: 47, Loss: 0.2517, Accuracy: 89.02%\n",
            "Epoch: 48, Loss: 0.2425, Accuracy: 88.73%\n",
            "Epoch: 49, Loss: 0.4741, Accuracy: 76.80%\n",
            "Epoch: 50, Loss: 0.3648, Accuracy: 80.68%\n",
            "Epoch: 51, Loss: 0.3030, Accuracy: 79.55%\n",
            "Epoch: 52, Loss: 0.3277, Accuracy: 81.44%\n",
            "Epoch: 53, Loss: 0.3070, Accuracy: 82.29%\n",
            "Epoch: 54, Loss: 0.2683, Accuracy: 84.47%\n",
            "Epoch: 55, Loss: 0.2480, Accuracy: 86.74%\n",
            "Epoch: 56, Loss: 0.2351, Accuracy: 88.83%\n",
            "Epoch: 57, Loss: 0.2123, Accuracy: 90.81%\n",
            "Epoch: 58, Loss: 0.2039, Accuracy: 90.34%\n",
            "Epoch: 59, Loss: 0.2717, Accuracy: 87.88%\n",
            "Epoch: 60, Loss: 0.3250, Accuracy: 83.33%\n",
            "Epoch: 61, Loss: 0.2370, Accuracy: 88.26%\n",
            "Epoch: 62, Loss: 0.2206, Accuracy: 88.64%\n",
            "Epoch: 63, Loss: 0.2227, Accuracy: 90.34%\n",
            "Epoch: 64, Loss: 0.2034, Accuracy: 89.68%\n",
            "Epoch: 65, Loss: 0.1854, Accuracy: 91.57%\n",
            "Epoch: 66, Loss: 0.1791, Accuracy: 91.57%\n",
            "Epoch: 67, Loss: 0.1897, Accuracy: 91.95%\n",
            "Epoch: 68, Loss: 0.2201, Accuracy: 89.77%\n",
            "Epoch: 69, Loss: 0.2105, Accuracy: 89.68%\n",
            "Epoch: 70, Loss: 0.2135, Accuracy: 90.34%\n"
          ]
        }
      ]
    },
    {
      "cell_type": "code",
      "source": [
        "sns.histplot(df_test['smiles length']);"
      ],
      "metadata": {
        "colab": {
          "base_uri": "https://localhost:8080/",
          "height": 449
        },
        "id": "rfyGBCr1CIa8",
        "outputId": "2f2b85c1-3254-4f0b-a1e4-25a9b4d9261d"
      },
      "execution_count": 171,
      "outputs": [
        {
          "output_type": "display_data",
          "data": {
            "text/plain": [
              "<Figure size 640x480 with 1 Axes>"
            ],
            "image/png": "[encoded data removed]"
          },
          "metadata": {}
        }
      ]
    },
    {
      "cell_type": "code",
      "source": [
        "# FC\n",
        "fc_res = []\n",
        "lstm_res = []\n",
        "bilstm_res = []\n",
        "\n",
        "\n",
        "fc_model.eval()\n",
        "with torch.no_grad():\n",
        "  test_accuracy = 0\n",
        "  for (data, targets) in test_dataloader:\n",
        "      # print('ppp')\n",
        "      data = data.to(device).float()\n",
        "      targets = targets.to(device).float()\n",
        "      test_outputs = fc_model(data)\n",
        "\n",
        "      predicted = torch.zeros(test_outputs.shape[0]).to(device)\n",
        "      indices = (test_outputs > 0.5).nonzero(as_tuple=False).squeeze()\n",
        "      predicted[indices] = 1\n",
        "\n",
        "      x = (predicted == targets)\n",
        "      fc_res.append(np.array(x[0].cpu()))\n",
        "\n",
        "\n",
        "# LSTM\n",
        "LSTM_model.eval()\n",
        "with torch.no_grad():\n",
        "  test_accuracy = 0\n",
        "  for (data, targets) in test_dataloader_lstm:\n",
        "      data = data.to(device).float()\n",
        "      targets = targets.to(device).float()\n",
        "      test_outputs = LSTM_model(data)\n",
        "\n",
        "      predicted = torch.zeros(test_outputs.shape[0]).to(device)\n",
        "      indices = (test_outputs > 0.5).nonzero(as_tuple=False).squeeze()\n",
        "      predicted[indices] = 1\n",
        "\n",
        "      x = (predicted == targets)\n",
        "      lstm_res.append(np.array(x[0].cpu()))\n",
        "\n",
        "# BILSTM\n",
        "BILSTM_model.eval()\n",
        "with torch.no_grad():\n",
        "  test_accuracy = 0\n",
        "  for (data, targets) in test_dataloader_lstm:\n",
        "      data = data.to(device).float()\n",
        "      targets = targets.to(device).float()\n",
        "      test_outputs = BILSTM_model(data)\n",
        "\n",
        "      predicted = torch.zeros(test_outputs.shape[0]).to(device)\n",
        "      indices = (test_outputs > 0.5).nonzero(as_tuple=False).squeeze()\n",
        "      predicted[indices] = 1\n",
        "\n",
        "      x = (predicted == targets)\n",
        "      bilstm_res.append(np.array(x[0].cpu()))"
      ],
      "metadata": {
        "id": "R0O-vL87SSPw"
      },
      "execution_count": 172,
      "outputs": []
    },
    {
      "cell_type": "code",
      "source": [
        "\n",
        "# Create 10 bins with equal group sizes\n",
        "bins = np.linspace(df_test['smiles length'].min(),df_test['smiles length'].max(), 10)\n",
        "\n",
        "# Use digitize to bin the data\n",
        "bin_indices = np.digitize(df_test['smiles length'].values, bins)\n",
        "\n",
        "print(bin_indices)"
      ],
      "metadata": {
        "colab": {
          "base_uri": "https://localhost:8080/"
        },
        "id": "Hq38ixxDI6la",
        "outputId": "0e7e3a6e-f8bf-402c-e051-82f0d6a33090"
      },
      "execution_count": 173,
      "outputs": [
        {
          "output_type": "stream",
          "name": "stdout",
          "text": [
            "[1 1 2 ... 1 2 1]\n"
          ]
        }
      ]
    },
    {
      "cell_type": "code",
      "source": [
        "correct_fc = [0 for _ in range(10)]\n",
        "correct_lstm = [0 for _ in range(10)]\n",
        "correct_bilstm = [0 for _ in range(10)]\n",
        "counts = [0 for _ in range(10)]\n",
        "\n",
        "for index,i in enumerate(bin_indices):\n",
        "  if fc_res[index]:\n",
        "    correct_fc[i-1] += 1\n",
        "  if lstm_res[index]:\n",
        "    correct_lstm[i-1] += 1\n",
        "  if bilstm_res[index]:\n",
        "    correct_bilstm[i-1] += 1\n",
        "\n",
        "  counts[i-1] += 1"
      ],
      "metadata": {
        "id": "RLsyYrbhI6n6"
      },
      "execution_count": 174,
      "outputs": []
    },
    {
      "cell_type": "code",
      "source": [
        "fc_acc = []\n",
        "lstm_acc = []\n",
        "bilstm_acc = []\n",
        "\n",
        "for i in range(10):\n",
        "  if counts[i] > 0:\n",
        "    fc_acc.append(correct_fc[i]/counts[i])\n",
        "    lstm_acc.append(correct_lstm[i]/counts[i])\n",
        "    bilstm_acc.append(correct_bilstm[i]/counts[i])"
      ],
      "metadata": {
        "id": "7sjqEhIVJkPT"
      },
      "execution_count": 175,
      "outputs": []
    },
    {
      "cell_type": "code",
      "source": [
        "counts"
      ],
      "metadata": {
        "colab": {
          "base_uri": "https://localhost:8080/"
        },
        "id": "7FooXA8fPlAu",
        "outputId": "012d9928-65ad-475b-db16-5e2263b92362"
      },
      "execution_count": 177,
      "outputs": [
        {
          "output_type": "execute_result",
          "data": {
            "text/plain": [
              "[438, 469, 91, 13, 8, 4, 1, 0, 0, 1]"
            ]
          },
          "metadata": {},
          "execution_count": 177
        }
      ]
    },
    {
      "cell_type": "code",
      "source": [
        "# Create subplots\n",
        "plt.figure(figsize=(16, 5))\n",
        "\n",
        "# First subplot\n",
        "plt.subplot(1, 3, 1)  # (rows, columns, plot number)\n",
        "plt.bar(range(len(fc_acc)), fc_acc, color ='maroon',\n",
        "        width = 0.7)\n",
        "\n",
        "plt.xlabel(\"bin\")\n",
        "plt.ylabel(\"accuracy\")\n",
        "plt.title(\"FC\")\n",
        "\n",
        "# Second subplot\n",
        "plt.subplot(1, 3, 2)\n",
        "plt.bar(range(len(fc_acc)), lstm_acc, color ='maroon',\n",
        "        width = 0.7)\n",
        "plt.xlabel(\"bin\")\n",
        "plt.ylabel(\"accuracy\")\n",
        "plt.title(\"LSTM\")\n",
        "\n",
        "\n",
        "# Second subplot\n",
        "plt.subplot(1, 3, 3)\n",
        "plt.bar(range(len(fc_acc)), bilstm_acc, color ='maroon',\n",
        "        width = 0.7)\n",
        "plt.xlabel(\"bin\")\n",
        "plt.ylabel(\"accuracy\")\n",
        "plt.title(\"BILSTM\")\n",
        "\n",
        "# Display the plots\n",
        "plt.show()"
      ],
      "metadata": {
        "colab": {
          "base_uri": "https://localhost:8080/",
          "height": 487
        },
        "id": "RQhK4lupNDT4",
        "outputId": "f3f38652-4a74-4a27-9466-7fe610802179"
      },
      "execution_count": 176,
      "outputs": [
        {
          "output_type": "display_data",
          "data": {
            "text/plain": [
              "<Figure size 1600x500 with 3 Axes>"
            ],
            "image/png": "[encoded data removed]"
          },
          "metadata": {}
        }
      ]
    }
  ]
}